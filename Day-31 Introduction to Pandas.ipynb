{
 "cells": [
  {
   "cell_type": "markdown",
   "id": "2a5a28b8-3cca-4a70-9ec5-6143d061182b",
   "metadata": {},
   "source": [
    "### Day 31 of programming"
   ]
  },
  {
   "cell_type": "markdown",
   "id": "3780d7f1-a5f8-4811-ae38-50496c59fbc4",
   "metadata": {},
   "source": [
    "### Python Tutorial: Introduction to Pandas\n",
    "Introduction to Pandas\n",
    "Pandas is a library that provides two primary data structures:\n",
    "\n",
    "Series: A one-dimensional labeled array capable of holding any data type.\n",
    "\n",
    "DataFrame: A two-dimensional labeled data structure with columns of potentially different types.\n",
    "\n",
    "To use Pandas, you first need to install it. If you haven't already, you can install it via pip:"
   ]
  },
  {
   "cell_type": "code",
   "execution_count": null,
   "id": "07e7293a-b7e7-4d4f-b308-757b85420e3d",
   "metadata": {},
   "outputs": [],
   "source": [
    "pip install pandas\n"
   ]
  },
  {
   "cell_type": "markdown",
   "id": "43d2e594-1bf5-4e47-abbf-5071aaa009ca",
   "metadata": {},
   "source": [
    "### Step 1: Importing Pandas\n",
    "Start by importing the Pandas library in your script:"
   ]
  },
  {
   "cell_type": "code",
   "execution_count": 1,
   "id": "a4fcf0e1-064a-4bb2-8e9b-671469d20572",
   "metadata": {},
   "outputs": [],
   "source": [
    "import pandas as pd\n"
   ]
  },
  {
   "cell_type": "markdown",
   "id": "89386328-01db-4c2d-95e4-d290d9429892",
   "metadata": {},
   "source": [
    "### Step 2: Creating Series\n",
    "A Series is like a single column of data.\n",
    "\n",
    "#### Creating a Series from a List"
   ]
  },
  {
   "cell_type": "code",
   "execution_count": 2,
   "id": "02ec69dd-7b1a-4c04-b324-91ba4ff68b08",
   "metadata": {},
   "outputs": [
    {
     "name": "stdout",
     "output_type": "stream",
     "text": [
      "0    10\n",
      "1    20\n",
      "2    30\n",
      "3    40\n",
      "4    50\n",
      "dtype: int64\n"
     ]
    }
   ],
   "source": [
    "import pandas as pd\n",
    "\n",
    "data = [10, 20, 30, 40, 50]\n",
    "series = pd.Series(data)\n",
    "print(series)\n"
   ]
  },
  {
   "cell_type": "markdown",
   "id": "9c4a537d-de98-4439-a2f4-cf15a34f04fd",
   "metadata": {},
   "source": [
    "#### Creating a Series with Custom Index"
   ]
  },
  {
   "cell_type": "code",
   "execution_count": 3,
   "id": "5023a368-99e5-4912-830f-0fe6265f8dc0",
   "metadata": {},
   "outputs": [
    {
     "name": "stdout",
     "output_type": "stream",
     "text": [
      "a    10\n",
      "b    20\n",
      "c    30\n",
      "d    40\n",
      "e    50\n",
      "dtype: int64\n"
     ]
    }
   ],
   "source": [
    "data = [10, 20, 30, 40, 50]\n",
    "index = ['a', 'b', 'c', 'd', 'e']\n",
    "series = pd.Series(data, index=index)\n",
    "print(series)\n"
   ]
  },
  {
   "cell_type": "markdown",
   "id": "aed2dbd6-3657-4eac-9c0a-df059abe841a",
   "metadata": {},
   "source": [
    "### Step 3: Creating DataFrames\n",
    "A DataFrame is a two-dimensional table with labeled axes (rows and columns).\n",
    "\n",
    "#### Creating a DataFrame from a Dictionary"
   ]
  },
  {
   "cell_type": "code",
   "execution_count": 4,
   "id": "2922bd41-b249-4422-968e-c6303720b211",
   "metadata": {},
   "outputs": [
    {
     "name": "stdout",
     "output_type": "stream",
     "text": [
      "    Name  Age      City\n",
      "0   John   28  New York\n",
      "1   Anna   24     Paris\n",
      "2  Peter   35    Berlin\n"
     ]
    }
   ],
   "source": [
    "data = {\n",
    "    'Name': ['John', 'Anna', 'Peter'],\n",
    "    'Age': [28, 24, 35],\n",
    "    'City': ['New York', 'Paris', 'Berlin']\n",
    "}\n",
    "\n",
    "df = pd.DataFrame(data)\n",
    "print(df)\n"
   ]
  },
  {
   "cell_type": "markdown",
   "id": "e4574ce3-98ad-4a31-a6f2-036abbb9c827",
   "metadata": {},
   "source": [
    "#### Creating a DataFrame from a List of Dictionaries"
   ]
  },
  {
   "cell_type": "code",
   "execution_count": 6,
   "id": "1cafd79d-4dc2-4b8f-8ed5-3b647b6714f9",
   "metadata": {},
   "outputs": [
    {
     "name": "stdout",
     "output_type": "stream",
     "text": [
      "    Name  Age      City\n",
      "0   John   28  New York\n",
      "1   Anna   24     Paris\n",
      "2  Peter   35    Berlin\n"
     ]
    },
    {
     "data": {
      "text/html": [
       "<div>\n",
       "<style scoped>\n",
       "    .dataframe tbody tr th:only-of-type {\n",
       "        vertical-align: middle;\n",
       "    }\n",
       "\n",
       "    .dataframe tbody tr th {\n",
       "        vertical-align: top;\n",
       "    }\n",
       "\n",
       "    .dataframe thead th {\n",
       "        text-align: right;\n",
       "    }\n",
       "</style>\n",
       "<table border=\"1\" class=\"dataframe\">\n",
       "  <thead>\n",
       "    <tr style=\"text-align: right;\">\n",
       "      <th></th>\n",
       "      <th>Name</th>\n",
       "      <th>Age</th>\n",
       "      <th>City</th>\n",
       "    </tr>\n",
       "  </thead>\n",
       "  <tbody>\n",
       "    <tr>\n",
       "      <th>0</th>\n",
       "      <td>John</td>\n",
       "      <td>28</td>\n",
       "      <td>New York</td>\n",
       "    </tr>\n",
       "    <tr>\n",
       "      <th>1</th>\n",
       "      <td>Anna</td>\n",
       "      <td>24</td>\n",
       "      <td>Paris</td>\n",
       "    </tr>\n",
       "    <tr>\n",
       "      <th>2</th>\n",
       "      <td>Peter</td>\n",
       "      <td>35</td>\n",
       "      <td>Berlin</td>\n",
       "    </tr>\n",
       "  </tbody>\n",
       "</table>\n",
       "</div>"
      ],
      "text/plain": [
       "    Name  Age      City\n",
       "0   John   28  New York\n",
       "1   Anna   24     Paris\n",
       "2  Peter   35    Berlin"
      ]
     },
     "execution_count": 6,
     "metadata": {},
     "output_type": "execute_result"
    }
   ],
   "source": [
    "data = [\n",
    "    {'Name': 'John', 'Age': 28, 'City': 'New York'},\n",
    "    {'Name': 'Anna', 'Age': 24, 'City': 'Paris'},\n",
    "    {'Name': 'Peter', 'Age': 35, 'City': 'Berlin'}\n",
    "]\n",
    "\n",
    "df = pd.DataFrame(data)\n",
    "print(df)\n",
    "df"
   ]
  },
  {
   "cell_type": "markdown",
   "id": "9c377d1d-5151-4070-8838-a8dd505a8380",
   "metadata": {},
   "source": [
    "### Step 4: Basic DataFrame Operations"
   ]
  },
  {
   "cell_type": "code",
   "execution_count": 9,
   "id": "0aa14fdc-ed71-4846-8ba4-52ab6b8e5e73",
   "metadata": {},
   "outputs": [
    {
     "name": "stdout",
     "output_type": "stream",
     "text": [
      "    Name  Age      City\n",
      "0   John   28  New York\n",
      "1   Anna   24     Paris\n",
      "2  Peter   35    Berlin\n",
      "(3, 3)\n",
      "Index(['Name', 'Age', 'City'], dtype='object')\n",
      "RangeIndex(start=0, stop=3, step=1)\n",
      "0     John\n",
      "1     Anna\n",
      "2    Peter\n",
      "Name: Name, dtype: object\n",
      "    Name  Age\n",
      "0   John   28\n",
      "1   Anna   24\n",
      "2  Peter   35\n"
     ]
    }
   ],
   "source": [
    "print(df.tail())  # Displays the last 5 rows by default\n",
    "print(df.shape)  # Prints (number of rows, number of columns)\n",
    "print(df.columns)  # Prints the column names\n",
    "print(df.index)  # Prints the index\n",
    "print(df['Name'])  # Prints the 'Name' column\n",
    "print(df[['Name', 'Age']])  # Prints 'Name' and 'Age' columns\n"
   ]
  },
  {
   "cell_type": "markdown",
   "id": "759534ca-8e6f-4922-b6a9-a80632380ea8",
   "metadata": {},
   "source": [
    "### Step 5: Data Manipulation\n",
    "Adding a New Column"
   ]
  },
  {
   "cell_type": "code",
   "execution_count": 10,
   "id": "1cf4d896-fdb7-4aa5-ba5a-fb613a05c310",
   "metadata": {},
   "outputs": [
    {
     "name": "stdout",
     "output_type": "stream",
     "text": [
      "    Name  Age      City  Country\n",
      "0   John   28  New York      USA\n",
      "1   Anna   24     Paris   France\n",
      "2  Peter   35    Berlin  Germany\n"
     ]
    }
   ],
   "source": [
    "df['Country'] = ['USA', 'France', 'Germany']\n",
    "print(df)\n"
   ]
  },
  {
   "cell_type": "markdown",
   "id": "9596933c-6dc3-4bdf-9438-e2d1f21473cf",
   "metadata": {},
   "source": [
    "#### Removing a column"
   ]
  },
  {
   "cell_type": "code",
   "execution_count": 11,
   "id": "5eae6dbf-88d7-4393-9591-24d6a3fda453",
   "metadata": {},
   "outputs": [
    {
     "name": "stdout",
     "output_type": "stream",
     "text": [
      "    Name  Age      City\n",
      "0   John   28  New York\n",
      "1   Anna   24     Paris\n",
      "2  Peter   35    Berlin\n"
     ]
    }
   ],
   "source": [
    "df = df.drop('Country', axis=1)  # Drops the 'Country' column\n",
    "print(df)\n"
   ]
  },
  {
   "cell_type": "markdown",
   "id": "2764d661-fa8b-490a-bcc3-56f402449e1b",
   "metadata": {},
   "source": [
    "#### Renaming a columns"
   ]
  },
  {
   "cell_type": "code",
   "execution_count": 12,
   "id": "816fc1b7-a012-48b5-9bf8-9e9d1357d63c",
   "metadata": {},
   "outputs": [
    {
     "name": "stdout",
     "output_type": "stream",
     "text": [
      "  Full Name  Age (years)      City\n",
      "0      John           28  New York\n",
      "1      Anna           24     Paris\n",
      "2     Peter           35    Berlin\n"
     ]
    }
   ],
   "source": [
    "df = df.rename(columns={'Name': 'Full Name', 'Age': 'Age (years)'})\n",
    "print(df)\n"
   ]
  },
  {
   "cell_type": "markdown",
   "id": "ff86a22a-5c8f-4908-b585-e47f04b59e7b",
   "metadata": {},
   "source": [
    "### Step 6: Aggregation and Grouping\n",
    "Basic Aggregations\n",
    "\n",
    "Mean, Median, and Standard Deviation"
   ]
  },
  {
   "cell_type": "code",
   "execution_count": 13,
   "id": "c5b5d71a-42c1-4cb3-bfcc-50e8aa419a1f",
   "metadata": {},
   "outputs": [
    {
     "name": "stdout",
     "output_type": "stream",
     "text": [
      "29.0\n",
      "28.0\n",
      "5.5677643628300215\n"
     ]
    }
   ],
   "source": [
    "print(df['Age (years)'].mean())  # Mean of 'Age (years)'\n",
    "print(df['Age (years)'].median())  # Median of 'Age (years)'\n",
    "print(df['Age (years)'].std())  # Standard deviation of 'Age (years)'\n"
   ]
  },
  {
   "cell_type": "code",
   "execution_count": null,
   "id": "62ac7f40-6240-49c7-b69b-80154d7bd1c3",
   "metadata": {},
   "outputs": [],
   "source": []
  }
 ],
 "metadata": {
  "kernelspec": {
   "display_name": "Python 3 (ipykernel)",
   "language": "python",
   "name": "python3"
  },
  "language_info": {
   "codemirror_mode": {
    "name": "ipython",
    "version": 3
   },
   "file_extension": ".py",
   "mimetype": "text/x-python",
   "name": "python",
   "nbconvert_exporter": "python",
   "pygments_lexer": "ipython3",
   "version": "3.12.4"
  }
 },
 "nbformat": 4,
 "nbformat_minor": 5
}
