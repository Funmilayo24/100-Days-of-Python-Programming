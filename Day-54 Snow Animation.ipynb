{
 "cells": [
  {
   "cell_type": "markdown",
   "id": "0bd72ea2-23a7-42b1-ba87-0f892d73acaa",
   "metadata": {},
   "source": [
    "### Day 54 of Python Programming"
   ]
  },
  {
   "cell_type": "markdown",
   "id": "872699c6-54ae-455a-8088-7b4f717d3e51",
   "metadata": {},
   "source": [
    "## ⛄ Tutorial: Creating a Snow Animation in Python with Pygame 🎄\n",
    "In this tutorial, we'll create falling snowflakes that drift down the screen. Each snowflake will have a random starting position, speed, and size, creating a more natural snow effect.\n",
    "\n",
    "### Step 1: Install Pygame\n",
    "If you don’t have pygame installed, run this command:"
   ]
  },
  {
   "cell_type": "code",
   "execution_count": 3,
   "id": "cb35af73-0556-4ba7-ad3a-babb277f51bc",
   "metadata": {},
   "outputs": [
    {
     "name": "stdout",
     "output_type": "stream",
     "text": [
      "Requirement already satisfied: pygame in c:\\users\\tobun\\anaconda3\\lib\\site-packages (2.5.2)\n",
      "Note: you may need to restart the kernel to use updated packages.\n"
     ]
    }
   ],
   "source": [
    "pip install pygame\n"
   ]
  },
  {
   "cell_type": "code",
   "execution_count": 5,
   "id": "e69a77af-510f-4742-bf69-7b543b9cca09",
   "metadata": {},
   "outputs": [],
   "source": [
    "import pygame\n",
    "import random\n",
    "\n",
    "pygame.init()\n",
    "\n",
    "# Screen settings\n",
    "WIDTH, HEIGHT = 1000, 800\n",
    "screen = pygame.display.set_mode((WIDTH, HEIGHT))\n",
    "pygame.display.set_caption(\"Snow Animation\")\n",
    "\n",
    "class snowflake:\n",
    "    def __init__(self):\n",
    "         # Random starting position, speed, and size for each snowflake\n",
    "        self.x = random.randint(0, WIDTH)\n",
    "        self.y = random.randint(-HEIGHT, 0)\n",
    "        self.size = random.randint(2, 5)\n",
    "        self.speed = random.uniform(1, 3)  \n",
    "        \n",
    "    def fall(self):\n",
    "        self.y += self.speed\n",
    "        if self.y > HEIGHT:\n",
    "            self.y = random.randint(-50, -10)\n",
    "            self.x = random.randint(0, WIDTH)\n",
    "            self.speed = random.uniform(1, 3)\n",
    "            self.size = random.randint(2, 5)\n",
    "            \n",
    "    def draw(self, screen):\n",
    "        pygame.draw.circle(screen, (255, 255, 255), (self.x, self.y), self.size)\n",
    "        \n",
    "num_snowflakes = 2000\n",
    "snowflakes = [Snowflake() for _ in range(num_snowflakes)]\n",
    "\n",
    "running = True\n",
    "clock = pygame.time.Clock()\n",
    "\n",
    "while running:\n",
    "    # Fill the screen with a night-sky color\n",
    "    screen.fill((30, 30, 60))\n",
    "    \n",
    "    for event in pygame.event.get():\n",
    "        if event.type == pygame.QUIT:\n",
    "            running = False\n",
    "            \n",
    "    for snowflake in snowflakes:\n",
    "        snowflake.fall()\n",
    "        snowflake.draw(screen)\n",
    "        \n",
    "    pygame.display.flip()\n",
    "    clock.tick(30) # Limit the frame rate to 30 FPS\n",
    "    \n",
    "pygame.quit()"
   ]
  },
  {
   "cell_type": "code",
   "execution_count": null,
   "id": "e7f9ef55",
   "metadata": {},
   "outputs": [],
   "source": []
  },
  {
   "cell_type": "markdown",
   "id": "2f0530fa-a7fb-4e93-b55e-fa87ae493d7c",
   "metadata": {},
   "source": [
    "### Explanation of Code\n",
    "Snowflake Class: Each snowflake has properties such as position, size, and fall speed. We update these values in the fall() method, and draw() displays each snowflake as a white circle.\n",
    "\n",
    "Main Loop: This keeps the animation running, updating the snowflakes and redrawing them each frame.\n",
    "### Customize Your Snow Animation\n",
    "Change Number of Snowflakes: Modify num_snowflakes for more or fewer snowflakes.\n",
    "\n",
    "Background Color: Adjust screen.fill((30, 30, 60)) to change the background color.\n",
    "\n",
    "Snowflake Speed and Size: Tweak self.size and self.speed in the Snowflake class for different snow effects.\n",
    "\n",
    "Happy coding, and enjoy your winter wonderland!"
   ]
  },
  {
   "cell_type": "code",
   "execution_count": null,
   "id": "0a7c5fae-0ad1-4ecf-94be-37b52adb104d",
   "metadata": {},
   "outputs": [],
   "source": []
  }
 ],
 "metadata": {
  "kernelspec": {
   "display_name": "Python 3 (ipykernel)",
   "language": "python",
   "name": "python3"
  },
  "language_info": {
   "codemirror_mode": {
    "name": "ipython",
    "version": 3
   },
   "file_extension": ".py",
   "mimetype": "text/x-python",
   "name": "python",
   "nbconvert_exporter": "python",
   "pygments_lexer": "ipython3",
   "version": "3.11.5"
  }
 },
 "nbformat": 4,
 "nbformat_minor": 5
}
