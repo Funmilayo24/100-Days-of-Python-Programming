{
 "cells": [
  {
   "cell_type": "markdown",
   "id": "352e7dba",
   "metadata": {},
   "source": [
    "#### Day 74 of Programming"
   ]
  },
  {
   "cell_type": "markdown",
   "id": "e4f57d78",
   "metadata": {},
   "source": [
    "## Practice Questions Part 1"
   ]
  },
  {
   "cell_type": "markdown",
   "id": "333dbe25",
   "metadata": {},
   "source": [
    "### Question 1 From Day 8"
   ]
  },
  {
   "cell_type": "markdown",
   "id": "3af41224",
   "metadata": {},
   "source": [
    "#### Write a program that checks if a number is both greater than 10 and even. If it is, print \"Valid number\"; otherwise, print \"Invalid number."
   ]
  },
  {
   "cell_type": "code",
   "execution_count": 2,
   "id": "90c509b1",
   "metadata": {},
   "outputs": [
    {
     "name": "stdout",
     "output_type": "stream",
     "text": [
      "Enter a number: 14\n",
      "Valid number\n"
     ]
    }
   ],
   "source": [
    "# Function to check the validity of the number\n",
    "def check_number(num):\n",
    "    if num > 10 and num % 2 == 0:\n",
    "        print(\"Valid number\")\n",
    "    else:\n",
    "        print(\"Invalid number\")\n",
    "\n",
    "# Input from user\n",
    "try:\n",
    "    number = int(input(\"Enter a number: \"))\n",
    "    check_number(number)\n",
    "except ValueError:\n",
    "    print(\"Please enter a valid integer.\")\n"
   ]
  },
  {
   "cell_type": "markdown",
   "id": "866d0664",
   "metadata": {},
   "source": [
    "### Question 2 From Day 13"
   ]
  },
  {
   "cell_type": "markdown",
   "id": "eb4ef192",
   "metadata": {},
   "source": [
    "#### Write a program that uses nested for loops to print pairs of numbers (i, j) where i ranges from 1 to 3 and j ranges from 1 to 3. Use break to exit the inner loop when j == 2."
   ]
  },
  {
   "cell_type": "code",
   "execution_count": 3,
   "id": "5f427caf",
   "metadata": {},
   "outputs": [
    {
     "name": "stdout",
     "output_type": "stream",
     "text": [
      "(1, 1)\n",
      "(2, 1)\n",
      "(3, 1)\n"
     ]
    }
   ],
   "source": [
    "# Nested loops with a break in the inner loop\n",
    "for i in range(1, 4):  # Outer loop: i ranges from 1 to 3\n",
    "    for j in range(1, 4):  # Inner loop: j ranges from 1 to 3\n",
    "        if j == 2:  # Exit the inner loop when j equals 2\n",
    "            break\n",
    "        print(f\"({i}, {j})\")\n"
   ]
  },
  {
   "cell_type": "markdown",
   "id": "6c9de37a",
   "metadata": {},
   "source": [
    "### Question 3 From Day 15"
   ]
  },
  {
   "cell_type": "markdown",
   "id": "45ff5183",
   "metadata": {},
   "source": [
    "#### Write a Python function that simulates rolling a pair of dice. Use math.floor() and random.random() to generate two random numbers between 1 and 6, and print their sum."
   ]
  },
  {
   "cell_type": "code",
   "execution_count": 4,
   "id": "628668ee",
   "metadata": {},
   "outputs": [
    {
     "name": "stdout",
     "output_type": "stream",
     "text": [
      "Rolled: 1 and 1\n",
      "Sum of the dice: 2\n"
     ]
    }
   ],
   "source": [
    "import random\n",
    "import math\n",
    "\n",
    "def roll_dice():\n",
    "    # Generate two random numbers between 1 and 6\n",
    "    die1 = math.floor(random.random() * 6) + 1\n",
    "    die2 = math.floor(random.random() * 6) + 1\n",
    "    \n",
    "    # Calculate the sum of the two dice\n",
    "    total = die1 + die2\n",
    "    \n",
    "    # Print the result\n",
    "    print(f\"Rolled: {die1} and {die2}\")\n",
    "    print(f\"Sum of the dice: {total}\")\n",
    "\n",
    "# Call the function\n",
    "roll_dice()\n"
   ]
  },
  {
   "cell_type": "markdown",
   "id": "ee275bc7",
   "metadata": {},
   "source": [
    "### Question 4 From Day 18"
   ]
  },
  {
   "cell_type": "markdown",
   "id": "4d2b476f",
   "metadata": {},
   "source": [
    "#### Create a global variable x = 50. Inside a function, try to print the value of x. Then, inside the same function, assign a local variable x = 100 and print the value of x within the function. What will happen if you print x outside the function?"
   ]
  },
  {
   "cell_type": "code",
   "execution_count": 6,
   "id": "cb9d0090",
   "metadata": {},
   "outputs": [
    {
     "name": "stdout",
     "output_type": "stream",
     "text": [
      "Inside the function, before local assignment, x = 50\n",
      "Inside the function, after local assignment, x = 100\n",
      "Outside the function, x = 100\n"
     ]
    }
   ],
   "source": [
    "# Global variable\n",
    "x = 50\n",
    "\n",
    "def test_scope():\n",
    "    global x  # Declare that we're using the global variable\n",
    "    print(\"Inside the function, before local assignment, x =\", x)\n",
    "    \n",
    "    # Assign a new value to the global variable\n",
    "    x = 100\n",
    "    print(\"Inside the function, after local assignment, x =\", x)\n",
    "\n",
    "# Call the function\n",
    "test_scope()\n",
    "\n",
    "# Print the global variable outside the function\n",
    "print(\"Outside the function, x =\", x)\n"
   ]
  },
  {
   "cell_type": "markdown",
   "id": "39a0b395",
   "metadata": {},
   "source": [
    "### Question 5 From Day 23\n",
    "#### Lambda with One Argument: Create a lambda function that takes a single string argument and returns its length."
   ]
  },
  {
   "cell_type": "code",
   "execution_count": 7,
   "id": "67d411dc",
   "metadata": {},
   "outputs": [
    {
     "name": "stdout",
     "output_type": "stream",
     "text": [
      "The length of 'Hello, world!' is 13.\n"
     ]
    }
   ],
   "source": [
    "# Lambda function to return the length of a string\n",
    "string_length = lambda s: len(s)\n",
    "\n",
    "# Example usage\n",
    "example_string = \"Hello, world!\"\n",
    "print(f\"The length of '{example_string}' is {string_length(example_string)}.\")\n"
   ]
  },
  {
   "cell_type": "code",
   "execution_count": null,
   "id": "1d79f864",
   "metadata": {},
   "outputs": [],
   "source": []
  }
 ],
 "metadata": {
  "kernelspec": {
   "display_name": "Python 3 (ipykernel)",
   "language": "python",
   "name": "python3"
  },
  "language_info": {
   "codemirror_mode": {
    "name": "ipython",
    "version": 3
   },
   "file_extension": ".py",
   "mimetype": "text/x-python",
   "name": "python",
   "nbconvert_exporter": "python",
   "pygments_lexer": "ipython3",
   "version": "3.11.5"
  }
 },
 "nbformat": 4,
 "nbformat_minor": 5
}
