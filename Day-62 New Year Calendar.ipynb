{
 "cells": [
  {
   "cell_type": "markdown",
   "id": "07c1c3b4",
   "metadata": {},
   "source": [
    "#### Day 62 of Python Programming"
   ]
  },
  {
   "cell_type": "markdown",
   "id": "ac0789c6",
   "metadata": {},
   "source": [
    "## Calendar for the New Year Tutorial\n",
    "\n",
    "Overview\n",
    "\n",
    "In this tutorial, you'll learn how to use Python's built-in calendar module to create a program that displays a formatted calendar for any month of the year 2025. We'll also explore how to highlight holidays and make the program interactive by allowing users to choose the month.\n",
    "\n",
    "### Step 1: Importing the calendar Module\n",
    "\n",
    "The calendar module is a powerful tool in Python for working with dates and calendars. Start by importing it."
   ]
  },
  {
   "cell_type": "code",
   "execution_count": 3,
   "id": "0faa903a",
   "metadata": {},
   "outputs": [],
   "source": [
    "import calendar"
   ]
  },
  {
   "cell_type": "markdown",
   "id": "facc8493",
   "metadata": {},
   "source": [
    "### Step 2: Displaying a Calendar for January 2025\n",
    "\n",
    "Let's display the calendar for January 2025 using the month function from the calendar module. This function returns a string representing the month's calendar."
   ]
  },
  {
   "cell_type": "code",
   "execution_count": 7,
   "id": "cc0cbbef",
   "metadata": {},
   "outputs": [
    {
     "name": "stdout",
     "output_type": "stream",
     "text": [
      "     June 2024\n",
      "Mo Tu We Th Fr Sa Su\n",
      "                1  2\n",
      " 3  4  5  6  7  8  9\n",
      "10 11 12 13 14 15 16\n",
      "17 18 19 20 21 22 23\n",
      "24 25 26 27 28 29 30\n",
      "\n"
     ]
    }
   ],
   "source": [
    "print(calendar.month(2024, 6))"
   ]
  },
  {
   "cell_type": "markdown",
   "id": "c7eaa18a",
   "metadata": {},
   "source": [
    "### Step 3: Making It Interactive\n",
    "\n",
    "Allow the user to input the month they want to view. Use input() to capture the user's choice."
   ]
  },
  {
   "cell_type": "code",
   "execution_count": 8,
   "id": "c4814ef3",
   "metadata": {},
   "outputs": [
    {
     "name": "stdout",
     "output_type": "stream",
     "text": [
      "Enter the month number (1-12): 12\n",
      "   December 2025\n",
      "Mo Tu We Th Fr Sa Su\n",
      " 1  2  3  4  5  6  7\n",
      " 8  9 10 11 12 13 14\n",
      "15 16 17 18 19 20 21\n",
      "22 23 24 25 26 27 28\n",
      "29 30 31\n",
      "\n"
     ]
    }
   ],
   "source": [
    "# Prompt the user to enter a month\n",
    "month = int(input(\"Enter the month number (1-12): \"))\n",
    "\n",
    "# Display the selected month's calendar for 2025\n",
    "print(calendar.month(2025, month))"
   ]
  },
  {
   "cell_type": "markdown",
   "id": "902588fc",
   "metadata": {},
   "source": [
    "### Step 4: Allowing the User to Select Any Year (Bonus)\n",
    "\n",
    "To make the program more versatile, allow the user to choose both the year and the month."
   ]
  },
  {
   "cell_type": "code",
   "execution_count": 9,
   "id": "d59f05f3",
   "metadata": {},
   "outputs": [
    {
     "name": "stdout",
     "output_type": "stream",
     "text": [
      "Enter the year: 1999\n",
      "Enter the month number (1-12): 7\n",
      "     July 1999\n",
      "Mo Tu We Th Fr Sa Su\n",
      "          1  2  3  4\n",
      " 5  6  7  8  9 10 11\n",
      "12 13 14 15 16 17 18\n",
      "19 20 21 22 23 24 25\n",
      "26 27 28 29 30 31\n",
      "\n"
     ]
    }
   ],
   "source": [
    "# Prompt the user to select a year and month\n",
    "year = int(input(\"Enter the year: \"))\n",
    "month = int(input(\"Enter the month number (1-12): \"))\n",
    "\n",
    "# Display the calendar for the selected year and month\n",
    "print(calendar.month(year, month))"
   ]
  },
  {
   "cell_type": "code",
   "execution_count": null,
   "id": "d15a1e9d",
   "metadata": {},
   "outputs": [],
   "source": []
  }
 ],
 "metadata": {
  "kernelspec": {
   "display_name": "Python 3 (ipykernel)",
   "language": "python",
   "name": "python3"
  },
  "language_info": {
   "codemirror_mode": {
    "name": "ipython",
    "version": 3
   },
   "file_extension": ".py",
   "mimetype": "text/x-python",
   "name": "python",
   "nbconvert_exporter": "python",
   "pygments_lexer": "ipython3",
   "version": "3.11.5"
  }
 },
 "nbformat": 4,
 "nbformat_minor": 5
}
