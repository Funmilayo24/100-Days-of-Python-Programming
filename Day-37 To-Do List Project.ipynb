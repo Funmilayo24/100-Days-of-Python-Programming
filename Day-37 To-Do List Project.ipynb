{
 "cells": [
  {
   "cell_type": "markdown",
   "id": "490b9424-d19d-4470-9db9-11f372ae955c",
   "metadata": {},
   "source": [
    "### Day 37 of programming"
   ]
  },
  {
   "cell_type": "markdown",
   "id": "e1d78f7a-4f44-4449-9abc-6403701b8d2d",
   "metadata": {},
   "source": [
    "### To-Do List Application\n",
    "Objective: Create a simple to-do list manager that allows users to add, remove, and view tasks.\n",
    "\n",
    "Steps:\n",
    "\n",
    "Use a list to store tasks.\n",
    "\n",
    "Create options to add, remove, and display tasks."
   ]
  },
  {
   "cell_type": "code",
   "execution_count": null,
   "id": "f26c9793-1045-4452-ba2e-2ae2da3ff9bf",
   "metadata": {},
   "outputs": [
    {
     "name": "stdin",
     "output_type": "stream",
     "text": [
      "Choose action: add, remove, view, quit:  add\n",
      "Enter task:  pray\n",
      "Choose action: add, remove, view, quit:  view\n"
     ]
    },
    {
     "name": "stdout",
     "output_type": "stream",
     "text": [
      "Your tasks:\n",
      "- pray\n"
     ]
    },
    {
     "name": "stdin",
     "output_type": "stream",
     "text": [
      "Choose action: add, remove, view, quit:  add\n",
      "Enter task:  sleep\n"
     ]
    }
   ],
   "source": [
    "todo_list = []\n",
    "\n",
    "def add_task():\n",
    "    task = input(\"Enter task: \")\n",
    "    todo_list.append(task)\n",
    "\n",
    "def remove_task():\n",
    "    task = input(\"Enter task to remove: \")\n",
    "    if task in todo_list:\n",
    "        todo_list.remove(task)\n",
    "    else:\n",
    "        print(\"Task not found\")\n",
    "\n",
    "def view_tasks():\n",
    "    print(\"Your tasks:\")\n",
    "    for task in todo_list:\n",
    "        print(f\"- {task}\")\n",
    "\n",
    "while True:\n",
    "    action = input(\"Choose action: add, remove, view, quit: \").lower()\n",
    "    \n",
    "    if action == 'add':\n",
    "        add_task()\n",
    "    elif action == 'remove':\n",
    "        remove_task()\n",
    "    elif action == 'view':\n",
    "        view_tasks()\n",
    "    elif action == 'quit':\n",
    "        break\n",
    "    else:\n",
    "        print(\"Invalid choice\")\n"
   ]
  },
  {
   "cell_type": "code",
   "execution_count": null,
   "id": "348712e5-4b65-4373-acfe-f87b7bae3065",
   "metadata": {},
   "outputs": [],
   "source": []
  }
 ],
 "metadata": {
  "kernelspec": {
   "display_name": "Python 3 (ipykernel)",
   "language": "python",
   "name": "python3"
  },
  "language_info": {
   "codemirror_mode": {
    "name": "ipython",
    "version": 3
   },
   "file_extension": ".py",
   "mimetype": "text/x-python",
   "name": "python",
   "nbconvert_exporter": "python",
   "pygments_lexer": "ipython3",
   "version": "3.12.4"
  }
 },
 "nbformat": 4,
 "nbformat_minor": 5
}
