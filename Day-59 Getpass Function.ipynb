{
 "cells": [
  {
   "cell_type": "markdown",
   "id": "107b9f49-0664-428c-adf2-c862d919daf7",
   "metadata": {},
   "source": [
    "### Day 59 of Python Programming"
   ]
  },
  {
   "cell_type": "markdown",
   "id": "4d01ddaf-07b2-419a-9687-5d03a36920e2",
   "metadata": {},
   "source": [
    "## Secure Password Input with the getpass Module\n"
   ]
  },
  {
   "cell_type": "markdown",
   "id": "1b532702-6350-42e1-98e1-4273643a0086",
   "metadata": {},
   "source": [
    "### 1. What is the getpass Module?\n",
    "The getpass module is part of Python’s standard library and is designed to securely collect user input without echoing it back to the console. This is especially important when dealing with sensitive data, such as passwords, where you don’t want other users or processes to see the input.\n",
    "\n",
    "### Key Functions\n",
    "getpass.getpass(prompt='Password: ', stream=None): \n",
    "This function prompts the user for a password. The prompt can be customized with a string passed to the prompt argument. The password entered by the user is not displayed on the console.\n",
    "\n",
    "### 2. Using the getpass Function\n",
    "To use the getpass module, you need to import it into your Python script. Here’s how to do it:"
   ]
  },
  {
   "attachments": {
    "facebook-login.png": {
     "image/png": "[encoded data removed]"
    }
   },
   "cell_type": "markdown",
   "id": "fd74b6ea",
   "metadata": {},
   "source": [
    "![facebook-login.png](attachment:facebook-login.png)"
   ]
  },
  {
   "cell_type": "code",
   "execution_count": 2,
   "id": "59833103-a917-4dcf-aadd-9e69c04fb6c5",
   "metadata": {},
   "outputs": [
    {
     "name": "stdout",
     "output_type": "stream",
     "text": [
      "Enter your password: ········\n",
      "Password entered (not displayed for security).\n"
     ]
    }
   ],
   "source": [
    "import getpass\n",
    "\n",
    "# Prompt user for password\n",
    "user_password = getpass.getpass(\"Enter your password: \")\n",
    "print(\"Password entered (not displayed for security).\")"
   ]
  },
  {
   "cell_type": "markdown",
   "id": "a3847f41-013c-4bf6-8487-6ce1051fc943",
   "metadata": {},
   "source": [
    "#### Example Explained\n",
    "The getpass.getpass() function displays the message \"Enter your password: \" to the user.\n",
    "\n",
    "As the user types their password, nothing will be shown on the screen, which helps maintain security.\n",
    "\n",
    "After entering the password, you can use the entered password in your application without it being visible."
   ]
  },
  {
   "cell_type": "markdown",
   "id": "2a926b55-7e95-49f9-9eb3-18384fe2ba45",
   "metadata": {},
   "source": [
    "### 3. Example Use Case: Secure Login Prompt\n",
    "Here’s a more comprehensive example where we simulate a simple user login prompt using the getpass module."
   ]
  },
  {
   "cell_type": "code",
   "execution_count": 3,
   "id": "51d0f479-9054-48cd-b499-2283946b8f61",
   "metadata": {},
   "outputs": [
    {
     "name": "stdout",
     "output_type": "stream",
     "text": [
      "Enter your username: user123\n",
      "Enter your password: ········\n",
      "Login Successful\n"
     ]
    }
   ],
   "source": [
    "# Simulated user data\n",
    "username = \"user123\"\n",
    "password = \"securepassword\"\n",
    "\n",
    "def login():\n",
    "    user_input = input(\"Enter your username: \")\n",
    "    pass_input = getpass.getpass(\"Enter your password: \") \n",
    "    \n",
    "    if user_input == username and pass_input == password:\n",
    "        print(\"Login Successful\")\n",
    "    else:\n",
    "        print(\"Invalid Login\")\n",
    "        \n",
    "login()\n"
   ]
  },
  {
   "cell_type": "markdown",
   "id": "21f38dd4-8c05-49c8-9b15-362bc478ab32",
   "metadata": {},
   "source": [
    "#### Explanation\n",
    "In this example, a hardcoded username and password are used for demonstration.\n",
    "\n",
    "The user is prompted for their username and password, with the password input being securely handled by getpass.\n",
    "\n",
    "It checks the entered credentials against the hardcoded ones and provides feedback on the login attempt.\n",
    "\n",
    "#### Conclusion\n",
    "The getpass module is an essential tool for any Python application that requires secure user input, particularly for passwords. By not displaying the input on the console, it helps maintain confidentiality and protect sensitive information. Whether you’re building command-line applications, scripts, or any program that requires user authentication, getpass is a reliable choice for handling password inputs.\n",
    "\n",
    "### Practice Exercises\n",
    "Create a User Registration System: Use getpass to prompt users for a password when registering, ensuring the password input is hidden.\n",
    "\n",
    "Password Confirmation: Extend the previous example by asking users to re-enter their password for confirmation using getpass.\n",
    "\n",
    "Multiple User Login: Build a simple application that allows multiple users to log in with their usernames and passwords, stored in a dictionary."
   ]
  },
  {
   "cell_type": "code",
   "execution_count": null,
   "id": "0d7f4f14-e578-4c8e-b32b-2833e994ade7",
   "metadata": {},
   "outputs": [],
   "source": []
  }
 ],
 "metadata": {
  "kernelspec": {
   "display_name": "Python 3 (ipykernel)",
   "language": "python",
   "name": "python3"
  },
  "language_info": {
   "codemirror_mode": {
    "name": "ipython",
    "version": 3
   },
   "file_extension": ".py",
   "mimetype": "text/x-python",
   "name": "python",
   "nbconvert_exporter": "python",
   "pygments_lexer": "ipython3",
   "version": "3.11.5"
  }
 },
 "nbformat": 4,
 "nbformat_minor": 5
}
