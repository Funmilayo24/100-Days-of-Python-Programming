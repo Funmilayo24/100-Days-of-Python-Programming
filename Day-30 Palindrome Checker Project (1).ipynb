{
 "cells": [
  {
   "cell_type": "markdown",
   "id": "d12d20b5-46b5-4e11-9f15-0c8737a5ba37",
   "metadata": {},
   "source": [
    "### Day 30 of programming"
   ]
  },
  {
   "cell_type": "markdown",
   "id": "9e987fe6-7be6-473f-98a4-aaca68ded7e2",
   "metadata": {},
   "source": [
    "## Palindrome Checker\n",
    "Objective: Write a program that checks if a word or phrase is a palindrome.\n",
    "\n",
    "Steps:\n",
    "\n",
    "Get user input and remove spaces and punctuation.\n",
    "\n",
    "Compare the string with its reverse to check if it reads the same backward."
   ]
  },
  {
   "cell_type": "code",
   "execution_count": 3,
   "id": "37be4062-f209-4fcc-b358-04ef150fcb77",
   "metadata": {},
   "outputs": [
    {
     "name": "stdin",
     "output_type": "stream",
     "text": [
      "Enter a word or phrase:  sad\n"
     ]
    },
    {
     "name": "stdout",
     "output_type": "stream",
     "text": [
      "'sad' is not a palindrome.\n"
     ]
    }
   ],
   "source": [
    "def is_palindrome(s):\n",
    "    cleaned = \"\"\n",
    "    # Loop through each character in the input string\n",
    "    for c in s:\n",
    "        if c.isalnum():  # Check if the character is alphanumeric\n",
    "            cleaned += c.lower()  # Add the lowercase version to the cleaned string\n",
    "    \n",
    "    # Check if the cleaned string is the same forwards and backwards\n",
    "    return cleaned == cleaned[::-1]\n",
    "\n",
    "# Getting user input\n",
    "word = input(\"Enter a word or phrase: \")\n",
    "\n",
    "# Checking if the word or phrase is a palindrome and printing the result\n",
    "if is_palindrome(word):\n",
    "    print(f\"'{word}' is a palindrome.\")\n",
    "else:\n",
    "    print(f\"'{word}' is not a palindrome.\")\n"
   ]
  },
  {
   "cell_type": "code",
   "execution_count": null,
   "id": "35375063-d8c8-4034-b818-5c7894f05fe2",
   "metadata": {},
   "outputs": [],
   "source": []
  }
 ],
 "metadata": {
  "kernelspec": {
   "display_name": "Python 3 (ipykernel)",
   "language": "python",
   "name": "python3"
  },
  "language_info": {
   "codemirror_mode": {
    "name": "ipython",
    "version": 3
   },
   "file_extension": ".py",
   "mimetype": "text/x-python",
   "name": "python",
   "nbconvert_exporter": "python",
   "pygments_lexer": "ipython3",
   "version": "3.12.4"
  }
 },
 "nbformat": 4,
 "nbformat_minor": 5
}
