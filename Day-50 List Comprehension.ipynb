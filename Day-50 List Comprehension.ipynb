{
 "cells": [
  {
   "cell_type": "markdown",
   "id": "91f0e176-c2f8-435f-81ca-3e0a6c93157f",
   "metadata": {},
   "source": [
    "### Day 50 of programming"
   ]
  },
  {
   "cell_type": "markdown",
   "id": "dc890b80-8089-46b4-b389-c96219813d39",
   "metadata": {},
   "source": [
    "## Python List Comprehension\n",
    "### Overview:\n",
    "List comprehension in Python provides an elegant and efficient way to create lists. It’s more concise and often more readable than traditional for loops for generating lists. List comprehension offers a way to transform or filter data in a single line of code.\n",
    "\n",
    "In this tutorial, you’ll learn:\n",
    "\n",
    "The syntax of list comprehension.\n",
    "\n",
    "How to use list comprehension to perform various operations.\n",
    "\n",
    "How to filter data using conditional statements inside list comprehensions.\n",
    "\n",
    "Practice questions.\n",
    "\n",
    "#### Why Use List Comprehension?\n",
    "Concise: It allows you to write more compact and readable code.\n",
    "\n",
    "Efficient: List comprehensions are often faster than using for loops.\n",
    "\n",
    "#### Basic Syntax of List Comprehension\n",
    "The general syntax for list comprehension is:"
   ]
  },
  {
   "cell_type": "code",
   "execution_count": null,
   "id": "0518aaa3-9a4a-4a7a-af27-12641cfd23fc",
   "metadata": {},
   "outputs": [],
   "source": [
    "[expression for item in iterable]\n"
   ]
  },
  {
   "cell_type": "markdown",
   "id": "90fb19b2-4175-478a-b01d-52a9be490a89",
   "metadata": {},
   "source": [
    "Where:\n",
    "\n",
    "expression is the value or operation to apply to each item.\n",
    "\n",
    "item refers to each element in the iterable (like a list, string, range, etc.).\n",
    "\n",
    "iterable is the collection you are iterating over.\n",
    "\n",
    "### Example 1: Simple List Comprehension\n",
    "\n",
    "Let's create a list of squares using list comprehension:"
   ]
  },
  {
   "cell_type": "code",
   "execution_count": 1,
   "id": "1e501553-32f2-46c0-beb7-4c4fc1448699",
   "metadata": {},
   "outputs": [
    {
     "name": "stdout",
     "output_type": "stream",
     "text": [
      "[1, 4, 9, 16, 25]\n"
     ]
    }
   ],
   "source": [
    "squares = []\n",
    "\n",
    "for i in range(1, 6):\n",
    "    squares.append(i**2)\n",
    "\n",
    "print(squares)\n",
    "\n"
   ]
  },
  {
   "cell_type": "code",
   "execution_count": 2,
   "id": "3dcd0398-4e84-4b78-9c59-fc1eda51a057",
   "metadata": {},
   "outputs": [
    {
     "name": "stdout",
     "output_type": "stream",
     "text": [
      "[1, 4, 9, 16, 25]\n"
     ]
    }
   ],
   "source": [
    "square = [i ** 2 for i in range(1,6)]\n",
    "print(square)"
   ]
  },
  {
   "cell_type": "markdown",
   "id": "da5d0582-c0a3-4e4f-8ce0-0b10a990335a",
   "metadata": {},
   "source": [
    "As you can see, the list comprehension method is much more concise.\n",
    "\n",
    "### Example 2: Using Conditions in List Comprehension\n",
    "You can also include conditions in list comprehension to filter elements. The syntax with a condition looks like this:"
   ]
  },
  {
   "cell_type": "code",
   "execution_count": null,
   "id": "1c96cdde-c052-4220-b00f-aff844910254",
   "metadata": {},
   "outputs": [],
   "source": [
    "[expression for item in iterable if condition]\n"
   ]
  },
  {
   "cell_type": "markdown",
   "id": "92eb0efe-6a82-4002-ae4f-36a551473e83",
   "metadata": {},
   "source": [
    "##### Example: Get even numbers from a list"
   ]
  },
  {
   "cell_type": "code",
   "execution_count": 3,
   "id": "cb0dd1e6-98de-42a0-8397-8ac930b4f61e",
   "metadata": {},
   "outputs": [
    {
     "name": "stdout",
     "output_type": "stream",
     "text": [
      "[2, 4, 6, 8, 10]\n"
     ]
    }
   ],
   "source": [
    "numbers = [1, 2, 3, 4, 5, 6, 7, 8, 9, 10]\n",
    "\n",
    "even_numbers = [num for num in numbers if num % 2 == 0]\n",
    "print(even_numbers)\n"
   ]
  },
  {
   "cell_type": "markdown",
   "id": "e38d9cc1-64bd-45c1-9e63-455e7050fa82",
   "metadata": {},
   "source": [
    "### Example 3: Nested Loops in List Comprehension\n",
    "List comprehension can also handle multiple loops, similar to nested loops.\n",
    "\n",
    "Example: Create pairs from two lists"
   ]
  },
  {
   "cell_type": "code",
   "execution_count": 4,
   "id": "1d18aa3c-90c6-46ab-b441-066bea6ee3db",
   "metadata": {},
   "outputs": [
    {
     "name": "stdout",
     "output_type": "stream",
     "text": [
      "[(1, 'a'), (1, 'b'), (1, 'c'), (2, 'a'), (2, 'b'), (2, 'c'), (3, 'a'), (3, 'b'), (3, 'c')]\n"
     ]
    }
   ],
   "source": [
    "list1 = [1, 2, 3]\n",
    "list2 = ['a', 'b', 'c']\n",
    "\n",
    "pairs = [(i, j) for i in list1 for j in list2 ]\n",
    "print(pairs)\n"
   ]
  },
  {
   "cell_type": "markdown",
   "id": "08c0df23-731c-4af7-9a01-885a50d867c2",
   "metadata": {},
   "source": [
    "### Example 4: List Comprehension with Functions\n",
    "You can apply a function to each element in a list comprehension.\n",
    "\n",
    "Example: Convert a list of strings to uppercase"
   ]
  },
  {
   "cell_type": "code",
   "execution_count": 5,
   "id": "993ec33f-63dc-41ee-b9a7-7cf4e1401de2",
   "metadata": {},
   "outputs": [
    {
     "name": "stdout",
     "output_type": "stream",
     "text": [
      "['ALICE', 'BOB', 'CHARLIE']\n"
     ]
    }
   ],
   "source": [
    "names = ['alice', 'bob', 'charlie']\n",
    "\n",
    "uppercase_names = [name.upper() for name in names]\n",
    "print(uppercase_names)"
   ]
  },
  {
   "cell_type": "markdown",
   "id": "d726302b-0702-4497-9741-6de1e23e7809",
   "metadata": {},
   "source": [
    "### Example 5: List Comprehension with if-else\n",
    "You can also include both if and else conditions in list comprehension."
   ]
  },
  {
   "cell_type": "code",
   "execution_count": 6,
   "id": "62a892b6-6879-4029-b116-1684bfe755e4",
   "metadata": {},
   "outputs": [
    {
     "name": "stdout",
     "output_type": "stream",
     "text": [
      "['odd', 'even', 'odd', 'even', 'odd', 'even', 'odd', 'even', 'odd', 'even']\n"
     ]
    }
   ],
   "source": [
    "numbers = [1, 2, 3, 4, 5, 6, 7, 8, 9, 10]\n",
    "\n",
    "result = ['even' if num % 2 == 0 else 'odd' for num in numbers]\n",
    "print(result)"
   ]
  },
  {
   "cell_type": "markdown",
   "id": "06926b81-d0a8-4afc-96cb-6f902a02dbe2",
   "metadata": {},
   "source": [
    "### Practice Questions\n",
    "Squares of Odd Numbers: Write a list comprehension to generate a list of squares of odd numbers between 1 and 10.\n",
    "\n",
    "Length of Strings: Create a list that stores the length of each string in the list [\"apple\", \"banana\", \"cherry\"].\n",
    "\n",
    "Filter Positive Numbers: From the list [-5, 3, -2, 9, -1, 7], use list comprehension to generate a list of only the positive numbers.\n",
    "\n",
    "Multiplication Table: Use list comprehension to generate a multiplication table for the number 5 (from 1 to 10).\n",
    "\n",
    "Flatten a List: Given a nested list [[1, 2], [3, 4], [5, 6]], flatten the list to a single list using list comprehension.\n",
    "\n",
    "### Conclusion\n",
    "List comprehensions in Python provide an efficient and readable way to generate lists. You can use them to replace traditional for loops, filter data, or even apply conditions to each element in an iterable. They are a powerful feature to master for writing concise and Pythonic code!"
   ]
  },
  {
   "cell_type": "code",
   "execution_count": 4,
   "id": "84540af5-d069-4b50-bcf2-ab885bf49421",
   "metadata": {},
   "outputs": [],
   "source": [
    "import pygame\n",
    "import random\n",
    "\n",
    "# Initialize pygame\n",
    "pygame.init()\n",
    "\n",
    "# Screen settings\n",
    "WIDTH, HEIGHT = 1000,1000\n",
    "screen = pygame.display.set_mode((WIDTH, HEIGHT))\n",
    "pygame.display.set_caption(\"Snow Animation\")\n",
    "\n",
    "# Snowflake class\n",
    "class Snowflake:\n",
    "    def __init__(self):\n",
    "         # Random starting position, speed, and size for each snowflake\n",
    "        self.x = random.randint(0, WIDTH)\n",
    "        self.y = random.randint(-HEIGHT, 0)\n",
    "        self.size = random.randint(2, 5)\n",
    "        self.speed = random.uniform(1, 3)\n",
    "\n",
    "    def fall(self):\n",
    "        # Make snowflake fall and reset if it reaches the bottom\n",
    "        self.y += self.speed\n",
    "        if self.y > HEIGHT:\n",
    "            self.y = random.randint(-50, -10)\n",
    "            self.x = random.randint(0, WIDTH)\n",
    "            self.speed = random.uniform(1, 3)\n",
    "            self.size = random.randint(2, 5)\n",
    "\n",
    "    def draw(self, screen):\n",
    "        pygame.draw.circle(screen, (255, 255, 255), (self.x, self.y), self.size)\n",
    "\n",
    "# Create snowflakes\n",
    "num_snowflakes = 1500\n",
    "snowflakes = [Snowflake() for _ in range(num_snowflakes)]\n",
    "\n",
    "# Main loop\n",
    "running = True\n",
    "clock = pygame.time.Clock()\n",
    "\n",
    "while running:\n",
    "    # Fill the screen with a night-sky color\n",
    "    screen.fill((30, 30, 60))\n",
    "\n",
    "    for event in pygame.event.get():\n",
    "        if event.type == pygame.QUIT:\n",
    "            running = False\n",
    "\n",
    "     # Update and draw each snowflake\n",
    "    for snowflake in snowflakes:\n",
    "        snowflake.fall()\n",
    "        snowflake.draw(screen)\n",
    "\n",
    "     # Update display\n",
    "    pygame.display.flip()\n",
    "    clock.tick(30) # Limit the frame rate to 30 FPS\n",
    "\n",
    "pygame.quit()"
   ]
  },
  {
   "cell_type": "code",
   "execution_count": null,
   "id": "1963fa04",
   "metadata": {},
   "outputs": [],
   "source": []
  }
 ],
 "metadata": {
  "kernelspec": {
   "display_name": "Python 3 (ipykernel)",
   "language": "python",
   "name": "python3"
  },
  "language_info": {
   "codemirror_mode": {
    "name": "ipython",
    "version": 3
   },
   "file_extension": ".py",
   "mimetype": "text/x-python",
   "name": "python",
   "nbconvert_exporter": "python",
   "pygments_lexer": "ipython3",
   "version": "3.11.5"
  }
 },
 "nbformat": 4,
 "nbformat_minor": 5
}
