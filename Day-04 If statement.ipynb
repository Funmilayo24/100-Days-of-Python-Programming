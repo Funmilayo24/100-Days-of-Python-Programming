{
 "cells": [
  {
   "cell_type": "markdown",
   "id": "230e89f1-03ee-45d3-8152-a13da96a3e44",
   "metadata": {},
   "source": [
    "### Day 4 of Programming"
   ]
  },
  {
   "cell_type": "markdown",
   "id": "263fe989-1396-4b92-b70d-c6c9fdfafd4d",
   "metadata": {},
   "source": [
    "## Python Tutorial: If-Else Statements\n",
    "\n",
    "### Introduction to If-Else Statements\n",
    "\n",
    "In Python, if-else statements allow you to execute different blocks of code based on certain conditions. This is useful for decision-making in programs, where actions depend on whether a condition is True or False."
   ]
  },
  {
   "cell_type": "markdown",
   "id": "3fa85773-f77f-4138-8c96-b93f93c4c7f0",
   "metadata": {},
   "source": [
    "### Syntax of if-else Statement"
   ]
  },
  {
   "cell_type": "code",
   "execution_count": null,
   "id": "74b5c3be-633b-42a9-92b1-832853f716bf",
   "metadata": {},
   "outputs": [],
   "source": [
    "if condition:\n",
    "    # code to execute if the condition is true\n",
    "else:\n",
    "    # code to execute if the condition is false\n"
   ]
  },
  {
   "cell_type": "markdown",
   "id": "e9e51af6-c814-4fc0-8636-dcab3d162243",
   "metadata": {},
   "source": [
    "condition: This is an expression that evaluates to either True or False. If it’s True, the code inside the if block is executed. If it’s False, the code inside the else block is executed."
   ]
  },
  {
   "cell_type": "markdown",
   "id": "e55dab91-161e-4e0d-9c41-fc8b92d9eab9",
   "metadata": {},
   "source": [
    "### 1: Simple If-Else"
   ]
  },
  {
   "cell_type": "code",
   "execution_count": 1,
   "id": "89e79c3e-4a94-46d8-a5d2-acad69381aeb",
   "metadata": {},
   "outputs": [
    {
     "name": "stdin",
     "output_type": "stream",
     "text": [
      "Enter your age:  45\n"
     ]
    },
    {
     "name": "stdout",
     "output_type": "stream",
     "text": [
      "You are eligible to vote.\n"
     ]
    }
   ],
   "source": [
    "age = int(input(\"Enter your age: \"))\n",
    "if age >= 18:\n",
    "    print(\"You are eligible to vote.\")\n",
    "else:\n",
    "    print(\"You are not eligible to vote.\")\n"
   ]
  },
  {
   "cell_type": "markdown",
   "id": "e6dd43f8-db7c-451f-bfdc-b0f7fa0ad83f",
   "metadata": {},
   "source": [
    "##### If the user enters an age of 18 or older, the program prints that they are eligible to vote. Otherwise, it prints that they are not eligible."
   ]
  },
  {
   "cell_type": "markdown",
   "id": "abf94933-e687-41f1-af19-18fbe966ea92",
   "metadata": {},
   "source": [
    "### 2: If with Multiple Conditions (elif)\n",
    "If you need to check multiple conditions, you can use elif (short for \"else if\") between if and else."
   ]
  },
  {
   "cell_type": "code",
   "execution_count": 2,
   "id": "14a0f852-9299-45b0-96f3-28f2f4fc572c",
   "metadata": {},
   "outputs": [
    {
     "name": "stdin",
     "output_type": "stream",
     "text": [
      "Enter your score:  34\n"
     ]
    },
    {
     "name": "stdout",
     "output_type": "stream",
     "text": [
      "You failed.\n"
     ]
    }
   ],
   "source": [
    "score = int(input(\"Enter your score: \"))\n",
    "\n",
    "if score >= 90:\n",
    "    print(\"You got an A!\")\n",
    "elif score >= 80:\n",
    "    print(\"You got a B!\")\n",
    "elif score >= 70:\n",
    "    print(\"You got a C!\")\n",
    "elif score >= 60:\n",
    "    print(\"You got a D.\")\n",
    "else:\n",
    "    print(\"You failed.\")\n"
   ]
  },
  {
   "cell_type": "markdown",
   "id": "41457155-4166-46ea-a345-b23cbcf4f787",
   "metadata": {},
   "source": [
    "#### The elif keyword allows you to check more than one condition. If none of the conditions are True, the else block is executed."
   ]
  },
  {
   "cell_type": "markdown",
   "id": "fbd5a983-e0bd-4d66-9b7a-13cb0b0130ee",
   "metadata": {},
   "source": [
    "### Example 3: Nested If Statements\n",
    "You can also nest if-else statements inside each other for more complex decision-making."
   ]
  },
  {
   "cell_type": "code",
   "execution_count": 6,
   "id": "90d8bea0-d06c-424e-bb0e-537309d0c9f0",
   "metadata": {},
   "outputs": [
    {
     "name": "stdin",
     "output_type": "stream",
     "text": [
      "Enter your age:  54\n"
     ]
    },
    {
     "name": "stdout",
     "output_type": "stream",
     "text": [
      "You are an adult.\n"
     ]
    }
   ],
   "source": [
    "age = int(input(\"Enter your age: \"))\n",
    "\n",
    "if age >= 18:\n",
    "    print(\"You are an adult.\")\n",
    "    if age >= 65:\n",
    "        print(\"You are also a senior citizen.\")\n",
    "else:\n",
    "    print(\"You are a minor.\")\n"
   ]
  },
  {
   "cell_type": "markdown",
   "id": "079cc429-7617-469e-81bb-f70be38c92f5",
   "metadata": {},
   "source": [
    "### 4: Using Logical Operators\n",
    "You can use logical operators like and, or, and not to combine conditions."
   ]
  },
  {
   "cell_type": "code",
   "execution_count": 7,
   "id": "6d6408f5-5226-42e7-8b4b-a10a9047f9bd",
   "metadata": {},
   "outputs": [
    {
     "name": "stdin",
     "output_type": "stream",
     "text": [
      "Enter your age:  65\n"
     ]
    },
    {
     "name": "stdout",
     "output_type": "stream",
     "text": [
      "You are either a minor or a senior citizen.\n"
     ]
    }
   ],
   "source": [
    "age = int(input(\"Enter your age: \"))\n",
    "if age >= 18 and age < 65:\n",
    "    print(\"You are an adult.\")\n",
    "else:\n",
    "    print(\"You are either a minor or a senior citizen.\")\n"
   ]
  },
  {
   "cell_type": "markdown",
   "id": "3f795220-a53d-42af-b7a2-685758bb0b93",
   "metadata": {},
   "source": [
    "## Practice Question"
   ]
  },
  {
   "cell_type": "markdown",
   "id": "2794535a-e22f-4fb7-bf99-988658b15739",
   "metadata": {},
   "source": [
    "1. Write a program that asks the user for a number and prints whether it is even or odd.\n",
    "\n",
    "2. Write a program that checks if a user's password is \"strong.\" A strong password has at least 8 characters, includes both uppercase and lowercase letters, and has at least one number.\n",
    "\n",
    "3. Write a program that checks whether a year is a leap year. A leap year is divisible by 4, but not divisible by 100 unless also divisible by 400."
   ]
  },
  {
   "cell_type": "code",
   "execution_count": null,
   "id": "1467c037-aa73-4607-834c-fdee189406a8",
   "metadata": {},
   "outputs": [],
   "source": []
  }
 ],
 "metadata": {
  "kernelspec": {
   "display_name": "Python 3 (ipykernel)",
   "language": "python",
   "name": "python3"
  },
  "language_info": {
   "codemirror_mode": {
    "name": "ipython",
    "version": 3
   },
   "file_extension": ".py",
   "mimetype": "text/x-python",
   "name": "python",
   "nbconvert_exporter": "python",
   "pygments_lexer": "ipython3",
   "version": "3.12.4"
  }
 },
 "nbformat": 4,
 "nbformat_minor": 5
}
