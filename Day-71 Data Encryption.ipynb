{
 "cells": [
  {
   "cell_type": "markdown",
   "id": "a4ee2451",
   "metadata": {},
   "source": [
    "### Day 71 of Python Programming"
   ]
  },
  {
   "cell_type": "markdown",
   "id": "c0cab121",
   "metadata": {},
   "source": [
    "## Data Encryption and Decryption in Python\n",
    "\n",
    "Introduction\n",
    "\n",
    "Data encryption is the process of converting plain text into ciphertext to protect sensitive information. Decryption is the reverse process that converts ciphertext back to plain text. Python provides various libraries to perform encryption and decryption, with the cryptography library being one of the most popular for its simplicity and power.\n",
    "\n",
    "### Installing the Cryptography Library\n",
    "\n",
    "To use the cryptography library, install it using pip:"
   ]
  },
  {
   "cell_type": "code",
   "execution_count": 1,
   "id": "59dc8792",
   "metadata": {},
   "outputs": [
    {
     "name": "stdout",
     "output_type": "stream",
     "text": [
      "Requirement already satisfied: cryptography in c:\\users\\tobun\\anaconda3\\lib\\site-packages (41.0.3)\n",
      "Requirement already satisfied: cffi>=1.12 in c:\\users\\tobun\\anaconda3\\lib\\site-packages (from cryptography) (1.15.1)\n",
      "Requirement already satisfied: pycparser in c:\\users\\tobun\\anaconda3\\lib\\site-packages (from cffi>=1.12->cryptography) (2.21)\n",
      "Note: you may need to restart the kernel to use updated packages.\n"
     ]
    }
   ],
   "source": [
    "pip install cryptography"
   ]
  },
  {
   "cell_type": "markdown",
   "id": "6a83f68b",
   "metadata": {},
   "source": [
    "### Symmetric Encryption Using Fernet\n",
    "\n",
    "Fernet is a symmetric encryption method, meaning the same key is used for both encryption and decryption.\n",
    "\n",
    "Example: Encrypting and Decrypting a Message"
   ]
  },
  {
   "cell_type": "code",
   "execution_count": 2,
   "id": "dad8c6e6",
   "metadata": {},
   "outputs": [
    {
     "name": "stdout",
     "output_type": "stream",
     "text": [
      "Generated Key: b'nbIEMcqDB7fDS_MyfFGLO6HHgGzFuaisvai0yIA4TJ4='\n",
      "Ciphertext: b'gAAAAABnaCmKLXHcg5vJ_4KymwNWC-EK42WtxWzNhv8TKTAYZfQ1KujfFeSRQRSfINY8qOwiApXgY3Fi19pz3Ahp1-Ox4CUsD2AV4L-OaUV_SRSjXWI5SEUDzUWc9RI4DUEdoiWOisSp'\n",
      "Plaintext: Hello, this is a secret message!\n"
     ]
    }
   ],
   "source": [
    "from cryptography.fernet import Fernet\n",
    "\n",
    "# Generate a key\n",
    "key = Fernet.generate_key()\n",
    "print(f\"Generated Key: {key}\")\n",
    "\n",
    "# Create a Fernet object\n",
    "cipher = Fernet(key)\n",
    "\n",
    "# Encrypt a message\n",
    "message = b\"Hello, this is a secret message!\"\n",
    "ciphertext = cipher.encrypt(message)\n",
    "print(f\"Ciphertext: {ciphertext}\")\n",
    "\n",
    "# Decrypt the message\n",
    "plaintext = cipher.decrypt(ciphertext)\n",
    "print(f\"Plaintext: {plaintext.decode()}\")\n",
    "\n"
   ]
  },
  {
   "cell_type": "markdown",
   "id": "275427a6",
   "metadata": {},
   "source": [
    "### Explanation\n",
    "\n",
    "Key Generation: Fernet.generate_key() creates a secure key.\n",
    "\n",
    "Encryption: cipher.encrypt() encrypts the plain text.\n",
    "\n",
    "Decryption: cipher.decrypt() decrypts the ciphertext back to the original message.\n",
    "\n"
   ]
  },
  {
   "cell_type": "markdown",
   "id": "cc2641bb",
   "metadata": {},
   "source": [
    "### File Encryption and Decryption\n",
    "\n",
    "You can also encrypt and decrypt files using the same process.\n",
    "\n",
    "Example: Encrypting and Decrypting a File"
   ]
  },
  {
   "cell_type": "code",
   "execution_count": 3,
   "id": "65f64f1c",
   "metadata": {},
   "outputs": [],
   "source": [
    "from cryptography.fernet import Fernet\n",
    "\n",
    "# Generate and save a key\n",
    "key = Fernet.generate_key()\n",
    "with open(\"secret.key\", \"wb\") as key_file:\n",
    "    key_file.write(key)\n",
    "\n",
    "# Load the key\n",
    "with open(\"secret.key\", \"rb\") as key_file:\n",
    "    key = key_file.read()\n",
    "\n",
    "cipher = Fernet(key)\n",
    "\n",
    "# Encrypt the file\n",
    "with open(\"example.txt\", \"rb\") as file:\n",
    "    file_data = file.read()\n",
    "    encrypted_data = cipher.encrypt(file_data)\n",
    "\n",
    "with open(\"example.encrypted\", \"wb\") as file:\n",
    "    file.write(encrypted_data)\n",
    "\n",
    "# Decrypt the file\n",
    "with open(\"example.encrypted\", \"rb\") as file:\n",
    "    encrypted_data = file.read()\n",
    "    decrypted_data = cipher.decrypt(encrypted_data)\n",
    "\n",
    "with open(\"example_decrypted.txt\", \"wb\") as file:\n",
    "    file.write(decrypted_data)"
   ]
  },
  {
   "cell_type": "markdown",
   "id": "563d2842",
   "metadata": {},
   "source": [
    "### Practice Questions\n",
    "\n",
    "Question 1: Encrypt and Decrypt User Input\n",
    "\n",
    "Write a program that takes a user-inputted message, encrypts it, and then decrypts it to display the original message.\n",
    "\n",
    "Question 2: File Encryption Tool\n",
    "\n",
    "Create a tool that encrypts any file provided by the user and saves the key in a separate file. The tool should also decrypt the file when given the key.\n",
    "\n",
    "Question 3: Secure Password Storage\n",
    "\n",
    "Write a program to securely store passwords using encryption. Users should be able to add new passwords and retrieve them by decrypting the stored data.\n",
    "\n",
    "Question 4: Multi-user Chat Encryption\n",
    "\n",
    "Simulate an encrypted chat system where messages between two users are encrypted before being sent and decrypted upon receipt.\n",
    "\n",
    "Question 5: Encryption Benchmarking\n",
    "\n",
    "Create a program that compares the time taken to encrypt and decrypt messages of various sizes using different libraries such as cryptography and pycryptodome."
   ]
  },
  {
   "cell_type": "code",
   "execution_count": null,
   "id": "f3dc13a8",
   "metadata": {},
   "outputs": [],
   "source": []
  }
 ],
 "metadata": {
  "kernelspec": {
   "display_name": "Python 3 (ipykernel)",
   "language": "python",
   "name": "python3"
  },
  "language_info": {
   "codemirror_mode": {
    "name": "ipython",
    "version": 3
   },
   "file_extension": ".py",
   "mimetype": "text/x-python",
   "name": "python",
   "nbconvert_exporter": "python",
   "pygments_lexer": "ipython3",
   "version": "3.11.5"
  }
 },
 "nbformat": 4,
 "nbformat_minor": 5
}
