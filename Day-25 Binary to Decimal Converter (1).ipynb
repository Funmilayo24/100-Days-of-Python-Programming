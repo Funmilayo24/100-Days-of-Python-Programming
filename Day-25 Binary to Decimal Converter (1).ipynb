{
 "cells": [
  {
   "cell_type": "markdown",
   "id": "a4e98b01-f1e8-4471-8bb6-a2f11f59f697",
   "metadata": {},
   "source": [
    "### Day 25 of programming"
   ]
  },
  {
   "cell_type": "markdown",
   "id": "571d2741-51bf-4c45-a5ed-52881441c2f8",
   "metadata": {},
   "source": [
    "### Binary to Decimal Converter\n",
    "Objective: Write a program that converts binary numbers to decimal and vice versa.\n",
    "\n",
    "Steps:\n",
    "\n",
    "Ask the user to input a binary or decimal number.\n",
    "\n",
    "Use int() and bin() for conversion."
   ]
  },
  {
   "cell_type": "markdown",
   "id": "d40f7cdb-b148-4311-8083-0ac7639d0542",
   "metadata": {},
   "source": [
    "#### Decimal Number is defined by the number which has a whole number and the fractional part separated by a decimal point. While Binary Number is defined by a number which is expressed as in the base-2 numeral system. It is always written in the form of 0 and 1. In math, a system that is used to represent numbers in different forms is called number system."
   ]
  },
  {
   "cell_type": "code",
   "execution_count": 2,
   "id": "c62c3794-7942-44aa-9e60-fe362cb3af89",
   "metadata": {},
   "outputs": [
    {
     "name": "stdin",
     "output_type": "stream",
     "text": [
      "Convert binary to decimal (b) or decimal to binary (d)?  b\n",
      "Enter binary number:  10100\n"
     ]
    },
    {
     "name": "stdout",
     "output_type": "stream",
     "text": [
      "Decimal: 20\n"
     ]
    }
   ],
   "source": [
    "def binary_to_decimal(binary_str):\n",
    "    return int(binary_str, 2)\n",
    "\n",
    "def decimal_to_binary(decimal_num):\n",
    "    return bin(decimal_num)[2:]\n",
    "\n",
    "choice = input(\"Convert binary to decimal (b) or decimal to binary (d)? \")\n",
    "\n",
    "if choice == 'b':\n",
    "    binary_str = input(\"Enter binary number: \")\n",
    "    print(f\"Decimal: {binary_to_decimal(binary_str)}\")\n",
    "elif choice == 'd':\n",
    "    decimal_num = int(input(\"Enter decimal number: \"))\n",
    "    print(f\"Binary: {decimal_to_binary(decimal_num)}\")\n",
    "else:\n",
    "    print(\"Invalid choice\")\n"
   ]
  },
  {
   "cell_type": "code",
   "execution_count": null,
   "id": "9c42780f-76f7-4fe3-b15d-8a68a10e9450",
   "metadata": {},
   "outputs": [],
   "source": []
  }
 ],
 "metadata": {
  "kernelspec": {
   "display_name": "Python 3 (ipykernel)",
   "language": "python",
   "name": "python3"
  },
  "language_info": {
   "codemirror_mode": {
    "name": "ipython",
    "version": 3
   },
   "file_extension": ".py",
   "mimetype": "text/x-python",
   "name": "python",
   "nbconvert_exporter": "python",
   "pygments_lexer": "ipython3",
   "version": "3.12.4"
  }
 },
 "nbformat": 4,
 "nbformat_minor": 5
}
