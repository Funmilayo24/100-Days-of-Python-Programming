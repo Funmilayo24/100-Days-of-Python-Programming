{
 "cells": [
  {
   "cell_type": "markdown",
   "id": "d2784f01-9fed-41c9-9977-1fdb3f902e90",
   "metadata": {},
   "source": [
    "### Day 26 of programming"
   ]
  },
  {
   "cell_type": "markdown",
   "id": "f5248c56-c058-46a6-b9ce-09caf1bcbbb0",
   "metadata": {},
   "source": [
    "## pip - Python Package Installer\n",
    "Introduction\n",
    "pip is the standard package installer for Python, allowing you to install and manage third-party packages and libraries from the Python Package Index (PyPI) and other repositories. It simplifies the process of integrating external libraries into your Python projects.\n",
    "\n",
    "### 1. Installing pip\n",
    "pip comes pre-installed with Python 3.4 and later versions. To check if you have pip installed, run:"
   ]
  },
  {
   "cell_type": "code",
   "execution_count": 1,
   "id": "0fc87590-ac3e-41e4-91cb-a5d0038839f3",
   "metadata": {},
   "outputs": [
    {
     "name": "stdout",
     "output_type": "stream",
     "text": [
      "pip 24.0 from C:\\ProgramData\\anaconda3\\Lib\\site-packages\\pip (python 3.12)\n",
      "\n",
      "Note: you may need to restart the kernel to use updated packages.\n"
     ]
    }
   ],
   "source": [
    "pip --version\n"
   ]
  },
  {
   "cell_type": "markdown",
   "id": "2ec992d1-7b97-4700-81d0-014df1ba9342",
   "metadata": {},
   "source": [
    "#### If pip is not installed, you can install it using the following command:"
   ]
  },
  {
   "cell_type": "code",
   "execution_count": null,
   "id": "d0f8078c-9aaf-42f1-a476-a6a8a1500843",
   "metadata": {},
   "outputs": [],
   "source": [
    "python -m ensurepip --upgrade\n"
   ]
  },
  {
   "cell_type": "markdown",
   "id": "90e69fe1-4d31-441e-aef6-1787222db586",
   "metadata": {},
   "source": [
    "### 2. Basic pip Commands\n",
    "Here are some of the most commonly used pip commands:\n",
    "\n",
    "#### 2.1. Installing Packages\n",
    "To install a package from PyPI, use the following command:"
   ]
  },
  {
   "cell_type": "code",
   "execution_count": null,
   "id": "d2e7bebd-0d5c-4d5a-87ec-2e63813e6471",
   "metadata": {},
   "outputs": [],
   "source": [
    "pip install package_name\n"
   ]
  },
  {
   "cell_type": "code",
   "execution_count": null,
   "id": "3fb036e0-6249-4d9f-9b16-f475aef95905",
   "metadata": {},
   "outputs": [],
   "source": [
    "pip install requests"
   ]
  },
  {
   "cell_type": "markdown",
   "id": "f78094f1-3cae-4ee8-9533-57fe90487eb3",
   "metadata": {},
   "source": [
    "#### This installs the requests library, which is used for making HTTP requests.\n",
    "\n",
    "### 2.2. Installing Specific Versions\n",
    "To install a specific version of a package, specify the version number:"
   ]
  },
  {
   "cell_type": "code",
   "execution_count": null,
   "id": "193f5614-6127-4a4f-aa7d-d1b8567eab4c",
   "metadata": {},
   "outputs": [],
   "source": [
    "pip install package_name==version_number\n"
   ]
  },
  {
   "cell_type": "code",
   "execution_count": null,
   "id": "ab090963-c371-4cdb-b7b7-594c7a53cc4e",
   "metadata": {},
   "outputs": [],
   "source": [
    "pip install requests==2.26.0\n"
   ]
  },
  {
   "cell_type": "markdown",
   "id": "bf161565-5fac-456f-927b-59c1dbb3b6b6",
   "metadata": {},
   "source": [
    "### 2.3. Upgrading Packages\n",
    "To upgrade an installed package to the latest version, use:"
   ]
  },
  {
   "cell_type": "code",
   "execution_count": null,
   "id": "7bcc02cb-0fe5-4e9c-b26a-56279100ff07",
   "metadata": {},
   "outputs": [],
   "source": [
    "pip install --upgrade package_name\n"
   ]
  },
  {
   "cell_type": "code",
   "execution_count": null,
   "id": "2cd1bad7-ef36-4503-a3ab-7157d0e1e0d2",
   "metadata": {},
   "outputs": [],
   "source": [
    "pip install --upgrade requests\n"
   ]
  },
  {
   "cell_type": "markdown",
   "id": "1890299c-db52-47d5-a5da-d07db9a98183",
   "metadata": {},
   "source": [
    "### 2.4. Uninstalling Packages\n",
    "To remove a package, use:"
   ]
  },
  {
   "cell_type": "code",
   "execution_count": null,
   "id": "be0b8b59-ee9f-4e4b-892c-966cd1b7d822",
   "metadata": {},
   "outputs": [],
   "source": [
    "pip uninstall package_name\n"
   ]
  },
  {
   "cell_type": "code",
   "execution_count": null,
   "id": "bd192ca4-aa33-4f19-b3ce-878278d0bd46",
   "metadata": {},
   "outputs": [],
   "source": [
    "pip uninstall requests\n"
   ]
  },
  {
   "cell_type": "markdown",
   "id": "79b1be3e-556f-42cf-9b24-c0104e564f9e",
   "metadata": {},
   "source": [
    "### 2.5. Listing Installed Packages\n",
    "To list all installed packages and their versions, use:"
   ]
  },
  {
   "cell_type": "code",
   "execution_count": null,
   "id": "5b01324e-055f-4442-90dd-28556bba823c",
   "metadata": {},
   "outputs": [],
   "source": [
    "pip list\n"
   ]
  },
  {
   "cell_type": "markdown",
   "id": "d522c9b1-8fbb-4f9e-8c09-41b057366553",
   "metadata": {},
   "source": [
    "### Summary\n",
    "pip is a powerful tool for managing Python packages. It simplifies the process of installing, upgrading, and uninstalling packages and can be used with virtual environments to keep project dependencies organized. Understanding how to use pip effectively will help you manage your Python projects more efficiently."
   ]
  },
  {
   "cell_type": "code",
   "execution_count": null,
   "id": "39b152ab-fbf4-4069-a206-3493452dfbc1",
   "metadata": {},
   "outputs": [],
   "source": []
  }
 ],
 "metadata": {
  "kernelspec": {
   "display_name": "Python 3 (ipykernel)",
   "language": "python",
   "name": "python3"
  },
  "language_info": {
   "codemirror_mode": {
    "name": "ipython",
    "version": 3
   },
   "file_extension": ".py",
   "mimetype": "text/x-python",
   "name": "python",
   "nbconvert_exporter": "python",
   "pygments_lexer": "ipython3",
   "version": "3.12.4"
  }
 },
 "nbformat": 4,
 "nbformat_minor": 5
}
