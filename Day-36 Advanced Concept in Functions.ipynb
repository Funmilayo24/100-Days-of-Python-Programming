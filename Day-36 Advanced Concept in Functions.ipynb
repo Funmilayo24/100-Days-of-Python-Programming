{
 "cells": [
  {
   "cell_type": "markdown",
   "id": "91704b41-67e6-411d-84d2-43aebdab0244",
   "metadata": {},
   "source": [
    "### Day 36 of programming"
   ]
  },
  {
   "cell_type": "markdown",
   "id": "c6949c51-9dc0-4e66-9b6d-39ec95aeb393",
   "metadata": {},
   "source": [
    "## Advanced Concepts in Functions\n",
    "### Overview\n",
    "This tutorial will cover more advanced concepts like default arguments, keyword arguments, *args, and **kwargs. You'll also learn about scope and how variables behave inside and outside functions.\n",
    "\n",
    "### Key Topics\n",
    "Default Parameters\n",
    "\n",
    "Keyword Arguments\n",
    "\n",
    "*args and **kwargs\n",
    "\n",
    "Variable Scope (Local vs Global Variables)\n",
    "\n",
    "Lambda Functions (Introduction)\n",
    "\n",
    "Tutorial\n",
    "\n",
    "### Default Parameters\n",
    "You can assign default values to parameters in case no argument is passed.\n",
    "\n",
    "### Example:"
   ]
  },
  {
   "cell_type": "code",
   "execution_count": 1,
   "id": "ae871e8f-05a6-4b6c-9f19-6e1c76093d84",
   "metadata": {},
   "outputs": [
    {
     "name": "stdout",
     "output_type": "stream",
     "text": [
      "Hello, Guest!\n"
     ]
    }
   ],
   "source": [
    "def greet(name=\"Guest\"):\n",
    "    print(f\"Hello, {name}!\")\n",
    "\n",
    "greet()  \n"
   ]
  },
  {
   "cell_type": "markdown",
   "id": "82ce5c2a-38e1-4a96-b91e-6a97d12914ff",
   "metadata": {},
   "source": [
    "### Keyword Arguments\n",
    "Functions can be called with arguments in any order using keyword arguments. These are arguments passed by explicitly mentioning the parameter name.\n",
    "The order of the arguments doesn't matter as the parameters are assigned based on the name.\n",
    "\n",
    "Example:"
   ]
  },
  {
   "cell_type": "code",
   "execution_count": 2,
   "id": "f9505749-1887-4d8c-85a2-ad3af36af9f9",
   "metadata": {},
   "outputs": [
    {
     "name": "stdout",
     "output_type": "stream",
     "text": [
      "My name is Alice and I am 25 years old.\n"
     ]
    }
   ],
   "source": [
    "def introduce(name, age):\n",
    "    print(f\"My name is {name} and I am {age} years old.\")\n",
    "\n",
    "introduce(age=25, name=\"Alice\")\n"
   ]
  },
  {
   "cell_type": "markdown",
   "id": "69f96d67-46ff-431a-80ce-a2f414a01531",
   "metadata": {},
   "source": [
    "### *args and **kwargs\n",
    "*args allows a function to accept a variable number of positional arguments(*args allows a function to accept a variable number of positional arguments.\n",
    "It collects these arguments into a tuple.), while **kwargs allows variable keyword arguments. (It collects these arguments into a dictionary where the keys are the argument names and the values are the corresponding values.)\n",
    "\n",
    "Example:"
   ]
  },
  {
   "cell_type": "code",
   "execution_count": 3,
   "id": "0ffb74f0-895d-4444-af30-048a9a32eb4c",
   "metadata": {},
   "outputs": [
    {
     "name": "stdout",
     "output_type": "stream",
     "text": [
      "6\n"
     ]
    }
   ],
   "source": [
    "def sum_numbers(*args):\n",
    "    return sum(args)\n",
    "\n",
    "print(sum_numbers(1, 2, 3))  \n",
    "\n"
   ]
  },
  {
   "cell_type": "code",
   "execution_count": 4,
   "id": "d76d5f7f-659b-4647-a40a-f734ecd50c7a",
   "metadata": {},
   "outputs": [
    {
     "name": "stdout",
     "output_type": "stream",
     "text": [
      "name: Alice\n",
      "age: 25\n"
     ]
    }
   ],
   "source": [
    "def print_info(**kwargs):\n",
    "    for key, value in kwargs.items():\n",
    "        print(f\"{key}: {value}\")\n",
    "\n",
    "print_info(name=\"Alice\", age=25)\n"
   ]
  },
  {
   "cell_type": "markdown",
   "id": "e042d965-a354-4410-82ad-8c2373566235",
   "metadata": {},
   "source": [
    "### Variable Scope\n",
    "Variables defined inside a function are local to that function. Global variables can be accessed inside functions but require the global keyword to be modified."
   ]
  },
  {
   "cell_type": "code",
   "execution_count": 5,
   "id": "972ba358-b3f6-4856-9ee8-c9fa9386197c",
   "metadata": {},
   "outputs": [
    {
     "name": "stdout",
     "output_type": "stream",
     "text": [
      "20\n"
     ]
    }
   ],
   "source": [
    "x = 10\n",
    "\n",
    "def modify_global():\n",
    "    global x\n",
    "    x = 20\n",
    "\n",
    "modify_global()\n",
    "print(x) \n"
   ]
  },
  {
   "cell_type": "markdown",
   "id": "035af967-8fa2-4155-b683-ad735b8d06cc",
   "metadata": {},
   "source": [
    "### Lambda Functions"
   ]
  },
  {
   "cell_type": "code",
   "execution_count": 6,
   "id": "4f4aac2e-d58d-427e-8aa0-731cd6a20488",
   "metadata": {},
   "outputs": [
    {
     "name": "stdout",
     "output_type": "stream",
     "text": [
      "25\n"
     ]
    }
   ],
   "source": [
    "square = lambda x: x * x\n",
    "print(square(5))  \n"
   ]
  },
  {
   "cell_type": "markdown",
   "id": "644df13e-67b4-4fd6-aef9-0c7812c1d97b",
   "metadata": {},
   "source": [
    "### Practice Questions\n",
    "Write a function that takes any number of arguments and returns their sum.\n",
    "    \n",
    "Create a function that uses both *args and **kwargs to accept a combination of positional and keyword arguments."
   ]
  },
  {
   "cell_type": "code",
   "execution_count": null,
   "id": "cdab7edc-6e5c-4388-ae8f-32dfb29fb7a8",
   "metadata": {},
   "outputs": [],
   "source": []
  }
 ],
 "metadata": {
  "kernelspec": {
   "display_name": "Python 3 (ipykernel)",
   "language": "python",
   "name": "python3"
  },
  "language_info": {
   "codemirror_mode": {
    "name": "ipython",
    "version": 3
   },
   "file_extension": ".py",
   "mimetype": "text/x-python",
   "name": "python",
   "nbconvert_exporter": "python",
   "pygments_lexer": "ipython3",
   "version": "3.12.4"
  }
 },
 "nbformat": 4,
 "nbformat_minor": 5
}
