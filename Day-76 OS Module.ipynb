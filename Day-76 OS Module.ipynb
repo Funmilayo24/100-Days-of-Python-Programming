{
 "cells": [
  {
   "cell_type": "markdown",
   "id": "2aed4a17",
   "metadata": {},
   "source": [
    "#### Day 76 of Python Programming"
   ]
  },
  {
   "cell_type": "markdown",
   "id": "ce68dff9",
   "metadata": {},
   "source": [
    "## Introduction to the os Module in Python\n",
    "The os module in Python is a powerful library that allows you to interact with the underlying operating system. It enables file and directory manipulation, process management, and interaction with environment variables, making it essential for tasks like managing files, navigating directories, and handling system-level operations in your Python scripts.\n",
    "\n",
    "### Key Topics We'll Cover:\n",
    "Checking the current working directory\n",
    "\n",
    "Listing files in a directory\n",
    "\n",
    "Creating, renaming, and deleting files and directories\n",
    "\n",
    "Working with environment variables\n",
    "\n",
    "Running system commands\n",
    "\n",
    "### 1. Checking the Current Working Directory\n",
    "The current working directory is the folder where your Python script is being executed. To check it, you can use os.getcwd()."
   ]
  },
  {
   "cell_type": "code",
   "execution_count": 1,
   "id": "ad940be0",
   "metadata": {},
   "outputs": [
    {
     "name": "stdout",
     "output_type": "stream",
     "text": [
      "Current Working Directory: C:\\Users\\tobun\n"
     ]
    }
   ],
   "source": [
    "import os\n",
    "\n",
    "# Get the current working directory\n",
    "current_directory = os.getcwd()\n",
    "print(\"Current Working Directory:\", current_directory)\n"
   ]
  },
  {
   "cell_type": "markdown",
   "id": "e6c29c04",
   "metadata": {},
   "source": [
    "### 2. Listing Files and Directories\n",
    "You can list the files and folders in a directory using os.listdir(). If no path is specified, it lists the files in the current directory.\n",
    "\n"
   ]
  },
  {
   "cell_type": "code",
   "execution_count": null,
   "id": "ac730740",
   "metadata": {},
   "outputs": [],
   "source": [
    "# List files and directories in the current directory\n",
    "files_and_dirs = os.listdir()\n",
    "print(\"Files and Directories:\", files_and_dirs)\n",
    "\n",
    "# List files and directories in a specific directory\n",
    "path = 'downloads'\n",
    "print(f\"Files in '{path}':\", os.listdir(path))"
   ]
  },
  {
   "cell_type": "markdown",
   "id": "e32ef3ed",
   "metadata": {},
   "source": [
    "### 3. Creating, Renaming, and Deleting Directories\n",
    "The os module allows you to create, rename, and delete directories.\n",
    "\n",
    "Creating Directories\n",
    "\n",
    "Use os.mkdir() to create a single directory and os.makedirs() to create nested directories."
   ]
  },
  {
   "cell_type": "code",
   "execution_count": null,
   "id": "e6438332",
   "metadata": {},
   "outputs": [],
   "source": [
    "# Create a single directory\n",
    "os.mkdir('new_directory')\n",
    "\n",
    "# Create nested directories\n",
    "os.makedirs('parent_directory/child_directory')\n"
   ]
  },
  {
   "cell_type": "markdown",
   "id": "d3f9dfbc",
   "metadata": {},
   "source": [
    "#### Renaming Files or Directories\n",
    "To rename files or directories, use os.rename()."
   ]
  },
  {
   "cell_type": "code",
   "execution_count": null,
   "id": "3e1f14c9",
   "metadata": {},
   "outputs": [],
   "source": [
    "# Rename a directory or file\n",
    "os.rename('old_directory', 'renamed_directory')"
   ]
  },
  {
   "cell_type": "markdown",
   "id": "836ac1e4",
   "metadata": {},
   "source": [
    "### Practice Questions\n",
    "Write a Python script that creates a folder named \"Project_Files\" in the current directory.\n",
    "\n",
    "List all files in the current directory and save the list to a new file called directory_contents.txt.\n",
    "\n",
    "Create a Python script that:\n",
    "\n",
    "Checks if an environment variable DATA_PATH exists.\n",
    "If not, sets it to the current directory.\n",
    "\n",
    "Create a function that removes all .tmp files in a given directory."
   ]
  },
  {
   "cell_type": "code",
   "execution_count": null,
   "id": "2eef0010",
   "metadata": {},
   "outputs": [],
   "source": []
  }
 ],
 "metadata": {
  "kernelspec": {
   "display_name": "Python 3 (ipykernel)",
   "language": "python",
   "name": "python3"
  },
  "language_info": {
   "codemirror_mode": {
    "name": "ipython",
    "version": 3
   },
   "file_extension": ".py",
   "mimetype": "text/x-python",
   "name": "python",
   "nbconvert_exporter": "python",
   "pygments_lexer": "ipython3",
   "version": "3.11.5"
  }
 },
 "nbformat": 4,
 "nbformat_minor": 5
}
