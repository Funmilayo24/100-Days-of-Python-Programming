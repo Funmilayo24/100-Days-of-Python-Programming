{
 "cells": [
  {
   "cell_type": "markdown",
   "id": "8320f524-a9d7-4beb-87b5-2a2a40717b33",
   "metadata": {},
   "source": [
    "### Day 16 of programming"
   ]
  },
  {
   "cell_type": "markdown",
   "id": "ea329e21-71b4-45f8-84bf-22642a9835c1",
   "metadata": {},
   "source": [
    "## Python Tutorial: Common Errors and Exceptions\n",
    "Introduction to Errors and Exceptions\n",
    "In Python, an error occurs when the interpreter encounters something that it cannot handle. Python divides errors into two main categories:\n",
    "\n",
    "Syntax Errors: Errors in the structure of the code (e.g., incorrect punctuation, indentation).\n",
    "Exceptions: Errors that occur during program execution (e.g., trying to divide by zero or accessing a variable that doesn't exist).\n",
    "When an error occurs, Python will either stop the program and print an error message or, if handled using a try and except block, it will continue running after the error.\n",
    "\n",
    "### Step 1: Common Python Errors\n",
    "#### 1. SyntaxError\n",
    "What it is: A SyntaxError occurs when the Python interpreter encounters a statement that violates the rules of the Python language.\n",
    "\n",
    "Example:"
   ]
  },
  {
   "cell_type": "code",
   "execution_count": 1,
   "id": "c1564bd3-2171-4fd5-96ab-b3596403e06f",
   "metadata": {},
   "outputs": [
    {
     "ename": "SyntaxError",
     "evalue": "expected ':' (863530062.py, line 2)",
     "output_type": "error",
     "traceback": [
      "\u001b[1;36m  Cell \u001b[1;32mIn[1], line 2\u001b[1;36m\u001b[0m\n\u001b[1;33m    if 5 > 2\u001b[0m\n\u001b[1;37m            ^\u001b[0m\n\u001b[1;31mSyntaxError\u001b[0m\u001b[1;31m:\u001b[0m expected ':'\n"
     ]
    }
   ],
   "source": [
    "# Missing colon at the end of the if statement\n",
    "if 5 > 2\n",
    "    print(\"This will cause a SyntaxError\")\n"
   ]
  },
  {
   "cell_type": "code",
   "execution_count": 2,
   "id": "3d1a1405-cea2-49a3-a651-540b81a5e91c",
   "metadata": {},
   "outputs": [
    {
     "name": "stdout",
     "output_type": "stream",
     "text": [
      "Now it works!\n"
     ]
    }
   ],
   "source": [
    "if 5 > 2:\n",
    "    print(\"Now it works!\")\n"
   ]
  },
  {
   "cell_type": "markdown",
   "id": "fe05d89d-eca7-4950-84ad-994322a4195c",
   "metadata": {},
   "source": [
    "#### 2. IndentationError\n",
    "What it is: An IndentationError happens when the code is not properly indented. Python relies on indentation to define code blocks (e.g., in loops, functions, or conditional statements).\n",
    "\n",
    "Example:"
   ]
  },
  {
   "cell_type": "code",
   "execution_count": 3,
   "id": "f0cb09c2-58d7-4288-a870-e82921d3b19f",
   "metadata": {},
   "outputs": [
    {
     "ename": "IndentationError",
     "evalue": "expected an indented block after function definition on line 2 (3986974335.py, line 3)",
     "output_type": "error",
     "traceback": [
      "\u001b[1;36m  Cell \u001b[1;32mIn[3], line 3\u001b[1;36m\u001b[0m\n\u001b[1;33m    print(\"Hello\")  # This should be indented\u001b[0m\n\u001b[1;37m    ^\u001b[0m\n\u001b[1;31mIndentationError\u001b[0m\u001b[1;31m:\u001b[0m expected an indented block after function definition on line 2\n"
     ]
    }
   ],
   "source": [
    "# Improper indentation\n",
    "def my_function():\n",
    "print(\"Hello\")  # This should be indented\n"
   ]
  },
  {
   "cell_type": "code",
   "execution_count": 4,
   "id": "cd005661-9ffd-455d-9f7d-f142c8a0546a",
   "metadata": {},
   "outputs": [],
   "source": [
    "# Proper indentation\n",
    "def my_function():\n",
    "    print(\"Hello\")\n"
   ]
  },
  {
   "cell_type": "markdown",
   "id": "42359c4b-0abc-4460-9b9a-e7483f6a954a",
   "metadata": {},
   "source": [
    "#### 3. NameError\n",
    "What it is: A NameError occurs when you try to use a variable or function name that hasn't been defined.\n",
    "\n",
    "Example:"
   ]
  },
  {
   "cell_type": "code",
   "execution_count": 5,
   "id": "b85a3aad-2eb1-4724-bb01-758160eb430e",
   "metadata": {},
   "outputs": [
    {
     "ename": "NameError",
     "evalue": "name 'age' is not defined",
     "output_type": "error",
     "traceback": [
      "\u001b[1;31m---------------------------------------------------------------------------\u001b[0m",
      "\u001b[1;31mNameError\u001b[0m                                 Traceback (most recent call last)",
      "Cell \u001b[1;32mIn[5], line 1\u001b[0m\n\u001b[1;32m----> 1\u001b[0m \u001b[38;5;28mprint\u001b[39m(age)\n",
      "\u001b[1;31mNameError\u001b[0m: name 'age' is not defined"
     ]
    }
   ],
   "source": [
    "print(age)  # This will cause a NameError because 'age' is not defined\n"
   ]
  },
  {
   "cell_type": "code",
   "execution_count": 6,
   "id": "91107ea9-33d4-4696-b1fd-964838216a56",
   "metadata": {},
   "outputs": [
    {
     "name": "stdout",
     "output_type": "stream",
     "text": [
      "25\n"
     ]
    }
   ],
   "source": [
    "age = 25\n",
    "print(age)  # Now it works because 'age' is defined\n"
   ]
  },
  {
   "cell_type": "markdown",
   "id": "5fd1cab9-6de9-406f-a5bb-fb49c013b376",
   "metadata": {},
   "source": [
    "#### 4. TypeError\n",
    "What it is: A TypeError happens when an operation or function is applied to an object of an inappropriate type.\n",
    "\n",
    "Example"
   ]
  },
  {
   "cell_type": "code",
   "execution_count": 7,
   "id": "dd176aac-a4b5-4905-88aa-191fa40510fd",
   "metadata": {},
   "outputs": [
    {
     "ename": "TypeError",
     "evalue": "can only concatenate str (not \"int\") to str",
     "output_type": "error",
     "traceback": [
      "\u001b[1;31m---------------------------------------------------------------------------\u001b[0m",
      "\u001b[1;31mTypeError\u001b[0m                                 Traceback (most recent call last)",
      "Cell \u001b[1;32mIn[7], line 3\u001b[0m\n\u001b[0;32m      1\u001b[0m \u001b[38;5;66;03m# Trying to concatenate a string and an integer\u001b[39;00m\n\u001b[0;32m      2\u001b[0m age \u001b[38;5;241m=\u001b[39m \u001b[38;5;241m25\u001b[39m\n\u001b[1;32m----> 3\u001b[0m \u001b[38;5;28mprint\u001b[39m(\u001b[38;5;124m\"\u001b[39m\u001b[38;5;124mI am \u001b[39m\u001b[38;5;124m\"\u001b[39m \u001b[38;5;241m+\u001b[39m age \u001b[38;5;241m+\u001b[39m \u001b[38;5;124m\"\u001b[39m\u001b[38;5;124m years old\u001b[39m\u001b[38;5;124m\"\u001b[39m)\n",
      "\u001b[1;31mTypeError\u001b[0m: can only concatenate str (not \"int\") to str"
     ]
    }
   ],
   "source": [
    "# Trying to concatenate a string and an integer\n",
    "age = 25\n",
    "print(\"I am \" + age + \" years old\")  # This will raise a TypeError\n"
   ]
  },
  {
   "cell_type": "code",
   "execution_count": 8,
   "id": "53fc201d-d484-4468-91e8-334195e79c61",
   "metadata": {},
   "outputs": [
    {
     "name": "stdout",
     "output_type": "stream",
     "text": [
      "I am 25 years old\n"
     ]
    }
   ],
   "source": [
    "# Convert the integer to a string before concatenating\n",
    "age = 25\n",
    "print(\"I am \" + str(age) + \" years old\")\n"
   ]
  },
  {
   "cell_type": "markdown",
   "id": "a8b246c7-0912-4c09-8a73-8f98e6c40ce2",
   "metadata": {},
   "source": [
    "#### 5. ValueError\n",
    "What it is: A ValueError occurs when a function receives an argument of the right type but an inappropriate value.\n",
    "\n",
    "Example:"
   ]
  },
  {
   "cell_type": "code",
   "execution_count": 9,
   "id": "c963b344-4449-4e89-9afa-1b19f7a05ac2",
   "metadata": {},
   "outputs": [
    {
     "ename": "ValueError",
     "evalue": "invalid literal for int() with base 10: 'Hello'",
     "output_type": "error",
     "traceback": [
      "\u001b[1;31m---------------------------------------------------------------------------\u001b[0m",
      "\u001b[1;31mValueError\u001b[0m                                Traceback (most recent call last)",
      "Cell \u001b[1;32mIn[9], line 2\u001b[0m\n\u001b[0;32m      1\u001b[0m \u001b[38;5;66;03m# Trying to convert a string that cannot be an integer\u001b[39;00m\n\u001b[1;32m----> 2\u001b[0m num \u001b[38;5;241m=\u001b[39m \u001b[38;5;28mint\u001b[39m(\u001b[38;5;124m\"\u001b[39m\u001b[38;5;124mHello\u001b[39m\u001b[38;5;124m\"\u001b[39m)\n",
      "\u001b[1;31mValueError\u001b[0m: invalid literal for int() with base 10: 'Hello'"
     ]
    }
   ],
   "source": [
    "# Trying to convert a string that cannot be an integer\n",
    "num = int(\"Hello\")  # This will raise a ValueError\n"
   ]
  },
  {
   "cell_type": "code",
   "execution_count": 10,
   "id": "f634320d-1c2a-48e0-bb83-993c556faa6d",
   "metadata": {},
   "outputs": [
    {
     "name": "stdout",
     "output_type": "stream",
     "text": [
      "123\n"
     ]
    }
   ],
   "source": [
    "# Use a valid string that can be converted into an integer\n",
    "num = int(\"123\")\n",
    "print(num)  # Output: 123\n"
   ]
  },
  {
   "cell_type": "markdown",
   "id": "c1beae05-a3f5-4cd9-9f53-915325afd332",
   "metadata": {},
   "source": [
    "#### 6. IndexError\n",
    "What it is: An IndexError happens when you try to access an index that is out of range in a list or a tuple.\n",
    "\n",
    "Example:"
   ]
  },
  {
   "cell_type": "code",
   "execution_count": 11,
   "id": "3cf7a7b6-9c9f-481d-a906-c5a7abea0529",
   "metadata": {},
   "outputs": [
    {
     "ename": "IndexError",
     "evalue": "list index out of range",
     "output_type": "error",
     "traceback": [
      "\u001b[1;31m---------------------------------------------------------------------------\u001b[0m",
      "\u001b[1;31mIndexError\u001b[0m                                Traceback (most recent call last)",
      "Cell \u001b[1;32mIn[11], line 2\u001b[0m\n\u001b[0;32m      1\u001b[0m my_list \u001b[38;5;241m=\u001b[39m [\u001b[38;5;241m1\u001b[39m, \u001b[38;5;241m2\u001b[39m, \u001b[38;5;241m3\u001b[39m]\n\u001b[1;32m----> 2\u001b[0m \u001b[38;5;28mprint\u001b[39m(my_list[\u001b[38;5;241m5\u001b[39m])\n",
      "\u001b[1;31mIndexError\u001b[0m: list index out of range"
     ]
    }
   ],
   "source": [
    "my_list = [1, 2, 3]\n",
    "print(my_list[5])  # This will raise an IndexError\n"
   ]
  },
  {
   "cell_type": "code",
   "execution_count": 12,
   "id": "5a782b21-7c97-48c2-9a9f-64c40aa27d54",
   "metadata": {},
   "outputs": [
    {
     "name": "stdout",
     "output_type": "stream",
     "text": [
      "3\n"
     ]
    }
   ],
   "source": [
    "# Make sure you're accessing a valid index\n",
    "my_list = [1, 2, 3]\n",
    "print(my_list[2])  # Output: 3"
   ]
  },
  {
   "cell_type": "markdown",
   "id": "ab9c9a87-6c7c-4f35-af05-685a3fa052f6",
   "metadata": {},
   "source": [
    "#### 7. KeyError\n",
    "What it is: A KeyError occurs when you try to access a dictionary with a key that doesn't exist.\n",
    "\n",
    "Example:"
   ]
  },
  {
   "cell_type": "code",
   "execution_count": 13,
   "id": "04d11da0-a9ed-47da-bd12-37d763296491",
   "metadata": {},
   "outputs": [
    {
     "ename": "KeyError",
     "evalue": "'address'",
     "output_type": "error",
     "traceback": [
      "\u001b[1;31m---------------------------------------------------------------------------\u001b[0m",
      "\u001b[1;31mKeyError\u001b[0m                                  Traceback (most recent call last)",
      "Cell \u001b[1;32mIn[13], line 2\u001b[0m\n\u001b[0;32m      1\u001b[0m my_dict \u001b[38;5;241m=\u001b[39m {\u001b[38;5;124m\"\u001b[39m\u001b[38;5;124mname\u001b[39m\u001b[38;5;124m\"\u001b[39m: \u001b[38;5;124m\"\u001b[39m\u001b[38;5;124mJohn\u001b[39m\u001b[38;5;124m\"\u001b[39m, \u001b[38;5;124m\"\u001b[39m\u001b[38;5;124mage\u001b[39m\u001b[38;5;124m\"\u001b[39m: \u001b[38;5;241m30\u001b[39m}\n\u001b[1;32m----> 2\u001b[0m \u001b[38;5;28mprint\u001b[39m(my_dict[\u001b[38;5;124m\"\u001b[39m\u001b[38;5;124maddress\u001b[39m\u001b[38;5;124m\"\u001b[39m])\n",
      "\u001b[1;31mKeyError\u001b[0m: 'address'"
     ]
    }
   ],
   "source": [
    "my_dict = {\"name\": \"John\", \"age\": 30}\n",
    "print(my_dict[\"address\"])  # This will raise a KeyError\n"
   ]
  },
  {
   "cell_type": "code",
   "execution_count": 14,
   "id": "24a69261-6ffd-4921-a817-97e32a6efaae",
   "metadata": {},
   "outputs": [
    {
     "name": "stdout",
     "output_type": "stream",
     "text": [
      "Address not found\n"
     ]
    }
   ],
   "source": [
    "# Check if the key exists before accessing it\n",
    "my_dict = {\"name\": \"John\", \"age\": 30}\n",
    "print(my_dict.get(\"address\", \"Address not found\"))  # Output: Address not found\n"
   ]
  },
  {
   "cell_type": "markdown",
   "id": "9804a69b-57d2-4831-9aca-11d4b1f6cd9d",
   "metadata": {},
   "source": [
    "#### 8. AttributeError\n",
    "What it is: An AttributeError occurs when you try to access an attribute or method that doesn't exist on an object.\n",
    "\n",
    "Example:"
   ]
  },
  {
   "cell_type": "code",
   "execution_count": 15,
   "id": "5870a4e0-fbc2-42aa-84f8-acf025baeaba",
   "metadata": {},
   "outputs": [
    {
     "ename": "AttributeError",
     "evalue": "'list' object has no attribute 'push'",
     "output_type": "error",
     "traceback": [
      "\u001b[1;31m---------------------------------------------------------------------------\u001b[0m",
      "\u001b[1;31mAttributeError\u001b[0m                            Traceback (most recent call last)",
      "Cell \u001b[1;32mIn[15], line 3\u001b[0m\n\u001b[0;32m      1\u001b[0m my_list \u001b[38;5;241m=\u001b[39m [\u001b[38;5;241m1\u001b[39m, \u001b[38;5;241m2\u001b[39m, \u001b[38;5;241m3\u001b[39m]\n\u001b[0;32m      2\u001b[0m my_list\u001b[38;5;241m.\u001b[39mappend(\u001b[38;5;241m4\u001b[39m)  \u001b[38;5;66;03m# This works\u001b[39;00m\n\u001b[1;32m----> 3\u001b[0m my_list\u001b[38;5;241m.\u001b[39mpush(\u001b[38;5;241m5\u001b[39m)\n",
      "\u001b[1;31mAttributeError\u001b[0m: 'list' object has no attribute 'push'"
     ]
    }
   ],
   "source": [
    "my_list = [1, 2, 3]\n",
    "my_list.append(4)  # This works\n",
    "my_list.push(5)  # This will raise an AttributeError because lists don't have a 'push' method\n"
   ]
  },
  {
   "cell_type": "code",
   "execution_count": 16,
   "id": "cbc11664-aa54-4fa1-97e2-a397716af6cd",
   "metadata": {},
   "outputs": [
    {
     "name": "stdout",
     "output_type": "stream",
     "text": [
      "[1, 2, 3, 4]\n"
     ]
    }
   ],
   "source": [
    "# Use the correct method for adding items to the list\n",
    "my_list = [1, 2, 3]\n",
    "my_list.append(4)\n",
    "print(my_list)  # Output: [1, 2, 3, 4]\n"
   ]
  },
  {
   "cell_type": "markdown",
   "id": "faf79749-312e-4968-8a6d-c68251ffa623",
   "metadata": {},
   "source": [
    "#### 9. ZeroDivisionError\n",
    "What it is: A ZeroDivisionError occurs when you try to divide a number by zero, which is not allowed in mathematics.\n",
    "\n",
    "Example:"
   ]
  },
  {
   "cell_type": "code",
   "execution_count": 17,
   "id": "6b08a536-53b8-4f34-bf04-7e3c2ed44fa3",
   "metadata": {},
   "outputs": [
    {
     "ename": "ZeroDivisionError",
     "evalue": "division by zero",
     "output_type": "error",
     "traceback": [
      "\u001b[1;31m---------------------------------------------------------------------------\u001b[0m",
      "\u001b[1;31mZeroDivisionError\u001b[0m                         Traceback (most recent call last)",
      "Cell \u001b[1;32mIn[17], line 1\u001b[0m\n\u001b[1;32m----> 1\u001b[0m result \u001b[38;5;241m=\u001b[39m \u001b[38;5;241m10\u001b[39m \u001b[38;5;241m/\u001b[39m \u001b[38;5;241m0\u001b[39m\n",
      "\u001b[1;31mZeroDivisionError\u001b[0m: division by zero"
     ]
    }
   ],
   "source": [
    "result = 10 / 0  # This will raise a ZeroDivisionError\n"
   ]
  },
  {
   "cell_type": "code",
   "execution_count": 18,
   "id": "56f24641-a33f-43e1-900d-5d61695d64b5",
   "metadata": {},
   "outputs": [
    {
     "name": "stdout",
     "output_type": "stream",
     "text": [
      "Cannot divide by zero\n"
     ]
    }
   ],
   "source": [
    "# Make sure to check the divisor before dividing\n",
    "divisor = 0\n",
    "if divisor != 0:\n",
    "    result = 10 / divisor\n",
    "else:\n",
    "    print(\"Cannot divide by zero\")\n"
   ]
  },
  {
   "cell_type": "markdown",
   "id": "2e8a8bff-56b3-4a1d-a683-a78c8e5232be",
   "metadata": {},
   "source": [
    "#### Handling Errors with try and except\n",
    "To prevent your program from crashing due to exceptions, you can handle errors using the try and except block."
   ]
  },
  {
   "cell_type": "markdown",
   "id": "418b8c37-ead7-4eeb-b709-2aad59d56317",
   "metadata": {},
   "source": [
    "### Summary of Common Errors\n",
    "Error\tCause\n",
    "\n",
    "SyntaxError\tIncorrect syntax or missing punctuation like colons, parentheses, or commas.\n",
    "\n",
    "IndentationError\tIncorrect indentation of code blocks.\n",
    "\n",
    "NameError\tUsing a variable or function before it is defined.\n",
    "\n",
    "TypeError\tUsing an operation or function with the wrong data type (e.g., adding a string and an int).\n",
    "\n",
    "ValueError\tPassing an argument with the correct type but an invalid value.\n",
    "\n",
    "IndexError\tTrying to access an index that is out of the valid range in a list or tuple.\n",
    "\n",
    "KeyError\tTrying to access a dictionary key that doesn't exist.\n",
    "\n",
    "AttributeError\tTrying to use an attribute or method that doesn't exist on an object.\n",
    "\n",
    "ZeroDivisionError\tDividing a number by zero.\n"
   ]
  },
  {
   "cell_type": "code",
   "execution_count": null,
   "id": "d7539d67-ad51-4a79-b63e-d2078ad14eff",
   "metadata": {},
   "outputs": [],
   "source": []
  }
 ],
 "metadata": {
  "kernelspec": {
   "display_name": "Python 3 (ipykernel)",
   "language": "python",
   "name": "python3"
  },
  "language_info": {
   "codemirror_mode": {
    "name": "ipython",
    "version": 3
   },
   "file_extension": ".py",
   "mimetype": "text/x-python",
   "name": "python",
   "nbconvert_exporter": "python",
   "pygments_lexer": "ipython3",
   "version": "3.12.4"
  }
 },
 "nbformat": 4,
 "nbformat_minor": 5
}
