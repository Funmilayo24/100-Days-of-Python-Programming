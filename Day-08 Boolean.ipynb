{
 "cells": [
  {
   "cell_type": "markdown",
   "id": "8766b315",
   "metadata": {},
   "source": [
    "### Day 8 of programming"
   ]
  },
  {
   "cell_type": "markdown",
   "id": "12810673",
   "metadata": {},
   "source": [
    "### Python Tutorial: Boolean Values and Expressions\n",
    "\n",
    "Introduction to Booleans\n",
    "A Boolean in Python represents one of two values: True or False. Boolean values are commonly used in conditional statements, loops, and comparisons.\n",
    "\n",
    "### Step 1: Boolean Values\n",
    "In Python, the Boolean values are:\n",
    "\n",
    "True\n",
    "\n",
    "False\n",
    "\n",
    "These values are case-sensitive, so you must capitalize the first letter."
   ]
  },
  {
   "cell_type": "code",
   "execution_count": 1,
   "id": "a42a1cf7",
   "metadata": {},
   "outputs": [
    {
     "name": "stdout",
     "output_type": "stream",
     "text": [
      "True\n",
      "False\n"
     ]
    }
   ],
   "source": [
    "is_true = True\n",
    "is_false = False\n",
    "\n",
    "print(is_true)   # Output: True\n",
    "print(is_false)  # Output: False\n"
   ]
  },
  {
   "cell_type": "markdown",
   "id": "78adf8b6",
   "metadata": {},
   "source": [
    "### Step 2: Boolean Expressions\n",
    "A Boolean expression is an expression that evaluates to either True or False. These expressions often involve comparison operators.\n",
    "\n",
    "Comparison Operators\n",
    "\n",
    "Operator\tDescription\tExample\n",
    "\n",
    "1. ==\tEqual to\t5 == 5 → True\n",
    "\n",
    "2. !=\tNot equal to\t5 != 3 → True\n",
    "\n",
    "3.  >Greater than\t5 > 3 → True\n",
    "\n",
    "4. <\tLess than\t3 < 5 → True\n",
    "\n",
    "5. >=\tGreater than or equal to\t5 >= 5 → True\n",
    "\n",
    "6. <=\tLess than or equal to\t5 <= 3 → False\n"
   ]
  },
  {
   "cell_type": "code",
   "execution_count": 2,
   "id": "23cedb17",
   "metadata": {},
   "outputs": [
    {
     "name": "stdout",
     "output_type": "stream",
     "text": [
      "True\n",
      "False\n",
      "True\n"
     ]
    }
   ],
   "source": [
    "print(5 > 3)    # True\n",
    "print(5 == 3)   # False\n",
    "print(5 != 3)   # True\n"
   ]
  },
  {
   "cell_type": "markdown",
   "id": "c86264eb",
   "metadata": {},
   "source": [
    "### Step 3: Logical Operators\n",
    "Logical operators are used to combine Boolean values and expressions. The three main logical operators are:\n",
    "\n",
    "AND Operator (and)\n",
    "The and operator returns True only if both expressions are True."
   ]
  },
  {
   "cell_type": "code",
   "execution_count": 3,
   "id": "5fd0b054",
   "metadata": {},
   "outputs": [
    {
     "name": "stdout",
     "output_type": "stream",
     "text": [
      "True\n",
      "False\n",
      "True\n"
     ]
    }
   ],
   "source": [
    "print(True and True)   # True\n",
    "print(True and False)  # False\n",
    "print(5 > 3 and 10 < 20)  # True\n"
   ]
  },
  {
   "cell_type": "markdown",
   "id": "adde6e9d",
   "metadata": {},
   "source": [
    "OR Operator (or)\n",
    "The or operator returns True if at least one of the expressions is True."
   ]
  },
  {
   "cell_type": "code",
   "execution_count": 4,
   "id": "0fb812b9",
   "metadata": {},
   "outputs": [
    {
     "name": "stdout",
     "output_type": "stream",
     "text": [
      "True\n",
      "False\n",
      "True\n"
     ]
    }
   ],
   "source": [
    "print(True or False)   # True\n",
    "print(False or False)  # False\n",
    "print(5 > 3 or 10 > 20)  # True\n"
   ]
  },
  {
   "cell_type": "markdown",
   "id": "a643f4aa",
   "metadata": {},
   "source": [
    "NOT Operator (not)\n",
    "The not operator reverses the Boolean value of an expression."
   ]
  },
  {
   "cell_type": "code",
   "execution_count": 5,
   "id": "cdf91e86",
   "metadata": {},
   "outputs": [
    {
     "name": "stdout",
     "output_type": "stream",
     "text": [
      "False\n",
      "True\n",
      "False\n"
     ]
    }
   ],
   "source": [
    "print(not True)  # False\n",
    "print(not False) # True\n",
    "print(not (5 > 3))  # False\n"
   ]
  },
  {
   "cell_type": "markdown",
   "id": "59f0e2d3",
   "metadata": {},
   "source": [
    "### Step 4: Boolean in Conditional Statements\n",
    "Booleans are often used in if statements to control the flow of a program based on conditions."
   ]
  },
  {
   "cell_type": "code",
   "execution_count": 6,
   "id": "e11f9693",
   "metadata": {},
   "outputs": [
    {
     "name": "stdout",
     "output_type": "stream",
     "text": [
      "You are an adult.\n"
     ]
    }
   ],
   "source": [
    "age = 20\n",
    "\n",
    "if age >= 18:\n",
    "    print(\"You are an adult.\")\n",
    "else:\n",
    "    print(\"You are a minor.\")\n"
   ]
  },
  {
   "cell_type": "markdown",
   "id": "a26f7f6e",
   "metadata": {},
   "source": [
    "#### If the age is greater than or equal to 18, the condition age >= 18 evaluates to True, and the program prints \"You are an adult.\""
   ]
  },
  {
   "cell_type": "markdown",
   "id": "f738057b",
   "metadata": {},
   "source": [
    "### Step 5: Boolean in Loops\n",
    "Booleans are also used in loops to control how long the loop runs."
   ]
  },
  {
   "cell_type": "code",
   "execution_count": 7,
   "id": "4e00eb22",
   "metadata": {},
   "outputs": [
    {
     "name": "stdout",
     "output_type": "stream",
     "text": [
      "Counter: 5\n",
      "Counter: 4\n",
      "Counter: 3\n",
      "Counter: 2\n",
      "Counter: 1\n"
     ]
    }
   ],
   "source": [
    "counter = 5\n",
    "while counter > 0:\n",
    "    print(\"Counter:\", counter)\n",
    "    counter -= 1  # Decrease the counter by 1\n"
   ]
  },
  {
   "cell_type": "markdown",
   "id": "0947d7d1",
   "metadata": {},
   "source": [
    "##### The loop will continue to run while the condition counter > 0 is True."
   ]
  },
  {
   "cell_type": "markdown",
   "id": "e24efa21",
   "metadata": {},
   "source": [
    "### Step 6: Combining Boolean Expressions\n",
    "You can combine multiple Boolean expressions using logical operators."
   ]
  },
  {
   "cell_type": "code",
   "execution_count": 8,
   "id": "f81d87b8",
   "metadata": {},
   "outputs": [
    {
     "name": "stdout",
     "output_type": "stream",
     "text": [
      "You are eligible for a loan.\n"
     ]
    }
   ],
   "source": [
    "age = 25\n",
    "is_employed = True\n",
    "\n",
    "if age >= 18 and is_employed:\n",
    "    print(\"You are eligible for a loan.\")\n",
    "else:\n",
    "    print(\"You are not eligible for a loan.\")\n"
   ]
  },
  {
   "cell_type": "markdown",
   "id": "fa7b475a",
   "metadata": {},
   "source": [
    "##### In this example, the if statement checks two conditions:\n",
    "\n",
    "age >= 18 (checks if the person is an adult)\n",
    "\n",
    "is_employed (checks if the person is employed)\n",
    "\n",
    "Both conditions must be True for the program to print \"You are eligible for a loan.\""
   ]
  },
  {
   "cell_type": "markdown",
   "id": "c4efb4a4",
   "metadata": {},
   "source": [
    "### Practice Question\n",
    "\n",
    "1. Write a program that checks if a number is both greater than 10 and even. If it is, print \"Valid number\"; otherwise, print \"Invalid number.\"\n",
    "\n",
    "2. Ask the user to enter two numbers and check if both numbers are greater than 100 using an and condition. Then, check if either of the two numbers is greater than 100 using an or condition.\n",
    "\n",
    "3. Write a Python function that takes a year as input and returns True if it is a leap year, and False otherwise. A leap year is divisible by 4 but not divisible by 100, unless it is also divisible by 400."
   ]
  },
  {
   "cell_type": "code",
   "execution_count": null,
   "id": "02b8c61d",
   "metadata": {},
   "outputs": [],
   "source": []
  }
 ],
 "metadata": {
  "kernelspec": {
   "display_name": "Python 3 (ipykernel)",
   "language": "python",
   "name": "python3"
  },
  "language_info": {
   "codemirror_mode": {
    "name": "ipython",
    "version": 3
   },
   "file_extension": ".py",
   "mimetype": "text/x-python",
   "name": "python",
   "nbconvert_exporter": "python",
   "pygments_lexer": "ipython3",
   "version": "3.11.5"
  }
 },
 "nbformat": 4,
 "nbformat_minor": 5
}
