{
 "cells": [
  {
   "cell_type": "markdown",
   "id": "be9b223b-9083-4bf9-86b3-13d93e156781",
   "metadata": {},
   "source": [
    "### Day 13 of Programming"
   ]
  },
  {
   "cell_type": "markdown",
   "id": "77ee08b2-b6dd-4592-a08a-1e7fd1af2607",
   "metadata": {},
   "source": [
    "## Python Tutorial: break, continue, and pass Statements\n",
    "Introduction\n",
    "\n",
    "In Python, the break, continue, and pass statements are used to control the flow of loops or conditionals. These statements allow you to manipulate the execution of loops, making them essential for controlling how your programs run.\n",
    "\n",
    "### Step 1: The break Statement\n",
    "The break statement is used to exit a loop prematurely. When Python encounters a break statement inside a loop (like a for or while loop), it immediately stops the loop, and the program continues with the first statement after the loop.\n",
    "\n",
    "Example: Using break in a while Loop"
   ]
  },
  {
   "cell_type": "code",
   "execution_count": 1,
   "id": "343eeef3-39cc-4beb-a8a0-1d5564d86d04",
   "metadata": {},
   "outputs": [
    {
     "name": "stdout",
     "output_type": "stream",
     "text": [
      "1\n",
      "2\n",
      "3\n",
      "4\n",
      "5\n"
     ]
    }
   ],
   "source": [
    "i = 1\n",
    "\n",
    "while i <= 10:\n",
    "    print(i)\n",
    "    if i == 5:\n",
    "        break  # Loop breaks when i is 5\n",
    "    i += 1\n"
   ]
  },
  {
   "cell_type": "markdown",
   "id": "72c96a44-21e5-42d3-aef6-0cdd12f488aa",
   "metadata": {},
   "source": [
    "#### In this example, the loop breaks when i reaches 5, so the program does not print numbers from 6 to 10."
   ]
  },
  {
   "cell_type": "markdown",
   "id": "12625b53-4eac-4749-8ef2-b49e3ba94151",
   "metadata": {},
   "source": [
    "#### Example: Using 'break' in a for loop"
   ]
  },
  {
   "cell_type": "code",
   "execution_count": 2,
   "id": "44ddb9f8-122f-4694-a1b8-c0faa520fc6c",
   "metadata": {},
   "outputs": [
    {
     "name": "stdout",
     "output_type": "stream",
     "text": [
      "P\n",
      "y\n",
      "t\n"
     ]
    }
   ],
   "source": [
    "for letter in \"Python\":\n",
    "    if letter == \"h\":\n",
    "        break\n",
    "    print(letter)"
   ]
  },
  {
   "cell_type": "markdown",
   "id": "118468e1-958e-45fa-8fa1-ea66ca2fed62",
   "metadata": {},
   "source": [
    "#### Here, the loop stops as soon as the letter \"h\" is encountered."
   ]
  },
  {
   "cell_type": "markdown",
   "id": "67d8ec7f-f626-41a0-b26b-52db170a7794",
   "metadata": {},
   "source": [
    "### Step 2: The continue Statement\n",
    "The continue statement is used to skip the rest of the code inside the loop for the current iteration, and the loop proceeds with the next iteration. Unlike break, it doesn't stop the loop altogether; it just skips the current iteration.\n",
    "\n",
    "Example: Using continue in a for Loop"
   ]
  },
  {
   "cell_type": "code",
   "execution_count": 4,
   "id": "5562f149-13ab-4994-8288-74381c7852aa",
   "metadata": {},
   "outputs": [
    {
     "name": "stdout",
     "output_type": "stream",
     "text": [
      "1\n",
      "2\n",
      "4\n",
      "5\n"
     ]
    }
   ],
   "source": [
    "for i in range(1, 6):\n",
    "    if i == 3:\n",
    "        continue  # Skip when i is 3\n",
    "    print(i)\n"
   ]
  },
  {
   "cell_type": "markdown",
   "id": "f96b68e1-1464-4a0d-a5a2-f6d8d494bb26",
   "metadata": {},
   "source": [
    "##### In this example, when i is 3, the continue statement skips the rest of the loop, so the number 3 is not printed.\n",
    "\n",
    "#### Example: Using continue in a while Loop"
   ]
  },
  {
   "cell_type": "code",
   "execution_count": 5,
   "id": "bab71fd5-fcea-4c9c-8c49-4727327d0053",
   "metadata": {},
   "outputs": [
    {
     "name": "stdout",
     "output_type": "stream",
     "text": [
      "1\n",
      "3\n",
      "4\n",
      "5\n"
     ]
    }
   ],
   "source": [
    "i = 0\n",
    "while i < 5:\n",
    "    i += 1\n",
    "    if i == 2:\n",
    "        continue  # Skip when i is 2\n",
    "    print(i)\n"
   ]
  },
  {
   "cell_type": "markdown",
   "id": "f6d6c4ee-eb87-4e60-8327-a075bab7aae9",
   "metadata": {},
   "source": [
    "### Step 3: The pass Statement\n",
    "The pass statement does nothing. It is used as a placeholder where syntactically, some code is required but you do not want to execute anything. This is useful when you are writing a piece of code but haven’t fully implemented it yet.\n",
    "\n",
    "#### Example: Using pass in a for Loop"
   ]
  },
  {
   "cell_type": "code",
   "execution_count": 6,
   "id": "b3c27a10-8382-433f-b53e-71588d149a54",
   "metadata": {},
   "outputs": [],
   "source": [
    "for i in range(5):\n",
    "    pass  # Placeholder for future code\n"
   ]
  },
  {
   "cell_type": "markdown",
   "id": "ccb3e398-0b1d-495c-aeeb-582b28fcab5c",
   "metadata": {},
   "source": [
    "#### In this example, the pass statement ensures that the loop runs without throwing an error, even though there is no code inside the loop.\n",
    "\n",
    "#### Example: Using pass in a Conditional"
   ]
  },
  {
   "cell_type": "code",
   "execution_count": 7,
   "id": "5a92ce4e-e335-4e10-84e4-9079fc3844d9",
   "metadata": {},
   "outputs": [],
   "source": [
    "x = 10\n",
    "\n",
    "if x > 5:\n",
    "    pass  # To be implemented later\n",
    "else:\n",
    "    print(\"x is less than or equal to 5\")\n"
   ]
  },
  {
   "cell_type": "markdown",
   "id": "163d0955-fbc6-4a86-8029-6a8cba4c69c5",
   "metadata": {},
   "source": [
    "#### Here, the if block does nothing because of the pass statement, but the code runs without errors.\n",
    "\n",
    "### When to Use break, continue, and pass\n",
    "break: Use break when you need to completely stop a loop before it finishes all its iterations.\n",
    "    \n",
    "continue: Use continue when you want to skip the current iteration and move on to the next one.\n",
    "    \n",
    "pass: Use pass as a placeholder for future code or when you want to do nothing in a block of code."
   ]
  },
  {
   "cell_type": "markdown",
   "id": "7cc3df01-9858-4229-b49b-3959cbf0e64b",
   "metadata": {},
   "source": [
    "### Summary of break, continue, and pass\n",
    "break: Stops the loop entirely.\n",
    "\n",
    "continue: Skips the rest of the current loop iteration and continues with the next one.\n",
    "\n",
    "pass: Does nothing, often used as a placeholder for code to be added later.\n",
    "\n",
    "These statements are helpful in controlling the flow of loops and making your code more dynamic and responsive."
   ]
  },
  {
   "cell_type": "markdown",
   "id": "58d57c1f-bdb3-412d-af15-41fea65a9228",
   "metadata": {},
   "source": [
    "### Practice Question\n",
    "\n",
    "1. Write a program that simulates a login system where the user gets three attempts to enter the correct password. Use break to exit the loop if the user enters the correct password before the third attempt.\n",
    "2. Write a program that uses nested for loops to print pairs of numbers (i, j) where i ranges from 1 to 3 and j ranges from 1 to 3. Use break to exit the inner loop when j == 2.\n",
    "3. Write a Python program that uses a while loop to print numbers from 1 to 5, but skips the number 3 using the continue statement."
   ]
  },
  {
   "cell_type": "code",
   "execution_count": null,
   "id": "febfe87b-52bb-48c0-a915-968900cc83c6",
   "metadata": {},
   "outputs": [],
   "source": []
  }
 ],
 "metadata": {
  "kernelspec": {
   "display_name": "Python 3 (ipykernel)",
   "language": "python",
   "name": "python3"
  },
  "language_info": {
   "codemirror_mode": {
    "name": "ipython",
    "version": 3
   },
   "file_extension": ".py",
   "mimetype": "text/x-python",
   "name": "python",
   "nbconvert_exporter": "python",
   "pygments_lexer": "ipython3",
   "version": "3.12.4"
  }
 },
 "nbformat": 4,
 "nbformat_minor": 5
}
