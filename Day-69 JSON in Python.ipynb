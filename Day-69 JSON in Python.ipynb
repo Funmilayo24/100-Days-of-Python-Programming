{
 "cells": [
  {
   "cell_type": "markdown",
   "id": "5fca1575",
   "metadata": {},
   "source": [
    "#### Day 69 of Python Programming"
   ]
  },
  {
   "cell_type": "markdown",
   "id": "f5172470",
   "metadata": {},
   "source": [
    "## Working with JSON in Python\n",
    "JSON (JavaScript Object Notation) is a lightweight data-interchange format that is easy for humans to read and write, and easy for machines to parse and generate. Python provides a built-in library, json, to work with JSON data.\n",
    "\n",
    "### What You'll Learn\n",
    "What JSON is and its structure.\n",
    "How to parse JSON data in Python.\n",
    "How to convert Python objects into JSON.\n",
    "Working with JSON files.\n",
    "Pretty-printing JSON."
   ]
  },
  {
   "cell_type": "markdown",
   "id": "3b1f72a3",
   "metadata": {},
   "source": [
    "### JSON Basics\n",
    "JSON data is represented as key-value pairs, similar to Python dictionaries. Here's an example:"
   ]
  },
  {
   "cell_type": "code",
   "execution_count": null,
   "id": "59c0d408",
   "metadata": {},
   "outputs": [],
   "source": [
    "{\n",
    "    \"name\": \"Alice\",\n",
    "    \"age\": 25,\n",
    "    \"is_student\": false,\n",
    "    \"hobbies\": [\"reading\", \"cycling\"],\n",
    "    \"address\": {\n",
    "        \"city\": \"New York\",\n",
    "        \"zip_code\": \"10001\"\n",
    "    }\n",
    "}\n"
   ]
  },
  {
   "cell_type": "markdown",
   "id": "adcb5375",
   "metadata": {},
   "source": [
    "### 1. Importing the JSON Module\n",
    "Python has a built-in module called json that allows you to work with JSON data."
   ]
  },
  {
   "cell_type": "code",
   "execution_count": 2,
   "id": "c9efeff9",
   "metadata": {},
   "outputs": [],
   "source": [
    "import json\n"
   ]
  },
  {
   "cell_type": "markdown",
   "id": "8e321367",
   "metadata": {},
   "source": [
    "### 2. Parsing JSON Data\n",
    "You can convert JSON strings into Python dictionaries using json.loads().\n",
    "\n",
    "Example:"
   ]
  },
  {
   "cell_type": "code",
   "execution_count": 3,
   "id": "9c3b76c7",
   "metadata": {},
   "outputs": [
    {
     "name": "stdout",
     "output_type": "stream",
     "text": [
      "{'name': 'Alice', 'age': 25, 'is_student': False}\n",
      "Alice\n"
     ]
    }
   ],
   "source": [
    "# JSON string\n",
    "json_data = '{\"name\": \"Alice\", \"age\": 25, \"is_student\": false}'\n",
    "\n",
    "# Parse JSON string\n",
    "parsed_data = json.loads(json_data)\n",
    "\n",
    "print(parsed_data)          \n",
    "print(parsed_data['name'])  \n"
   ]
  },
  {
   "cell_type": "markdown",
   "id": "56ba9362",
   "metadata": {},
   "source": [
    "### 3. Converting Python Objects to JSON\n",
    "You can convert Python objects (like dictionaries) into JSON strings using json.dumps().\n",
    "\n",
    "Example:"
   ]
  },
  {
   "cell_type": "code",
   "execution_count": 4,
   "id": "3cb0edcf",
   "metadata": {},
   "outputs": [
    {
     "name": "stdout",
     "output_type": "stream",
     "text": [
      "{\"name\": \"Bob\", \"age\": 30, \"is_employed\": true}\n"
     ]
    }
   ],
   "source": [
    "python_data = {\n",
    "    \"name\": \"Bob\",\n",
    "    \"age\": 30,\n",
    "    \"is_employed\": True\n",
    "}\n",
    "\n",
    "# Convert Python object to JSON string\n",
    "json_string = json.dumps(python_data)\n",
    "\n",
    "print(json_string) "
   ]
  },
  {
   "cell_type": "markdown",
   "id": "43a5a730",
   "metadata": {},
   "source": [
    "#### Adding Formatting:\n",
    "You can pretty-print the JSON string with the indent parameter."
   ]
  },
  {
   "cell_type": "code",
   "execution_count": 5,
   "id": "27fd77b8",
   "metadata": {},
   "outputs": [
    {
     "name": "stdout",
     "output_type": "stream",
     "text": [
      "{\n",
      "    \"name\": \"Bob\",\n",
      "    \"age\": 30,\n",
      "    \"is_employed\": true\n",
      "}\n"
     ]
    }
   ],
   "source": [
    "pretty_json = json.dumps(python_data, indent=4)\n",
    "print(pretty_json)\n"
   ]
  },
  {
   "cell_type": "markdown",
   "id": "ffb6103e",
   "metadata": {},
   "source": [
    "### 4. Handling JSON Errors\n",
    "Always handle potential errors when working with JSON data, especially when parsing or loading files."
   ]
  },
  {
   "cell_type": "code",
   "execution_count": 6,
   "id": "e578300d",
   "metadata": {},
   "outputs": [
    {
     "name": "stdout",
     "output_type": "stream",
     "text": [
      "Error decoding JSON: Unterminated string starting at: line 1 column 10 (char 9)\n"
     ]
    }
   ],
   "source": [
    "try:\n",
    "    data = json.loads('{\"name\": \"Invalid JSON}')\n",
    "except json.JSONDecodeError as e:\n",
    "    print(f\"Error decoding JSON: {e}\")\n"
   ]
  },
  {
   "cell_type": "markdown",
   "id": "a2b630c6",
   "metadata": {},
   "source": [
    "### 5 Real-World Use Case\n",
    "Let's create a small project that stores user information in a JSON file and retrieves it.\n",
    "\n",
    "Code:"
   ]
  },
  {
   "cell_type": "code",
   "execution_count": 7,
   "id": "7ae76f9f",
   "metadata": {},
   "outputs": [
    {
     "name": "stdout",
     "output_type": "stream",
     "text": [
      "File not found. Returning empty data.\n",
      "Enter your name: Funmilayo\n",
      "Enter your age: 98\n",
      "Data saved successfully!\n"
     ]
    }
   ],
   "source": [
    "import json\n",
    "\n",
    "def save_user_data(filename, user_data):\n",
    "    with open(filename, 'w') as file:\n",
    "        json.dump(user_data, file, indent=4)\n",
    "    print(\"Data saved successfully!\")\n",
    "\n",
    "def load_user_data(filename):\n",
    "    try:\n",
    "        with open(filename, 'r') as file:\n",
    "            data = json.load(file)\n",
    "            return data\n",
    "    except FileNotFoundError:\n",
    "        print(\"File not found. Returning empty data.\")\n",
    "        return {}\n",
    "\n",
    "# Example usage\n",
    "filename = 'users.json'\n",
    "user_data = load_user_data(filename)\n",
    "\n",
    "name = input(\"Enter your name: \")\n",
    "age = int(input(\"Enter your age: \"))\n",
    "user_data[name] = {\"age\": age}\n",
    "\n",
    "save_user_data(filename, user_data)\n"
   ]
  },
  {
   "cell_type": "markdown",
   "id": "8eb7ceaf",
   "metadata": {},
   "source": [
    "### Summary\n",
    "JSON is a lightweight format to exchange data between applications.\n",
    "\n",
    "Use json.loads() and json.dumps() for string conversions.\n",
    "\n",
    "Use json.load() and json.dump() for file operations.\n",
    "\n",
    "Pretty-print JSON using indent.\n",
    "\n",
    "JSON is an essential tool for Python developers, especially when working with APIs or storing configuration data. Experiment with the json module and explore its versatility!"
   ]
  },
  {
   "cell_type": "code",
   "execution_count": null,
   "id": "02763218",
   "metadata": {},
   "outputs": [],
   "source": []
  }
 ],
 "metadata": {
  "kernelspec": {
   "display_name": "Python 3 (ipykernel)",
   "language": "python",
   "name": "python3"
  },
  "language_info": {
   "codemirror_mode": {
    "name": "ipython",
    "version": 3
   },
   "file_extension": ".py",
   "mimetype": "text/x-python",
   "name": "python",
   "nbconvert_exporter": "python",
   "pygments_lexer": "ipython3",
   "version": "3.11.5"
  }
 },
 "nbformat": 4,
 "nbformat_minor": 5
}
