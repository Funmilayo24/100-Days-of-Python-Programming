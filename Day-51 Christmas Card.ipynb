{
 "cells": [
  {
   "cell_type": "markdown",
   "id": "4dac815d-9845-4c77-a585-9f2a1f390e25",
   "metadata": {},
   "source": [
    "### Day 51 of python programming "
   ]
  },
  {
   "cell_type": "markdown",
   "id": "46578a90-972a-44d2-b6d0-0b2f24dc27c5",
   "metadata": {},
   "source": [
    "## Digital Christmas Card (with Image and Festive Fonts)"
   ]
  },
  {
   "cell_type": "code",
   "execution_count": 1,
   "id": "f1f5764f-9007-4282-bd0c-fe12de246e32",
   "metadata": {},
   "outputs": [],
   "source": [
    "import tkinter as tk\n",
    "from PIL import Image, ImageTk\n",
    "\n",
    "# Create the window\n",
    "root = tk.Tk()\n",
    "root.title(\"Christmas Card\")\n",
    "root.geometry(\"800x800\")\n",
    "root.configure(bg=\"dark green\")\n",
    "\n",
    "# Load and display an image\n",
    "try:\n",
    "    image = Image.open(\"christmas_image.jpg\")\n",
    "    image = image.resize((500, 500), Image.LANCZOS)\n",
    "    photo = ImageTk.PhotoImage(image)\n",
    "except FileNotFoundError:\n",
    "    print(\"Image file not found. Please check the path.\")\n",
    "    root.destroy()\n",
    "    raise\n",
    "\n",
    "# Display image with a reference stored in the Label widget to prevent garbage collection\n",
    "image_label = tk.Label(root, image=photo, bg=\"dark green\")\n",
    "image_label.image = photo  # Keep reference in the label itself\n",
    "image_label.pack(pady=10)\n",
    "\n",
    "# Title Label\n",
    "title_label = tk.Label(root, text=\"Season's Greetings!\", font=(\"Helvetica\", 24, \"bold\"), fg=\"gold\", bg=\"dark green\")\n",
    "title_label.pack()\n",
    "\n",
    "# Message Label\n",
    "message_label = tk.Label(\n",
    "    root, text=\"Wishing you all the joy and warmth of the season.\\nMay your holidays be merry and bright!\",\n",
    "    font=(\"Helvetica\", 14), fg=\"white\", bg=\"dark green\"\n",
    ")\n",
    "message_label.pack(pady=20)\n",
    "\n",
    "# Close button\n",
    "close_button = tk.Button(root, text=\"Close Card\", command=root.destroy, bg=\"red\", fg=\"white\")\n",
    "close_button.pack(pady=5)\n",
    "\n",
    "root.mainloop()\n"
   ]
  },
  {
   "cell_type": "code",
   "execution_count": null,
   "id": "fdc82286",
   "metadata": {},
   "outputs": [],
   "source": []
  }
 ],
 "metadata": {
  "kernelspec": {
   "display_name": "Python 3 (ipykernel)",
   "language": "python",
   "name": "python3"
  },
  "language_info": {
   "codemirror_mode": {
    "name": "ipython",
    "version": 3
   },
   "file_extension": ".py",
   "mimetype": "text/x-python",
   "name": "python",
   "nbconvert_exporter": "python",
   "pygments_lexer": "ipython3",
   "version": "3.11.5"
  }
 },
 "nbformat": 4,
 "nbformat_minor": 5
}
