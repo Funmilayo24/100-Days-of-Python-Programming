{
 "cells": [
  {
   "cell_type": "markdown",
   "id": "8e2bf090-9d39-4fc0-8f71-5aba7e2698f1",
   "metadata": {},
   "source": [
    "#### Day 32 of Python Programming"
   ]
  },
  {
   "cell_type": "markdown",
   "id": "ae1fe3ee-8428-475e-ba6f-882be29ab286",
   "metadata": {},
   "source": [
    "##  Reading Data with Pandas: CSV"
   ]
  },
  {
   "cell_type": "markdown",
   "id": "baeb6efc-99aa-44d0-8728-0255fab1f7bd",
   "metadata": {},
   "source": [
    "### Introduction:\n",
    "Pandas is a powerful tool for reading and manipulating structured data like CSV, Excel, or even databases. The most common data source is the CSV format.\n",
    "\n",
    "### Step 1: Reading CSV Files\n",
    "The most common function for loading data into pandas is read_csv()."
   ]
  },
  {
   "cell_type": "code",
   "execution_count": 10,
   "id": "b62f30ce-b550-40de-83e8-e872a986af03",
   "metadata": {},
   "outputs": [
    {
     "name": "stdout",
     "output_type": "stream",
     "text": [
      "    Name   Age       City Occupation  Salary($)\n",
      "0   John  32.0      Lagos     Doctor     2000.0\n",
      "1   Mary  27.0  Frankfurt      Nurse     1500.0\n",
      "2  Felix  42.0       Bonn     Lawyer     2800.0\n",
      "3   Marc  45.0     Jersey     Lawyer     4000.0\n",
      "4   Anna  32.0       Abia    Teacher     1200.0\n"
     ]
    },
    {
     "data": {
      "text/html": [
       "<div>\n",
       "<style scoped>\n",
       "    .dataframe tbody tr th:only-of-type {\n",
       "        vertical-align: middle;\n",
       "    }\n",
       "\n",
       "    .dataframe tbody tr th {\n",
       "        vertical-align: top;\n",
       "    }\n",
       "\n",
       "    .dataframe thead th {\n",
       "        text-align: right;\n",
       "    }\n",
       "</style>\n",
       "<table border=\"1\" class=\"dataframe\">\n",
       "  <thead>\n",
       "    <tr style=\"text-align: right;\">\n",
       "      <th></th>\n",
       "      <th>Name</th>\n",
       "      <th>Age</th>\n",
       "      <th>City</th>\n",
       "      <th>Occupation</th>\n",
       "      <th>Salary($)</th>\n",
       "    </tr>\n",
       "  </thead>\n",
       "  <tbody>\n",
       "    <tr>\n",
       "      <th>0</th>\n",
       "      <td>John</td>\n",
       "      <td>32.0</td>\n",
       "      <td>Lagos</td>\n",
       "      <td>Doctor</td>\n",
       "      <td>2000.0</td>\n",
       "    </tr>\n",
       "    <tr>\n",
       "      <th>1</th>\n",
       "      <td>Mary</td>\n",
       "      <td>27.0</td>\n",
       "      <td>Frankfurt</td>\n",
       "      <td>Nurse</td>\n",
       "      <td>1500.0</td>\n",
       "    </tr>\n",
       "    <tr>\n",
       "      <th>2</th>\n",
       "      <td>Felix</td>\n",
       "      <td>42.0</td>\n",
       "      <td>Bonn</td>\n",
       "      <td>Lawyer</td>\n",
       "      <td>2800.0</td>\n",
       "    </tr>\n",
       "    <tr>\n",
       "      <th>3</th>\n",
       "      <td>Marc</td>\n",
       "      <td>45.0</td>\n",
       "      <td>Jersey</td>\n",
       "      <td>Lawyer</td>\n",
       "      <td>4000.0</td>\n",
       "    </tr>\n",
       "    <tr>\n",
       "      <th>4</th>\n",
       "      <td>Anna</td>\n",
       "      <td>32.0</td>\n",
       "      <td>Abia</td>\n",
       "      <td>Teacher</td>\n",
       "      <td>1200.0</td>\n",
       "    </tr>\n",
       "    <tr>\n",
       "      <th>5</th>\n",
       "      <td>Linc</td>\n",
       "      <td>NaN</td>\n",
       "      <td>Cologne</td>\n",
       "      <td>Pilot</td>\n",
       "      <td>4000.0</td>\n",
       "    </tr>\n",
       "    <tr>\n",
       "      <th>6</th>\n",
       "      <td>Sarah</td>\n",
       "      <td>35.0</td>\n",
       "      <td>NaN</td>\n",
       "      <td>Manager</td>\n",
       "      <td>3500.0</td>\n",
       "    </tr>\n",
       "    <tr>\n",
       "      <th>7</th>\n",
       "      <td>Derek</td>\n",
       "      <td>49.0</td>\n",
       "      <td>Paris</td>\n",
       "      <td>NaN</td>\n",
       "      <td>2000.0</td>\n",
       "    </tr>\n",
       "    <tr>\n",
       "      <th>8</th>\n",
       "      <td>Mark</td>\n",
       "      <td>50.0</td>\n",
       "      <td>Russia</td>\n",
       "      <td>Banker</td>\n",
       "      <td>3400.0</td>\n",
       "    </tr>\n",
       "    <tr>\n",
       "      <th>9</th>\n",
       "      <td>Kelvin</td>\n",
       "      <td>34.0</td>\n",
       "      <td>New York</td>\n",
       "      <td>Plumber</td>\n",
       "      <td>1500.0</td>\n",
       "    </tr>\n",
       "    <tr>\n",
       "      <th>10</th>\n",
       "      <td>Tim</td>\n",
       "      <td>23.0</td>\n",
       "      <td>NaN</td>\n",
       "      <td>Dancer</td>\n",
       "      <td>2000.0</td>\n",
       "    </tr>\n",
       "    <tr>\n",
       "      <th>11</th>\n",
       "      <td>Cooper</td>\n",
       "      <td>24.0</td>\n",
       "      <td>Abuja</td>\n",
       "      <td>Youtuber</td>\n",
       "      <td>NaN</td>\n",
       "    </tr>\n",
       "    <tr>\n",
       "      <th>12</th>\n",
       "      <td>Matt</td>\n",
       "      <td>76.0</td>\n",
       "      <td>Italy</td>\n",
       "      <td>Retired</td>\n",
       "      <td>NaN</td>\n",
       "    </tr>\n",
       "    <tr>\n",
       "      <th>13</th>\n",
       "      <td>Ben</td>\n",
       "      <td>43.0</td>\n",
       "      <td>Russia</td>\n",
       "      <td>Enginner</td>\n",
       "      <td>5000.0</td>\n",
       "    </tr>\n",
       "  </tbody>\n",
       "</table>\n",
       "</div>"
      ],
      "text/plain": [
       "      Name   Age       City Occupation  Salary($)\n",
       "0     John  32.0      Lagos     Doctor     2000.0\n",
       "1     Mary  27.0  Frankfurt      Nurse     1500.0\n",
       "2    Felix  42.0       Bonn     Lawyer     2800.0\n",
       "3     Marc  45.0     Jersey     Lawyer     4000.0\n",
       "4     Anna  32.0       Abia    Teacher     1200.0\n",
       "5     Linc   NaN    Cologne      Pilot     4000.0\n",
       "6    Sarah  35.0        NaN    Manager     3500.0\n",
       "7    Derek  49.0      Paris        NaN     2000.0\n",
       "8     Mark  50.0     Russia     Banker     3400.0\n",
       "9   Kelvin  34.0   New York    Plumber     1500.0\n",
       "10     Tim  23.0        NaN     Dancer     2000.0\n",
       "11  Cooper  24.0      Abuja   Youtuber        NaN\n",
       "12    Matt  76.0      Italy    Retired        NaN\n",
       "13     Ben  43.0     Russia   Enginner     5000.0"
      ]
     },
     "execution_count": 10,
     "metadata": {},
     "output_type": "execute_result"
    }
   ],
   "source": [
    "import pandas as pd\n",
    "\n",
    "# Reading a CSV file\n",
    "df = pd.read_csv('samplefile.csv', delimiter= ';')\n",
    "\n",
    "# Displaying the first few rows\n",
    "print(df.head())\n",
    "df"
   ]
  },
  {
   "cell_type": "markdown",
   "id": "0d4a4bdc-0c7c-4ab0-b814-f05542f31311",
   "metadata": {},
   "source": [
    "### Basic DataFrame Operations"
   ]
  },
  {
   "cell_type": "code",
   "execution_count": 11,
   "id": "b57f5770-6431-4e61-a3d4-4ceb474a6018",
   "metadata": {},
   "outputs": [
    {
     "name": "stdout",
     "output_type": "stream",
     "text": [
      "      Name   Age      City Occupation  Salary($)\n",
      "9   Kelvin  34.0  New York    Plumber     1500.0\n",
      "10     Tim  23.0       NaN     Dancer     2000.0\n",
      "11  Cooper  24.0     Abuja   Youtuber        NaN\n",
      "12    Matt  76.0     Italy    Retired        NaN\n",
      "13     Ben  43.0    Russia   Enginner     5000.0\n",
      "(14, 5)\n",
      "Index(['Name', 'Age', 'City', 'Occupation', 'Salary($)'], dtype='object')\n",
      "RangeIndex(start=0, stop=14, step=1)\n",
      "0       John\n",
      "1       Mary\n",
      "2      Felix\n",
      "3       Marc\n",
      "4       Anna\n",
      "5       Linc\n",
      "6      Sarah\n",
      "7      Derek\n",
      "8       Mark\n",
      "9     Kelvin\n",
      "10       Tim\n",
      "11    Cooper\n",
      "12      Matt\n",
      "13       Ben\n",
      "Name: Name, dtype: object\n",
      "      Name   Age\n",
      "0     John  32.0\n",
      "1     Mary  27.0\n",
      "2    Felix  42.0\n",
      "3     Marc  45.0\n",
      "4     Anna  32.0\n",
      "5     Linc   NaN\n",
      "6    Sarah  35.0\n",
      "7    Derek  49.0\n",
      "8     Mark  50.0\n",
      "9   Kelvin  34.0\n",
      "10     Tim  23.0\n",
      "11  Cooper  24.0\n",
      "12    Matt  76.0\n",
      "13     Ben  43.0\n"
     ]
    }
   ],
   "source": [
    "print(df.tail())  # Displays the last 5 rows by default\n",
    "print(df.shape)  # Prints (number of rows, number of columns)\n",
    "print(df.columns)  # Prints the column names\n",
    "print(df.index)  # Prints the index\n",
    "print(df['Name'])  # Prints the 'Name' column\n",
    "print(df[['Name', 'Age']])  # Prints 'Name' and 'Age' columns"
   ]
  },
  {
   "cell_type": "markdown",
   "id": "5fd82007-f99b-4e8f-82c8-744c56ea8c10",
   "metadata": {},
   "source": [
    "### Aggregation and Grouping"
   ]
  },
  {
   "cell_type": "code",
   "execution_count": 14,
   "id": "c560e6fb-739c-4bd2-8cc5-965cdea3c0a9",
   "metadata": {},
   "outputs": [
    {
     "name": "stdout",
     "output_type": "stream",
     "text": [
      "39.38461538461539\n",
      "35.0\n",
      "14.180611537932473\n"
     ]
    }
   ],
   "source": [
    "print(df['Age'].mean())  # Mean of 'Age'\n",
    "print(df['Age'].median())  # Median of 'Age'\n",
    "print(df['Age'].std())  # Standard deviation of 'Age'"
   ]
  },
  {
   "cell_type": "markdown",
   "id": "0f47ae21-a49b-42c6-8426-0e45caa33582",
   "metadata": {},
   "source": [
    "### Practice Questions:\n",
    "Load a CSV file into pandas and print the first 5 rows.\n",
    "\n",
    "Read an Excel file and display the last 10 rows.\n",
    "\n",
    "Load data from a JSON file and show its columns."
   ]
  }
 ],
 "metadata": {
  "kernelspec": {
   "display_name": "Python 3 (ipykernel)",
   "language": "python",
   "name": "python3"
  },
  "language_info": {
   "codemirror_mode": {
    "name": "ipython",
    "version": 3
   },
   "file_extension": ".py",
   "mimetype": "text/x-python",
   "name": "python",
   "nbconvert_exporter": "python",
   "pygments_lexer": "ipython3",
   "version": "3.12.4"
  }
 },
 "nbformat": 4,
 "nbformat_minor": 5
}
