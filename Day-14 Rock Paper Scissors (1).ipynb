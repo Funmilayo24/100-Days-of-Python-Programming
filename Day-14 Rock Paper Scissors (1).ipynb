{
 "cells": [
  {
   "cell_type": "markdown",
   "id": "7c0d2b87-0264-4043-8ae7-b4d672f573cc",
   "metadata": {},
   "source": [
    "### Day 14 of programming"
   ]
  },
  {
   "cell_type": "markdown",
   "id": "e3d9fb3f-52bf-45e1-8f4f-18ea9c04391c",
   "metadata": {},
   "source": [
    "### Rock, Paper, Scissors Game\n",
    "Objective: Write a program where the user plays \"rock, paper, scissors\" against the computer.\n",
    "\n",
    "Steps:\n",
    "\n",
    "Use random.choice() to have the computer randomly choose rock, paper, or scissors.\n",
    "\n",
    "Compare the player's choice with the computer’s choice to determine the winner."
   ]
  },
  {
   "cell_type": "code",
   "execution_count": 2,
   "id": "00fe74bc-1b73-4e06-8d31-086ca0d9fc2d",
   "metadata": {},
   "outputs": [
    {
     "name": "stdin",
     "output_type": "stream",
     "text": [
      "Enter rock, paper, or scissors:  paper\n"
     ]
    },
    {
     "name": "stdout",
     "output_type": "stream",
     "text": [
      "Both chose paper. It's a tie!\n"
     ]
    }
   ],
   "source": [
    "import random\n",
    "\n",
    "choices = ['rock', 'paper', 'scissors']\n",
    "computer_choice = random.choice(choices)\n",
    "user_choice = input(\"Enter rock, paper, or scissors: \").lower()\n",
    "\n",
    "if user_choice == computer_choice:\n",
    "    print(f\"Both chose {user_choice}. It's a tie!\")\n",
    "elif (user_choice == 'rock' and computer_choice == 'scissors') or \\\n",
    "     (user_choice == 'scissors' and computer_choice == 'paper') or \\\n",
    "     (user_choice == 'paper' and computer_choice == 'rock'):\n",
    "    print(f\"You win! {user_choice} beats {computer_choice}\")\n",
    "else:\n",
    "    print(f\"You lose! {computer_choice} beats {user_choice}\")\n"
   ]
  },
  {
   "cell_type": "code",
   "execution_count": null,
   "id": "e13e55e5-bf9b-4014-8eed-a1677d52a326",
   "metadata": {},
   "outputs": [],
   "source": []
  }
 ],
 "metadata": {
  "kernelspec": {
   "display_name": "Python 3 (ipykernel)",
   "language": "python",
   "name": "python3"
  },
  "language_info": {
   "codemirror_mode": {
    "name": "ipython",
    "version": 3
   },
   "file_extension": ".py",
   "mimetype": "text/x-python",
   "name": "python",
   "nbconvert_exporter": "python",
   "pygments_lexer": "ipython3",
   "version": "3.12.4"
  }
 },
 "nbformat": 4,
 "nbformat_minor": 5
}
