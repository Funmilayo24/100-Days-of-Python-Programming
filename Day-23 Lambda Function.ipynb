{
 "cells": [
  {
   "cell_type": "markdown",
   "id": "bc76df6e-3ca0-47e8-b156-8df2f0e06c84",
   "metadata": {},
   "source": [
    "### Day 23 days of programming"
   ]
  },
  {
   "cell_type": "markdown",
   "id": "bcd52f54-5095-46e9-bce4-8a40627d1e7f",
   "metadata": {},
   "source": [
    "## Lambda Functions in Python\n",
    "Introduction\n",
    "\n",
    "Lambda functions, also known as anonymous functions, are a feature in Python that allows you to create small, one-off functions without needing to name them. They are useful for situations where you need a short function for a short period of time and don’t want to formally define a function using def.\n",
    "\n",
    "### 1. Basic Syntax\n",
    "The syntax of a lambda function is as follows:"
   ]
  },
  {
   "cell_type": "code",
   "execution_count": null,
   "id": "aa533281-c18b-4a28-acc6-59b483b2cd36",
   "metadata": {},
   "outputs": [],
   "source": [
    "lambda arguments: expression\n"
   ]
  },
  {
   "cell_type": "markdown",
   "id": "4daa5d1d-cda2-4e75-a105-1e4a3a8868b6",
   "metadata": {},
   "source": [
    "lambda is the keyword used to define an anonymous function.\n",
    "\n",
    "arguments are the parameters that the function takes (just like in a normal function).\n",
    "\n",
    "expression is a single expression that the function evaluates and returns.\n",
    "\n",
    "### Example\n",
    "Here’s a simple example of a lambda function that adds two numbers:"
   ]
  },
  {
   "cell_type": "code",
   "execution_count": 1,
   "id": "bc9547da-5736-497a-9b9c-9f292ab196ca",
   "metadata": {},
   "outputs": [
    {
     "name": "stdout",
     "output_type": "stream",
     "text": [
      "8\n"
     ]
    }
   ],
   "source": [
    "add = lambda x, y: x + y\n",
    "print(add(5, 3))  # Output: 8\n"
   ]
  },
  {
   "cell_type": "markdown",
   "id": "d31076fa-3b69-4510-a501-8cebb135fdf0",
   "metadata": {},
   "source": [
    "#### In this example:\n",
    "\n",
    "lambda x, y defines a lambda function with parameters x and y.\n",
    "\n",
    "x + y is the expression that calculates the sum.\n",
    "\n",
    "Calling add(5, 3) returns 8.\n",
    "### 2. Limitations\n",
    "Single Expression: Lambda functions are limited to a single expression. They cannot contain multiple statements or complex operations."
   ]
  },
  {
   "cell_type": "code",
   "execution_count": 3,
   "id": "4647b360-666a-433e-a5e9-7056a7c23702",
   "metadata": {},
   "outputs": [
    {
     "ename": "NameError",
     "evalue": "name 'x' is not defined",
     "output_type": "error",
     "traceback": [
      "\u001b[1;31m---------------------------------------------------------------------------\u001b[0m",
      "\u001b[1;31mNameError\u001b[0m                                 Traceback (most recent call last)",
      "Cell \u001b[1;32mIn[3], line 2\u001b[0m\n\u001b[0;32m      1\u001b[0m \u001b[38;5;66;03m# This will raise a SyntaxError\u001b[39;00m\n\u001b[1;32m----> 2\u001b[0m add \u001b[38;5;241m=\u001b[39m \u001b[38;5;28;01mlambda\u001b[39;00m x: x \u001b[38;5;241m+\u001b[39m \u001b[38;5;241m1\u001b[39m; x \u001b[38;5;241m*\u001b[39m \u001b[38;5;241m2\u001b[39m\n\u001b[0;32m      3\u001b[0m \u001b[38;5;28mprint\u001b[39m(add(\u001b[38;5;241m3\u001b[39m))\n",
      "\u001b[1;31mNameError\u001b[0m: name 'x' is not defined"
     ]
    }
   ],
   "source": [
    "# This will raise a SyntaxError\n",
    "add = lambda x: x + 1; x * 2\n",
    "print(add(3))"
   ]
  },
  {
   "cell_type": "markdown",
   "id": "653c653c-5e3d-4e50-9a50-aa1cc45324a3",
   "metadata": {},
   "source": [
    "### Readability: Overusing lambda functions or using them in complex scenarios can make code less readable.\n",
    "\n",
    "### 3. Comparison with Regular Functions\n",
    "While lambda functions are concise, they are not a substitute for regular functions when more complexity is involved.\n",
    "\n",
    "#### Lambda Function Example:"
   ]
  },
  {
   "cell_type": "code",
   "execution_count": 4,
   "id": "d19974a1-1e7f-4de7-8194-9a8363c06547",
   "metadata": {},
   "outputs": [
    {
     "name": "stdout",
     "output_type": "stream",
     "text": [
      "20\n"
     ]
    }
   ],
   "source": [
    "multiply = lambda x, y: x * y\n",
    "print(multiply(4, 5))  # Output: 20\n"
   ]
  },
  {
   "cell_type": "markdown",
   "id": "61ca759c-04d7-4b47-a714-819076e422bb",
   "metadata": {},
   "source": [
    "### Regular Function Example"
   ]
  },
  {
   "cell_type": "code",
   "execution_count": 5,
   "id": "cac0911c-873d-4e21-bee6-81d8705b4f5a",
   "metadata": {},
   "outputs": [
    {
     "name": "stdout",
     "output_type": "stream",
     "text": [
      "20\n"
     ]
    }
   ],
   "source": [
    "def multiply(x, y):\n",
    "    return x * y\n",
    "\n",
    "print(multiply(4, 5))  # Output: 20\n"
   ]
  },
  {
   "cell_type": "markdown",
   "id": "a1b17cf8-82e1-4a65-b070-0a2136370edf",
   "metadata": {},
   "source": [
    "###  Practice Questions\n",
    "Basic Lambda: Write a lambda function that takes a number and returns its square.\n",
    "\n",
    "Lambda with One Argument: Create a lambda function that takes a single string argument and returns its length.\n",
    "\n",
    "Lambda for Comparison: Write a lambda function that compares two numbers and returns the larger one."
   ]
  },
  {
   "cell_type": "code",
   "execution_count": null,
   "id": "46d9d0e5-f766-4a84-b239-cb0194b6bdf6",
   "metadata": {},
   "outputs": [],
   "source": []
  }
 ],
 "metadata": {
  "kernelspec": {
   "display_name": "Python 3 (ipykernel)",
   "language": "python",
   "name": "python3"
  },
  "language_info": {
   "codemirror_mode": {
    "name": "ipython",
    "version": 3
   },
   "file_extension": ".py",
   "mimetype": "text/x-python",
   "name": "python",
   "nbconvert_exporter": "python",
   "pygments_lexer": "ipython3",
   "version": "3.12.4"
  }
 },
 "nbformat": 4,
 "nbformat_minor": 5
}
