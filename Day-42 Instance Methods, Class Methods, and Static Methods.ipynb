{
 "cells": [
  {
   "cell_type": "markdown",
   "id": "d3860b37-916c-441d-b5b2-1fdd2ca2d2ab",
   "metadata": {},
   "source": [
    "### Day 42 of programming"
   ]
  },
  {
   "cell_type": "markdown",
   "id": "54fe1217-a52f-473f-9088-131bb3fe9fce",
   "metadata": {},
   "source": [
    "## Instance Methods, Class Methods, and Static Methods\n",
    "On Day 42, we will expand our understanding of Python classes by exploring different types of methods: instance methods, class methods, and static methods. These methods provide us with different ways of working with class data and behavior.\n",
    "\n",
    "### 1. Instance Methods\n",
    "Instance methods are the most commonly used methods in Python classes. These methods:\n",
    "\n",
    "Operate on instance attributes.\n",
    "\n",
    "Require the use of the self parameter, which refers to the instance of the class.\n",
    "\n",
    "Example of Instance Methods\n",
    "Let's modify the Dog class from Day 41 to demonstrate how instance methods work:"
   ]
  },
  {
   "cell_type": "code",
   "execution_count": 1,
   "id": "8c1be2d6-9bdf-4227-bdbb-31522b55023d",
   "metadata": {},
   "outputs": [
    {
     "name": "stdout",
     "output_type": "stream",
     "text": [
      "The 6 year old Husky says woof!\n",
      "The 6 year old Husky eats biscuit!\n"
     ]
    }
   ],
   "source": [
    "class Dog:\n",
    "    def __init__(self, breed, age):\n",
    "        self.breed = breed\n",
    "        self.age = age\n",
    "\n",
    "    # instance for barking\n",
    "    def bark(self):\n",
    "        print(f\"The {self.age} year old {self.breed} says woof!\")\n",
    "\n",
    "    # instance for eating\n",
    "    def eat(self):\n",
    "        print(f\"The {self.age} year old {self.breed} eats biscuit!\")\n",
    "\n",
    "my_dog = Dog(\"Husky\", 6)\n",
    "my_dog.bark()  \n",
    "my_dog.eat() "
   ]
  },
  {
   "cell_type": "markdown",
   "id": "c347abbe-4b07-4cc0-b661-ddf86c0333f7",
   "metadata": {},
   "source": [
    "#### HERE; bark(), eat() are instance methods because they access instance attributes self.breed, self.age "
   ]
  },
  {
   "cell_type": "markdown",
   "id": "74d823e9-5f1b-4414-92ab-547e3c732736",
   "metadata": {},
   "source": [
    "### 2. Class Methods\n",
    "Class methods are used when you want a method that works at the class level rather than the instance level. To define a class method, use the @classmethod decorator. The first parameter for class methods is cls, which refers to the class itself.\n",
    "\n",
    "#### When to Use Class Methods:\n",
    "\n",
    "When you need to modify or work with the class itself rather than individual instances.\n",
    "\n",
    "For example, class methods are useful for working with factory methods (methods that create instances in different ways)."
   ]
  },
  {
   "cell_type": "code",
   "execution_count": 1,
   "id": "90b850cf-cef1-46e1-b6fb-e1868fe7b1cf",
   "metadata": {},
   "outputs": [],
   "source": [
    "class Dog:\n",
    "    \n",
    "    total_dogs = 0\n",
    "    \n",
    "    def __init__(self, breed, age):\n",
    "        self.breed = breed\n",
    "        self.age = age\n",
    "        Dog.total_dogs += 1\n",
    "\n",
    "    # instance for barking\n",
    "    def bark(self):\n",
    "        print(f\"The {self.age} year old {self.breed} says woof!\")\n",
    "\n",
    "    # instance for eating\n",
    "    def eat(self):\n",
    "        print(f\"The {self.age} year old {self.breed} eats biscuit!\")\n",
    "        \n",
    "    # Class method to get total dog count\n",
    "    @classmethod\n",
    "    def get_total_dogs(cls):\n",
    "        print(f\"Total dogs: {cls.total_dogs}\") "
   ]
  },
  {
   "cell_type": "markdown",
   "id": "e268bd5c-7629-4e3e-9cc4-bf08625fe145",
   "metadata": {},
   "source": [
    "### The @classmethod decorator is used to define the class method get_total_dogs(). This method accesses the class attribute total_dogs."
   ]
  },
  {
   "cell_type": "code",
   "execution_count": 2,
   "id": "3ba8283f-7d3a-4ea4-b16b-00af503f72fc",
   "metadata": {},
   "outputs": [
    {
     "name": "stdout",
     "output_type": "stream",
     "text": [
      "Total dogs: 2\n"
     ]
    }
   ],
   "source": [
    "# Creating instances\n",
    "dog1 = Dog(\"Husky\", 6)\n",
    "dog2 = Dog(\"BullDog\", 4)\n",
    "\n",
    "# Calling the class method\n",
    "Dog.get_total_dogs()  "
   ]
  },
  {
   "cell_type": "markdown",
   "id": "4ba9caaa-c4b8-4a6b-9368-39b99f32fb32",
   "metadata": {},
   "source": [
    "### 3. Static Methods\n",
    "Static methods are methods that don't require access to the class or its instances. They behave just like regular functions but belong to the class’s namespace. You can define a static method using the @staticmethod decorator.\n",
    "\n",
    "When to Use Static Methods:\n",
    "\n",
    "When you need utility functions that perform some operation but do not need access to class or instance-specific data.\n",
    "\n",
    "Example of Static Methods\n",
    "\n",
    "Let's add a static method to theDog class that performs a simple utility task (like checking whether a given number is even):"
   ]
  },
  {
   "cell_type": "code",
   "execution_count": 2,
   "id": "be9755ac-fa66-40b6-a8b7-6a14861a3492",
   "metadata": {},
   "outputs": [],
   "source": [
    "class Dog:\n",
    "    \n",
    "    total_dogs = 0\n",
    "    \n",
    "    def __init__(self, breed, age):\n",
    "        self.breed = breed\n",
    "        self.age = age\n",
    "        Dog.total_dogs += 1\n",
    "\n",
    "    # instance for barking\n",
    "    def bark(self):\n",
    "        print(f\"The {self.age} year old {self.breed} says woof!\")\n",
    "\n",
    "    # instance for eating\n",
    "    def eat(self):\n",
    "        print(f\"The {self.age} year old {self.breed} eats biscuit!\")\n",
    "        \n",
    "    # Class method to get total dog count\n",
    "    @classmethod\n",
    "    def get_total_dogs(cls):\n",
    "        print(f\"Total dogs: {cls.total_dogs}\") \n",
    "        \n",
    "    @staticmethod\n",
    "    def is_even_age(age):\n",
    "        return age % 2 == 0\n",
    "    \n",
    "    \n"
   ]
  },
  {
   "cell_type": "markdown",
   "id": "b482473d-3ac5-4d8a-a687-8e0ed6ebb6d2",
   "metadata": {},
   "source": [
    "#### The @staticmethod decorator defines the is_even_age() method, which checks whether the provided age is even."
   ]
  },
  {
   "cell_type": "code",
   "execution_count": 3,
   "id": "3a66b9e0-90fd-48bf-b990-9955d2fadac2",
   "metadata": {},
   "outputs": [
    {
     "name": "stdout",
     "output_type": "stream",
     "text": [
      "False\n",
      "True\n"
     ]
    }
   ],
   "source": [
    "# Using static method\n",
    "print(Dog.is_even_age(9))  \n",
    "print(Dog.is_even_age(6))   \n"
   ]
  },
  {
   "cell_type": "markdown",
   "id": "ff903450-717f-47d4-a7bf-1bdfa2a1c535",
   "metadata": {},
   "source": [
    "### Summary\n",
    "Instance methods: Work on individual instances of the class. They have access to the instance’s attributes.\n",
    "    \n",
    "Class methods: Operate at the class level. They use the cls parameter and can modify class attributes.\n",
    "\n",
    "Static methods: Utility methods that do not require access to the instance or class. They are like regular functions placed inside the class."
   ]
  },
  {
   "cell_type": "markdown",
   "id": "53bdac16-3a2c-414b-98f3-c1d821287865",
   "metadata": {},
   "source": [
    "### Practice Question\n",
    "\n",
    "### Create a BankAccount Class:\n",
    "\n",
    "Define a class BankAccount with attributes account_holder, balance, and account_number.\n",
    "\n",
    "Add instance methods for depositing and withdrawing money.\n",
    "\n",
    "Add a class method to return the number of active accounts.\n",
    "\n",
    "Add a static method to validate the account number (it should be a 10-digit number)."
   ]
  },
  {
   "cell_type": "code",
   "execution_count": null,
   "id": "baa0cc53-898e-4769-ad9a-394f5e22db45",
   "metadata": {},
   "outputs": [],
   "source": []
  }
 ],
 "metadata": {
  "kernelspec": {
   "display_name": "Python 3 (ipykernel)",
   "language": "python",
   "name": "python3"
  },
  "language_info": {
   "codemirror_mode": {
    "name": "ipython",
    "version": 3
   },
   "file_extension": ".py",
   "mimetype": "text/x-python",
   "name": "python",
   "nbconvert_exporter": "python",
   "pygments_lexer": "ipython3",
   "version": "3.11.5"
  }
 },
 "nbformat": 4,
 "nbformat_minor": 5
}
