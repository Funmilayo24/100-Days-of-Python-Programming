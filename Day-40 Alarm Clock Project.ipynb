{
 "cells": [
  {
   "cell_type": "markdown",
   "id": "a8f675c9-6aac-4a38-b088-55558716ea87",
   "metadata": {},
   "source": [
    "### Day 40 of Python Programming"
   ]
  },
  {
   "cell_type": "markdown",
   "id": "0982fa00-dcff-47ff-9785-47cb1fed5aa7",
   "metadata": {},
   "source": [
    "## Python Alarm Clock Project"
   ]
  },
  {
   "cell_type": "code",
   "execution_count": 3,
   "id": "88f66179-e207-45b4-bda4-d7dc094ceab7",
   "metadata": {},
   "outputs": [
    {
     "name": "stdout",
     "output_type": "stream",
     "text": [
      "Defaulting to user installation because normal site-packages is not writeable\n",
      "Requirement already satisfied: playsound in c:\\users\\ftobun\\appdata\\roaming\\python\\python312\\site-packages (1.3.0)\n",
      "Note: you may need to restart the kernel to use updated packages.\n"
     ]
    }
   ],
   "source": [
    "pip install playsound"
   ]
  },
  {
   "cell_type": "code",
   "execution_count": 2,
   "id": "8a8787f6-1f5b-41a5-9473-210549dab693",
   "metadata": {},
   "outputs": [
    {
     "name": "stdout",
     "output_type": "stream",
     "text": [
      "Set your alarm (24-hour format):\n"
     ]
    },
    {
     "name": "stdin",
     "output_type": "stream",
     "text": [
      "Hour (0-23):  14\n",
      "Minute (0-59):  40\n",
      "Second (0-59):  00\n"
     ]
    },
    {
     "name": "stdout",
     "output_type": "stream",
     "text": [
      "Alarm set for 14:40:00\n",
      "\n",
      "Wake up! The alarm is ringing!\n",
      "Alarm sound not found. Please add 'alarm.mp3' in the project directory.\n"
     ]
    }
   ],
   "source": [
    "import datetime\n",
    "import time\n",
    "import os\n",
    "from playsound import playsound\n",
    "\n",
    "def set_alarm():\n",
    "    print(\"Set your alarm (24-hour format):\")\n",
    "    alarm_hour = int(input(\"Hour (0-23): \"))\n",
    "    alarm_minute = int(input(\"Minute (0-59): \"))\n",
    "    alarm_second = int(input(\"Second (0-59): \"))\n",
    "    return datetime.time(hour=alarm_hour, minute=alarm_minute, second=alarm_second)\n",
    "\n",
    "def alarm_clock(alarm_time):\n",
    "    print(f\"Alarm set for {alarm_time.strftime('%H:%M:%S')}\")\n",
    "\n",
    "    while True:\n",
    "        now = datetime.datetime.now().time()\n",
    "        if now.hour == alarm_time.hour and now.minute == alarm_time.minute and now.second == alarm_time.second:\n",
    "            print(\"\\nWake up! The alarm is ringing!\")\n",
    "            play_alarm_sound()\n",
    "            break\n",
    "        time.sleep(1)\n",
    "\n",
    "def play_alarm_sound():\n",
    "    sound_file = \"alarm.mp3\"  # Replace with your preferred sound file\n",
    "    if os.path.exists(sound_file):\n",
    "        playsound(sound_file)\n",
    "    else:\n",
    "        print(\"Alarm sound not found. Please add 'alarm.mp3' in the project directory.\")\n",
    "\n",
    "if __name__ == \"__main__\":\n",
    "    alarm_time = set_alarm()\n",
    "    alarm_clock(alarm_time)\n"
   ]
  },
  {
   "cell_type": "markdown",
   "id": "7f6f65c3-bd60-4d07-998b-6a8383cea487",
   "metadata": {},
   "source": [
    "The if __name__ == \"__main__\": construct is a Python best practice that ensures certain parts of the code are executed only when the script is run directly, not when it's imported as a module into another script. "
   ]
  },
  {
   "cell_type": "markdown",
   "id": "347d2f8a-0bf7-4250-af3c-f6b8ef57979d",
   "metadata": {},
   "source": [
    "### Practice Questions:\n",
    "Add a Snooze Feature: Modify the alarm clock so that it offers a snooze button. When clicked, the alarm should be postponed by 5 or 10 minutes.\n",
    "\n",
    "Multiple Alarms: Modify the program to allow setting multiple alarms at once. You could use a list to store multiple alarm times.\n",
    "\n",
    "Alarm Sound Selection: Add functionality that allows the user to select the alarm sound from multiple available options."
   ]
  },
  {
   "cell_type": "code",
   "execution_count": null,
   "id": "1fa2be3b-82e8-4ab1-a45a-8b8e582faeb9",
   "metadata": {},
   "outputs": [],
   "source": []
  }
 ],
 "metadata": {
  "kernelspec": {
   "display_name": "Python 3 (ipykernel)",
   "language": "python",
   "name": "python3"
  },
  "language_info": {
   "codemirror_mode": {
    "name": "ipython",
    "version": 3
   },
   "file_extension": ".py",
   "mimetype": "text/x-python",
   "name": "python",
   "nbconvert_exporter": "python",
   "pygments_lexer": "ipython3",
   "version": "3.12.7"
  }
 },
 "nbformat": 4,
 "nbformat_minor": 5
}
