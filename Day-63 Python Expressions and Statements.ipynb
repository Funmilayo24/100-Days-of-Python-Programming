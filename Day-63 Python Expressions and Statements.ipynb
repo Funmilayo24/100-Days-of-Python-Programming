{
 "cells": [
  {
   "cell_type": "markdown",
   "id": "167450d9",
   "metadata": {},
   "source": [
    "### Day 63 of Python Programming"
   ]
  },
  {
   "cell_type": "markdown",
   "id": "586a8485",
   "metadata": {},
   "source": [
    "## Tutorial: Python Expressions and Statements\n",
    "Understanding expressions and statements is fundamental to mastering Python programming. In this tutorial, we'll explore what they are, how they work, and how to use them effectively in Python.\n",
    "\n",
    "### 1. What is a Statement?\n",
    "A statement in Python is an instruction that the Python interpreter can execute. Statements are the building blocks of a program."
   ]
  },
  {
   "cell_type": "code",
   "execution_count": 1,
   "id": "98b58d88",
   "metadata": {},
   "outputs": [
    {
     "name": "stdout",
     "output_type": "stream",
     "text": [
      "Hello, World!\n",
      "x is greater than 5\n",
      "0\n",
      "1\n",
      "2\n"
     ]
    }
   ],
   "source": [
    "# Assignment statement\n",
    "x = 10  \n",
    "\n",
    "# Function call statement\n",
    "print(\"Hello, World!\")\n",
    "\n",
    "# Conditional statement\n",
    "if x > 5:\n",
    "    print(\"x is greater than 5\")\n",
    "\n",
    "# Loop statement\n",
    "for i in range(3):\n",
    "    print(i)\n"
   ]
  },
  {
   "cell_type": "markdown",
   "id": "b8503cad",
   "metadata": {},
   "source": [
    "### 2. What is an Expression?\n",
    "An expression in Python is a combination of values, variables, operators, and function calls that evaluates to a single value.\n",
    "\n",
    "Examples of Expressions:"
   ]
  },
  {
   "cell_type": "code",
   "execution_count": 2,
   "id": "ef8c3c7d",
   "metadata": {},
   "outputs": [
    {
     "data": {
      "text/plain": [
       "'Hello, World!'"
      ]
     },
     "execution_count": 2,
     "metadata": {},
     "output_type": "execute_result"
    }
   ],
   "source": [
    "# Arithmetic expression\n",
    "5 + 3  \n",
    "\n",
    "# Boolean expression\n",
    "x > 5  \n",
    "\n",
    "# String concatenation expression\n",
    "\"Hello, \" + \"World!\"  \n"
   ]
  },
  {
   "cell_type": "markdown",
   "id": "d8b076d1",
   "metadata": {},
   "source": [
    "#### Key Difference:\n",
    "A statement performs an action, while an expression produces a value."
   ]
  },
  {
   "cell_type": "markdown",
   "id": "6a1323bf",
   "metadata": {},
   "source": [
    "### 3. Expressions in Statements\n",
    "Expressions are often used inside statements. For example:"
   ]
  },
  {
   "cell_type": "code",
   "execution_count": 3,
   "id": "2b3df506",
   "metadata": {},
   "outputs": [
    {
     "name": "stdout",
     "output_type": "stream",
     "text": [
      "The sum is: 16\n"
     ]
    }
   ],
   "source": [
    "# Assignment statement with an expression\n",
    "x = 5 + 3  \n",
    "\n",
    "# Print statement with an expression\n",
    "print(\"The sum is:\", x * 2)  \n"
   ]
  },
  {
   "cell_type": "markdown",
   "id": "7b5656dc",
   "metadata": {},
   "source": [
    "##### Here, 5 + 3 and x * 2 are expressions, while the entire lines are statements"
   ]
  },
  {
   "cell_type": "markdown",
   "id": "c82eba6a",
   "metadata": {},
   "source": [
    "### 4. Types of Statements\n",
    "i. Assignment Statements\n",
    "\n",
    "Used to assign a value to a variable:"
   ]
  },
  {
   "cell_type": "code",
   "execution_count": 4,
   "id": "9d258256",
   "metadata": {},
   "outputs": [],
   "source": [
    "name = \"Alice\"\n",
    "age = 25\n"
   ]
  },
  {
   "cell_type": "markdown",
   "id": "28bdb835",
   "metadata": {},
   "source": [
    "ii. Conditional Statements\n",
    "\n",
    "Used to perform actions based on a condition:"
   ]
  },
  {
   "cell_type": "code",
   "execution_count": 6,
   "id": "ceea6203",
   "metadata": {},
   "outputs": [
    {
     "name": "stdout",
     "output_type": "stream",
     "text": [
      "Adult\n"
     ]
    }
   ],
   "source": [
    "if age > 18:\n",
    "    print(\"Adult\")\n",
    "else:\n",
    "    print(\"Minor\")\n"
   ]
  },
  {
   "cell_type": "markdown",
   "id": "b49d3139",
   "metadata": {},
   "source": [
    "iii. Loop Statements\n",
    "\n",
    "Used to repeat a block of code:"
   ]
  },
  {
   "cell_type": "code",
   "execution_count": 7,
   "id": "81698486",
   "metadata": {},
   "outputs": [
    {
     "name": "stdout",
     "output_type": "stream",
     "text": [
      "0\n",
      "1\n",
      "2\n",
      "3\n",
      "4\n"
     ]
    }
   ],
   "source": [
    "for i in range(5):\n",
    "    print(i)\n"
   ]
  },
  {
   "cell_type": "markdown",
   "id": "c9840eba",
   "metadata": {},
   "source": [
    "iv. Function Call Statements\n",
    "\n",
    "Used to call a function:"
   ]
  },
  {
   "cell_type": "code",
   "execution_count": 8,
   "id": "bd2d575d",
   "metadata": {},
   "outputs": [
    {
     "name": "stdout",
     "output_type": "stream",
     "text": [
      "Hello!\n"
     ]
    }
   ],
   "source": [
    "def greet():\n",
    "    print(\"Hello!\")\n",
    "\n",
    "greet()\n"
   ]
  },
  {
   "cell_type": "markdown",
   "id": "5aa3c581",
   "metadata": {},
   "source": [
    "### 5. Interactive Examples\n",
    "\n",
    "Example 1: Mixing Expressions and Statements"
   ]
  },
  {
   "cell_type": "code",
   "execution_count": 9,
   "id": "a81a2dfa",
   "metadata": {},
   "outputs": [
    {
     "name": "stdout",
     "output_type": "stream",
     "text": [
      "The sum is greater than 25\n"
     ]
    }
   ],
   "source": [
    "x = 10  # Assignment statement\n",
    "y = 20\n",
    "\n",
    "if x + y > 25:  # Expression inside a conditional statement\n",
    "    print(\"The sum is greater than 25\")  # Statement\n"
   ]
  },
  {
   "cell_type": "markdown",
   "id": "860e7b43",
   "metadata": {},
   "source": [
    "Example 2: Using Expressions in Loops"
   ]
  },
  {
   "cell_type": "code",
   "execution_count": 10,
   "id": "26e211b0",
   "metadata": {},
   "outputs": [
    {
     "name": "stdout",
     "output_type": "stream",
     "text": [
      "0\n",
      "2\n",
      "4\n",
      "6\n",
      "8\n"
     ]
    }
   ],
   "source": [
    "for i in range(5):  # Loop statement\n",
    "    print(i * 2)  # Expression inside a print statement\n"
   ]
  },
  {
   "cell_type": "markdown",
   "id": "bb5ef0b2",
   "metadata": {},
   "source": [
    "Example 3: Function with Expressions and Statements"
   ]
  },
  {
   "cell_type": "code",
   "execution_count": 11,
   "id": "18113358",
   "metadata": {},
   "outputs": [
    {
     "name": "stdout",
     "output_type": "stream",
     "text": [
      "Area: 78.5\n"
     ]
    }
   ],
   "source": [
    "def calculate_area(radius):\n",
    "    return 3.14 * radius ** 2  # Expression inside a return statement\n",
    "\n",
    "area = calculate_area(5)  # Assignment statement\n",
    "print(\"Area:\", area)  # Function call statement\n"
   ]
  },
  {
   "cell_type": "markdown",
   "id": "0a1ad608",
   "metadata": {},
   "source": []
  }
 ],
 "metadata": {
  "kernelspec": {
   "display_name": "Python 3 (ipykernel)",
   "language": "python",
   "name": "python3"
  },
  "language_info": {
   "codemirror_mode": {
    "name": "ipython",
    "version": 3
   },
   "file_extension": ".py",
   "mimetype": "text/x-python",
   "name": "python",
   "nbconvert_exporter": "python",
   "pygments_lexer": "ipython3",
   "version": "3.11.5"
  }
 },
 "nbformat": 4,
 "nbformat_minor": 5
}
