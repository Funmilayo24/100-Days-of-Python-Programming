{
 "cells": [
  {
   "cell_type": "markdown",
   "id": "a8b73b2a-c0c8-432c-9f21-da71c3e42537",
   "metadata": {},
   "source": [
    "### Day 57 of Python Programming"
   ]
  },
  {
   "cell_type": "markdown",
   "id": "a936237b-6aa6-491c-8f13-e9d599f3284b",
   "metadata": {},
   "source": [
    "## Timing Code Execution in Python: Basics\n",
    "Description\n",
    "\n",
    "In this tutorial, we'll learn how to time the execution of code in Python using the time module. Timing code is essential for optimizing performance, especially in larger projects. We'll explore two simple methods to measure the time taken for code to run.\n",
    "\n",
    "### Step 1: Importing the time Module\n",
    "To start, we need to import the time module, which provides functions to work with time in Python."
   ]
  },
  {
   "cell_type": "code",
   "execution_count": 1,
   "id": "a86c64ac-437e-4277-8878-29cebb11668f",
   "metadata": {},
   "outputs": [],
   "source": [
    "import time\n"
   ]
  },
  {
   "cell_type": "markdown",
   "id": "3fe30c38-4e0b-4f47-8399-9633ece47a21",
   "metadata": {},
   "source": [
    "### Step 2: Timing with time.time()\n",
    "The time.time() function returns the current time in seconds since the \"epoch\" (usually January 1, 1970). We can use it to calculate how long a piece of code takes by recording the start and end times and then subtracting them.\n",
    "\n",
    "Here’s an example:"
   ]
  },
  {
   "cell_type": "code",
   "execution_count": 2,
   "id": "59c1efb4-cdad-44e5-a09b-51af19d793bd",
   "metadata": {},
   "outputs": [
    {
     "name": "stdout",
     "output_type": "stream",
     "text": [
      "Time taken: 0.04748821258544922 seconds\n"
     ]
    }
   ],
   "source": [
    "start_time = time.time()\n",
    "\n",
    "# Code block to measure\n",
    "for i in range(1000000):\n",
    "    pass  # This code does nothing but iterate one million times\n",
    "\n",
    "end_time = time.time()\n",
    "\n",
    "# Calculate the time taken\n",
    "execution_time = end_time - start_time\n",
    "print(f\"Time taken: {execution_time} seconds\")"
   ]
  },
  {
   "cell_type": "markdown",
   "id": "f4b12fda-9082-462a-a6e3-b6f540605505",
   "metadata": {},
   "source": [
    "### Explanation\n",
    "We store the starting time with start_time = time.time().\n",
    "\n",
    "We place the code block we want to measure.\n",
    "\n",
    "After the code block, we record the end time with end_time = time.time().\n",
    "\n",
    "Finally, we calculate the time taken by subtracting start_time from end_time."
   ]
  },
  {
   "cell_type": "markdown",
   "id": "340c40b8-6fed-45ed-b0c6-254c68b900c3",
   "metadata": {},
   "source": [
    "### Step 3: Timing with time.perf_counter()\n",
    "For a more accurate measurement, especially for shorter pieces of code, we can use time.perf_counter(). This function has a higher resolution, which makes it more suitable for measuring smaller time intervals.\n",
    "\n",
    "Here’s how it works:"
   ]
  },
  {
   "cell_type": "code",
   "execution_count": 3,
   "id": "d8f22f0d-f539-4538-a22a-8d38b0ff9ca1",
   "metadata": {},
   "outputs": [
    {
     "name": "stdout",
     "output_type": "stream",
     "text": [
      "Time taken (more precise): 0.05319739999868034 seconds\n"
     ]
    }
   ],
   "source": [
    "start_time = time.perf_counter()\n",
    "\n",
    "# Code block to measure\n",
    "for i in range(1000000):\n",
    "    pass  # This code does nothing but iterate one million times\n",
    "\n",
    "end_time = time.perf_counter()\n",
    "\n",
    "\n",
    "# Calculate the time taken\n",
    "execution_time = end_time - start_time\n",
    "print(f\"Time taken (more precise): {execution_time} seconds\")\n"
   ]
  },
  {
   "cell_type": "markdown",
   "id": "d4cb9da9-6749-4368-bcb9-e188a016d727",
   "metadata": {},
   "source": [
    "### Explanation\n",
    "The process is similar to using time.time(), but with higher precision. This is especially useful if you’re timing very quick code blocks where millisecond accuracy matters."
   ]
  },
  {
   "cell_type": "code",
   "execution_count": null,
   "id": "c06d28b3-cae3-4821-87ec-d487afb684aa",
   "metadata": {},
   "outputs": [],
   "source": []
  }
 ],
 "metadata": {
  "kernelspec": {
   "display_name": "Python 3 (ipykernel)",
   "language": "python",
   "name": "python3"
  },
  "language_info": {
   "codemirror_mode": {
    "name": "ipython",
    "version": 3
   },
   "file_extension": ".py",
   "mimetype": "text/x-python",
   "name": "python",
   "nbconvert_exporter": "python",
   "pygments_lexer": "ipython3",
   "version": "3.11.5"
  }
 },
 "nbformat": 4,
 "nbformat_minor": 5
}
