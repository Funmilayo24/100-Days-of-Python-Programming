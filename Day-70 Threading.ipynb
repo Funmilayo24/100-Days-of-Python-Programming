{
 "cells": [
  {
   "cell_type": "markdown",
   "id": "7c922a4c",
   "metadata": {},
   "source": [
    "#### Day 70 of Python Programming"
   ]
  },
  {
   "cell_type": "markdown",
   "id": "3f50adf4",
   "metadata": {},
   "source": [
    "## Threading Tutorial \n",
    "\n",
    "### Introduction to Threading\n",
    "\n",
    "Threading in Python allows a program to run multiple threads (smaller units of a process) concurrently. It is particularly useful when you want to perform tasks simultaneously, such as downloading files, handling multiple client requests in a server, or performing I/O-bound tasks.\n",
    "\n",
    "Python provides a built-in library called threading to work with threads.\n",
    "\n",
    "### Basics of Python Threads\n",
    "\n",
    "Importing the Threading Module"
   ]
  },
  {
   "cell_type": "code",
   "execution_count": 10,
   "id": "fb516feb",
   "metadata": {},
   "outputs": [],
   "source": [
    "import threading"
   ]
  },
  {
   "cell_type": "markdown",
   "id": "b8b38ecc",
   "metadata": {},
   "source": [
    "### Creating and Starting Threads\n",
    "\n",
    "Threads are created using the threading.Thread class."
   ]
  },
  {
   "cell_type": "code",
   "execution_count": 11,
   "id": "e9e4c0e3",
   "metadata": {},
   "outputs": [
    {
     "name": "stdout",
     "output_type": "stream",
     "text": [
      "Number: 0\n",
      "Number: 1\n",
      "Number: 2\n",
      "Number: 3\n",
      "Number: 4\n",
      "Thread has finished executing.\n"
     ]
    }
   ],
   "source": [
    "def print_numbers():\n",
    "    for i in range(5):\n",
    "        print(f\"Number: {i}\")\n",
    "\n",
    "# Create a thread\n",
    "t1 = threading.Thread(target=print_numbers)\n",
    "\n",
    "# Start the thread\n",
    "t1.start()\n",
    "\n",
    "# Wait for the thread to finish\n",
    "t1.join()\n",
    "print(\"Thread has finished executing.\")"
   ]
  },
  {
   "cell_type": "markdown",
   "id": "7f58029f",
   "metadata": {},
   "source": [
    "### Passing Arguments to Threads\n",
    "\n",
    "You can pass arguments to a thread using the args parameter."
   ]
  },
  {
   "cell_type": "code",
   "execution_count": 12,
   "id": "ca0dc761",
   "metadata": {},
   "outputs": [
    {
     "name": "stdout",
     "output_type": "stream",
     "text": [
      "Hello, Funmi!\n"
     ]
    }
   ],
   "source": [
    "def greet(name):\n",
    "    print(f\"Hello, {name}!\")\n",
    "\n",
    "# Create a thread with arguments\n",
    "t2 = threading.Thread(target=greet, args=(\"Funmi\",))\n",
    "t2.start()\n",
    "t2.join()"
   ]
  },
  {
   "cell_type": "markdown",
   "id": "97a81e9d",
   "metadata": {},
   "source": [
    "### Using Multiple Threads\n",
    "\n",
    "You can create and run multiple threads simultaneously."
   ]
  },
  {
   "cell_type": "code",
   "execution_count": 14,
   "id": "147bdc11",
   "metadata": {},
   "outputs": [
    {
     "name": "stdout",
     "output_type": "stream",
     "text": [
      "Even: 0\n",
      "Even: 2\n",
      "Even: 4\n",
      "Even: 6\n",
      "Even: 8\n",
      "Odd: 1\n",
      "Odd: 3\n",
      "Odd: 5\n",
      "Odd: 7\n",
      "Odd: 9\n"
     ]
    }
   ],
   "source": [
    "def print_even():\n",
    "    for i in range(0, 10, 2):\n",
    "        print(f\"Even: {i}\")\n",
    "\n",
    "def print_odd():\n",
    "    for i in range(1, 10, 2):\n",
    "        print(f\"Odd: {i}\")\n",
    "\n",
    "# Create threads\n",
    "t3 = threading.Thread(target=print_even)\n",
    "t4 = threading.Thread(target=print_odd)\n",
    "\n",
    "# Start threads\n",
    "t3.start()\n",
    "t4.start()\n",
    "\n",
    "# Wait for threads to complete\n",
    "t3.join()\n",
    "t4.join()"
   ]
  },
  {
   "cell_type": "markdown",
   "id": "d70079be",
   "metadata": {},
   "source": [
    "### Synchronization with Locks\n",
    "\n",
    "When multiple threads access shared resources, data inconsistency can occur. To prevent this, we use threading.Lock."
   ]
  },
  {
   "cell_type": "code",
   "execution_count": 15,
   "id": "c55b6d57",
   "metadata": {},
   "outputs": [
    {
     "name": "stdout",
     "output_type": "stream",
     "text": [
      "Final Counter: 10\n"
     ]
    }
   ],
   "source": [
    "counter = 0\n",
    "lock = threading.Lock()\n",
    "\n",
    "def increment():\n",
    "    global counter\n",
    "    with lock:\n",
    "        temp = counter\n",
    "        temp += 1\n",
    "        counter = temp\n",
    "\n",
    "threads = [threading.Thread(target=increment) for _ in range(10)]\n",
    "\n",
    "for thread in threads:\n",
    "    thread.start()\n",
    "\n",
    "for thread in threads:\n",
    "    thread.join()\n",
    "\n",
    "print(f\"Final Counter: {counter}\")"
   ]
  },
  {
   "cell_type": "markdown",
   "id": "9944cf57",
   "metadata": {},
   "source": [
    "### Practice Questions\n",
    "\n",
    "Question 1: Calculate Sum Using Multiple Threads\n",
    "\n",
    "Write a program to calculate the sum of numbers from 1 to 100 using 5 threads. Divide the range (1-100) equally among the threads.\n",
    "\n",
    "Question 2: Thread-safe Counter\n",
    "\n",
    "Create a thread-safe counter that multiple threads can increment without data inconsistency.\n",
    "\n",
    "Question 3: Producer-Consumer Problem\n",
    "\n",
    "Implement the Producer-Consumer problem using threads and a shared queue. The producer should generate random numbers, and the consumer should process them.\n",
    "\n",
    "Question 4: Sorting with Threads\n",
    "\n",
    "Write a program that splits an array into two halves and sorts each half in separate threads. Then merge the two sorted halves in the main thread.\n",
    "\n",
    "Question 5: Simulate Download Manager\n",
    "\n",
    "Create a download manager using threads where each thread downloads a portion of a file and writes it to the disk. Merge the portions after all threads complete."
   ]
  },
  {
   "cell_type": "code",
   "execution_count": null,
   "id": "7be8d068",
   "metadata": {},
   "outputs": [],
   "source": []
  }
 ],
 "metadata": {
  "kernelspec": {
   "display_name": "Python 3 (ipykernel)",
   "language": "python",
   "name": "python3"
  },
  "language_info": {
   "codemirror_mode": {
    "name": "ipython",
    "version": 3
   },
   "file_extension": ".py",
   "mimetype": "text/x-python",
   "name": "python",
   "nbconvert_exporter": "python",
   "pygments_lexer": "ipython3",
   "version": "3.11.5"
  }
 },
 "nbformat": 4,
 "nbformat_minor": 5
}
