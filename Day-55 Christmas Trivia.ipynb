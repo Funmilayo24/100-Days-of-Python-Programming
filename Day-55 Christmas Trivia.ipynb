{
 "cells": [
  {
   "cell_type": "markdown",
   "id": "b4f5edbe-4b1c-43b7-ba87-fe400282ff97",
   "metadata": {},
   "source": [
    "### Day 55 of Python Programming"
   ]
  },
  {
   "cell_type": "markdown",
   "id": "9455a9da-8484-4be8-bc8b-a6672276be23",
   "metadata": {},
   "source": [
    "## Christmas Trivia Challenge Tutorial"
   ]
  },
  {
   "cell_type": "code",
   "execution_count": null,
   "id": "6d4e56e8-29bd-415b-a832-769e1a17d91e",
   "metadata": {},
   "outputs": [
    {
     "name": "stdout",
     "output_type": "stream",
     "text": [
      "🎄 Welcome to the Christmas Trivia Challenge! 🎄\n",
      "Enter the number of players: 2\n",
      "Enter the name of Player 1: Funmi\n",
      "Enter the name of Player 2: Rex\n",
      "\n",
      "Funmi's turn!\n",
      "What beverage is known as 'the drink of the season'?\n",
      "Your answer (type 'done' to end the game): Eggnog\n",
      "Correct! 🎉\n",
      "\n",
      "Funmi's turn!\n",
      "What is the name of the animated Christmas movie about a snowman?\n",
      "Your answer (type 'done' to end the game): john\n",
      "Wrong! The correct answer is: Frosty the Snowman\n",
      "\n",
      "Rex's turn!\n"
     ]
    }
   ],
   "source": [
    "import random\n",
    "\n",
    "# Trivia questions and answers\n",
    "trivia_questions = {\n",
    "    \"What is the name of the reindeer that leads Santa's sleigh?\": \"Rudolph\",\n",
    "    \"In the movie 'Home Alone,' where is Kevin's family going on vacation?\": \"Paris\",\n",
    "    \"What are the two main colors of Christmas?\": \"Red and Green\",\n",
    "    \"Which Christmas song contains the lyrics 'Fa la la la la, la la la la'?\": \"Deck the Halls\",\n",
    "    \"What beverage is known as 'the drink of the season'?\": \"Eggnog\",\n",
    "    \"How many days are there until Christmas?\": \"25\",\n",
    "    \"In which country did the tradition of the Christmas tree originate?\": \"Germany\",\n",
    "    \"What is the Grinch's dog's name?\": \"Max\",\n",
    "    \"What is the name of the animated Christmas movie about a snowman?\": \"Frosty the Snowman\",\n",
    "    \"What is the best-selling Christmas song of all time?\": \"White Christmas\"\n",
    "}\n",
    "\n",
    "def ask_question(question, answer):\n",
    "    \"\"\"Asks the user a trivia question and returns True if they answer correctly.\"\"\"\n",
    "    user_answer = input(question + \"\\nYour answer (type 'done' to end the game): \").strip()\n",
    "    if user_answer.lower() == \"done\":\n",
    "        return \"done\"\n",
    "    return user_answer.lower() == answer.lower()\n",
    "\n",
    "def play_game(player_names):\n",
    "    \"\"\"Main function to play the trivia game with multiple players.\"\"\"\n",
    "    scores = {name: 0 for name in player_names}\n",
    "    total_questions = len(trivia_questions)\n",
    "\n",
    "    # Shuffle questions\n",
    "    questions = list(trivia_questions.keys())\n",
    "    random.shuffle(questions)\n",
    "\n",
    "    # Keep track of correctly answered questions\n",
    "    correctly_answered = set()\n",
    "\n",
    "    for question in questions:\n",
    "        answer = trivia_questions[question]\n",
    "\n",
    "        # Skip this question if already answered correctly\n",
    "        if question in correctly_answered:\n",
    "            continue\n",
    "\n",
    "        for player in player_names:\n",
    "            print(f\"\\n{player}'s turn!\")\n",
    "            result = ask_question(question, answer)\n",
    "\n",
    "            if result == \"done\":\n",
    "                print(\"\\nGame ended early!\")\n",
    "                display_scores(scores, total_questions)\n",
    "                return  # End the game immediately\n",
    "            elif result:\n",
    "                print(\"Correct! 🎉\")\n",
    "                scores[player] += 1\n",
    "                correctly_answered.add(question)  # Mark the question as answered correctly\n",
    "                break  # Skip asking this question to other players\n",
    "            else:\n",
    "                print(f\"Wrong!\")\n",
    "\n",
    "    # Display final scores\n",
    "    display_scores(scores, total_questions)\n",
    "\n",
    "def display_scores(scores, total_questions):\n",
    "    \"\"\"Displays the final scores of all players.\"\"\"\n",
    "    print(\"\\nFinal Scores:\")\n",
    "    for player, score in scores.items():\n",
    "        print(f\"{player}: {score}/{total_questions}\")\n",
    "\n",
    "if __name__ == \"__main__\":\n",
    "    print(\"🎄 Welcome to the Christmas Trivia Challenge! 🎄\")\n",
    "    num_players = int(input(\"Enter the number of players: \"))\n",
    "    \n",
    "    # Get players' names\n",
    "    player_names = []\n",
    "    for i in range(num_players):\n",
    "        name = input(f\"Enter the name of Player {i + 1}: \")\n",
    "        player_names.append(name)\n",
    "    \n",
    "    play_game(player_names)\n"
   ]
  },
  {
   "cell_type": "code",
   "execution_count": null,
   "id": "2e3f9ab8-e7ff-4865-a21d-c214e57899e8",
   "metadata": {},
   "outputs": [],
   "source": []
  }
 ],
 "metadata": {
  "kernelspec": {
   "display_name": "Python 3 (ipykernel)",
   "language": "python",
   "name": "python3"
  },
  "language_info": {
   "codemirror_mode": {
    "name": "ipython",
    "version": 3
   },
   "file_extension": ".py",
   "mimetype": "text/x-python",
   "name": "python",
   "nbconvert_exporter": "python",
   "pygments_lexer": "ipython3",
   "version": "3.11.5"
  }
 },
 "nbformat": 4,
 "nbformat_minor": 5
}
