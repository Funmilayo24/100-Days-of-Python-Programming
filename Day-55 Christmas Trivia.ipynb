{
 "cells": [
  {
   "cell_type": "markdown",
   "id": "b4f5edbe-4b1c-43b7-ba87-fe400282ff97",
   "metadata": {},
   "source": [
    "### Day 55 of Python Programming"
   ]
  },
  {
   "cell_type": "markdown",
   "id": "9455a9da-8484-4be8-bc8b-a6672276be23",
   "metadata": {},
   "source": [
    "## Christmas Trivia Challenge Tutorial"
   ]
  },
  {
   "cell_type": "code",
   "execution_count": 1,
   "id": "6d4e56e8-29bd-415b-a832-769e1a17d91e",
   "metadata": {},
   "outputs": [
    {
     "name": "stdout",
     "output_type": "stream",
     "text": [
      "🎄 Welcome to the Christmas Trivia Challenge! 🎄\n",
      "\n",
      "How many days are there until Christmas?\n",
      "Your answer (type 'done' to quit): 25\n",
      "Correct! 🎉\n",
      "\n",
      "What is the name of the animated Christmas movie about a snowman?\n",
      "Your answer (type 'done' to quit): frosty\n",
      "Wrong! The correct answer is: Frosty the Snowman\n",
      "\n",
      "What is the name of the reindeer that leads Santa's sleigh?\n",
      "Your answer (type 'done' to quit): rudolph\n",
      "Correct! 🎉\n",
      "\n",
      "What are the two main colors of Christmas?\n",
      "Your answer (type 'done' to quit): red and green\n",
      "Correct! 🎉\n",
      "\n",
      "In the movie 'Home Alone,' where is Kevin's family going on vacation?\n",
      "Your answer (type 'done' to quit): paris\n",
      "Correct! 🎉\n",
      "\n",
      "What beverage is known as 'the drink of the season'?\n",
      "Your answer (type 'done' to quit): eggnoch\n",
      "Wrong! The correct answer is: Eggnog\n",
      "\n",
      "What is the Grinch's dog's name?\n",
      "Your answer (type 'done' to quit): done\n",
      "\n",
      "Your final score is: 4/10\n",
      "Thanks for playing! 🎅🎄\n"
     ]
    }
   ],
   "source": [
    "import random\n",
    "\n",
    "# Trivia questions and answers\n",
    "trivia_questions = {\n",
    "    \"What is the name of the reindeer that leads Santa's sleigh?\": \"Rudolph\",\n",
    "    \"In the movie 'Home Alone,' where is Kevin's family going on vacation?\": \"Paris\",\n",
    "    \"What are the two main colors of Christmas?\": \"Red and Green\",\n",
    "    \"Which Christmas song contains the lyrics 'Fa la la la la, la la la la'?\": \"Deck the Halls\",\n",
    "    \"What beverage is known as 'the drink of the season'?\": \"Eggnog\",\n",
    "    \"How many days are there until Christmas?\": \"25\",\n",
    "    \"In which country did the tradition of the Christmas tree originate?\": \"Germany\",\n",
    "    \"What is the Grinch's dog's name?\": \"Max\",\n",
    "    \"What is the name of the animated Christmas movie about a snowman?\": \"Frosty the Snowman\",\n",
    "    \"What is the best-selling Christmas song of all time?\": \"White Christmas\"\n",
    "}\n",
    "\n",
    "def play_game():\n",
    "    print(\"🎄 Welcome to the Christmas Trivia Challenge! 🎄\")\n",
    "    score = 0\n",
    "\n",
    "    # Shuffle the questions\n",
    "    questions = list(trivia_questions.items())\n",
    "    random.shuffle(questions)\n",
    "\n",
    "    # Loop through questions\n",
    "    for question, correct_answer in questions:\n",
    "        print(\"\\n\" + question)\n",
    "        user_answer = input(\"Your answer (type 'done' to quit): \").strip()\n",
    "\n",
    "        if user_answer.lower() == \"done\":\n",
    "            break\n",
    "        elif user_answer.lower() == correct_answer.lower():\n",
    "            print(\"Correct! 🎉\")\n",
    "            score += 1\n",
    "        else:\n",
    "            print(f\"Wrong! The correct answer is: {correct_answer}\")\n",
    "\n",
    "    print(f\"\\nYour final score is: {score}/{len(trivia_questions)}\")\n",
    "    print(\"Thanks for playing! 🎅🎄\")\n",
    "\n",
    "if __name__ == \"__main__\":\n",
    "    play_game()\n"
   ]
  },
  {
   "cell_type": "code",
   "execution_count": null,
   "id": "2e3f9ab8-e7ff-4865-a21d-c214e57899e8",
   "metadata": {},
   "outputs": [],
   "source": []
  }
 ],
 "metadata": {
  "kernelspec": {
   "display_name": "Python 3 (ipykernel)",
   "language": "python",
   "name": "python3"
  },
  "language_info": {
   "codemirror_mode": {
    "name": "ipython",
    "version": 3
   },
   "file_extension": ".py",
   "mimetype": "text/x-python",
   "name": "python",
   "nbconvert_exporter": "python",
   "pygments_lexer": "ipython3",
   "version": "3.11.5"
  }
 },
 "nbformat": 4,
 "nbformat_minor": 5
}
