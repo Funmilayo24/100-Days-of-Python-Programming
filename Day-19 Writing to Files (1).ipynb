{
 "cells": [
  {
   "cell_type": "markdown",
   "id": "2e2f5431-8472-451c-9bf0-f9f3b9576d2b",
   "metadata": {},
   "source": [
    "### Day 19 of Programming"
   ]
  },
  {
   "cell_type": "markdown",
   "id": "3dbc9354-2d8d-476a-919c-3a95173b79b5",
   "metadata": {},
   "source": [
    "## Python Tutorial: Writing Data to Files\n",
    "Introduction\n",
    "Writing to files allows you to store data persistently on disk. Python provides built-in functions and libraries for handling file operations. In this tutorial, we will cover:\n",
    "\n",
    "Writing Text Files\n",
    "\n",
    "Writing CSV Files\n",
    "\n",
    "Writing Excel Files\n",
    "\n",
    "Practice Questions\n",
    "\n",
    "\n",
    "### Step 1: Writing Text Files\n",
    "#### 1.1 Writing to a Text File\n",
    "\n",
    "You can use the built-in open() function to create or open a file and write to it."
   ]
  },
  {
   "cell_type": "code",
   "execution_count": 1,
   "id": "28ed3fe3-d5c4-46bd-bb49-962b0de330cd",
   "metadata": {},
   "outputs": [],
   "source": [
    "# Open a file in write mode ('w'). This will create the file if it doesn't exist or overwrite it if it does.\n",
    "with open('example.txt', 'w') as file:\n",
    "    file.write(\"Hello, world!\\n\")\n",
    "    file.write(\"This is a new line.\")\n"
   ]
  },
  {
   "cell_type": "markdown",
   "id": "e50f5c58-231a-4326-aae2-a6aa17fd7d0f",
   "metadata": {},
   "source": [
    "#### Explanation:\n",
    "\n",
    "'w': Write mode. Creates a new file or truncates an existing file.\n",
    "\n",
    "'a': Append mode. Adds to the end of the file if it exists, or creates a new file if it doesn't.\n",
    "\n",
    "#### 1.2 Writing Multiple Lines\n",
    "You can write multiple lines using the writelines() method."
   ]
  },
  {
   "cell_type": "code",
   "execution_count": 2,
   "id": "6b7267aa-b4df-4803-9353-d2dabf89fb84",
   "metadata": {},
   "outputs": [],
   "source": [
    "lines = [\"First line\\n\", \"Second line\\n\", \"Third line\\n\"]\n",
    "\n",
    "with open('example_lines.txt', 'w') as file:\n",
    "    file.writelines(lines)\n"
   ]
  },
  {
   "cell_type": "markdown",
   "id": "ff9b0a6a-845f-4da4-a250-11dfe8826c6b",
   "metadata": {},
   "source": [
    "#### Explanation:\n",
    "\n",
    "writelines(): Writes a list of strings to the file."
   ]
  },
  {
   "cell_type": "markdown",
   "id": "6dace800-ec20-49b7-a0ba-4094f86eedc2",
   "metadata": {},
   "source": [
    "### Step 2: Writing CSV Files\n",
    "CSV (Comma-Separated Values) files are used to store tabular data in a text format. Python’s csv module simplifies writing CSV files.\n",
    "\n",
    "#### 2.1 Writing a Simple CSV File"
   ]
  },
  {
   "cell_type": "code",
   "execution_count": 3,
   "id": "9b88bedc-6719-4af1-a873-4e27957138b5",
   "metadata": {},
   "outputs": [],
   "source": [
    "import csv\n",
    "\n",
    "data = [\n",
    "    ['Name', 'Age', 'City'],\n",
    "    ['John', 28, 'New York'],\n",
    "    ['Anna', 24, 'Paris'],\n",
    "    ['Peter', 35, 'Berlin']\n",
    "]\n",
    "\n",
    "with open('example.csv', 'w', newline='') as file:\n",
    "    writer = csv.writer(file)\n",
    "    writer.writerows(data)\n"
   ]
  },
  {
   "cell_type": "markdown",
   "id": "8d9cb9fc-f645-4b40-89a8-165c5d03ad33",
   "metadata": {},
   "source": [
    "### Explanation:\n",
    "\n",
    "csv.writer(): Creates a writer object.\n",
    "\n",
    "writerows(): Writes multiple rows at once."
   ]
  },
  {
   "cell_type": "markdown",
   "id": "c665c6d9-eabf-479c-af0c-95d54e751526",
   "metadata": {},
   "source": [
    "#### 2.2 Writing a CSV File with a Dictionary"
   ]
  },
  {
   "cell_type": "code",
   "execution_count": 4,
   "id": "7f9084cf-9170-4440-8a18-9c96c984e38c",
   "metadata": {},
   "outputs": [],
   "source": [
    "import csv\n",
    "\n",
    "data = [\n",
    "    {'Name': 'John', 'Age': 28, 'City': 'New York'},\n",
    "    {'Name': 'Anna', 'Age': 24, 'City': 'Paris'},\n",
    "    {'Name': 'Peter', 'Age': 35, 'City': 'Berlin'}\n",
    "]\n",
    "\n",
    "with open('example_dict.csv', 'w', newline='') as file:\n",
    "    fieldnames = ['Name', 'Age', 'City']\n",
    "    writer = csv.DictWriter(file, fieldnames=fieldnames)\n",
    "    \n",
    "    writer.writeheader()  # Write the header\n",
    "    writer.writerows(data)\n"
   ]
  },
  {
   "cell_type": "markdown",
   "id": "cb06cd34-3759-4071-b565-f78e42a377bb",
   "metadata": {},
   "source": [
    "#### Explanation:\n",
    "\n",
    "csv.DictWriter(): Creates a writer object for dictionaries.\n",
    "                                         \n",
    "writeheader(): Writes the header row."
   ]
  },
  {
   "cell_type": "markdown",
   "id": "0a2c50d0-7f7f-4d09-a98e-40aea153f831",
   "metadata": {},
   "source": [
    "#### Step 3: Writing Excel Files\n",
    "You can use the pandas library to write data to Excel files. If you haven't installed pandas and openpyxl, you can install them via pip:"
   ]
  },
  {
   "cell_type": "code",
   "execution_count": 5,
   "id": "a0834333-d90c-46ed-b221-bd4ab372cf1e",
   "metadata": {},
   "outputs": [
    {
     "name": "stdout",
     "output_type": "stream",
     "text": [
      "Defaulting to user installation because normal site-packages is not writeable\n",
      "Requirement already satisfied: pandas in c:\\programdata\\anaconda3\\lib\\site-packages (2.2.2)\n",
      "Requirement already satisfied: openpyxl in c:\\programdata\\anaconda3\\lib\\site-packages (3.1.2)\n",
      "Requirement already satisfied: numpy>=1.26.0 in c:\\programdata\\anaconda3\\lib\\site-packages (from pandas) (1.26.4)\n",
      "Requirement already satisfied: python-dateutil>=2.8.2 in c:\\programdata\\anaconda3\\lib\\site-packages (from pandas) (2.9.0.post0)\n",
      "Requirement already satisfied: pytz>=2020.1 in c:\\programdata\\anaconda3\\lib\\site-packages (from pandas) (2024.1)\n",
      "Requirement already satisfied: tzdata>=2022.7 in c:\\programdata\\anaconda3\\lib\\site-packages (from pandas) (2023.3)\n",
      "Requirement already satisfied: et-xmlfile in c:\\programdata\\anaconda3\\lib\\site-packages (from openpyxl) (1.1.0)\n",
      "Requirement already satisfied: six>=1.5 in c:\\programdata\\anaconda3\\lib\\site-packages (from python-dateutil>=2.8.2->pandas) (1.16.0)\n",
      "Note: you may need to restart the kernel to use updated packages.\n"
     ]
    }
   ],
   "source": [
    "pip install pandas openpyxl\n"
   ]
  },
  {
   "cell_type": "markdown",
   "id": "ca82f2a1-75cf-4407-a8b4-77602f666439",
   "metadata": {},
   "source": [
    "#### 3.1 Writing a DataFrame to Excel"
   ]
  },
  {
   "cell_type": "code",
   "execution_count": 6,
   "id": "cb58aeb7-f846-4fd8-af5e-e03335390e9b",
   "metadata": {},
   "outputs": [],
   "source": [
    "import pandas as pd\n",
    "\n",
    "data = {\n",
    "    'Name': ['John', 'Anna', 'Peter'],\n",
    "    'Age': [28, 24, 35],\n",
    "    'City': ['New York', 'Paris', 'Berlin']\n",
    "}\n",
    "\n",
    "df = pd.DataFrame(data)\n",
    "\n",
    "# Write DataFrame to Excel\n",
    "df.to_excel('example.xlsx', index=False)\n"
   ]
  },
  {
   "cell_type": "markdown",
   "id": "b8e98e86-4964-48ef-962c-63b10b6a40fc",
   "metadata": {},
   "source": [
    "#### Explanation:\n",
    "\n",
    "pd.DataFrame(): Creates a DataFrame.\n",
    "\n",
    "to_excel(): Writes the DataFrame to an Excel file."
   ]
  },
  {
   "cell_type": "markdown",
   "id": "174c10e2-0fe2-4054-8a8e-851e2230581b",
   "metadata": {},
   "source": [
    "### Practice Question\n",
    "\n",
    "1. Write a Python script to create a text file named output.txt and write the string \"Python is fun!\" to it.\n",
    "2. Using Pandas, write a DataFrame to an Excel file named sales_data.xlsx. The DataFrame should contain columns for Product, Sales, and Month with at least three rows of sample data.\n",
    "3. Write a script that attempts to write to a file data.txt, but handles exceptions if the file cannot be written (e.g., due to permissions)."
   ]
  },
  {
   "cell_type": "code",
   "execution_count": null,
   "id": "ebeede2e-cb90-44f8-98a6-998ee4d11ba5",
   "metadata": {},
   "outputs": [],
   "source": []
  }
 ],
 "metadata": {
  "kernelspec": {
   "display_name": "Python 3 (ipykernel)",
   "language": "python",
   "name": "python3"
  },
  "language_info": {
   "codemirror_mode": {
    "name": "ipython",
    "version": 3
   },
   "file_extension": ".py",
   "mimetype": "text/x-python",
   "name": "python",
   "nbconvert_exporter": "python",
   "pygments_lexer": "ipython3",
   "version": "3.12.4"
  }
 },
 "nbformat": 4,
 "nbformat_minor": 5
}
