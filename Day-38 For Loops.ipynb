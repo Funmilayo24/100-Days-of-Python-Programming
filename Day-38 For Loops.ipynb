{
 "cells": [
  {
   "cell_type": "markdown",
   "id": "5be099ac-160a-4a0c-93ed-25ddcd5c5ea1",
   "metadata": {},
   "source": [
    "### Day 38 of programming"
   ]
  },
  {
   "cell_type": "markdown",
   "id": "25442152-ebcb-4a21-a47c-d95db67b5b39",
   "metadata": {},
   "source": [
    "## Python For Loops Tutorial\n",
    "In Python, loops allow you to iterate over a sequence of data (like a list, tuple, string, or range) and execute a block of code multiple times. One of the most commonly used loops is the for loop.\n",
    "\n",
    "### What is a for loop?\n",
    "A for loop in Python is used for iterating over sequences, such as:\n",
    "\n",
    "Lists\n",
    "\n",
    "Tuples\n",
    "\n",
    "Strings\n",
    "\n",
    "Dictionaries\n",
    "\n",
    "Ranges (numbers)\n",
    "\n",
    "For each item in the sequence, the for loop executes a block of code.\n",
    "\n",
    "### Basic Syntax"
   ]
  },
  {
   "cell_type": "code",
   "execution_count": null,
   "id": "099c029f-e891-4f21-b65b-f2114b878ae8",
   "metadata": {},
   "outputs": [],
   "source": [
    "for variable in sequence:\n",
    "    # Code block to be executed\n"
   ]
  },
  {
   "cell_type": "markdown",
   "id": "97440d84-c18a-4552-b984-252ef57fcbea",
   "metadata": {},
   "source": [
    "variable: This is the iteration variable that takes the value of each item in the sequence.\n",
    "\n",
    "sequence: The collection (list, tuple, string, etc.) you are iterating over.\n",
    "### Example: Iterating Over a List"
   ]
  },
  {
   "cell_type": "code",
   "execution_count": 1,
   "id": "2bda9156-998f-4521-8e0e-0f9b05ce1026",
   "metadata": {},
   "outputs": [
    {
     "name": "stdout",
     "output_type": "stream",
     "text": [
      "apple\n",
      "banana\n",
      "cherry\n"
     ]
    }
   ],
   "source": [
    "fruits = [\"apple\", \"banana\", \"cherry\"]\n",
    "for fruit in fruits:\n",
    "    print(fruit)\n"
   ]
  },
  {
   "cell_type": "markdown",
   "id": "7746e054-5b7a-4898-a2e4-33783b8c47b8",
   "metadata": {},
   "source": [
    "The loop iterates over each item in the fruits list and prints it.\n",
    "\n",
    "### Using for Loop with range()\n",
    "The range() function generates a sequence of numbers, which is very useful for controlling the number of iterations in a loop.\n",
    "\n",
    "#### Basic range() Usage:"
   ]
  },
  {
   "cell_type": "code",
   "execution_count": 3,
   "id": "a14bd3bf-afd2-49f8-ad8e-4242678f69ff",
   "metadata": {},
   "outputs": [
    {
     "name": "stdout",
     "output_type": "stream",
     "text": [
      "0\n",
      "1\n",
      "2\n",
      "3\n",
      "4\n"
     ]
    }
   ],
   "source": [
    "for i in range(5):\n",
    "    print(i)\n"
   ]
  },
  {
   "cell_type": "markdown",
   "id": "c99b6794-2600-41b8-9a0a-bae6974bdd47",
   "metadata": {},
   "source": [
    "range(5) generates numbers from 0 to 4 (excluding 5). The loop iterates 5 times, printing the values from 0 to 4.\n",
    "### Using range(start, stop, step):\n",
    "start: The starting point (included).\n",
    "\n",
    "stop: The stopping point (excluded).\n",
    "\n",
    "step: The step size or increment."
   ]
  },
  {
   "cell_type": "code",
   "execution_count": 4,
   "id": "146a2067-bf6e-4cc9-92b3-e1b3d42ebd2c",
   "metadata": {},
   "outputs": [
    {
     "name": "stdout",
     "output_type": "stream",
     "text": [
      "1\n",
      "3\n",
      "5\n",
      "7\n",
      "9\n"
     ]
    }
   ],
   "source": [
    "for i in range(1, 10, 2):\n",
    "    print(i)\n"
   ]
  },
  {
   "cell_type": "markdown",
   "id": "338f83cd-e701-4ee8-a21b-0fc541de543b",
   "metadata": {},
   "source": [
    "### For Loop with String"
   ]
  },
  {
   "cell_type": "code",
   "execution_count": 5,
   "id": "529f5041-80f6-468b-af72-ad9941e18c2e",
   "metadata": {},
   "outputs": [
    {
     "name": "stdout",
     "output_type": "stream",
     "text": [
      "A\n",
      "l\n",
      "i\n",
      "c\n",
      "e\n"
     ]
    }
   ],
   "source": [
    "name = \"Alice\"\n",
    "for letter in name:\n",
    "    print(letter)\n"
   ]
  },
  {
   "cell_type": "markdown",
   "id": "182cd1a9-0e15-4fe4-9ff2-75c26a9a7380",
   "metadata": {},
   "source": [
    "### Multiplication Table"
   ]
  },
  {
   "cell_type": "code",
   "execution_count": 6,
   "id": "575de964-d13a-4234-a7e2-e810e7d5c75e",
   "metadata": {},
   "outputs": [
    {
     "name": "stdout",
     "output_type": "stream",
     "text": [
      "3 x 1 = 3\n",
      "3 x 2 = 6\n",
      "3 x 3 = 9\n",
      "3 x 4 = 12\n",
      "3 x 5 = 15\n",
      "3 x 6 = 18\n",
      "3 x 7 = 21\n",
      "3 x 8 = 24\n",
      "3 x 9 = 27\n",
      "3 x 10 = 30\n"
     ]
    }
   ],
   "source": [
    "num = 3\n",
    "for i in range(1, 11):\n",
    "    print(f\"{num} x {i} = {num * i}\")\n"
   ]
  },
  {
   "cell_type": "markdown",
   "id": "aeb21d00-ec97-4c2f-a642-c65cf3ff5010",
   "metadata": {},
   "source": [
    "### Using for with Dictionaries\n",
    "In dictionaries, you can loop over keys, values, or both:"
   ]
  },
  {
   "cell_type": "code",
   "execution_count": 8,
   "id": "fd1f2dd6-2e34-4767-969e-bcfa241d7fe3",
   "metadata": {},
   "outputs": [
    {
     "name": "stdout",
     "output_type": "stream",
     "text": [
      "name\n",
      "age\n",
      "location\n",
      "Alice\n",
      "25\n",
      "Germany\n",
      "name: Alice\n",
      "age: 25\n",
      "location: Germany\n"
     ]
    }
   ],
   "source": [
    "person = {\"name\": \"Alice\", \"age\": 25, \"location\": \"Germany\"}\n",
    "\n",
    "# Looping through dictionary keys\n",
    "for key in person:\n",
    "    print(key)\n",
    "\n",
    "# Looping through dictionary values\n",
    "for value in person.values():\n",
    "    print(value)\n",
    "\n",
    "# Looping through both keys and values\n",
    "for key, value in person.items():\n",
    "    print(f\"{key}: {value}\")\n"
   ]
  },
  {
   "cell_type": "markdown",
   "id": "5c382270-2c18-4b44-ba15-53ff24397a7b",
   "metadata": {},
   "source": [
    "### Practice Questions\n",
    "Write a Python program to print the first 10 Fibonacci numbers using a for loop.\n",
    "\n",
    "Create a list of numbers from 1 to 20, and then use a for loop to print only the even numbers.\n",
    "\n",
    "Write a program that calculates the factorial of a given number using a for loop.\n",
    "\n",
    "Write a Python program to reverse a string using a for loop.\n",
    "\n",
    "Create a for loop to iterate through the keys and values of a dictionary and print them in a specific format."
   ]
  },
  {
   "cell_type": "code",
   "execution_count": null,
   "id": "239df23b-6f03-42d8-bc92-4de2d20a24b0",
   "metadata": {},
   "outputs": [],
   "source": []
  }
 ],
 "metadata": {
  "kernelspec": {
   "display_name": "Python 3 (ipykernel)",
   "language": "python",
   "name": "python3"
  },
  "language_info": {
   "codemirror_mode": {
    "name": "ipython",
    "version": 3
   },
   "file_extension": ".py",
   "mimetype": "text/x-python",
   "name": "python",
   "nbconvert_exporter": "python",
   "pygments_lexer": "ipython3",
   "version": "3.12.4"
  }
 },
 "nbformat": 4,
 "nbformat_minor": 5
}
