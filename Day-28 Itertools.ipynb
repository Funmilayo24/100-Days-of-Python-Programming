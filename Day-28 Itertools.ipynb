{
 "cells": [
  {
   "cell_type": "markdown",
   "id": "a00afc91-2e7e-4deb-ad72-8896d9e49cde",
   "metadata": {},
   "source": [
    "### Day 28 of programming"
   ]
  },
  {
   "cell_type": "markdown",
   "id": "b596ff91-a996-4992-93b7-0889e77e165e",
   "metadata": {},
   "source": [
    "## Tutorial: itertools - Iterator Functions for Efficient Looping\n",
    "Introduction\n",
    "The itertools module is a standard library in Python that offers a suite of functions to create iterators for efficient looping. These functions are great for working with data in an iterative way and can handle infinite sequences, combinatorics, and more.\n",
    "\n",
    "### 1. Importing itertools\n",
    "Before you can use itertools, you need to import it:"
   ]
  },
  {
   "cell_type": "code",
   "execution_count": 1,
   "id": "1b514dab-df0a-4d15-9137-4a54bbcb6eb9",
   "metadata": {},
   "outputs": [],
   "source": [
    "import itertools\n"
   ]
  },
  {
   "cell_type": "markdown",
   "id": "cb643e54-2260-4659-96f8-6cb1c4df25e4",
   "metadata": {},
   "source": [
    "### 2. Basic itertools Functions\n",
    "#### 2.1. count()\n",
    "The count() function returns an infinite sequence of numbers starting from a specified value.\n",
    "\n",
    "Example:"
   ]
  },
  {
   "cell_type": "code",
   "execution_count": 2,
   "id": "d6928025-1609-4378-917b-c70dd9c64ddf",
   "metadata": {},
   "outputs": [
    {
     "name": "stdout",
     "output_type": "stream",
     "text": [
      "5\n",
      "6\n",
      "7\n",
      "8\n",
      "9\n",
      "10\n"
     ]
    }
   ],
   "source": [
    "import itertools\n",
    "\n",
    "for i in itertools.count(5):\n",
    "    if i > 10:\n",
    "        break\n",
    "    print(i)\n"
   ]
  },
  {
   "cell_type": "markdown",
   "id": "326633b7-3831-433b-8e81-2f2853ce2f72",
   "metadata": {},
   "source": [
    "### 2.2. cycle()\n",
    "The cycle() function creates an infinite loop over the values of an iterable.\n",
    "\n",
    "Example:"
   ]
  },
  {
   "cell_type": "code",
   "execution_count": 3,
   "id": "7e46975a-3a76-48c6-a748-a4ebb6548c03",
   "metadata": {},
   "outputs": [
    {
     "name": "stdout",
     "output_type": "stream",
     "text": [
      "A\n",
      "B\n",
      "C\n",
      "A\n",
      "B\n",
      "C\n"
     ]
    }
   ],
   "source": [
    "import itertools\n",
    "\n",
    "counter = 0\n",
    "for item in itertools.cycle(['A', 'B', 'C']):\n",
    "    print(item)\n",
    "    counter += 1\n",
    "    if counter > 5:\n",
    "        break\n"
   ]
  },
  {
   "cell_type": "markdown",
   "id": "48289120-8401-4905-ab33-cd37a339ea9c",
   "metadata": {},
   "source": [
    "### 2.3. repeat()\n",
    "The repeat() function repeats an object for a specified number of times or infinitely if no number is specified.\n",
    "\n",
    "Example:"
   ]
  },
  {
   "cell_type": "code",
   "execution_count": 4,
   "id": "46d9eda3-6e1b-492c-9158-64bdf71c54cd",
   "metadata": {},
   "outputs": [
    {
     "name": "stdout",
     "output_type": "stream",
     "text": [
      "Python\n",
      "Python\n",
      "Python\n"
     ]
    }
   ],
   "source": [
    "import itertools\n",
    "\n",
    "for item in itertools.repeat('Python', 3):\n",
    "    print(item)\n"
   ]
  },
  {
   "cell_type": "markdown",
   "id": "dff2c4ca-c28e-426d-8d24-7f552789aa17",
   "metadata": {},
   "source": [
    "### 3. Combinatoric Functions\n",
    "3.1. product()\n",
    "The product() function returns the Cartesian product of input iterables. You can also specify how many times the product should repeat.\n",
    "\n",
    "Example:"
   ]
  },
  {
   "cell_type": "code",
   "execution_count": 5,
   "id": "db0453b6-64c3-4ab5-a0a9-b7ab96e42818",
   "metadata": {},
   "outputs": [
    {
     "name": "stdout",
     "output_type": "stream",
     "text": [
      "(1, 'A')\n",
      "(1, 'B')\n",
      "(2, 'A')\n",
      "(2, 'B')\n"
     ]
    }
   ],
   "source": [
    "import itertools\n",
    "\n",
    "# Cartesian product of two lists\n",
    "result = itertools.product([1, 2], ['A', 'B'])\n",
    "for item in result:\n",
    "    print(item)\n"
   ]
  },
  {
   "cell_type": "markdown",
   "id": "d77697ca-dbbf-4bfb-bd27-b7fbf86d17b7",
   "metadata": {},
   "source": [
    "### 3.2. permutations()\n",
    "The permutations() function returns all possible permutations of an iterable. You can also specify the length of the permutations.\n",
    "\n",
    "Example:"
   ]
  },
  {
   "cell_type": "code",
   "execution_count": 7,
   "id": "a2f7fc1b-f986-4f13-9fe4-31908ea67dd2",
   "metadata": {},
   "outputs": [
    {
     "name": "stdout",
     "output_type": "stream",
     "text": [
      "(1, 2, 3)\n",
      "(1, 3, 2)\n",
      "(2, 1, 3)\n",
      "(2, 3, 1)\n",
      "(3, 1, 2)\n",
      "(3, 2, 1)\n"
     ]
    }
   ],
   "source": [
    "import itertools\n",
    "\n",
    "# Permutations of a list\n",
    "result = itertools.permutations([1, 2, 3])\n",
    "for item in result:\n",
    "    print(item)\n"
   ]
  },
  {
   "cell_type": "markdown",
   "id": "c2147b3a-ea00-4ffe-ba1b-e083635aced9",
   "metadata": {},
   "source": [
    "### 3.3. combinations()\n",
    "The combinations() function returns all possible combinations of an iterable of a specified length, without repeating elements.\n",
    "\n",
    "Example:"
   ]
  },
  {
   "cell_type": "code",
   "execution_count": 8,
   "id": "512c4a5d-bcec-4b46-8d3f-e203eb3b8658",
   "metadata": {},
   "outputs": [
    {
     "name": "stdout",
     "output_type": "stream",
     "text": [
      "(1, 2)\n",
      "(1, 3)\n",
      "(2, 3)\n"
     ]
    }
   ],
   "source": [
    "import itertools\n",
    "\n",
    "# Combinations of a list\n",
    "result = itertools.combinations([1, 2, 3], 2)\n",
    "for item in result:\n",
    "    print(item)\n"
   ]
  },
  {
   "cell_type": "markdown",
   "id": "2c34a33d-e101-42c0-9680-c2c19a95e7c8",
   "metadata": {},
   "source": [
    "### Summary\n",
    "itertools provides a wide array of efficient and useful tools for working with iterators in Python. From infinite sequences to combinatorics, filtering, and accumulation, it offers versatile functionality that makes handling iterative tasks easier. This tutorial should give you a solid introduction to using itertools in your Python projects.Summary\n",
    "itertools provides a wide array of efficient and useful tools for working with iterators in Python. From infinite sequences to combinatorics, filtering, and accumulation, it offers versatile functionality that makes handling iterative tasks easier. This tutorial should give you a solid introduction to using itertools in your Python projects."
   ]
  },
  {
   "cell_type": "markdown",
   "id": "92fcebe9-7d7d-4591-ba73-84446ff3ddb4",
   "metadata": {},
   "source": [
    "### Practice Questions\n",
    "Use product(): Write a program that generates the Cartesian product of two lists.\n",
    "\n",
    "Create Permutations: Generate all the permutations of the string 'ABC'.\n",
    "    \n",
    "Filter with takewhile(): Use takewhile() to return all values from a list until an element greater than 10 is encountered."
   ]
  },
  {
   "cell_type": "code",
   "execution_count": null,
   "id": "2f656d0d-4123-4e61-b5b8-0eb22da20fb1",
   "metadata": {},
   "outputs": [],
   "source": []
  }
 ],
 "metadata": {
  "kernelspec": {
   "display_name": "Python 3 (ipykernel)",
   "language": "python",
   "name": "python3"
  },
  "language_info": {
   "codemirror_mode": {
    "name": "ipython",
    "version": 3
   },
   "file_extension": ".py",
   "mimetype": "text/x-python",
   "name": "python",
   "nbconvert_exporter": "python",
   "pygments_lexer": "ipython3",
   "version": "3.12.4"
  }
 },
 "nbformat": 4,
 "nbformat_minor": 5
}
