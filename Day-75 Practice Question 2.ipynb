{
 "cells": [
  {
   "cell_type": "markdown",
   "id": "8bac8fcc",
   "metadata": {},
   "source": [
    "#### Day 75 of Programming"
   ]
  },
  {
   "cell_type": "markdown",
   "id": "65588c02",
   "metadata": {},
   "source": [
    "## Practice Questions Part 2"
   ]
  },
  {
   "cell_type": "markdown",
   "id": "a26a9c60",
   "metadata": {},
   "source": [
    "### Question 1 from Day 67\n",
    "\n",
    "#### Create a random array of 10 elements and find its mean and standard deviation."
   ]
  },
  {
   "cell_type": "code",
   "execution_count": 2,
   "id": "30315716",
   "metadata": {},
   "outputs": [
    {
     "name": "stdout",
     "output_type": "stream",
     "text": [
      "Random Array: [0.2927027  0.42070027 0.16936624 0.84211262 0.04128319 0.09742561\n",
      " 0.59150803 0.24104061 0.91024861 0.43725768]\n",
      "Mean: 0.4043645571363877\n",
      "Standard Deviation: 0.28360543218433387\n"
     ]
    }
   ],
   "source": [
    "import numpy as np\n",
    "\n",
    "random_array = np.random.rand(10)\n",
    "\n",
    "# Calculate mean and standard deviation\n",
    "mean_value = np.mean(random_array)\n",
    "std_deviation = np.std(random_array)\n",
    "\n",
    "print(\"Random Array:\", random_array)\n",
    "print(\"Mean:\", mean_value)\n",
    "print(\"Standard Deviation:\", std_deviation)\n"
   ]
  },
  {
   "cell_type": "markdown",
   "id": "1965953b",
   "metadata": {},
   "source": [
    "### Question 2 from Day 50 \n",
    "\n",
    "#### Squares of Odd Numbers: Write a list comprehension to generate a list of squares of odd numbers between 1 and 10."
   ]
  },
  {
   "cell_type": "code",
   "execution_count": 3,
   "id": "3f306b60",
   "metadata": {},
   "outputs": [
    {
     "name": "stdout",
     "output_type": "stream",
     "text": [
      "[1, 9, 25, 49, 81]\n"
     ]
    }
   ],
   "source": [
    "squares_of_odd_numbers = [ x ** 2 for x in range(1, 11) if x % 2 != 0 ]\n",
    "\n",
    "print(squares_of_odd_numbers)"
   ]
  },
  {
   "cell_type": "markdown",
   "id": "593c362c",
   "metadata": {},
   "source": [
    "### Question 3 from Day 38\n",
    "\n",
    "#### Create a for loop to iterate through the keys and values of a dictionary and print them in a specific format."
   ]
  },
  {
   "cell_type": "code",
   "execution_count": 4,
   "id": "f788e329",
   "metadata": {},
   "outputs": [
    {
     "name": "stdout",
     "output_type": "stream",
     "text": [
      "Name: Alice\n",
      "Age: 25\n",
      "City: New York\n"
     ]
    }
   ],
   "source": [
    "example_dict = {\"Name\": \"Alice\", \"Age\": 25, \"City\": \"New York\"}\n",
    "\n",
    "\n",
    "# Iterating through keys and values\n",
    "for key, value in example_dict.items():\n",
    "    print(f\"{key}: {value}\")"
   ]
  },
  {
   "cell_type": "code",
   "execution_count": null,
   "id": "9a41a517",
   "metadata": {},
   "outputs": [],
   "source": []
  },
  {
   "cell_type": "markdown",
   "id": "bf3532dc",
   "metadata": {},
   "source": [
    "### Question 4 from Day 46\n",
    "\n",
    "#### Create a list of lists and make a shallow copy. Modify an element in the nested list and observe the changes. Do the same for deep copy. Write a Python function that accepts a dictionary with lists as values and returns a shallow copy and deep copy of it."
   ]
  },
  {
   "cell_type": "code",
   "execution_count": 3,
   "id": "7a43287f",
   "metadata": {},
   "outputs": [
    {
     "name": "stdout",
     "output_type": "stream",
     "text": [
      "Original List: [[99, 2, 3], [4, 5, 6], [7, 8, 9]]\n",
      "Shallow Copy: [[99, 2, 3], [4, 5, 6], [7, 8, 9]]\n",
      "Deep Copy: [[1, 2, 3], [4, 5, 6], [7, 8, 9]]\n",
      "\n",
      "Original Dictionary: {'a': [99, 2, 3], 'b': [4, 5, 6]}\n",
      "Shallow Copy of Dictionary: {'a': [99, 2, 3], 'b': [4, 5, 6]}\n",
      "Deep Copy of Dictionary: {'a': [1, 2, 3], 'b': [4, 5, 6]}\n"
     ]
    }
   ],
   "source": [
    "import copy\n",
    "\n",
    "# Shallow and Deep Copy Example with List of Lists\n",
    "def list_copy_demo():\n",
    "    # Create a list of lists\n",
    "    original_list = [[1, 2, 3], [4, 5, 6], [7, 8, 9]]\n",
    "\n",
    "    # Shallow copy\n",
    "    shallow_copy = original_list.copy()\n",
    "\n",
    "    # Deep copy\n",
    "    deep_copy = copy.deepcopy(original_list)\n",
    "\n",
    "    # Modify an element in the nested list\n",
    "    original_list[0][0] = 99\n",
    "\n",
    "    print(\"Original List:\", original_list)\n",
    "    print(\"Shallow Copy:\", shallow_copy)\n",
    "    print(\"Deep Copy:\", deep_copy)\n",
    "\n",
    "# Function for shallow and deep copy of dictionary with lists as values\n",
    "def dict_copy_demo(data):\n",
    "    # Shallow copy\n",
    "    shallow_copy = data.copy()\n",
    "\n",
    "    # Deep copy\n",
    "    deep_copy = copy.deepcopy(data)\n",
    "\n",
    "    return shallow_copy, deep_copy\n",
    "\n",
    "# Run list copy demo\n",
    "list_copy_demo()\n",
    "\n",
    "# Run dictionary copy demo\n",
    "example_dict = {\"a\": [1, 2, 3], \"b\": [4, 5, 6]}\n",
    "shallow, deep = dict_copy_demo(example_dict)\n",
    "\n",
    "# Modify an element in the dictionary\n",
    "example_dict[\"a\"][0] = 99\n",
    "\n",
    "print(\"\\nOriginal Dictionary:\", example_dict)\n",
    "print(\"Shallow Copy of Dictionary:\", shallow)\n",
    "print(\"Deep Copy of Dictionary:\", deep)\n"
   ]
  }
 ],
 "metadata": {
  "kernelspec": {
   "display_name": "Python 3 (ipykernel)",
   "language": "python",
   "name": "python3"
  },
  "language_info": {
   "codemirror_mode": {
    "name": "ipython",
    "version": 3
   },
   "file_extension": ".py",
   "mimetype": "text/x-python",
   "name": "python",
   "nbconvert_exporter": "python",
   "pygments_lexer": "ipython3",
   "version": "3.11.5"
  }
 },
 "nbformat": 4,
 "nbformat_minor": 5
}
