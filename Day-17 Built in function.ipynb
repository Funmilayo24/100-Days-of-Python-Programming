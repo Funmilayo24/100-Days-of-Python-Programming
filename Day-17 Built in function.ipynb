{
 "cells": [
  {
   "cell_type": "markdown",
   "id": "916c3123-9f3a-4ff7-94a1-67044e6fcbdc",
   "metadata": {},
   "source": [
    "### Day 17 of programmming"
   ]
  },
  {
   "cell_type": "markdown",
   "id": "fc8a30fd-649a-4c52-abc2-1de05500ea99",
   "metadata": {},
   "source": [
    "## Python Tutorial: Built-in Functions\n",
    "Introduction to Built-in Functions\n",
    "Python provides a set of built-in functions that are always available without needing to import any additional modules. These functions allow you to perform a wide range of common tasks, such as working with numbers, strings, lists, files, and more. Using these built-in functions can save time and help you write efficient code.\n",
    "\n",
    "In this tutorial, we'll cover some of the most commonly used Python built-in functions and how to use them.\n",
    "\n",
    "### Step 1: Commonly Used Built-in Functions\n",
    "Here are some of the most frequently used Python built-in functions:\n",
    "\n",
    "#### 1. print()\n",
    "The print() function is used to output text or data to the console."
   ]
  },
  {
   "cell_type": "code",
   "execution_count": 1,
   "id": "3d92c386-194a-4443-a0fe-b0e43cf007ce",
   "metadata": {},
   "outputs": [
    {
     "name": "stdout",
     "output_type": "stream",
     "text": [
      "Hello, World!\n",
      "8\n"
     ]
    }
   ],
   "source": [
    "print(\"Hello, World!\")\n",
    "print(3 + 5)  # Output: 8\n"
   ]
  },
  {
   "cell_type": "markdown",
   "id": "f2f3cd96-ba7c-4956-90b6-f04f8d85e583",
   "metadata": {},
   "source": [
    "#### 2. input()\n",
    "The input() function allows you to take user input. It returns the input as a string."
   ]
  },
  {
   "cell_type": "code",
   "execution_count": 2,
   "id": "e6f4adc2-c134-4ec4-a8bf-48c1748253bc",
   "metadata": {},
   "outputs": [
    {
     "name": "stdin",
     "output_type": "stream",
     "text": [
      "Enter your name:  funmi\n"
     ]
    },
    {
     "name": "stdout",
     "output_type": "stream",
     "text": [
      "Hello, funmi!\n"
     ]
    }
   ],
   "source": [
    "name = input(\"Enter your name: \")\n",
    "print(\"Hello, \" + name + \"!\")\n"
   ]
  },
  {
   "cell_type": "markdown",
   "id": "185e805a-e1e7-4c4e-8de6-f6f8d8ae7c93",
   "metadata": {},
   "source": [
    "#### 3. len()\n",
    "The len() function returns the length (number of items) of a sequence, such as a string, list, or tuple."
   ]
  },
  {
   "cell_type": "code",
   "execution_count": 3,
   "id": "6ab7ee16-4640-425f-9b95-b1de5c6bd6d7",
   "metadata": {},
   "outputs": [
    {
     "name": "stdout",
     "output_type": "stream",
     "text": [
      "6\n"
     ]
    }
   ],
   "source": [
    "name = \"Python\"\n",
    "print(len(name))  # Output: 6\n"
   ]
  },
  {
   "cell_type": "markdown",
   "id": "0752d669-7fe9-4a9f-935b-b72f99372edb",
   "metadata": {},
   "source": [
    "#### 4. type()\n",
    "The type() function returns the data type of an object."
   ]
  },
  {
   "cell_type": "code",
   "execution_count": 4,
   "id": "c909a1a8-c217-48d6-8432-3a8393c12abf",
   "metadata": {},
   "outputs": [
    {
     "name": "stdout",
     "output_type": "stream",
     "text": [
      "<class 'int'>\n"
     ]
    }
   ],
   "source": [
    "num = 10\n",
    "print(type(num))  # Output: <class 'int'>\n"
   ]
  },
  {
   "cell_type": "markdown",
   "id": "ed9076d8-0de4-4e6b-ad2e-a7763022f021",
   "metadata": {},
   "source": [
    "#### 5. int(), float(), str()\n",
    "These functions are used to convert data types:\n",
    "\n",
    "int(): Converts a value to an integer.\n",
    "\n",
    "float(): Converts a value to a floating-point number.\n",
    "\n",
    "str(): Converts a value to a string."
   ]
  },
  {
   "cell_type": "code",
   "execution_count": 5,
   "id": "76a4e6dd-922e-46cf-aa65-5b3102ed88a7",
   "metadata": {},
   "outputs": [
    {
     "name": "stdin",
     "output_type": "stream",
     "text": [
      "Enter your age:  4\n"
     ]
    },
    {
     "name": "stdout",
     "output_type": "stream",
     "text": [
      "9\n",
      "Your age is 4\n"
     ]
    }
   ],
   "source": [
    "# Converting string to integer\n",
    "age = int(input(\"Enter your age: \"))\n",
    "print(age + 5)  # Output will be an integer\n",
    "\n",
    "# Converting integer to string\n",
    "age_str = str(age)\n",
    "print(\"Your age is \" + age_str)\n"
   ]
  },
  {
   "cell_type": "markdown",
   "id": "ab3380c5-f10a-4b26-b4ef-dbe51d52011b",
   "metadata": {},
   "source": [
    "#### 6. sum()\n",
    "The sum() function returns the sum of all items in an iterable, such as a list or tuple."
   ]
  },
  {
   "cell_type": "code",
   "execution_count": 6,
   "id": "8eb385a9-afd3-4fa0-9505-042f72580f17",
   "metadata": {},
   "outputs": [
    {
     "name": "stdout",
     "output_type": "stream",
     "text": [
      "15\n"
     ]
    }
   ],
   "source": [
    "numbers = [1, 2, 3, 4, 5]\n",
    "print(sum(numbers))  # Output: 15\n"
   ]
  },
  {
   "cell_type": "markdown",
   "id": "bb1b325a-7589-4967-a472-b3808fea1bfd",
   "metadata": {},
   "source": [
    "#### 7. max() and min()\n",
    "max(): Returns the largest item in an iterable.\n",
    "    \n",
    "min(): Returns the smallest item in an iterable."
   ]
  },
  {
   "cell_type": "code",
   "execution_count": 7,
   "id": "1ba125ba-4fa1-48bd-9a29-816a648211a4",
   "metadata": {},
   "outputs": [
    {
     "name": "stdout",
     "output_type": "stream",
     "text": [
      "9\n",
      "1\n"
     ]
    }
   ],
   "source": [
    "numbers = [1, 9, 3, 7, 2]\n",
    "print(max(numbers))  # Output: 9\n",
    "print(min(numbers))  # Output: 1\n"
   ]
  },
  {
   "cell_type": "markdown",
   "id": "a1d62203-03fa-420e-9d5e-7d62af7f38b9",
   "metadata": {},
   "source": [
    "#### 8. sorted()\n",
    "The sorted() function returns a new sorted list from the elements of any iterable (like a list or tuple)."
   ]
  },
  {
   "cell_type": "code",
   "execution_count": 8,
   "id": "a2e49d51-ccef-4014-a893-3fcabbefa734",
   "metadata": {},
   "outputs": [
    {
     "name": "stdout",
     "output_type": "stream",
     "text": [
      "[1, 2, 5, 5, 6, 9]\n"
     ]
    }
   ],
   "source": [
    "numbers = [5, 2, 9, 1, 5, 6]\n",
    "sorted_numbers = sorted(numbers)\n",
    "print(sorted_numbers)  # Output: [1, 2, 5, 5, 6, 9]\n"
   ]
  },
  {
   "cell_type": "markdown",
   "id": "a7d55988-8c31-458d-aea5-4e5219ea0746",
   "metadata": {},
   "source": [
    "#### 9. round()\n",
    "The round() function rounds a number to a given precision in decimal places."
   ]
  },
  {
   "cell_type": "code",
   "execution_count": 9,
   "id": "c63fd4ca-7424-4598-a4d5-5c8628e7fc0e",
   "metadata": {},
   "outputs": [
    {
     "name": "stdout",
     "output_type": "stream",
     "text": [
      "3.14\n"
     ]
    }
   ],
   "source": [
    "num = 3.14159\n",
    "print(round(num, 2))  # Output: 3.14\n"
   ]
  },
  {
   "cell_type": "markdown",
   "id": "fd129724-f592-43e8-a2e3-73ce79f01883",
   "metadata": {},
   "source": [
    "#### 10. range()\n",
    "The range() function generates a sequence of numbers, often used in loops."
   ]
  },
  {
   "cell_type": "code",
   "execution_count": 11,
   "id": "bba1661e-14f9-4e09-8c09-b48598e95bf8",
   "metadata": {},
   "outputs": [
    {
     "name": "stdout",
     "output_type": "stream",
     "text": [
      "0\n",
      "1\n",
      "2\n",
      "3\n",
      "4\n"
     ]
    }
   ],
   "source": [
    "for i in range(5):\n",
    "    print(i)\n",
    "# Output: 0, 1, 2, 3, 4\n"
   ]
  },
  {
   "cell_type": "markdown",
   "id": "ec6b9cdb-b3de-4dcd-b1b5-d077f4f1bef3",
   "metadata": {},
   "source": [
    "## Practice Question\n",
    "\n",
    "1. Write a program that takes two lists (one with names and one with scores) and uses the zip() function to combine them into a list of tuples. Then, use the zip() function again to unzip them into separate lists.\n",
    "2. Write a Python program that takes a list of numbers and uses the map() function to return a new list with the squares of the original numbers.\n",
    "3. Write a Python program that takes two strings as input and prints the longer string using the len() function. If both strings have the same length, print both strings."
   ]
  }
 ],
 "metadata": {
  "kernelspec": {
   "display_name": "Python 3 (ipykernel)",
   "language": "python",
   "name": "python3"
  },
  "language_info": {
   "codemirror_mode": {
    "name": "ipython",
    "version": 3
   },
   "file_extension": ".py",
   "mimetype": "text/x-python",
   "name": "python",
   "nbconvert_exporter": "python",
   "pygments_lexer": "ipython3",
   "version": "3.12.4"
  }
 },
 "nbformat": 4,
 "nbformat_minor": 5
}
