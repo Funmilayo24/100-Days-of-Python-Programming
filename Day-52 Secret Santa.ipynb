{
 "cells": [
  {
   "cell_type": "markdown",
   "id": "a31f8da4-e92b-4d8a-a59f-2e3904d3e5e4",
   "metadata": {},
   "source": [
    "### Day 52 of Python Programming"
   ]
  },
  {
   "cell_type": "markdown",
   "id": "b2750b3c-cca7-4bd3-a902-fc5fb03729d9",
   "metadata": {},
   "source": [
    "## Secret Santa Pairing in Python\n",
    "### Overview\n",
    "Secret Santa is a holiday tradition where people anonymously give and receive gifts. In this tutorial, we'll create a Python script that randomly pairs each person in a list with another, ensuring that no one is paired with themselves.\n",
    "\n",
    "### Steps:\n",
    "Create a List of Participants\n",
    "\n",
    "Shuffle and Pair Participants\n",
    "\n",
    "Print or Save the Results\n"
   ]
  },
  {
   "cell_type": "code",
   "execution_count": 5,
   "id": "8d90ba1f",
   "metadata": {},
   "outputs": [
    {
     "name": "stdout",
     "output_type": "stream",
     "text": [
      "Enter names of participants. Type 'done' when finished\n",
      "Enter name: Funmi\n",
      "Enter name: Femi\n",
      "Enter name: Joy\n",
      "Enter name: Felix\n",
      "Enter name: Tosin\n",
      "Enter name: Lara\n",
      "Enter name: done\n",
      "\n",
      "--- Secret Santa Pairings ---\n",
      "Lara will give a gift to Funmi\n",
      "Funmi will give a gift to Joy\n",
      "Joy will give a gift to Tosin\n",
      "Tosin will give a gift to Femi\n",
      "Femi will give a gift to Felix\n",
      "Felix will give a gift to Lara\n",
      "\n",
      "Pairings saved to 'secret_santa_pairs.txt'\n"
     ]
    }
   ],
   "source": [
    "import random\n",
    "\n",
    "def assign_secret_santa(participants):\n",
    "    random.shuffle(participants)\n",
    "    santa_pairs = {}\n",
    "    for i in range(len(participants)):\n",
    "        santa_pairs[participants[i]] = participants[(i + 1) % len(participants)]\n",
    "    return santa_pairs\n",
    "\n",
    "\n",
    "participants = []\n",
    "print(\"Enter names of participants. Type 'done' when finished\")\n",
    "\n",
    "while True:\n",
    "    name = input(\"Enter name: \")\n",
    "    if name.lower() == 'done':\n",
    "        break\n",
    "    participants.append(name)\n",
    "    \n",
    "# Check if there are enough participants\n",
    "if len(participants) < 2:\n",
    "    print(\"Not enough participants. Please add at least 2 people.\")\n",
    "else:\n",
    "    santa_pairs = assign_secret_santa(participants)\n",
    "    \n",
    "    # Display the pairings\n",
    "    print(\"\\n--- Secret Santa Pairings ---\")\n",
    "    for santa, recipient in santa_pairs.items():\n",
    "        print(f\"{santa} will give a gift to {recipient}\")\n",
    "        \n",
    "    with open(\"secret_santa_pairs.txt\", \"w\") as file:\n",
    "        file.write(\"--- Secret Santa Pairings ---\")\n",
    "        for santa, recipient in santa_pairs.items():\n",
    "            file.write(f\"{santa} will give a gift to {recipient}\\n\")\n",
    "            \n",
    "    print(\"\\nPairings saved to 'secret_santa_pairs.txt'\")\n"
   ]
  },
  {
   "cell_type": "code",
   "execution_count": null,
   "id": "0f900b72",
   "metadata": {},
   "outputs": [],
   "source": []
  }
 ],
 "metadata": {
  "kernelspec": {
   "display_name": "Python 3 (ipykernel)",
   "language": "python",
   "name": "python3"
  },
  "language_info": {
   "codemirror_mode": {
    "name": "ipython",
    "version": 3
   },
   "file_extension": ".py",
   "mimetype": "text/x-python",
   "name": "python",
   "nbconvert_exporter": "python",
   "pygments_lexer": "ipython3",
   "version": "3.11.5"
  }
 },
 "nbformat": 4,
 "nbformat_minor": 5
}
