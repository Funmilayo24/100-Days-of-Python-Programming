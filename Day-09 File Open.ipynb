{
 "cells": [
  {
   "cell_type": "markdown",
   "id": "d6d75544-637a-4b48-8d04-77d88c020c07",
   "metadata": {},
   "source": [
    "### Day 9 of Programming"
   ]
  },
  {
   "cell_type": "markdown",
   "id": "c565bb45-ee24-4766-9fbd-233285d39985",
   "metadata": {},
   "source": [
    "### Python Tutorial: File Handling using open()\n",
    "Introduction to File Handling in Python\n",
    "Python allows you to work with files—both reading from and writing to them—using built-in functions. The open() function is the most important function when dealing with file operations in Python.\n",
    "\n",
    "File handling is essential for:\n",
    "\n",
    "Reading data from files (e.g., text, CSV files).\n",
    "\n",
    "Writing or appending data to files.\n",
    "\n",
    "Managing data persistently."
   ]
  },
  {
   "cell_type": "markdown",
   "id": "d8c1ab44-d3b2-457f-b66b-dd7eb031537e",
   "metadata": {},
   "source": [
    "### Step 1: Using the open() Function\n",
    "The open() function is used to open a file. It returns a file object, which allows you to read from or write to the file."
   ]
  },
  {
   "cell_type": "code",
   "execution_count": null,
   "id": "f02dbc3b-ffad-429e-9ae3-39df23c4bf9a",
   "metadata": {},
   "outputs": [],
   "source": [
    "file_object = open(\"filename\", \"mode\")\n"
   ]
  },
  {
   "cell_type": "markdown",
   "id": "edb81c72-83ad-49b0-ad92-c72b931fa21c",
   "metadata": {},
   "source": [
    "### Common Modes:\n",
    "\n",
    "'r': Read mode (default). Opens a file for reading. The file must exist.\n",
    "\n",
    "'w': Write mode. Opens a file for writing (overwrites if the file exists, creates a new file if it doesn’t).\n",
    "\n",
    "'a': Append mode. Opens a file for appending. New data is added at the end.\n",
    "\n",
    "'x': Exclusive creation. Opens a file for exclusive creation; fails if the file already exists.\n",
    "\n",
    "'b': Binary mode. Used for binary files (images, etc.).\n",
    "\n",
    "'t': Text mode (default). Opens a file for reading or writing in text format."
   ]
  },
  {
   "cell_type": "markdown",
   "id": "12b9782c-23c8-4394-a1af-bc591f38aad0",
   "metadata": {},
   "source": [
    "### Step 2: Reading from Files\n",
    "To read the contents of a file, you need to open it in read mode ('r')."
   ]
  },
  {
   "cell_type": "code",
   "execution_count": null,
   "id": "98c5dfe9-1790-4ad2-8457-dabb87b980e0",
   "metadata": {},
   "outputs": [],
   "source": [
    "# Open the file in read mode\n",
    "file = open(\"example.txt\", \"r\")\n",
    "\n",
    "# Read the content of the file\n",
    "content = file.read()\n",
    "\n",
    "# Print the content\n",
    "print(content)\n",
    "\n",
    "# Close the file\n",
    "file.close()"
   ]
  },
  {
   "cell_type": "markdown",
   "id": "8a2f1c8c-7891-49f6-b96a-eddb93443c29",
   "metadata": {},
   "source": [
    "### Explanation:\n",
    "file.read(): Reads the entire content of the file as a single string.\n",
    "\n",
    "file.close(): Closes the file after reading to free up system resources.\n"
   ]
  },
  {
   "cell_type": "markdown",
   "id": "fe29b816-c4a2-4a68-ab72-5d466678c941",
   "metadata": {},
   "source": [
    "#### Reading Line by Line\n",
    "You can also read a file line by line using a loop or the readline() method."
   ]
  },
  {
   "cell_type": "code",
   "execution_count": 4,
   "id": "05273862-03c9-46a2-a29b-2ef5f187eb9c",
   "metadata": {},
   "outputs": [
    {
     "name": "stdout",
     "output_type": "stream",
     "text": [
      "This is an input file\n"
     ]
    }
   ],
   "source": [
    "# Open the file in read mode\n",
    "file = open(\"input.txt\", \"r\")\n",
    "\n",
    "# Read each line one by one\n",
    "for line in file:\n",
    "    print(line.strip())  # strip() removes newline characters\n",
    "\n",
    "# Close the file\n",
    "file.close()\n"
   ]
  },
  {
   "cell_type": "markdown",
   "id": "9242ac3e-6d84-458b-8d69-4f7810337a97",
   "metadata": {},
   "source": [
    "#### Using readlines()\n",
    "The readlines() method reads all the lines from a file and returns them as a list."
   ]
  },
  {
   "cell_type": "code",
   "execution_count": 3,
   "id": "bfbd0aad-365c-475b-87bf-642e69e75345",
   "metadata": {},
   "outputs": [
    {
     "name": "stdout",
     "output_type": "stream",
     "text": [
      "['This is an input file']\n",
      "This is an input file\n"
     ]
    }
   ],
   "source": [
    "# Open the file\n",
    "file = open(\"input.txt\", \"r\")\n",
    "\n",
    "# Read all lines into a list\n",
    "lines = file.readlines()\n",
    "print(lines)\n",
    "\n",
    "# Print each line from the list\n",
    "for line in lines:\n",
    "    print(line.strip())\n",
    "\n",
    "file.close()\n"
   ]
  },
  {
   "cell_type": "markdown",
   "id": "23a44e3d-ad61-417a-9911-b8a6e7727df7",
   "metadata": {},
   "source": [
    "### Step 3: Writing to Files\n",
    "To write data to a file, open it in write mode ('w') or append mode ('a').\n",
    "\n",
    "Writing to a File ('w' mode)"
   ]
  },
  {
   "cell_type": "code",
   "execution_count": 5,
   "id": "af29f7fa-e8a6-4dd5-be7e-21a4148c663b",
   "metadata": {},
   "outputs": [],
   "source": [
    "# Open the file in write mode (creates a new file if it doesn't exist)\n",
    "file = open(\"output.txt\", \"w\")\n",
    "\n",
    "# Write data to the file\n",
    "file.write(\"Hello, world!\\n\")\n",
    "file.write(\"This is a new line.\\n\")\n",
    "\n",
    "# Close the file\n",
    "file.close()\n"
   ]
  },
  {
   "cell_type": "markdown",
   "id": "c53d0c54-19c6-4fd3-8d11-9840cea3a046",
   "metadata": {},
   "source": [
    "#### Explanation:\n",
    "file.write(): Writes a string to the file. Note that it does not add a newline automatically, so if you want multiple lines, you need to include \\n manually."
   ]
  },
  {
   "cell_type": "markdown",
   "id": "fcd98315-b5d2-40f1-b569-03781de9ae40",
   "metadata": {},
   "source": [
    "### Appending to a File ('a' mode)\n",
    "Appending adds new content at the end of an existing file without overwriting it."
   ]
  },
  {
   "cell_type": "code",
   "execution_count": 6,
   "id": "4eef3510-38e7-4ff9-b7e6-006a39ceaa53",
   "metadata": {},
   "outputs": [],
   "source": [
    "# Open the file in append mode\n",
    "file = open(\"output.txt\", \"a\")\n",
    "\n",
    "# Add new content to the file\n",
    "file.write(\"This line is appended.\\n\")\n",
    "\n",
    "# Close the file\n",
    "file.close()\n"
   ]
  },
  {
   "cell_type": "markdown",
   "id": "32c0dce6-f630-44b1-a567-2348b64b4e77",
   "metadata": {},
   "source": [
    "#### Explanation:\n",
    "'a' mode: Opens the file in append mode, where new data is added at the end of the existing content."
   ]
  },
  {
   "cell_type": "markdown",
   "id": "5dbffa9f-203f-45cf-b480-b5d5824a6afa",
   "metadata": {},
   "source": [
    "### Step 4: Using the with Statement\n",
    "To avoid forgetting to close files manually, you can use the with statement, which automatically handles file closing."
   ]
  },
  {
   "cell_type": "code",
   "execution_count": 8,
   "id": "1a60fa19-69a7-4ec6-a6c4-568569457fea",
   "metadata": {},
   "outputs": [
    {
     "name": "stdout",
     "output_type": "stream",
     "text": [
      "Hello, world!\n",
      "This is a new line.\n",
      "This line is appended.\n",
      "\n"
     ]
    }
   ],
   "source": [
    "# Using 'with' to open a file\n",
    "with open(\"output.txt\", \"r\") as file:\n",
    "    content = file.read()\n",
    "    print(content)\n",
    "\n",
    "# File is automatically closed at the end of the block\n"
   ]
  },
  {
   "cell_type": "markdown",
   "id": "95f8591c-e252-4b14-9992-775fe17e5c6a",
   "metadata": {},
   "source": [
    "### Step 5: Working with Binary Files\n",
    "If you’re working with binary files (such as images, audio files, etc.), you need to use binary mode ('b')."
   ]
  },
  {
   "cell_type": "code",
   "execution_count": null,
   "id": "e8c0deb7-b164-4a77-bf19-c9c395caf153",
   "metadata": {},
   "outputs": [],
   "source": [
    "# Open an image file in binary mode\n",
    "with open(\"image.png\", \"rb\") as file:\n",
    "    binary_data = file.read()\n",
    "    print(binary_data)\n"
   ]
  },
  {
   "cell_type": "markdown",
   "id": "6f067af2-2954-4729-bdf6-d85011b3355a",
   "metadata": {},
   "source": [
    "'rb': Opens the file in read-binary mode.\n",
    "\n",
    "'wb': Opens the file in write-binary mode."
   ]
  },
  {
   "cell_type": "markdown",
   "id": "26ad3d9a-75c0-4e8e-ae2a-dc87472db678",
   "metadata": {},
   "source": [
    "### Step 6: Handling File Exceptions\n",
    "Sometimes, a file might not exist or other issues might occur. You can handle such cases using try-except blocks."
   ]
  },
  {
   "cell_type": "code",
   "execution_count": 9,
   "id": "c2cd319c-7ee2-4fef-9218-e5319899011e",
   "metadata": {},
   "outputs": [
    {
     "name": "stdout",
     "output_type": "stream",
     "text": [
      "File not found. Please check the filename.\n"
     ]
    }
   ],
   "source": [
    "try:\n",
    "    with open(\"non_existent_file.txt\", \"r\") as file:\n",
    "        content = file.read()\n",
    "except FileNotFoundError:\n",
    "    print(\"File not found. Please check the filename.\")\n"
   ]
  },
  {
   "cell_type": "markdown",
   "id": "53e19f1c-736c-47ae-afe6-1105c93e1abb",
   "metadata": {},
   "source": [
    "### Practice Questions\n",
    "\n",
    "1. Write a Python program that prompts the user for their name and age, then writes this information to a file called user_info.txt. The file should be created (or overwritten) if it already exists.\n",
    "2. Create a Python program that opens a file called story.txt, counts the number of words in the file, and prints the total word count.\n",
    "3. Write a Python program that reads a CSV file called students.csv that contains names and grades of students. Then, write another file called student_results.csv that appends the result of whether the student passed or failed. Assume that a score of 50 or above is a pass."
   ]
  },
  {
   "cell_type": "code",
   "execution_count": null,
   "id": "cf271c96-5fb0-420d-827b-67328694686a",
   "metadata": {},
   "outputs": [],
   "source": []
  }
 ],
 "metadata": {
  "kernelspec": {
   "display_name": "Python 3 (ipykernel)",
   "language": "python",
   "name": "python3"
  },
  "language_info": {
   "codemirror_mode": {
    "name": "ipython",
    "version": 3
   },
   "file_extension": ".py",
   "mimetype": "text/x-python",
   "name": "python",
   "nbconvert_exporter": "python",
   "pygments_lexer": "ipython3",
   "version": "3.12.4"
  }
 },
 "nbformat": 4,
 "nbformat_minor": 5
}
