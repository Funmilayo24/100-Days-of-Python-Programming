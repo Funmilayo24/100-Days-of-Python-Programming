{
 "cells": [
  {
   "cell_type": "markdown",
   "id": "484d0df8",
   "metadata": {},
   "source": [
    "#### Day 68 of Python Programming"
   ]
  },
  {
   "cell_type": "markdown",
   "id": "ee3b09d9",
   "metadata": {},
   "source": [
    "### Advanced NumPy Operations"
   ]
  },
  {
   "cell_type": "markdown",
   "id": "3d034c4a",
   "metadata": {},
   "source": [
    "### 1. Reshaping Arrays"
   ]
  },
  {
   "cell_type": "code",
   "execution_count": 1,
   "id": "41c4f7a1",
   "metadata": {},
   "outputs": [],
   "source": [
    "import numpy as np"
   ]
  },
  {
   "cell_type": "code",
   "execution_count": 2,
   "id": "3993baee",
   "metadata": {},
   "outputs": [
    {
     "name": "stdout",
     "output_type": "stream",
     "text": [
      "Original 1D Array: [ 1  2  3  4  5  6  7  8  9 10 11 12]\n",
      "Reshaped to 2D (3x4):\n",
      " [[ 1  2  3  4]\n",
      " [ 5  6  7  8]\n",
      " [ 9 10 11 12]]\n",
      "Flattened Array: [ 1  2  3  4  5  6  7  8  9 10 11 12]\n"
     ]
    }
   ],
   "source": [
    "# Reshaping a 1D array to 2D\n",
    "array_1d = np.arange(1, 13)\n",
    "array_2d = array_1d.reshape(3, 4)\n",
    "print(\"Original 1D Array:\", array_1d)\n",
    "print(\"Reshaped to 2D (3x4):\\n\", array_2d)\n",
    "\n",
    "# Flattening a 2D array to 1D\n",
    "flattened = array_2d.ravel()\n",
    "print(\"Flattened Array:\", flattened)\n"
   ]
  },
  {
   "cell_type": "markdown",
   "id": "c41a7eec",
   "metadata": {},
   "source": [
    "#### Explanation:\n",
    "\n",
    "reshape() changes the dimensions of an array. The total number of elements must remain constant.\n",
    "\n",
    "ravel() flattens a multi-dimensional array into a 1D array."
   ]
  },
  {
   "cell_type": "markdown",
   "id": "cca09d2c",
   "metadata": {},
   "source": [
    "#### 2. Broadcasting"
   ]
  },
  {
   "cell_type": "code",
   "execution_count": 3,
   "id": "fc4363c3",
   "metadata": {},
   "outputs": [
    {
     "name": "stdout",
     "output_type": "stream",
     "text": [
      "Original Matrix:\n",
      " [[1 2 3]\n",
      " [4 5 6]\n",
      " [7 8 9]]\n",
      "Row to Add: [10 20 30]\n",
      "Result after Broadcasting:\n",
      " [[11 22 33]\n",
      " [14 25 36]\n",
      " [17 28 39]]\n"
     ]
    }
   ],
   "source": [
    "# Adding a 1D array to each row of a 2D array\n",
    "matrix = np.array([[1, 2, 3], [4, 5, 6], [7, 8, 9]])\n",
    "row = np.array([10, 20, 30])\n",
    "result = matrix + row\n",
    "print(\"Original Matrix:\\n\", matrix)\n",
    "print(\"Row to Add:\", row)\n",
    "print(\"Result after Broadcasting:\\n\", result)\n"
   ]
  },
  {
   "cell_type": "markdown",
   "id": "ca0f3d91",
   "metadata": {},
   "source": [
    "### 3. Matrix Multiplication"
   ]
  },
  {
   "cell_type": "code",
   "execution_count": 4,
   "id": "4ec86b14",
   "metadata": {},
   "outputs": [
    {
     "name": "stdout",
     "output_type": "stream",
     "text": [
      "Element-wise Multiplication:\n",
      " [[ 5 12]\n",
      " [21 32]]\n",
      "Matrix Multiplication:\n",
      " [[19 22]\n",
      " [43 50]]\n"
     ]
    }
   ],
   "source": [
    "# Element-wise multiplication\n",
    "A = np.array([[1, 2], [3, 4]])\n",
    "B = np.array([[5, 6], [7, 8]])\n",
    "element_wise = A * B\n",
    "print(\"Element-wise Multiplication:\\n\", element_wise)\n",
    "\n",
    "# Matrix multiplication\n",
    "matrix_mult = np.dot(A, B)  # or A @ B\n",
    "print(\"Matrix Multiplication:\\n\", matrix_mult)\n"
   ]
  },
  {
   "cell_type": "markdown",
   "id": "fb361330",
   "metadata": {},
   "source": [
    "#### Explanation:\n",
    "\n",
    "Use * for element-wise multiplication and np.dot() or @ for matrix multiplication."
   ]
  },
  {
   "cell_type": "markdown",
   "id": "49f348f5",
   "metadata": {},
   "source": [
    "### 4. Sorting and Searching"
   ]
  },
  {
   "cell_type": "code",
   "execution_count": 5,
   "id": "bff62643",
   "metadata": {},
   "outputs": [
    {
     "name": "stdout",
     "output_type": "stream",
     "text": [
      "Sorted Array: [ 5 10 20 25 35]\n",
      "Indices where elements > 15: (array([0, 2, 4], dtype=int64),)\n"
     ]
    }
   ],
   "source": [
    "array = np.array([25, 10, 35, 5, 20])\n",
    "\n",
    "# Sorting\n",
    "sorted_array = np.sort(array)\n",
    "print(\"Sorted Array:\", sorted_array)\n",
    "\n",
    "# Searching\n",
    "indices = np.where(array > 15)\n",
    "print(\"Indices where elements > 15:\", indices)\n"
   ]
  },
  {
   "cell_type": "markdown",
   "id": "f4da2c3a",
   "metadata": {},
   "source": [
    "### Explanation:\n",
    "\n",
    "np.sort() sorts an array.\n",
    "\n",
    "np.where() finds indices of elements that satisfy a condition."
   ]
  },
  {
   "cell_type": "markdown",
   "id": "439e1029",
   "metadata": {},
   "source": [
    "### 5 Stacking and Splitting"
   ]
  },
  {
   "cell_type": "code",
   "execution_count": 7,
   "id": "7cbbb783",
   "metadata": {},
   "outputs": [
    {
     "name": "stdout",
     "output_type": "stream",
     "text": [
      "Vertical Stack:\n",
      " [[1 2 3]\n",
      " [4 5 6]]\n",
      "Horizontal Stack: [1 2 3 4 5 6]\n",
      "Split Arrays: [array([1, 2, 3]), array([4, 5, 6])]\n"
     ]
    }
   ],
   "source": [
    "A = np.array([1, 2, 3])\n",
    "B = np.array([4, 5, 6])\n",
    "\n",
    "# Vertical stacking\n",
    "vstacked = np.vstack((A, B))\n",
    "print(\"Vertical Stack:\\n\", vstacked)\n",
    "\n",
    "# Horizontal stacking\n",
    "hstacked = np.hstack((A, B))\n",
    "print(\"Horizontal Stack:\", hstacked)\n",
    "\n",
    "# Splitting\n",
    "split_arrays = np.split(hstacked, 2)\n",
    "print(\"Split Arrays:\", split_arrays)\n"
   ]
  },
  {
   "cell_type": "markdown",
   "id": "9c669ac2",
   "metadata": {},
   "source": [
    "#### Explanation:\n",
    "\n",
    "vstack() stacks arrays vertically, while hstack() stacks them horizontally.\n",
    "\n",
    "split() divides an array into multiple parts.\n"
   ]
  },
  {
   "cell_type": "markdown",
   "id": "839b730e",
   "metadata": {},
   "source": [
    "#### Practice Questions\n",
    "Create a 4x4 matrix and reshape it into a 2x8 matrix.\n",
    "\n",
    "Use broadcasting to add a 1D array to each row of a 2D array.\n",
    "\n",
    "Create a 3x3 matrix and find its determinant and inverse.\n",
    "\n",
    "Save a NumPy array to a file and load it back into your program."
   ]
  },
  {
   "cell_type": "code",
   "execution_count": null,
   "id": "2db05c28",
   "metadata": {},
   "outputs": [],
   "source": []
  }
 ],
 "metadata": {
  "kernelspec": {
   "display_name": "Python 3 (ipykernel)",
   "language": "python",
   "name": "python3"
  },
  "language_info": {
   "codemirror_mode": {
    "name": "ipython",
    "version": 3
   },
   "file_extension": ".py",
   "mimetype": "text/x-python",
   "name": "python",
   "nbconvert_exporter": "python",
   "pygments_lexer": "ipython3",
   "version": "3.11.5"
  }
 },
 "nbformat": 4,
 "nbformat_minor": 5
}
