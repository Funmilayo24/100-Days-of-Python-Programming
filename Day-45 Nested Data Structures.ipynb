{
 "cells": [
  {
   "cell_type": "markdown",
   "id": "c5563d43-cba6-49d9-95da-d0df067c394b",
   "metadata": {},
   "source": [
    "### Day 45 of python programming"
   ]
  },
  {
   "cell_type": "markdown",
   "id": "1eeabd74-beac-4db2-85c8-56f2a09ee8a5",
   "metadata": {},
   "source": [
    "## Nested Data Structures in Python (Lists of Lists, Dictionaries of Lists)\n",
    "When working with complex data in Python, you’ll often encounter situations where you need to store data in more intricate ways than just simple lists or dictionaries. Python allows you to create nested data structures, such as lists of lists or dictionaries of lists. This tutorial will explain how to use these nested data structures, their use cases, and how to access or manipulate their elements.\n",
    "\n",
    "### Table of Contents\n",
    "Lists of Lists\n",
    "\n",
    "Accessing Elements in a List of Lists\n",
    "\n",
    "Modifying a List of Lists\n",
    "\n",
    "Dictionaries of Lists\n",
    "\n",
    "Accessing and Modifying a Dictionary of Lists\n",
    "\n",
    "### Use Cases and Examples\n",
    "#### 1. Lists of Lists\n",
    "A list of lists is simply a list where each element is another list. This is useful when you need to store data in a grid or matrix-like structure.\n",
    "\n",
    "Example:"
   ]
  },
  {
   "cell_type": "code",
   "execution_count": 1,
   "id": "4b4a85e8-b87f-446a-8677-e0f6aa6d50a3",
   "metadata": {},
   "outputs": [],
   "source": [
    "a = [1,2,3,4,5]\n",
    "\n",
    "matrix = [\n",
    "    [1, 2, 3],\n",
    "    [4, 5, 6],\n",
    "    [7, 8, 9]\n",
    "]\n"
   ]
  },
  {
   "cell_type": "markdown",
   "id": "3da2932e-9a9a-4897-9c7f-0474b865ae4b",
   "metadata": {},
   "source": [
    "Here, matrix is a list where each element is itself a list representing a row of numbers. It’s like a 2D array.\n",
    "\n"
   ]
  },
  {
   "cell_type": "markdown",
   "id": "274f1949-1651-41cb-9fa5-90e8289d22e3",
   "metadata": {},
   "source": [
    "### 2. Accessing Elements in a List of Lists\n",
    "To access an element in a list of lists, use two sets of square brackets: one for the row and one for the column.\n",
    "\n",
    "Example:"
   ]
  },
  {
   "cell_type": "code",
   "execution_count": 7,
   "id": "82fd78d4-c896-46a3-9526-d1dd8dda7979",
   "metadata": {},
   "outputs": [
    {
     "name": "stdout",
     "output_type": "stream",
     "text": [
      "5\n"
     ]
    }
   ],
   "source": [
    "matrix = [\n",
    "    [1, 2, 3],\n",
    "    [4, 5, 6],\n",
    "    [7, 8, 9]\n",
    "]\n",
    "\n",
    "element = matrix[1][1]\n",
    "print(element)"
   ]
  },
  {
   "cell_type": "markdown",
   "id": "db53fc5a-55f7-4bde-9772-7135e0db2343",
   "metadata": {},
   "source": [
    "\n",
    "\n",
    "### 3. Modifying a List of Lists\n",
    "You can modify elements in a list of lists by accessing them using their indices.\n",
    "\n",
    "Example:"
   ]
  },
  {
   "cell_type": "code",
   "execution_count": 8,
   "id": "674497da-7506-4d0c-b9e2-2cd4d3f91136",
   "metadata": {},
   "outputs": [
    {
     "name": "stdout",
     "output_type": "stream",
     "text": [
      "[[1, 2, 3], [4, 5, 6], [7, 8, 20]]\n"
     ]
    }
   ],
   "source": [
    "matrix = [\n",
    "    [1, 2, 3],\n",
    "    [4, 5, 6],\n",
    "    [7, 8, 9]\n",
    "]\n",
    "\n",
    "matrix[2][2] = 20\n",
    "print(matrix)"
   ]
  },
  {
   "cell_type": "markdown",
   "id": "45d43e82-9b1e-42f7-a03a-c0c96ba573c5",
   "metadata": {},
   "source": [
    "\n",
    "\n",
    "### 4. Dictionaries of Lists\n",
    "A dictionary of lists is a dictionary where each key maps to a list of values. This is useful when you want to group data under specific labels or categories.\n",
    "\n",
    "Example:"
   ]
  },
  {
   "cell_type": "code",
   "execution_count": 4,
   "id": "230684a2-d051-497b-bdfa-f784b67d2b8c",
   "metadata": {},
   "outputs": [],
   "source": []
  },
  {
   "cell_type": "markdown",
   "id": "5eb09bbe-7ca8-46cc-9175-26b1e2e9db39",
   "metadata": {},
   "source": [
    "In this example, the dictionary student_grades holds a list of grades for each student.\n",
    "\n",
    "### 5. Accessing and Modifying a Dictionary of Lists\n",
    "You can access and modify the elements in a dictionary of lists by first specifying the key, then the index within the list.\n",
    "\n",
    "Accessing Elements:"
   ]
  },
  {
   "cell_type": "code",
   "execution_count": null,
   "id": "4483ab4d-b912-4f14-b7ac-7074b5bc8bf1",
   "metadata": {},
   "outputs": [],
   "source": []
  },
  {
   "cell_type": "markdown",
   "id": "045e33bd-7382-408e-b89b-ecf58c3faf29",
   "metadata": {},
   "source": [
    "\n",
    "\n",
    "### Modifying Elements:"
   ]
  },
  {
   "cell_type": "code",
   "execution_count": null,
   "id": "9cc0e022-dced-4b1e-8f47-012b59b8c0b2",
   "metadata": {},
   "outputs": [],
   "source": []
  },
  {
   "cell_type": "markdown",
   "id": "8e36aad1-607b-4a88-9407-db5137a3a432",
   "metadata": {},
   "source": [
    "### Conclusion\n",
    "Nested data structures like lists of lists and dictionaries of lists provide powerful ways to organize and manage complex data in Python. Whether you’re working with grids, tables, or grouped data, these structures allow you to store and manipulate data efficiently. With practice, you’ll find them to be an invaluable tool in your Python programming toolkit."
   ]
  },
  {
   "cell_type": "markdown",
   "id": "d63873f3-cf10-4505-9674-72efce880f5b",
   "metadata": {},
   "source": [
    "### Practice Questions\n",
    "1. Create a Student Database (List of Dictionaries)\n",
    "Write a Python program to create a list of dictionaries, where each dictionary represents a student. Each student should have name, age, and grades (a list of grades).\n",
    "\n",
    "Create at least three student entries.\n",
    "\n",
    "Access the second student’s name and modify one of their grades.\n",
    "\n",
    "2. Expense Tracker (Dictionary of Lists)\n",
    "Create a dictionary where each key is a category (\"groceries\", \"entertainment\", \"transportation\") and the value is a list of expenses (in dollars). Then:\n",
    "\n",
    "Add a new expense to the \"groceries\" category.\n",
    "\n",
    "Calculate and print the total amount of expenses in the \"entertainment\" category."
   ]
  },
  {
   "cell_type": "code",
   "execution_count": null,
   "id": "cb941f91-e86b-426d-a238-1b713b103089",
   "metadata": {},
   "outputs": [],
   "source": []
  }
 ],
 "metadata": {
  "kernelspec": {
   "display_name": "Python 3 (ipykernel)",
   "language": "python",
   "name": "python3"
  },
  "language_info": {
   "codemirror_mode": {
    "name": "ipython",
    "version": 3
   },
   "file_extension": ".py",
   "mimetype": "text/x-python",
   "name": "python",
   "nbconvert_exporter": "python",
   "pygments_lexer": "ipython3",
   "version": "3.11.5"
  }
 },
 "nbformat": 4,
 "nbformat_minor": 5
}
