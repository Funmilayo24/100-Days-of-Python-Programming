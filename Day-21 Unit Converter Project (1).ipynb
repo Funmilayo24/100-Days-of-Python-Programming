{
 "cells": [
  {
   "cell_type": "markdown",
   "id": "d7469bfd-77f8-4531-84aa-fa5f84f0126c",
   "metadata": {},
   "source": [
    "### Day 21 of Programming"
   ]
  },
  {
   "cell_type": "markdown",
   "id": "d168b02f-71b6-4109-a2ab-d6d739e3cad8",
   "metadata": {},
   "source": [
    "### Unit Converter\n",
    "Objective: Create a unit converter (e.g., Celsius to Fahrenheit, kilometers to miles).\n",
    "\n",
    "Steps:\n",
    "\n",
    "Ask the user for the value and the unit they want to convert.\n",
    "\n",
    "Use the appropriate conversion formulas."
   ]
  },
  {
   "cell_type": "code",
   "execution_count": 1,
   "id": "68e0e7ca-06c0-4ffb-93fb-9c82d4c2b349",
   "metadata": {},
   "outputs": [
    {
     "name": "stdin",
     "output_type": "stream",
     "text": [
      "Convert temperature or distance (temp/dist):  temp\n",
      "Enter Celsius:  54\n"
     ]
    },
    {
     "name": "stdout",
     "output_type": "stream",
     "text": [
      "Fahrenheit: 129.2\n"
     ]
    }
   ],
   "source": [
    "def celsius_to_fahrenheit(c):\n",
    "    return (c * 9/5) + 32\n",
    "\n",
    "def km_to_miles(km):\n",
    "    return km * 0.621371\n",
    "\n",
    "choice = input(\"Convert temperature or distance (temp/dist): \")\n",
    "\n",
    "if choice == 'temp':\n",
    "    celsius = float(input(\"Enter Celsius: \"))\n",
    "    print(f\"Fahrenheit: {celsius_to_fahrenheit(celsius)}\")\n",
    "elif choice == 'dist':\n",
    "    km = float(input(\"Enter kilometers: \"))\n",
    "    print(f\"Miles: {km_to_miles(km)}\")\n",
    "else:\n",
    "    print(\"Invalid choice\")\n"
   ]
  },
  {
   "cell_type": "code",
   "execution_count": null,
   "id": "b47740f6-60b8-4b82-8d00-6ad32454f021",
   "metadata": {},
   "outputs": [],
   "source": []
  }
 ],
 "metadata": {
  "kernelspec": {
   "display_name": "Python 3 (ipykernel)",
   "language": "python",
   "name": "python3"
  },
  "language_info": {
   "codemirror_mode": {
    "name": "ipython",
    "version": 3
   },
   "file_extension": ".py",
   "mimetype": "text/x-python",
   "name": "python",
   "nbconvert_exporter": "python",
   "pygments_lexer": "ipython3",
   "version": "3.12.4"
  }
 },
 "nbformat": 4,
 "nbformat_minor": 5
}
