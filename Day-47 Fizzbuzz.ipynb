{
 "cells": [
  {
   "cell_type": "markdown",
   "id": "238daff1-bdb5-4b97-9c5c-a16eb4f71618",
   "metadata": {},
   "source": [
    "### Day 47 of programming"
   ]
  },
  {
   "cell_type": "markdown",
   "id": "f006fa26-0801-4fb3-8b88-90508f598423",
   "metadata": {},
   "source": [
    "## Python FizzBuzz\n",
    "The FizzBuzz problem is a popular coding challenge often used in programming interviews. It's simple but demonstrates key programming concepts such as loops, conditionals, and modulus operations. This tutorial will guide you through solving the FizzBuzz problem in Python, explaining the logic behind it step by step.\n",
    "\n",
    "### What is FizzBuzz?\n",
    "The FizzBuzz challenge is defined as follows:\n",
    "\n",
    "Print numbers from 1 to a given number (typically 100).\n",
    "\n",
    "For multiples of 3, print \"Fizz\" instead of the number.\n",
    "\n",
    "For multiples of 5, print \"Buzz\" instead of the number.\n",
    "\n",
    "For numbers that are multiples of both 3 and 5, print \"FizzBuzz\".\n"
   ]
  },
  {
   "cell_type": "code",
   "execution_count": 3,
   "id": "b16723ee-a024-4ced-b448-eda5d9f067a0",
   "metadata": {},
   "outputs": [
    {
     "name": "stdout",
     "output_type": "stream",
     "text": [
      "Enter the number up to which you want to run FizzBuzz: subscribe\n",
      "Invalid Input. Please enter an integer\n"
     ]
    }
   ],
   "source": [
    "def fizzbuzz(n):\n",
    "    for num in range(1, n+1):\n",
    "        if num % 3 == 0 and num % 5 == 0:\n",
    "            print(\"FizzBuzz\")\n",
    "        elif num % 3 == 0:\n",
    "            print(\"Fizz\")\n",
    "        elif num % 5 == 0:\n",
    "            print(\"Buzz\")\n",
    "        else:\n",
    "            print(num)\n",
    "            \n",
    "try:\n",
    "    user_input = int(input(\"Enter the number up to which you want to run FizzBuzz: \"))\n",
    "    if user_input <= 0:\n",
    "        print(\"Enter a positive Number\")\n",
    "    else:\n",
    "        fizzbuzz(user_input)\n",
    "except ValueError:\n",
    "    print(\"Invalid Input. Please enter an integer\")\n"
   ]
  },
  {
   "cell_type": "code",
   "execution_count": null,
   "id": "346324b7-f906-4db3-ba5f-28a1afb5678e",
   "metadata": {},
   "outputs": [],
   "source": []
  }
 ],
 "metadata": {
  "kernelspec": {
   "display_name": "Python 3 (ipykernel)",
   "language": "python",
   "name": "python3"
  },
  "language_info": {
   "codemirror_mode": {
    "name": "ipython",
    "version": 3
   },
   "file_extension": ".py",
   "mimetype": "text/x-python",
   "name": "python",
   "nbconvert_exporter": "python",
   "pygments_lexer": "ipython3",
   "version": "3.11.5"
  }
 },
 "nbformat": 4,
 "nbformat_minor": 5
}
