{
 "cells": [
  {
   "cell_type": "markdown",
   "id": "08d6f18e-57d3-4754-9bf2-3ff95f1fb6cb",
   "metadata": {},
   "source": [
    "### Day 5 of programming"
   ]
  },
  {
   "cell_type": "markdown",
   "id": "d3c5745f-21aa-4de5-a811-1a58bb1ea21d",
   "metadata": {},
   "source": [
    "### Number Guessing Game\n",
    "Objective: Write a program that randomly selects a number between 1 and 100, and the user must guess the number.\n",
    "\n",
    "Steps:\n",
    "\n",
    "Import the random module.\n",
    "\n",
    "Generate a random number using random.randint().\n",
    "\n",
    "Use a while loop to allow the user multiple attempts to guess the number.\n",
    "\n",
    "Provide feedback like \"Too high\" or \"Too low\" after each guess."
   ]
  },
  {
   "cell_type": "code",
   "execution_count": 1,
   "id": "5219f2f9-e645-491c-be2c-75ca53f64717",
   "metadata": {},
   "outputs": [
    {
     "name": "stdin",
     "output_type": "stream",
     "text": [
      "Guess the number (1-100):  23\n"
     ]
    },
    {
     "name": "stdout",
     "output_type": "stream",
     "text": [
      "Too low!\n"
     ]
    },
    {
     "name": "stdin",
     "output_type": "stream",
     "text": [
      "Guess the number (1-100):  56\n"
     ]
    },
    {
     "name": "stdout",
     "output_type": "stream",
     "text": [
      "Too low!\n"
     ]
    },
    {
     "name": "stdin",
     "output_type": "stream",
     "text": [
      "Guess the number (1-100):  78\n"
     ]
    },
    {
     "name": "stdout",
     "output_type": "stream",
     "text": [
      "Too low!\n"
     ]
    },
    {
     "name": "stdin",
     "output_type": "stream",
     "text": [
      "Guess the number (1-100):  99\n"
     ]
    },
    {
     "name": "stdout",
     "output_type": "stream",
     "text": [
      "Too high!\n"
     ]
    },
    {
     "name": "stdin",
     "output_type": "stream",
     "text": [
      "Guess the number (1-100):  89\n"
     ]
    },
    {
     "name": "stdout",
     "output_type": "stream",
     "text": [
      "Congrats! You guessed it in 5 attempts.\n"
     ]
    }
   ],
   "source": [
    "import random\n",
    "\n",
    "number = random.randint(1, 100)\n",
    "attempts = 0\n",
    "\n",
    "while True:\n",
    "    guess = int(input(\"Guess the number (1-100): \"))\n",
    "    attempts += 1\n",
    "    \n",
    "    if guess < number:\n",
    "        print(\"Too low!\")\n",
    "    elif guess > number:\n",
    "        print(\"Too high!\")\n",
    "    else:\n",
    "        print(f\"Congrats! You guessed it in {attempts} attempts.\")\n",
    "        break\n"
   ]
  },
  {
   "cell_type": "code",
   "execution_count": null,
   "id": "406bd0f0-e947-4fab-bca3-bef2e20cdbfa",
   "metadata": {},
   "outputs": [],
   "source": []
  }
 ],
 "metadata": {
  "kernelspec": {
   "display_name": "Python 3 (ipykernel)",
   "language": "python",
   "name": "python3"
  },
  "language_info": {
   "codemirror_mode": {
    "name": "ipython",
    "version": 3
   },
   "file_extension": ".py",
   "mimetype": "text/x-python",
   "name": "python",
   "nbconvert_exporter": "python",
   "pygments_lexer": "ipython3",
   "version": "3.12.4"
  }
 },
 "nbformat": 4,
 "nbformat_minor": 5
}
