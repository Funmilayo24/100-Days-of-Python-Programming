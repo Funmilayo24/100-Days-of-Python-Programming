{
 "cells": [
  {
   "cell_type": "markdown",
   "id": "8205d059-fb9e-4e96-9bf3-a758e4c2e81e",
   "metadata": {},
   "source": [
    "### Day 29 of programming\n"
   ]
  },
  {
   "cell_type": "markdown",
   "id": "8f879c7c-360a-4b51-bb9f-e9cee16c882e",
   "metadata": {},
   "source": [
    "## Test to Audio Conversion\n",
    "\n",
    "gTTS (Google Text-to-Speech) library for converting text to audio in Python."
   ]
  },
  {
   "cell_type": "code",
   "execution_count": null,
   "id": "ad8eef8c-199c-4cf9-aecf-295b94c189bb",
   "metadata": {},
   "outputs": [
    {
     "name": "stdout",
     "output_type": "stream",
     "text": [
      "pygame 2.6.0 (SDL 2.28.4, Python 3.12.4)\n",
      "Hello from the pygame community. https://www.pygame.org/contribute.html\n"
     ]
    }
   ],
   "source": [
    "import os\n",
    "from gtts import gTTS\n",
    "import pygame\n",
    "\n",
    "def text_to_speech(text, output_filename=\"output.mp3\"):\n",
    "    # Convert the text to speech\n",
    "    tts = gTTS(text)\n",
    "    tts.save(output_filename)\n",
    "    \n",
    "    # Initialize pygame mixer for playing audio\n",
    "    pygame.mixer.init()\n",
    "    pygame.mixer.music.load(output_filename)\n",
    "    pygame.mixer.music.play()\n",
    "\n",
    "    # Wait for the audio to finish\n",
    "    while pygame.mixer.music.get_busy():\n",
    "        continue\n",
    "\n",
    "# Example usage: Convert user input\n",
    "text = input(\"Enter text to convert to speech: \")\n",
    "text_to_speech(text)\n",
    "\n",
    "\n"
   ]
  },
  {
   "cell_type": "markdown",
   "id": "7276298a-153a-4fa8-a7c6-3050caab3fdf",
   "metadata": {},
   "source": [
    "### Explanation:\n",
    "gTTS: Takes the text input and converts it to speech.\n",
    "\n",
    "pygame: Used to play the resulting MP3 audio file.\n",
    "\n",
    "The text_to_speech function converts the user’s input to audio."
   ]
  },
  {
   "cell_type": "code",
   "execution_count": null,
   "id": "6994db29-3d21-40aa-951e-65975418a0c0",
   "metadata": {},
   "outputs": [],
   "source": []
  }
 ],
 "metadata": {
  "kernelspec": {
   "display_name": "Python 3 (ipykernel)",
   "language": "python",
   "name": "python3"
  },
  "language_info": {
   "codemirror_mode": {
    "name": "ipython",
    "version": 3
   },
   "file_extension": ".py",
   "mimetype": "text/x-python",
   "name": "python",
   "nbconvert_exporter": "python",
   "pygments_lexer": "ipython3",
   "version": "3.12.4"
  }
 },
 "nbformat": 4,
 "nbformat_minor": 5
}
