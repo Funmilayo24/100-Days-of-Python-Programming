{
 "cells": [
  {
   "cell_type": "markdown",
   "id": "ecfb74da",
   "metadata": {},
   "source": [
    "### Day 64 of Python Programming"
   ]
  },
  {
   "cell_type": "markdown",
   "id": "9cf0fc41",
   "metadata": {},
   "source": [
    "## Using the requests Module in Python\n",
    "The requests module in Python is a powerful library used for making HTTP requests to interact with APIs and web services. It is easy to use and simplifies the process of sending and receiving data over the web.\n",
    "\n",
    "### What You'll Learn\n",
    "Introduction to the requests module.\n",
    "\n",
    "Making HTTP requests (GET, POST, PUT, DELETE).\n",
    "\n",
    "Sending data with requests.\n",
    "\n",
    "Working with JSON responses.\n",
    "\n",
    "Handling errors and exceptions."
   ]
  },
  {
   "cell_type": "markdown",
   "id": "60366003",
   "metadata": {},
   "source": [
    "### Getting Started\n",
    "To use the requests module, you need to install it. Run the following command in your terminal:"
   ]
  },
  {
   "cell_type": "code",
   "execution_count": 1,
   "id": "b107fdb3",
   "metadata": {},
   "outputs": [
    {
     "name": "stdout",
     "output_type": "stream",
     "text": [
      "Requirement already satisfied: requests in c:\\users\\tobun\\anaconda3\\lib\\site-packages (2.32.3)\n",
      "Requirement already satisfied: charset-normalizer<4,>=2 in c:\\users\\tobun\\anaconda3\\lib\\site-packages (from requests) (2.0.4)\n",
      "Requirement already satisfied: idna<4,>=2.5 in c:\\users\\tobun\\anaconda3\\lib\\site-packages (from requests) (3.4)\n",
      "Requirement already satisfied: urllib3<3,>=1.21.1 in c:\\users\\tobun\\anaconda3\\lib\\site-packages (from requests) (1.26.16)\n",
      "Requirement already satisfied: certifi>=2017.4.17 in c:\\users\\tobun\\anaconda3\\lib\\site-packages (from requests) (2023.7.22)\n",
      "Note: you may need to restart the kernel to use updated packages.\n"
     ]
    }
   ],
   "source": [
    "pip install requests\n"
   ]
  },
  {
   "cell_type": "markdown",
   "id": "4067ccce",
   "metadata": {},
   "source": [
    "#### Then, import it in your Python script:"
   ]
  },
  {
   "cell_type": "code",
   "execution_count": 2,
   "id": "85f2f418",
   "metadata": {},
   "outputs": [],
   "source": [
    "import requests\n"
   ]
  },
  {
   "cell_type": "markdown",
   "id": "99f04966",
   "metadata": {},
   "source": [
    "### 1. Making a GET Request\n",
    "A GET request is used to retrieve data from a server.\n",
    "\n",
    "Example:"
   ]
  },
  {
   "cell_type": "code",
   "execution_count": 3,
   "id": "e9e4e196",
   "metadata": {},
   "outputs": [
    {
     "name": "stdout",
     "output_type": "stream",
     "text": [
      "Status Code: 200\n",
      "Response Data: {\n",
      "  \"userId\": 1,\n",
      "  \"id\": 1,\n",
      "  \"title\": \"sunt aut facere repellat provident occaecati excepturi optio reprehenderit\",\n",
      "  \"body\": \"quia et suscipit\\nsuscipit recusandae consequuntur expedita et cum\\nreprehenderit molestiae ut ut quas totam\\nnostrum rerum est autem sunt rem eveniet architecto\"\n",
      "}\n"
     ]
    }
   ],
   "source": [
    "import requests\n",
    "\n",
    "# Send a GET request to a URL\n",
    "response = requests.get('https://jsonplaceholder.typicode.com/posts/1')\n",
    "\n",
    "# Check the status code\n",
    "print(f\"Status Code: {response.status_code}\")\n",
    "\n",
    "# Print the response data\n",
    "print(f\"Response Data: {response.text}\")\n"
   ]
  },
  {
   "cell_type": "markdown",
   "id": "9f8d3fd6",
   "metadata": {},
   "source": [
    "### 2. Accessing JSON Responses\n",
    "If the server sends JSON data, you can use the .json() method to parse it directly into a Python dictionary.\n",
    "\n",
    "Example:"
   ]
  },
  {
   "cell_type": "code",
   "execution_count": 4,
   "id": "a5ac1dfc",
   "metadata": {},
   "outputs": [
    {
     "name": "stdout",
     "output_type": "stream",
     "text": [
      "Title: sunt aut facere repellat provident occaecati excepturi optio reprehenderit\n",
      "Body: quia et suscipit\n",
      "suscipit recusandae consequuntur expedita et cum\n",
      "reprehenderit molestiae ut ut quas totam\n",
      "nostrum rerum est autem sunt rem eveniet architecto\n"
     ]
    }
   ],
   "source": [
    "response = requests.get('https://jsonplaceholder.typicode.com/posts/1')\n",
    "\n",
    "# Get JSON data\n",
    "data = response.json()\n",
    "print(f\"Title: {data['title']}\")\n",
    "print(f\"Body: {data['body']}\")\n"
   ]
  },
  {
   "cell_type": "markdown",
   "id": "32418aa3",
   "metadata": {},
   "source": [
    "### 3. Making a POST Request\n",
    "A POST request is used to send data to a server, often to create or update resources.\n",
    "\n",
    "Example:"
   ]
  },
  {
   "cell_type": "code",
   "execution_count": 5,
   "id": "d90c8b20",
   "metadata": {},
   "outputs": [
    {
     "name": "stdout",
     "output_type": "stream",
     "text": [
      "Status Code: 201\n",
      "Response Data: {'title': 'New Post', 'body': 'This is the content of the new post.', 'userId': 1, 'id': 101}\n"
     ]
    }
   ],
   "source": [
    "url = 'https://jsonplaceholder.typicode.com/posts'\n",
    "data = {\n",
    "    \"title\": \"New Post\",\n",
    "    \"body\": \"This is the content of the new post.\",\n",
    "    \"userId\": 1\n",
    "}\n",
    "\n",
    "response = requests.post(url, json=data)\n",
    "\n",
    "print(f\"Status Code: {response.status_code}\")\n",
    "print(f\"Response Data: {response.json()}\")\n"
   ]
  },
  {
   "cell_type": "markdown",
   "id": "a22fce56",
   "metadata": {},
   "source": [
    "### 4. Sending Data with Parameters\n",
    "You can send data using query parameters in a GET request.\n",
    "\n",
    "Example:"
   ]
  },
  {
   "cell_type": "code",
   "execution_count": 6,
   "id": "ce4f3487",
   "metadata": {},
   "outputs": [
    {
     "name": "stdout",
     "output_type": "stream",
     "text": [
      "Status Code: 200\n",
      "Response Data: [{'userId': 1, 'id': 1, 'title': 'sunt aut facere repellat provident occaecati excepturi optio reprehenderit', 'body': 'quia et suscipit\\nsuscipit recusandae consequuntur expedita et cum\\nreprehenderit molestiae ut ut quas totam\\nnostrum rerum est autem sunt rem eveniet architecto'}, {'userId': 1, 'id': 2, 'title': 'qui est esse', 'body': 'est rerum tempore vitae\\nsequi sint nihil reprehenderit dolor beatae ea dolores neque\\nfugiat blanditiis voluptate porro vel nihil molestiae ut reiciendis\\nqui aperiam non debitis possimus qui neque nisi nulla'}, {'userId': 1, 'id': 3, 'title': 'ea molestias quasi exercitationem repellat qui ipsa sit aut', 'body': 'et iusto sed quo iure\\nvoluptatem occaecati omnis eligendi aut ad\\nvoluptatem doloribus vel accusantium quis pariatur\\nmolestiae porro eius odio et labore et velit aut'}, {'userId': 1, 'id': 4, 'title': 'eum et est occaecati', 'body': 'ullam et saepe reiciendis voluptatem adipisci\\nsit amet autem assumenda provident rerum culpa\\nquis hic commodi nesciunt rem tenetur doloremque ipsam iure\\nquis sunt voluptatem rerum illo velit'}, {'userId': 1, 'id': 5, 'title': 'nesciunt quas odio', 'body': 'repudiandae veniam quaerat sunt sed\\nalias aut fugiat sit autem sed est\\nvoluptatem omnis possimus esse voluptatibus quis\\nest aut tenetur dolor neque'}, {'userId': 1, 'id': 6, 'title': 'dolorem eum magni eos aperiam quia', 'body': 'ut aspernatur corporis harum nihil quis provident sequi\\nmollitia nobis aliquid molestiae\\nperspiciatis et ea nemo ab reprehenderit accusantium quas\\nvoluptate dolores velit et doloremque molestiae'}, {'userId': 1, 'id': 7, 'title': 'magnam facilis autem', 'body': 'dolore placeat quibusdam ea quo vitae\\nmagni quis enim qui quis quo nemo aut saepe\\nquidem repellat excepturi ut quia\\nsunt ut sequi eos ea sed quas'}, {'userId': 1, 'id': 8, 'title': 'dolorem dolore est ipsam', 'body': 'dignissimos aperiam dolorem qui eum\\nfacilis quibusdam animi sint suscipit qui sint possimus cum\\nquaerat magni maiores excepturi\\nipsam ut commodi dolor voluptatum modi aut vitae'}, {'userId': 1, 'id': 9, 'title': 'nesciunt iure omnis dolorem tempora et accusantium', 'body': 'consectetur animi nesciunt iure dolore\\nenim quia ad\\nveniam autem ut quam aut nobis\\net est aut quod aut provident voluptas autem voluptas'}, {'userId': 1, 'id': 10, 'title': 'optio molestias id quia eum', 'body': 'quo et expedita modi cum officia vel magni\\ndoloribus qui repudiandae\\nvero nisi sit\\nquos veniam quod sed accusamus veritatis error'}]\n"
     ]
    }
   ],
   "source": [
    "url = 'https://jsonplaceholder.typicode.com/posts'\n",
    "params = {'userId': 1}\n",
    "\n",
    "response = requests.get(url, params=params)\n",
    "\n",
    "print(f\"Status Code: {response.status_code}\")\n",
    "print(f\"Response Data: {response.json()}\")\n"
   ]
  },
  {
   "cell_type": "markdown",
   "id": "adafa416",
   "metadata": {},
   "source": [
    "### 5. Making PUT and DELETE Requests\n",
    "PUT: Updates an existing resource.\n",
    "    \n",
    "DELETE: Deletes a resource.\n",
    "#### PUT Example:"
   ]
  },
  {
   "cell_type": "code",
   "execution_count": 7,
   "id": "4d74e195",
   "metadata": {},
   "outputs": [
    {
     "name": "stdout",
     "output_type": "stream",
     "text": [
      "Status Code: 200\n",
      "Response Data: {'title': 'Updated Title', 'body': 'Updated content.', 'userId': 1, 'id': 1}\n"
     ]
    }
   ],
   "source": [
    "url = 'https://jsonplaceholder.typicode.com/posts/1'\n",
    "data = {\n",
    "    \"title\": \"Updated Title\",\n",
    "    \"body\": \"Updated content.\",\n",
    "    \"userId\": 1\n",
    "}\n",
    "\n",
    "response = requests.put(url, json=data)\n",
    "print(f\"Status Code: {response.status_code}\")\n",
    "print(f\"Response Data: {response.json()}\")\n"
   ]
  },
  {
   "cell_type": "markdown",
   "id": "dfa24bc7",
   "metadata": {},
   "source": [
    "#### DELETE Example:"
   ]
  },
  {
   "cell_type": "code",
   "execution_count": 8,
   "id": "386b8202",
   "metadata": {},
   "outputs": [
    {
     "name": "stdout",
     "output_type": "stream",
     "text": [
      "Status Code: 200\n"
     ]
    }
   ],
   "source": [
    "url = 'https://jsonplaceholder.typicode.com/posts/1'\n",
    "\n",
    "response = requests.delete(url)\n",
    "print(f\"Status Code: {response.status_code}\")\n"
   ]
  },
  {
   "cell_type": "markdown",
   "id": "09a1fce2",
   "metadata": {},
   "source": [
    "### 6. Handling Errors\n",
    "Always check the status code to handle potential errors.\n",
    "\n",
    "Example:"
   ]
  },
  {
   "cell_type": "code",
   "execution_count": 9,
   "id": "c3d9fd5d",
   "metadata": {},
   "outputs": [
    {
     "name": "stdout",
     "output_type": "stream",
     "text": [
      "Failed! Status Code: 404\n"
     ]
    }
   ],
   "source": [
    "response = requests.get('https://jsonplaceholder.typicode.com/invalid-endpoint')\n",
    "\n",
    "if response.status_code == 200:\n",
    "    print(\"Request was successful!\")\n",
    "else:\n",
    "    print(f\"Failed! Status Code: {response.status_code}\")\n"
   ]
  },
  {
   "cell_type": "markdown",
   "id": "fa2675b8",
   "metadata": {},
   "source": [
    "### Summary\n",
    "The requests module simplifies making HTTP requests in Python.\n",
    "\n",
    "Use requests.get(), requests.post(), requests.put(), and requests.delete() to interact with web services.\n",
    "\n",
    "Handle JSON data using the .json() method.\n",
    "\n",
    "Always check for errors and use exceptions to handle potential issues.\n",
    "\n",
    "The requests module is a must-know library for working with APIs and web services. Start experimenting with it to unlock the full potential of Python's networking capabilities!"
   ]
  },
  {
   "cell_type": "code",
   "execution_count": null,
   "id": "16cac9bf",
   "metadata": {},
   "outputs": [],
   "source": []
  }
 ],
 "metadata": {
  "kernelspec": {
   "display_name": "Python 3 (ipykernel)",
   "language": "python",
   "name": "python3"
  },
  "language_info": {
   "codemirror_mode": {
    "name": "ipython",
    "version": 3
   },
   "file_extension": ".py",
   "mimetype": "text/x-python",
   "name": "python",
   "nbconvert_exporter": "python",
   "pygments_lexer": "ipython3",
   "version": "3.11.5"
  }
 },
 "nbformat": 4,
 "nbformat_minor": 5
}
