{
 "cells": [
  {
   "cell_type": "markdown",
   "id": "73d8ac15-9d4d-4abe-a070-27e87790f5ec",
   "metadata": {},
   "source": [
    "### Day 20 of programming"
   ]
  },
  {
   "cell_type": "markdown",
   "id": "13bec78f-5863-4d8b-9259-8ed2e571b38c",
   "metadata": {},
   "source": [
    "### Create a simple expense tracker that records daily expenses and shows summaries like total expenses.\n",
    "\n",
    "#### Steps:\n",
    "\n",
    "Use a list to store expense records as tuples (category, amount).\n",
    "\n",
    "Allow the user to add new expenses.\n",
    "\n",
    "Display total expenses and a breakdown by category."
   ]
  },
  {
   "cell_type": "code",
   "execution_count": 1,
   "id": "0d4dbd90-136c-4665-bc72-d4ee502a0dc9",
   "metadata": {},
   "outputs": [
    {
     "name": "stdout",
     "output_type": "stream",
     "text": [
      "\n",
      "1. Add Expense\n",
      "2. View Expenses\n",
      "3. Exit\n"
     ]
    },
    {
     "name": "stdin",
     "output_type": "stream",
     "text": [
      "Choose an option:  1\n",
      "Enter the expense category (e.g., Food, Rent, Entertainment):  Food\n",
      "Enter the amount: $ 20\n"
     ]
    },
    {
     "name": "stdout",
     "output_type": "stream",
     "text": [
      "\n",
      "1. Add Expense\n",
      "2. View Expenses\n",
      "3. Exit\n"
     ]
    },
    {
     "name": "stdin",
     "output_type": "stream",
     "text": [
      "Choose an option:  2\n"
     ]
    },
    {
     "name": "stdout",
     "output_type": "stream",
     "text": [
      "\n",
      "Total Expenses: $20.00\n",
      "Breakdown by Category:\n",
      "Food: $20.00\n",
      "\n",
      "1. Add Expense\n",
      "2. View Expenses\n",
      "3. Exit\n"
     ]
    },
    {
     "name": "stdin",
     "output_type": "stream",
     "text": [
      "Choose an option:  Plantain\n"
     ]
    },
    {
     "name": "stdout",
     "output_type": "stream",
     "text": [
      "Invalid choice! Please try again.\n",
      "\n",
      "1. Add Expense\n",
      "2. View Expenses\n",
      "3. Exit\n"
     ]
    },
    {
     "name": "stdin",
     "output_type": "stream",
     "text": [
      "Choose an option:  1\n",
      "Enter the expense category (e.g., Food, Rent, Entertainment):  Plaintain\n",
      "Enter the amount: $ 30\n"
     ]
    },
    {
     "name": "stdout",
     "output_type": "stream",
     "text": [
      "\n",
      "1. Add Expense\n",
      "2. View Expenses\n",
      "3. Exit\n"
     ]
    },
    {
     "name": "stdin",
     "output_type": "stream",
     "text": [
      "Choose an option:  2\n"
     ]
    },
    {
     "name": "stdout",
     "output_type": "stream",
     "text": [
      "\n",
      "Total Expenses: $50.00\n",
      "Breakdown by Category:\n",
      "Food: $20.00\n",
      "Plaintain: $30.00\n",
      "\n",
      "1. Add Expense\n",
      "2. View Expenses\n",
      "3. Exit\n"
     ]
    },
    {
     "name": "stdin",
     "output_type": "stream",
     "text": [
      "Choose an option:  3\n"
     ]
    }
   ],
   "source": [
    "expenses = []\n",
    "\n",
    "def add_expense():\n",
    "    category = input(\"Enter the expense category (e.g., Food, Rent, Entertainment): \")\n",
    "    amount = float(input(\"Enter the amount: $\"))\n",
    "    expenses.append((category, amount))\n",
    "\n",
    "def view_expenses():\n",
    "    if not expenses:\n",
    "        print(\"No expenses recorded.\")\n",
    "        return\n",
    "    \n",
    "    total = 0\n",
    "    category_totals = {}\n",
    "    \n",
    "    for category, amount in expenses:\n",
    "        total += amount\n",
    "        if category in category_totals:\n",
    "            category_totals[category] += amount\n",
    "        else:\n",
    "            category_totals[category] = amount\n",
    "    \n",
    "    print(f\"\\nTotal Expenses: ${total:.2f}\")\n",
    "    print(\"Breakdown by Category:\")\n",
    "    for category, amount in category_totals.items():\n",
    "        print(f\"{category}: ${amount:.2f}\")\n",
    "\n",
    "def expense_tracker():\n",
    "    while True:\n",
    "        print(\"\\n1. Add Expense\\n2. View Expenses\\n3. Exit\")\n",
    "        choice = input(\"Choose an option: \")\n",
    "        \n",
    "        if choice == '1':\n",
    "            add_expense()\n",
    "        elif choice == '2':\n",
    "            view_expenses()\n",
    "        elif choice == '3':\n",
    "            break\n",
    "        else:\n",
    "            print(\"Invalid choice! Please try again.\")\n",
    "\n",
    "expense_tracker()\n"
   ]
  },
  {
   "cell_type": "code",
   "execution_count": null,
   "id": "39098c29-4a50-41c2-ad5f-9998bf3ecb4f",
   "metadata": {},
   "outputs": [],
   "source": []
  }
 ],
 "metadata": {
  "kernelspec": {
   "display_name": "Python 3 (ipykernel)",
   "language": "python",
   "name": "python3"
  },
  "language_info": {
   "codemirror_mode": {
    "name": "ipython",
    "version": 3
   },
   "file_extension": ".py",
   "mimetype": "text/x-python",
   "name": "python",
   "nbconvert_exporter": "python",
   "pygments_lexer": "ipython3",
   "version": "3.12.4"
  }
 },
 "nbformat": 4,
 "nbformat_minor": 5
}
