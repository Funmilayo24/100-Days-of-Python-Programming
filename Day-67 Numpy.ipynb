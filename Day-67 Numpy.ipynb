{
 "cells": [
  {
   "cell_type": "markdown",
   "id": "6f84313a",
   "metadata": {},
   "source": [
    "### Day 67 of Python Programming"
   ]
  },
  {
   "cell_type": "markdown",
   "id": "171e0f30",
   "metadata": {},
   "source": [
    "## Introduction to NumPy\n",
    "### 1. What is NumPy?\n",
    "NumPy is a Python library for numerical computing. It provides high-performance, multidimensional arrays and tools to work with them. It is particularly useful for scientific computing and data analysis.\n",
    "\n",
    "### 2. Installing NumPy"
   ]
  },
  {
   "cell_type": "code",
   "execution_count": 1,
   "id": "4bdf54a1",
   "metadata": {},
   "outputs": [
    {
     "name": "stdout",
     "output_type": "stream",
     "text": [
      "Requirement already satisfied: numpy in c:\\users\\tobun\\anaconda3\\lib\\site-packages (1.24.3)\n",
      "Note: you may need to restart the kernel to use updated packages.\n"
     ]
    }
   ],
   "source": [
    "pip install numpy\n"
   ]
  },
  {
   "cell_type": "code",
   "execution_count": 2,
   "id": "3a41aef4",
   "metadata": {},
   "outputs": [],
   "source": [
    "import numpy as np"
   ]
  },
  {
   "cell_type": "markdown",
   "id": "dd2e46d5",
   "metadata": {},
   "source": [
    "### 3. Creating Arrays"
   ]
  },
  {
   "cell_type": "code",
   "execution_count": 4,
   "id": "339ad1b3",
   "metadata": {},
   "outputs": [
    {
     "name": "stdout",
     "output_type": "stream",
     "text": [
      "1D Array: [1 2 3 4 5]\n",
      "2D Array:\n",
      " [[1 2 3]\n",
      " [4 5 6]]\n",
      "3D Array:\n",
      " [[[1 2]\n",
      "  [3 4]]\n",
      "\n",
      " [[5 6]\n",
      "  [7 8]]]\n"
     ]
    }
   ],
   "source": [
    "# 1D Array\n",
    "array_1d = np.array([1, 2, 3, 4, 5])\n",
    "print(\"1D Array:\", array_1d)\n",
    "\n",
    "# 2D Array\n",
    "array_2d = np.array([[1, 2, 3], [4, 5, 6]])\n",
    "print(\"2D Array:\\n\", array_2d)\n",
    "\n",
    "# 3D Array\n",
    "array_3d = np.array([[[1, 2], [3, 4]], [[5, 6], [7, 8]]])\n",
    "print(\"3D Array:\\n\", array_3d)\n"
   ]
  },
  {
   "cell_type": "markdown",
   "id": "f6938939",
   "metadata": {},
   "source": [
    "#### Explanation:\n",
    "\n",
    "Arrays can be one-dimensional, two-dimensional, or multi-dimensional. Use np.array() to create them."
   ]
  },
  {
   "cell_type": "markdown",
   "id": "e5b2353f",
   "metadata": {},
   "source": [
    "### 4. Array Attributes"
   ]
  },
  {
   "cell_type": "code",
   "execution_count": 5,
   "id": "e6c62574",
   "metadata": {},
   "outputs": [
    {
     "name": "stdout",
     "output_type": "stream",
     "text": [
      "Shape of 2D Array: (2, 3)\n",
      "Number of Dimensions: 2\n",
      "Data Type: int32\n",
      "Size of Array: 6\n"
     ]
    }
   ],
   "source": [
    "print(\"Shape of 2D Array:\", array_2d.shape)  # Rows and columns\n",
    "print(\"Number of Dimensions:\", array_2d.ndim)  # 2D\n",
    "print(\"Data Type:\", array_2d.dtype)  # Data type of elements\n",
    "print(\"Size of Array:\", array_2d.size)  # Total elements\n"
   ]
  },
  {
   "cell_type": "markdown",
   "id": "437018f1",
   "metadata": {},
   "source": [
    "#### Explanation:\n",
    "These attributes give metadata about the array, such as its dimensions, size, and element type."
   ]
  },
  {
   "cell_type": "markdown",
   "id": "2b836e76",
   "metadata": {},
   "source": [
    "#### 5. Array Initialization"
   ]
  },
  {
   "cell_type": "code",
   "execution_count": 6,
   "id": "dbad7a6c",
   "metadata": {},
   "outputs": [
    {
     "name": "stdout",
     "output_type": "stream",
     "text": [
      "Zeros Array:\n",
      " [[0. 0. 0.]\n",
      " [0. 0. 0.]\n",
      " [0. 0. 0.]]\n",
      "Ones Array:\n",
      " [[1. 1. 1. 1.]\n",
      " [1. 1. 1. 1.]]\n",
      "Range Array: [10 12 14 16 18]\n",
      "Linspace Array: [0.   0.25 0.5  0.75 1.  ]\n",
      "Random Array:\n",
      " [[0.81221318 0.64431393 0.28758765]\n",
      " [0.98056196 0.9312944  0.08630874]]\n"
     ]
    }
   ],
   "source": [
    "# Array of zeros\n",
    "zeros_array = np.zeros((3, 3))\n",
    "print(\"Zeros Array:\\n\", zeros_array)\n",
    "\n",
    "# Array of ones\n",
    "ones_array = np.ones((2, 4))\n",
    "print(\"Ones Array:\\n\", ones_array)\n",
    "\n",
    "# Range of values\n",
    "range_array = np.arange(10, 20, 2)\n",
    "print(\"Range Array:\", range_array)\n",
    "\n",
    "# Evenly spaced numbers\n",
    "linspace_array = np.linspace(0, 1, 5)\n",
    "print(\"Linspace Array:\", linspace_array)\n",
    "\n",
    "# Random numbers\n",
    "random_array = np.random.random((2, 3))\n",
    "print(\"Random Array:\\n\", random_array)\n"
   ]
  },
  {
   "cell_type": "markdown",
   "id": "14cfab32",
   "metadata": {},
   "source": [
    "### Explanation:\n",
    "\n",
    "np.zeros() and np.ones() create arrays of zeros and ones, respectively.\n",
    "\n",
    "np.arange() generates values with a step.\n",
    "\n",
    "np.linspace() creates evenly spaced numbers over a range.\n",
    "\n",
    "np.random.random() generates random numbers."
   ]
  },
  {
   "cell_type": "markdown",
   "id": "bcccb8b8",
   "metadata": {},
   "source": [
    "### 6. Indexing and Slicing"
   ]
  },
  {
   "cell_type": "code",
   "execution_count": 8,
   "id": "fed97944",
   "metadata": {},
   "outputs": [
    {
     "name": "stdout",
     "output_type": "stream",
     "text": [
      "Element at [1,2]: 6\n",
      "First row: [1 2 3]\n",
      "Second column: [2 5 8]\n",
      "Submatrix:\n",
      " [[2 3]\n",
      " [5 6]]\n"
     ]
    }
   ],
   "source": [
    "array = np.array([[1, 2, 3], [4, 5, 6], [7, 8, 9]])\n",
    "\n",
    "# Accessing an element\n",
    "print(\"Element at [1,2]:\", array[1, 2])\n",
    "\n",
    "# Row slicing\n",
    "print(\"First row:\", array[0, :])\n",
    "\n",
    "# Column slicing\n",
    "print(\"Second column:\", array[:, 1])\n",
    "\n",
    "# Submatrix\n",
    "print(\"Submatrix:\\n\", array[0:2, 1:3])\n"
   ]
  },
  {
   "cell_type": "markdown",
   "id": "3b76932f",
   "metadata": {},
   "source": [
    "#### Explanation:\n",
    "\n",
    "Use square brackets [] to access elements.\n",
    "\n",
    ": is used to specify ranges for slicing rows and columns"
   ]
  },
  {
   "cell_type": "markdown",
   "id": "bd7557cb",
   "metadata": {},
   "source": [
    "### 7. Basic Operations"
   ]
  },
  {
   "cell_type": "code",
   "execution_count": 9,
   "id": "73c8e229",
   "metadata": {},
   "outputs": [
    {
     "name": "stdout",
     "output_type": "stream",
     "text": [
      "Addition: [5 7 9]\n",
      "Multiplication: [ 4 10 18]\n",
      "Multiply by 2: [2 4 6]\n",
      "Comparison (array1 > 2): [False False  True]\n"
     ]
    }
   ],
   "source": [
    "array1 = np.array([1, 2, 3])\n",
    "array2 = np.array([4, 5, 6])\n",
    "\n",
    "# Element-wise operations\n",
    "print(\"Addition:\", array1 + array2)\n",
    "print(\"Multiplication:\", array1 * array2)\n",
    "\n",
    "# Scalar operations\n",
    "print(\"Multiply by 2:\", array1 * 2)\n",
    "\n",
    "# Comparison\n",
    "print(\"Comparison (array1 > 2):\", array1 > 2)\n"
   ]
  },
  {
   "cell_type": "markdown",
   "id": "53aca9c0",
   "metadata": {},
   "source": [
    "#### Explanation:\n",
    "\n",
    "Arithmetic operations are element-wise.\n",
    "\n",
    "Scalars are applied to all elements in the array."
   ]
  },
  {
   "cell_type": "markdown",
   "id": "a374348d",
   "metadata": {},
   "source": [
    "#### 8. Aggregations"
   ]
  },
  {
   "cell_type": "code",
   "execution_count": 11,
   "id": "53ce8c6b",
   "metadata": {},
   "outputs": [
    {
     "name": "stdout",
     "output_type": "stream",
     "text": [
      "Sum: 15\n",
      "Mean: 3.0\n",
      "Median: 3.0\n",
      "Standard Deviation: 1.4142135623730951\n",
      "Max value: 5\n"
     ]
    }
   ],
   "source": [
    "array = np.array([1, 2, 3, 4, 5])\n",
    "\n",
    "print(\"Sum:\", np.sum(array))\n",
    "print(\"Mean:\", np.mean(array))\n",
    "print(\"Median:\", np.median(array))\n",
    "print(\"Standard Deviation:\", np.std(array))\n",
    "print(\"Max value:\", np.max(array))\n"
   ]
  },
  {
   "cell_type": "markdown",
   "id": "d496cd20",
   "metadata": {},
   "source": [
    "### Practice Questions\n",
    "\n",
    "Create a 1D array of integers from 0 to 19.\n",
    "\n",
    "Create a 3x3 matrix of ones and multiply it by 5.\n",
    "\n",
    "Create a random array of 10 elements and find its mean and standard deviation.\n",
    "\n",
    "Slice a 5x5 matrix to extract a 3x3 submatrix from its center."
   ]
  },
  {
   "cell_type": "code",
   "execution_count": null,
   "id": "4d7362a9",
   "metadata": {},
   "outputs": [],
   "source": []
  }
 ],
 "metadata": {
  "kernelspec": {
   "display_name": "Python 3 (ipykernel)",
   "language": "python",
   "name": "python3"
  },
  "language_info": {
   "codemirror_mode": {
    "name": "ipython",
    "version": 3
   },
   "file_extension": ".py",
   "mimetype": "text/x-python",
   "name": "python",
   "nbconvert_exporter": "python",
   "pygments_lexer": "ipython3",
   "version": "3.11.5"
  }
 },
 "nbformat": 4,
 "nbformat_minor": 5
}
