{
 "cells": [
  {
   "cell_type": "markdown",
   "id": "ff4fc38b-256c-4a60-885a-ce5048d4685d",
   "metadata": {},
   "source": [
    "### Day 27 of Python Programming"
   ]
  },
  {
   "cell_type": "markdown",
   "id": "d62820a9-78a2-4403-847a-66c095ddbbee",
   "metadata": {},
   "source": [
    "## QR CODE Generator Project"
   ]
  },
  {
   "cell_type": "code",
   "execution_count": null,
   "id": "55050e6e",
   "metadata": {},
   "outputs": [],
   "source": [
    "pip install qrcode[pil]"
   ]
  },
  {
   "cell_type": "code",
   "execution_count": 3,
   "id": "3101dc6d",
   "metadata": {},
   "outputs": [],
   "source": [
    "import qrcode\n",
    "\n",
    "# Create a QR code instance\n",
    "qr = qrcode.QRCode(\n",
    "    version=1,  # QR code version (1 to 40, higher is denser)\n",
    "    error_correction=qrcode.constants.ERROR_CORRECT_L,  # Error correction level\n",
    "    box_size=10,  # Size of each QR code \"box\" in pixels\n",
    "    border=4,  # Border around the QR code (4 is a good default)\n",
    ")\n",
    "\n",
    "# Add data to the QR code (in this case, a URL)\n",
    "data = \"https://www.bethmedia.com\"\n",
    "qr.add_data(data)\n",
    "\n",
    "# Make the QR code\n",
    "qr.make(fit=True)\n",
    "\n",
    "# Create an Image object from the QR code instance\n",
    "img = qr.make_image(fill_color=\"black\", back_color=\"white\")\n",
    "\n",
    "# Save or display the QR code image\n",
    "img.save(\"example.png\")\n",
    "img.show()\n"
   ]
  }
 ],
 "metadata": {
  "kernelspec": {
   "display_name": "Python 3 (ipykernel)",
   "language": "python",
   "name": "python3"
  },
  "language_info": {
   "codemirror_mode": {
    "name": "ipython",
    "version": 3
   },
   "file_extension": ".py",
   "mimetype": "text/x-python",
   "name": "python",
   "nbconvert_exporter": "python",
   "pygments_lexer": "ipython3",
   "version": "3.12.7"
  }
 },
 "nbformat": 4,
 "nbformat_minor": 5
}
