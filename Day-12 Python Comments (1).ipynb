{
 "cells": [
  {
   "cell_type": "markdown",
   "id": "58ceca6e-029d-48ce-b568-4a8ded8c9ac8",
   "metadata": {},
   "source": [
    "### Day 12 of Programming"
   ]
  },
  {
   "cell_type": "markdown",
   "id": "7578aae0-e8f9-4563-857e-3c67234a5662",
   "metadata": {},
   "source": [
    "## Python Tutorial: Working with Comments\n",
    "Introduction to Comments\n",
    "Comments are lines in your code that are not executed by the Python interpreter. They are used to explain the code, make it more readable, and leave notes or reminders for yourself or others who may work with your code. Comments can help clarify what specific parts of a program do, especially in complex scripts.\n",
    "\n",
    "There are two types of comments in Python:\n",
    "\n",
    "Single-line comments\n",
    "\n",
    "Multi-line comments"
   ]
  },
  {
   "cell_type": "markdown",
   "id": "c118c621-903a-4bdc-a924-0e62a5f7389b",
   "metadata": {},
   "source": [
    "### Step 1: Single-Line Comments\n",
    "Single-line comments in Python begin with a hash symbol (#). Everything after the # on that line is ignored by Python."
   ]
  },
  {
   "cell_type": "code",
   "execution_count": 1,
   "id": "a32faf5f-e708-4372-b164-4e7d2f5708b7",
   "metadata": {},
   "outputs": [
    {
     "name": "stdout",
     "output_type": "stream",
     "text": [
      "Hello, World!\n"
     ]
    }
   ],
   "source": [
    "# This is a single-line comment\n",
    "print(\"Hello, World!\")  # This comment is at the end of a line\n"
   ]
  },
  {
   "cell_type": "markdown",
   "id": "48289d7c-050a-4dd3-8f21-aa9dae1b5145",
   "metadata": {},
   "source": [
    "#### In this example, the comment # This is a single-line comment is ignored by Python, and only the print(\"Hello, World!\") statement is executed."
   ]
  },
  {
   "cell_type": "markdown",
   "id": "2d8cc335-3884-4d81-9f41-f8fd100f47bc",
   "metadata": {},
   "source": [
    "\n",
    "Python doesn't have a built-in syntax for multi-line comments like other programming languages. However, there are two common ways to add multi-line comments:\n",
    "\n",
    "Using multiple single-line comments\n",
    "Using triple quotes (strings treated as comments)\n",
    "\n",
    "### Step 2: Multi-Line Comments with Multiple # Symbols\n",
    "You can create multi-line comments by using # at the beginning of each line."
   ]
  },
  {
   "cell_type": "code",
   "execution_count": 5,
   "id": "a81845bd-c8bc-4f42-968a-c598ba202315",
   "metadata": {},
   "outputs": [
    {
     "name": "stdout",
     "output_type": "stream",
     "text": [
      "Hello, Python!\n"
     ]
    }
   ],
   "source": [
    "# This is a multi-line comment\n",
    "# Each line starts with a '#'\n",
    "# These comments explain the code below\n",
    "\n",
    "print(\"Hello, Python!\")\n"
   ]
  },
  {
   "cell_type": "markdown",
   "id": "30ca5ad3-03e2-4e0b-967a-09acc41b061d",
   "metadata": {},
   "source": [
    "### Step 3: Multi-Line Comments with Triple Quotes (\"\"\" or ''')\n",
    "\n",
    "Another common way to write multi-line comments is by using triple quotes (\"\"\" or '''). This method works because triple-quoted strings that aren't assigned to a variable are ignored by Python, effectively acting as comments."
   ]
  },
  {
   "cell_type": "code",
   "execution_count": 3,
   "id": "42014609-70b1-4a09-ac79-bcb36b58e385",
   "metadata": {},
   "outputs": [
    {
     "name": "stdout",
     "output_type": "stream",
     "text": [
      "This line runs normally.\n"
     ]
    }
   ],
   "source": [
    "\"\"\"\n",
    "This is a multi-line comment.\n",
    "You can write multiple lines without using '#'.\n",
    "Useful for larger explanations.\n",
    "\"\"\"\n",
    "\n",
    "print(\"This line runs normally.\")\n"
   ]
  },
  {
   "cell_type": "code",
   "execution_count": 4,
   "id": "884948dd-c943-4bad-8d98-13bd24f1555f",
   "metadata": {},
   "outputs": [
    {
     "name": "stdout",
     "output_type": "stream",
     "text": [
      "This line runs as well.\n"
     ]
    }
   ],
   "source": [
    "'''\n",
    "Another multi-line comment style.\n",
    "You can use triple single quotes as well.\n",
    "'''\n",
    "\n",
    "print(\"This line runs as well.\")\n"
   ]
  },
  {
   "cell_type": "markdown",
   "id": "e78ed581-b201-4280-8c94-f4b37d178616",
   "metadata": {},
   "source": [
    "#### While technically these are multi-line strings, they function as comments when not used as part of the code, since they don't affect the program's execution."
   ]
  },
  {
   "cell_type": "markdown",
   "id": "4cc6b412-379d-4a5b-a426-75a105c22a14",
   "metadata": {},
   "source": [
    "### Step 4: Why Use Comments?\n",
    "Comments help in:\n",
    "\n",
    "Explaining the code: You can explain the purpose of a function, a tricky logic, or anything else in the code.\n",
    "\n",
    "Making the code readable: Well-commented code is easier to understand, especially when revisited after some time.\n",
    "\n",
    "Collaboration: When working in teams, comments help other developers understand your code."
   ]
  },
  {
   "cell_type": "code",
   "execution_count": 6,
   "id": "9e2caf1b-af90-4b95-8300-257b904da83d",
   "metadata": {},
   "outputs": [
    {
     "name": "stdout",
     "output_type": "stream",
     "text": [
      "15\n"
     ]
    }
   ],
   "source": [
    "# Calculate the sum of two numbers\n",
    "a = 5\n",
    "b = 10\n",
    "total = a + b  # Adding two numbers\n",
    "\n",
    "print(total)  # Display the result\n"
   ]
  },
  {
   "cell_type": "markdown",
   "id": "cd006a50-4ef0-4d15-99aa-d2a8fe9afca4",
   "metadata": {},
   "source": [
    "### Step 5: Best Practices for Comments\n",
    "Keep comments clear and concise. Avoid unnecessary comments that state the obvious.\n",
    "\n",
    "Use comments to explain \"why\", not \"what\". Good comments explain the reasoning behind code, not just what the code does.\n",
    "\n",
    "#### Example of Unnecessary Comment:"
   ]
  },
  {
   "cell_type": "code",
   "execution_count": 7,
   "id": "df1ba81a-6a2e-4693-a98c-abccb073c562",
   "metadata": {},
   "outputs": [],
   "source": [
    "a = 10  # Set variable a to 10\n"
   ]
  },
  {
   "cell_type": "markdown",
   "id": "ca046568-24b9-4c44-96f6-06f4af62f7e0",
   "metadata": {},
   "source": [
    "The comment here is unnecessary because the code is self-explanatory.\n",
    "\n",
    "#### Example of Useful Comment:"
   ]
  },
  {
   "cell_type": "code",
   "execution_count": null,
   "id": "1acf85f2-6ffb-4a0f-a011-41f3805513e9",
   "metadata": {},
   "outputs": [],
   "source": [
    "# Checking if the user input is a valid email address\n",
    "if validate_email(user_input):\n",
    "    print(\"Valid email\")\n"
   ]
  },
  {
   "cell_type": "markdown",
   "id": "35f94395-6f65-4129-8e96-6e4d28d3c42c",
   "metadata": {},
   "source": [
    "#### Here, the comment explains why the if statement exists and the purpose of the function."
   ]
  },
  {
   "cell_type": "markdown",
   "id": "8e4ae8dc-6b55-4a53-b2aa-bcd10a79a987",
   "metadata": {},
   "source": [
    "### Step 6: Commenting Out Code for Debugging\n",
    "You can temporarily disable parts of your code by turning them into comments. This is useful when debugging or testing."
   ]
  },
  {
   "cell_type": "code",
   "execution_count": 9,
   "id": "0a7b07a6-386c-4829-a50b-f9121980c734",
   "metadata": {},
   "outputs": [
    {
     "name": "stdout",
     "output_type": "stream",
     "text": [
      "This line will run\n"
     ]
    }
   ],
   "source": [
    "# print(\"This line is commented out\")\n",
    "print(\"This line will run\")\n"
   ]
  },
  {
   "cell_type": "markdown",
   "id": "5f078248-4d08-4fdc-8c18-0009eb60150a",
   "metadata": {},
   "source": [
    "##### In this example, the first print() statement is commented out and won’t run, allowing you to test the other parts of the code.\n",
    "\n",
    "### Step 7: Inline Comments\n",
    "You can write comments at the end of a line of code, but it should be done sparingly. When using inline comments, make sure to leave at least two spaces between the code and the #."
   ]
  },
  {
   "cell_type": "code",
   "execution_count": 10,
   "id": "7128d225-6b12-4e50-8a64-a46f1741e78b",
   "metadata": {},
   "outputs": [],
   "source": [
    "x = 42  # This is the answer to everything\n"
   ]
  },
  {
   "cell_type": "markdown",
   "id": "2d8837ed-fdc8-4e52-9c86-018ea0843973",
   "metadata": {},
   "source": [
    "##### Inline comments should be short and to the point."
   ]
  },
  {
   "cell_type": "markdown",
   "id": "0dc4f819-b7ea-45a4-8213-aa21b62759eb",
   "metadata": {},
   "source": [
    "## Practice Questions\n",
    "\n",
    "1. Create a Python program that uses a multi-line comment (using triple quotes) to explain the purpose of the program, then print \"Program complete\".\n",
    "2. Create a Python program that assigns a variable a = 10 and include an unnecessary comment explaining that a is set to 10. Then modify the comment to explain why the value is assigned instead of what is being done.\n",
    "3. Create a Python function and use a multi-line comment with triple quotes (\"\"\") to describe what the function does, what parameters it takes, and what it returns."
   ]
  },
  {
   "cell_type": "code",
   "execution_count": null,
   "id": "054164b3-a160-4e12-9924-259e8323c84c",
   "metadata": {},
   "outputs": [],
   "source": []
  }
 ],
 "metadata": {
  "kernelspec": {
   "display_name": "Python 3 (ipykernel)",
   "language": "python",
   "name": "python3"
  },
  "language_info": {
   "codemirror_mode": {
    "name": "ipython",
    "version": 3
   },
   "file_extension": ".py",
   "mimetype": "text/x-python",
   "name": "python",
   "nbconvert_exporter": "python",
   "pygments_lexer": "ipython3",
   "version": "3.12.4"
  }
 },
 "nbformat": 4,
 "nbformat_minor": 5
}
