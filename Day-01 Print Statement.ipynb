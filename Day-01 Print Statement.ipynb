{
 "cells": [
  {
   "cell_type": "markdown",
   "id": "565eba98-6784-4b29-93b5-2f400ead8371",
   "metadata": {},
   "source": [
    "## Day 1 of Programming"
   ]
  },
  {
   "cell_type": "markdown",
   "id": "355a4627-ef58-42f9-b85b-0acbf0230fd9",
   "metadata": {},
   "source": [
    "### Python Print Statement Tutorial"
   ]
  },
  {
   "cell_type": "markdown",
   "id": "2c378fa0-96af-49d7-b741-575ededc2556",
   "metadata": {},
   "source": [
    "### 1. Introduction to print()\n",
    "The print() function in Python is used to output text, numbers, and other data types to the screen (standard output). It's one of the first things you learn when starting to code."
   ]
  },
  {
   "cell_type": "markdown",
   "id": "4e8f062b-e5be-40e0-996c-e4349d8df4b4",
   "metadata": {},
   "source": [
    "print(value1, value2, ..., sep=' ', end='\\n')\n",
    "\n",
    "value1, value2,...: These are the values you want to print. You can print multiple values separated by commas.\n",
    "\n",
    "sep: (Optional) Separator used between values. Default is a space.\n",
    "\n",
    "end: (Optional) Defines what to print at the end. Default is a newline character (\\n), which moves to the next line."
   ]
  },
  {
   "cell_type": "markdown",
   "id": "60a98db7-c9c3-469b-adbe-93c17d7de245",
   "metadata": {},
   "source": [
    "### 2. Basic Usage of print()"
   ]
  },
  {
   "cell_type": "code",
   "execution_count": 2,
   "id": "9e008b4f-e5b8-4fa0-9035-356ba6d27445",
   "metadata": {},
   "outputs": [
    {
     "name": "stdout",
     "output_type": "stream",
     "text": [
      "Hello, World!\n"
     ]
    }
   ],
   "source": [
    "print(\"Hello, World!\")\n"
   ]
  },
  {
   "cell_type": "markdown",
   "id": "56364825-1f5d-418b-9ac9-b6f4f403188a",
   "metadata": {},
   "source": [
    "#### Here, the print() function outputs the text inside the quotes to the console."
   ]
  },
  {
   "cell_type": "markdown",
   "id": "5a13d908-1c50-4a78-853b-3acef4dbf99e",
   "metadata": {},
   "source": [
    "### 3. Printing Multiple Values\n",
    "\n",
    "You can print multiple values using commas:"
   ]
  },
  {
   "cell_type": "code",
   "execution_count": 3,
   "id": "907b8301-af9a-4963-9b50-aeaeb6a8393f",
   "metadata": {},
   "outputs": [
    {
     "name": "stdout",
     "output_type": "stream",
     "text": [
      "The result is: 42\n"
     ]
    }
   ],
   "source": [
    "print(\"The result is:\", 42)\n"
   ]
  },
  {
   "cell_type": "markdown",
   "id": "ddad3e8b-0c87-40ad-b149-5e14faec8411",
   "metadata": {},
   "source": [
    "#### Python will automatically add a space between values when printing multiple items."
   ]
  },
  {
   "cell_type": "markdown",
   "id": "41e41574-f112-4afd-ac25-5b0f65549bf6",
   "metadata": {},
   "source": [
    "### 4. Custom Separators (sep)\n",
    "\n",
    "The sep argument allows you to customize what separates multiple values:\n"
   ]
  },
  {
   "cell_type": "code",
   "execution_count": 5,
   "id": "c99058b9-e2ca-4813-bb45-a83e424b52fc",
   "metadata": {},
   "outputs": [
    {
     "name": "stdout",
     "output_type": "stream",
     "text": [
      "apple, banana, cherry\n"
     ]
    }
   ],
   "source": [
    "print(\"apple\", \"banana\", \"cherry\", sep=\", \")\n"
   ]
  },
  {
   "cell_type": "markdown",
   "id": "07a6884e-5492-4178-a5ac-44d820c1878f",
   "metadata": {},
   "source": [
    "### 5. Custom End Character (end)\n",
    "\n",
    "By default, the print() function ends with a newline (\\n), which moves the cursor to the next line. You can change this using the end parameter."
   ]
  },
  {
   "cell_type": "code",
   "execution_count": 6,
   "id": "2758df23-f615-4646-80af-7c9f29e569b1",
   "metadata": {},
   "outputs": [
    {
     "name": "stdout",
     "output_type": "stream",
     "text": [
      "Hello World!\n"
     ]
    }
   ],
   "source": [
    "print(\"Hello\", end=\" \")\n",
    "print(\"World!\")\n"
   ]
  },
  {
   "cell_type": "markdown",
   "id": "51f58d75-8e0a-48cd-9890-f0df9ef35ce8",
   "metadata": {},
   "source": [
    "#### Here, the first print() ends with a space instead of a newline, so the second print() continues on the same line."
   ]
  },
  {
   "cell_type": "markdown",
   "id": "e2c76227-14b3-4d1d-b9b9-2fcb9a960b19",
   "metadata": {},
   "source": [
    "### 6. Escape Characters\n",
    "\n",
    "You can use escape characters inside strings to format your output.\n",
    "\n",
    "Common escape characters:\n",
    "\n",
    "\\n: Newline\n",
    "\n",
    "\\t: Tab\n",
    "\n",
    "\\\\: Backslash\n",
    "\n",
    "\\': Single quote\n",
    "\n",
    "\\\": Double quote"
   ]
  },
  {
   "cell_type": "code",
   "execution_count": 7,
   "id": "60e80260-c5fc-4690-8c68-ccd9106716df",
   "metadata": {},
   "outputs": [
    {
     "name": "stdout",
     "output_type": "stream",
     "text": [
      "First Line\n",
      "Second Line\n"
     ]
    }
   ],
   "source": [
    "print(\"First Line\\nSecond Line\")\n"
   ]
  },
  {
   "cell_type": "markdown",
   "id": "1d33c36d-c19a-4b1f-a344-a13442827885",
   "metadata": {},
   "source": [
    "### 7. Printing Variables\n",
    "\n",
    "You can also print the values stored in variables:"
   ]
  },
  {
   "cell_type": "code",
   "execution_count": 8,
   "id": "33f1334e-e358-462f-9330-92adc90cd949",
   "metadata": {},
   "outputs": [
    {
     "name": "stdout",
     "output_type": "stream",
     "text": [
      "Name: Alice Age: 25\n"
     ]
    }
   ],
   "source": [
    "name = \"Alice\"\n",
    "age = 25\n",
    "print(\"Name:\", name, \"Age:\", age)\n"
   ]
  },
  {
   "cell_type": "markdown",
   "id": "2c4868ec-4fdf-4bfc-8481-b52b30bb9870",
   "metadata": {},
   "source": [
    "### 8. String Formatting in print()\n",
    "\n",
    "Python provides several ways to format strings when printing."
   ]
  },
  {
   "cell_type": "markdown",
   "id": "350b118c-0acd-4eda-97c0-7496acbf8e7c",
   "metadata": {},
   "source": [
    "#### Method 1: Concatenation"
   ]
  },
  {
   "cell_type": "code",
   "execution_count": 9,
   "id": "3782bffb-2bbb-4de3-b9f6-43a8f1271048",
   "metadata": {},
   "outputs": [
    {
     "name": "stdout",
     "output_type": "stream",
     "text": [
      "Hello, John!\n"
     ]
    }
   ],
   "source": [
    "name = \"John\"\n",
    "print(\"Hello, \" + name + \"!\")\n"
   ]
  },
  {
   "cell_type": "markdown",
   "id": "49a176be-02a0-4d7d-bf52-c40b4f499a3e",
   "metadata": {},
   "source": [
    "#### Method 2: f-strings (Recommended in Python 3.6+)"
   ]
  },
  {
   "cell_type": "code",
   "execution_count": 10,
   "id": "7c8813dc-a059-48d2-bf4e-02383e3ce91a",
   "metadata": {},
   "outputs": [
    {
     "name": "stdout",
     "output_type": "stream",
     "text": [
      "Hello, John. You are 30 years old.\n"
     ]
    }
   ],
   "source": [
    "name = \"John\"\n",
    "age = 30\n",
    "print(f\"Hello, {name}. You are {age} years old.\")\n"
   ]
  },
  {
   "cell_type": "markdown",
   "id": "ba287804-427e-4de1-ad81-8eb700788b37",
   "metadata": {},
   "source": [
    "#### Method 3: format() method"
   ]
  },
  {
   "cell_type": "code",
   "execution_count": 11,
   "id": "7d576ec6-f4f8-405d-9729-2ad6e7eda45c",
   "metadata": {},
   "outputs": [
    {
     "name": "stdout",
     "output_type": "stream",
     "text": [
      "Hello, John. You are 30 years old.\n"
     ]
    }
   ],
   "source": [
    "name = \"John\"\n",
    "age = 30\n",
    "print(\"Hello, {}. You are {} years old.\".format(name, age))\n"
   ]
  },
  {
   "cell_type": "markdown",
   "id": "683a4621-396b-4122-bb1c-5103b96a1464",
   "metadata": {},
   "source": [
    "### 9. Printing Data Structures\n",
    "\n",
    "You can print data structures like lists, tuples, and dictionaries:"
   ]
  },
  {
   "cell_type": "code",
   "execution_count": 12,
   "id": "c7451560-2810-496b-80dd-a80d14474b3e",
   "metadata": {},
   "outputs": [
    {
     "name": "stdout",
     "output_type": "stream",
     "text": [
      "['apple', 'banana', 'cherry']\n"
     ]
    }
   ],
   "source": [
    "fruits = [\"apple\", \"banana\", \"cherry\"]\n",
    "print(fruits)\n"
   ]
  },
  {
   "cell_type": "code",
   "execution_count": 13,
   "id": "42bebc8c-86ca-4c77-af85-1bd67440de01",
   "metadata": {},
   "outputs": [
    {
     "name": "stdout",
     "output_type": "stream",
     "text": [
      "{'name': 'Alice', 'age': 25}\n"
     ]
    }
   ],
   "source": [
    "person = {\"name\": \"Alice\", \"age\": 25}\n",
    "print(person)\n"
   ]
  },
  {
   "cell_type": "markdown",
   "id": "78ae2e28-5e10-4ff4-80b2-3241752b0f44",
   "metadata": {},
   "source": [
    "### 10. Common Errors\n",
    "\n",
    "Syntax Error: If you forget the parentheses in Python 3, you’ll get a syntax error."
   ]
  },
  {
   "cell_type": "code",
   "execution_count": 14,
   "id": "1122ea62-e2db-4e0d-a83d-2b23a5fb4e09",
   "metadata": {},
   "outputs": [
    {
     "ename": "SyntaxError",
     "evalue": "Missing parentheses in call to 'print'. Did you mean print(...)? (1641543541.py, line 2)",
     "output_type": "error",
     "traceback": [
      "\u001b[1;36m  Cell \u001b[1;32mIn[14], line 2\u001b[1;36m\u001b[0m\n\u001b[1;33m    print \"Hello, World!\"\u001b[0m\n\u001b[1;37m    ^\u001b[0m\n\u001b[1;31mSyntaxError\u001b[0m\u001b[1;31m:\u001b[0m Missing parentheses in call to 'print'. Did you mean print(...)?\n"
     ]
    }
   ],
   "source": [
    "# This will cause an error in Python 3:\n",
    "print \"Hello, World!\"\n"
   ]
  },
  {
   "cell_type": "code",
   "execution_count": 15,
   "id": "2e7afd75-f82e-4114-aa4d-07af6cfe40b0",
   "metadata": {},
   "outputs": [
    {
     "name": "stdout",
     "output_type": "stream",
     "text": [
      "Hello, World!\n"
     ]
    }
   ],
   "source": [
    "print(\"Hello, World!\")\n"
   ]
  },
  {
   "cell_type": "code",
   "execution_count": null,
   "id": "4fe73cc2-0bca-49dd-816f-c803b777710f",
   "metadata": {},
   "outputs": [],
   "source": []
  }
 ],
 "metadata": {
  "kernelspec": {
   "display_name": "Python 3 (ipykernel)",
   "language": "python",
   "name": "python3"
  },
  "language_info": {
   "codemirror_mode": {
    "name": "ipython",
    "version": 3
   },
   "file_extension": ".py",
   "mimetype": "text/x-python",
   "name": "python",
   "nbconvert_exporter": "python",
   "pygments_lexer": "ipython3",
   "version": "3.12.4"
  }
 },
 "nbformat": 4,
 "nbformat_minor": 5
}
