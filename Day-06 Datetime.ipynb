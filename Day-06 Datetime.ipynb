{
 "cells": [
  {
   "cell_type": "markdown",
   "id": "7286e2be",
   "metadata": {},
   "source": [
    "### Day 6 of programming"
   ]
  },
  {
   "cell_type": "markdown",
   "id": "31fb6d42",
   "metadata": {},
   "source": [
    "### Python Tutorial: Working with Dates and Times using datetime"
   ]
  },
  {
   "cell_type": "markdown",
   "id": "2ee0e86f",
   "metadata": {},
   "source": [
    "The datetime module in Python provides classes for manipulating dates and times. It’s commonly used to handle operations like getting the current date and time, formatting dates, calculating time differences, and more."
   ]
  },
  {
   "cell_type": "markdown",
   "id": "5328a2b2",
   "metadata": {},
   "source": [
    "### Step 1: Importing the datetime Module\n",
    "\n",
    "To use the functionality of the datetime module, you need to import it."
   ]
  },
  {
   "cell_type": "code",
   "execution_count": 1,
   "id": "edc1eb4e",
   "metadata": {},
   "outputs": [],
   "source": [
    "import datetime\n"
   ]
  },
  {
   "cell_type": "markdown",
   "id": "ca3c6871",
   "metadata": {},
   "source": [
    "### Step 2: Getting the Current Date and Time\n",
    "\n",
    "You can get the current date and time using the datetime class's now() method."
   ]
  },
  {
   "cell_type": "code",
   "execution_count": 2,
   "id": "8ed35e6b",
   "metadata": {},
   "outputs": [
    {
     "name": "stdout",
     "output_type": "stream",
     "text": [
      "Current Date and Time: 2024-08-27 08:42:49.415511\n"
     ]
    }
   ],
   "source": [
    "import datetime\n",
    "\n",
    "# Get current date and time\n",
    "current_datetime = datetime.datetime.now()\n",
    "print(\"Current Date and Time:\", current_datetime)\n"
   ]
  },
  {
   "cell_type": "markdown",
   "id": "c64142ac",
   "metadata": {},
   "source": [
    "### Step 3: Getting the Current Date\n",
    "\n",
    "You can extract just the current date (without the time) using today()."
   ]
  },
  {
   "cell_type": "code",
   "execution_count": 3,
   "id": "7435c61e",
   "metadata": {},
   "outputs": [
    {
     "name": "stdout",
     "output_type": "stream",
     "text": [
      "Current Date: 2024-08-27\n"
     ]
    }
   ],
   "source": [
    "current_date = datetime.date.today()\n",
    "print(\"Current Date:\", current_date)\n"
   ]
  },
  {
   "cell_type": "markdown",
   "id": "83f67d6c",
   "metadata": {},
   "source": [
    "### Step 4: Extracting Year, Month, and Day\n",
    "You can access specific parts of the date (e.g., year, month, and day) from a datetime object."
   ]
  },
  {
   "cell_type": "code",
   "execution_count": 4,
   "id": "b6f04106",
   "metadata": {},
   "outputs": [
    {
     "name": "stdout",
     "output_type": "stream",
     "text": [
      "Year: 2024\n",
      "Month: 8\n",
      "Day: 27\n"
     ]
    }
   ],
   "source": [
    "current_date = datetime.date.today()\n",
    "\n",
    "year = current_date.year\n",
    "month = current_date.month\n",
    "day = current_date.day\n",
    "\n",
    "print(\"Year:\", year)\n",
    "print(\"Month:\", month)\n",
    "print(\"Day:\", day)\n"
   ]
  },
  {
   "cell_type": "markdown",
   "id": "4f0849ea",
   "metadata": {},
   "source": [
    "### Step 5: Working with Time\n",
    "To work with times, you can use the time class from the datetime module."
   ]
  },
  {
   "cell_type": "code",
   "execution_count": 5,
   "id": "9fb015b9",
   "metadata": {},
   "outputs": [
    {
     "name": "stdout",
     "output_type": "stream",
     "text": [
      "Current Time: 08:44:37.775136\n"
     ]
    }
   ],
   "source": [
    "current_time = datetime.datetime.now().time()\n",
    "print(\"Current Time:\", current_time)\n"
   ]
  },
  {
   "cell_type": "markdown",
   "id": "a63e9437",
   "metadata": {},
   "source": [
    "### Step 6: Creating Custom Dates and Times\n",
    "You can create your own datetime or date objects by specifying the year, month, day, hour, minute, second, and microsecond."
   ]
  },
  {
   "cell_type": "code",
   "execution_count": 6,
   "id": "f36e554a",
   "metadata": {},
   "outputs": [
    {
     "name": "stdout",
     "output_type": "stream",
     "text": [
      "Custom Date and Time: 2024-08-26 14:30:00\n",
      "Custom Date: 2024-08-26\n"
     ]
    }
   ],
   "source": [
    "# Custom datetime\n",
    "custom_datetime = datetime.datetime(2024, 8, 26, 14, 30, 0)\n",
    "print(\"Custom Date and Time:\", custom_datetime)\n",
    "\n",
    "# Custom date only\n",
    "custom_date = datetime.date(2024, 8, 26)\n",
    "print(\"Custom Date:\", custom_date)\n"
   ]
  },
  {
   "cell_type": "markdown",
   "id": "509bc4ae",
   "metadata": {},
   "source": [
    "### Step 7: Formatting Dates and Times\n",
    "To format a datetime object into a string, use the strftime() method. You can define the format using special format codes."
   ]
  },
  {
   "cell_type": "code",
   "execution_count": 7,
   "id": "88696151",
   "metadata": {},
   "outputs": [
    {
     "name": "stdout",
     "output_type": "stream",
     "text": [
      "Formatted Date: 27/08/2024\n",
      "Formatted Time: 08:47:29\n"
     ]
    }
   ],
   "source": [
    "current_datetime = datetime.datetime.now()\n",
    "\n",
    "formatted_date = current_datetime.strftime(\"%d/%m/%Y\")\n",
    "formatted_time = current_datetime.strftime(\"%H:%M:%S\")\n",
    "\n",
    "print(\"Formatted Date:\", formatted_date)\n",
    "print(\"Formatted Time:\", formatted_time)\n"
   ]
  },
  {
   "cell_type": "markdown",
   "id": "a0e41c80",
   "metadata": {},
   "source": [
    "### Step 8: Parsing Strings into Dates\n",
    "To convert a string representation of a date back into a datetime object, use the strptime() method."
   ]
  },
  {
   "cell_type": "code",
   "execution_count": 8,
   "id": "c89eaa31",
   "metadata": {},
   "outputs": [
    {
     "name": "stdout",
     "output_type": "stream",
     "text": [
      "Parsed Date: 2024-08-26 00:00:00\n"
     ]
    }
   ],
   "source": [
    "date_str = \"26/08/2024\"\n",
    "parsed_date = datetime.datetime.strptime(date_str, \"%d/%m/%Y\")\n",
    "print(\"Parsed Date:\", parsed_date)\n"
   ]
  },
  {
   "cell_type": "markdown",
   "id": "87c3850d",
   "metadata": {},
   "source": [
    "### Step 9: Time Delta (Date Arithmetic)\n",
    "The timedelta class allows you to perform date and time arithmetic, like adding or subtracting days, hours, or minutes."
   ]
  },
  {
   "cell_type": "code",
   "execution_count": 9,
   "id": "45bd50a8",
   "metadata": {},
   "outputs": [
    {
     "name": "stdout",
     "output_type": "stream",
     "text": [
      "Date after 5 days: 2024-09-01\n",
      "Time 2 hours ago: 2024-08-27 06:49:31.198980\n"
     ]
    }
   ],
   "source": [
    "# Adding 5 days to the current date\n",
    "current_date = datetime.date.today()\n",
    "new_date = current_date + datetime.timedelta(days=5)\n",
    "print(\"Date after 5 days:\", new_date)\n",
    "\n",
    "# Subtracting 2 hours from the current time\n",
    "current_time = datetime.datetime.now()\n",
    "new_time = current_time - datetime.timedelta(hours=2)\n",
    "print(\"Time 2 hours ago:\", new_time)\n"
   ]
  },
  {
   "cell_type": "markdown",
   "id": "d69b96cc",
   "metadata": {},
   "source": [
    "### Step 10: Get the Difference Between Two Dates\n",
    "You can find the difference between two dates or times using the subtraction (-) operator. The result is a timedelta object."
   ]
  },
  {
   "cell_type": "code",
   "execution_count": 10,
   "id": "b745f3b8",
   "metadata": {},
   "outputs": [
    {
     "name": "stdout",
     "output_type": "stream",
     "text": [
      "Difference: 10 days\n"
     ]
    }
   ],
   "source": [
    "date1 = datetime.date(2024, 8, 26)\n",
    "date2 = datetime.date(2024, 9, 5)\n",
    "\n",
    "difference = date2 - date1\n",
    "print(\"Difference:\", difference.days, \"days\")\n"
   ]
  },
  {
   "cell_type": "markdown",
   "id": "3cfdac70",
   "metadata": {},
   "source": [
    "### Practice Questions\n",
    "\n",
    "1. Write a Python program that takes a user's birthdate as input (in the format dd/mm/yyyy) and calculates their current age.\n",
    "\n",
    "2. Write a program that asks the user for their birthdate and then calculates how many days are left until their next birthday.\n",
    "\n",
    "3. Write a program that takes a date as input and prints the day of the week (e.g., Monday, Tuesday) for that date."
   ]
  },
  {
   "cell_type": "code",
   "execution_count": null,
   "id": "26f4c5c8",
   "metadata": {},
   "outputs": [],
   "source": []
  }
 ],
 "metadata": {
  "kernelspec": {
   "display_name": "Python 3 (ipykernel)",
   "language": "python",
   "name": "python3"
  },
  "language_info": {
   "codemirror_mode": {
    "name": "ipython",
    "version": 3
   },
   "file_extension": ".py",
   "mimetype": "text/x-python",
   "name": "python",
   "nbconvert_exporter": "python",
   "pygments_lexer": "ipython3",
   "version": "3.11.5"
  }
 },
 "nbformat": 4,
 "nbformat_minor": 5
}
