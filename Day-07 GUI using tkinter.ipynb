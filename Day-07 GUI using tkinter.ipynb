{
 "cells": [
  {
   "cell_type": "markdown",
   "id": "ca9a3323",
   "metadata": {},
   "source": [
    "### Day 7 of programming"
   ]
  },
  {
   "cell_type": "markdown",
   "id": "d4ba531e",
   "metadata": {},
   "source": [
    "### Python Tutorial: Creating a Simple GUI using tkinter\n",
    "\n",
    "#### Introduction to tkinter\n",
    "\n",
    "tkinter is a standard Python library used to create simple graphical user interfaces (GUIs). It provides a set of tools for creating windows, buttons, labels, text fields, and more. Since it's included with most Python installations, you don’t need to install any external libraries."
   ]
  },
  {
   "cell_type": "markdown",
   "id": "10afba50",
   "metadata": {},
   "source": [
    "### Step 1: Importing tkinter\n",
    "To create a GUI in Python using tkinter, the first step is to import it:"
   ]
  },
  {
   "cell_type": "code",
   "execution_count": 1,
   "id": "b0d65e74",
   "metadata": {},
   "outputs": [],
   "source": [
    "import tkinter as tk\n"
   ]
  },
  {
   "cell_type": "markdown",
   "id": "fed383e3",
   "metadata": {},
   "source": [
    "The tkinter library uses object-oriented programming (OOP), and each GUI application begins by creating a main window (also called the root window)."
   ]
  },
  {
   "cell_type": "markdown",
   "id": "b9f90998",
   "metadata": {},
   "source": [
    "### Step 2: Creating the Main Window\n",
    "\n",
    "The main window is the foundation of every GUI application. You can think of it as the base container that will hold all the widgets."
   ]
  },
  {
   "cell_type": "code",
   "execution_count": 2,
   "id": "f72b2f81",
   "metadata": {},
   "outputs": [],
   "source": [
    "# Create the main window\n",
    "root = tk.Tk()\n",
    "\n",
    "# Set the window title\n",
    "root.title(\"Simple GUI\")\n",
    "\n",
    "# Set the window size\n",
    "root.geometry(\"300x200\")\n",
    "\n",
    "# Start the GUI event loop\n",
    "root.mainloop()\n"
   ]
  },
  {
   "cell_type": "markdown",
   "id": "b9819af2",
   "metadata": {},
   "source": [
    "#### Explanation:\n",
    "tk.Tk(): This creates the main window.\n",
    "    \n",
    "root.title(): Sets the window’s title.\n",
    "    \n",
    "root.geometry(): Sets the window's width and height in pixels.\n",
    "    \n",
    "root.mainloop(): Starts the event loop that keeps the window open."
   ]
  },
  {
   "cell_type": "markdown",
   "id": "a1b1f9b4",
   "metadata": {},
   "source": [
    "### Step 3: Adding Widgets to the GUI\n",
    "\n",
    "Widgets are the elements that make up the interface, such as labels, buttons, text fields, etc. Let’s start by adding some common widgets to the main window."
   ]
  },
  {
   "cell_type": "markdown",
   "id": "6f6c66c3",
   "metadata": {},
   "source": [
    "#### 3.1. Adding a Label\n",
    "Labels are used to display text in the GUI."
   ]
  },
  {
   "cell_type": "code",
   "execution_count": 4,
   "id": "b53e8f96",
   "metadata": {},
   "outputs": [],
   "source": [
    "# Create the main window\n",
    "root = tk.Tk()\n",
    "\n",
    "# Set the window title\n",
    "root.title(\"Simple GUI\")\n",
    "\n",
    "# Set the window size\n",
    "root.geometry(\"300x200\")\n",
    "\n",
    "# Create and add a label to the main window\n",
    "label = tk.Label(root, text=\"Welcome to the GUI!\")\n",
    "label.pack()  # Pack adds the widget to the window\n",
    "\n",
    "# Start the GUI event loop\n",
    "root.mainloop()"
   ]
  },
  {
   "cell_type": "markdown",
   "id": "0f1b4e7c",
   "metadata": {},
   "source": [
    "##### Explanation:\n",
    "tk.Label(): Creates a label widget. The text argument specifies what the label will display.\n",
    "\n",
    "label.pack(): The pack() method places the label on the window."
   ]
  },
  {
   "cell_type": "markdown",
   "id": "edad74b8",
   "metadata": {},
   "source": [
    "#### 3.2. Adding a Button\n",
    "\n",
    "You can add buttons to the window, and they can trigger actions when clicked."
   ]
  },
  {
   "cell_type": "code",
   "execution_count": 5,
   "id": "091cbe04",
   "metadata": {},
   "outputs": [
    {
     "name": "stdout",
     "output_type": "stream",
     "text": [
      "Button clicked!\n"
     ]
    }
   ],
   "source": [
    "# Create the main window\n",
    "root = tk.Tk()\n",
    "\n",
    "# Set the window title\n",
    "root.title(\"Simple GUI\")\n",
    "\n",
    "# Set the window size\n",
    "root.geometry(\"300x200\")\n",
    "\n",
    "# Create and add a label to the main window\n",
    "label = tk.Label(root, text=\"Welcome to the GUI!\")\n",
    "label.pack()  # Pack adds the widget to the window\n",
    "\n",
    "def on_button_click():\n",
    "    print(\"Button clicked!\")\n",
    "\n",
    "# Create and add a button\n",
    "button = tk.Button(root, text=\"Click Me\", command=on_button_click)\n",
    "button.pack()\n",
    "\n",
    "# Start the GUI event loop\n",
    "root.mainloop()"
   ]
  },
  {
   "cell_type": "markdown",
   "id": "50a84861",
   "metadata": {},
   "source": [
    "##### Explanation:\n",
    "tk.Button(): Creates a button. The command argument specifies which function to run when the button is clicked.\n",
    "\n",
    "on_button_click(): A simple function that will run when the button is clicked.\n",
    "\n",
    "button.pack(): Adds the button to the window."
   ]
  },
  {
   "cell_type": "markdown",
   "id": "2f9afa0a",
   "metadata": {},
   "source": [
    "#### 3.3. Adding a Text Entry Field\n",
    "You can add a text entry field where users can input data."
   ]
  },
  {
   "cell_type": "code",
   "execution_count": 6,
   "id": "0abdc9da",
   "metadata": {},
   "outputs": [
    {
     "name": "stdout",
     "output_type": "stream",
     "text": [
      "Entered text: test\n",
      "Button clicked!\n"
     ]
    }
   ],
   "source": [
    "# Create the main window\n",
    "root = tk.Tk()\n",
    "\n",
    "# Set the window title\n",
    "root.title(\"Simple GUI\")\n",
    "\n",
    "# Set the window size\n",
    "root.geometry(\"300x200\")\n",
    "\n",
    "# Create and add a label to the main window\n",
    "label = tk.Label(root, text=\"Welcome to the GUI!\")\n",
    "label.pack()  # Pack adds the widget to the window\n",
    "\n",
    "def on_button_click():\n",
    "    print(\"Button clicked!\")\n",
    "\n",
    "# Create and add a button\n",
    "button = tk.Button(root, text=\"Click Me\", command=on_button_click)\n",
    "button.pack()\n",
    "\n",
    "# Create an entry widget\n",
    "entry = tk.Entry(root)\n",
    "entry.pack()\n",
    "\n",
    "# Function to retrieve text from the entry field\n",
    "def get_entry_text():\n",
    "    print(\"Entered text:\", entry.get())\n",
    "\n",
    "# Button to fetch the text from the entry field\n",
    "fetch_button = tk.Button(root, text=\"Get Text\", command=get_entry_text)\n",
    "fetch_button.pack()\n",
    "\n",
    "# Start the GUI event loop\n",
    "root.mainloop()"
   ]
  },
  {
   "cell_type": "markdown",
   "id": "c4ec7d1e",
   "metadata": {},
   "source": [
    "##### Explanation:\n",
    "tk.Entry(): Creates an entry widget (a single-line text input).\n",
    "\n",
    "entry.get(): Retrieves the text entered in the entry widget.\n",
    "\n",
    "get_entry_text(): Function to print the text entered in the entry field.\n",
    "\n",
    "fetch_button: A button to trigger the get_entry_text() function."
   ]
  },
  {
   "cell_type": "markdown",
   "id": "941e9e19",
   "metadata": {},
   "source": [
    "### Step 4: Arranging Widgets Using Layout Managers\n",
    "There are several layout managers in tkinter to control how widgets are placed in the window. The three most common are pack(), grid(), and place().\n",
    "\n",
    "#### 4. Using pack()\n",
    "The pack() method places widgets in a stack-like manner.\n",
    "\n",
    "label.pack()      # Puts the label at the top\n",
    "\n",
    "entry.pack()      # Entry comes next\n",
    "\n",
    "button.pack()     # Button below the entry\n"
   ]
  },
  {
   "cell_type": "markdown",
   "id": "32607897",
   "metadata": {},
   "source": [
    "### Step 5: Putting It All Together\n",
    "Here’s an example that combines everything we’ve learned to create a simple app with a label, text entry, and button."
   ]
  },
  {
   "cell_type": "code",
   "execution_count": 7,
   "id": "8fa15ecd",
   "metadata": {},
   "outputs": [],
   "source": [
    "import tkinter as tk\n",
    "\n",
    "# Function to get text from entry and update the label\n",
    "def update_label():\n",
    "    name = entry.get()\n",
    "    label.config(text=f\"Hello, {name}!\")\n",
    "\n",
    "# Create the main window\n",
    "root = tk.Tk()\n",
    "root.title(\"Simple GUI\")\n",
    "root.geometry(\"300x200\")\n",
    "\n",
    "# Add a label to the window\n",
    "label = tk.Label(root, text=\"Enter your name:\")\n",
    "label.pack(pady=10)\n",
    "\n",
    "# Add a text entry widget\n",
    "entry = tk.Entry(root)\n",
    "entry.pack(pady=10)\n",
    "\n",
    "# Add a button to the window\n",
    "button = tk.Button(root, text=\"Submit\", command=update_label)\n",
    "button.pack(pady=10)\n",
    "\n",
    "# Start the event loop\n",
    "root.mainloop()\n"
   ]
  },
  {
   "cell_type": "markdown",
   "id": "52c6f937",
   "metadata": {},
   "source": [
    "#### Explanation:\n",
    "label.config(): Updates the text of the label with the user's name from the entry widget.\n",
    "\n",
    "pady: Adds vertical padding between widgets for better spacing."
   ]
  },
  {
   "cell_type": "markdown",
   "id": "816f77b5",
   "metadata": {},
   "source": [
    "### Practice Questions\n",
    "\n",
    "1. Create a simple to-do list app where users can add tasks. Each task should appear in a list, and the user should be able to remove tasks once they’re completed.\n",
    "\n",
    "2. Create a GUI that displays a random motivational quote when the user clicks a \"Generate Quote\" button.\n",
    "\n",
    "3. Build a simple GUI app that converts temperatures between Celsius and Fahrenheit. The user should input a temperature, and the program should convert it to the other unit when a button is clicked."
   ]
  },
  {
   "cell_type": "code",
   "execution_count": null,
   "id": "08c3f690",
   "metadata": {},
   "outputs": [],
   "source": []
  }
 ],
 "metadata": {
  "kernelspec": {
   "display_name": "Python 3 (ipykernel)",
   "language": "python",
   "name": "python3"
  },
  "language_info": {
   "codemirror_mode": {
    "name": "ipython",
    "version": 3
   },
   "file_extension": ".py",
   "mimetype": "text/x-python",
   "name": "python",
   "nbconvert_exporter": "python",
   "pygments_lexer": "ipython3",
   "version": "3.11.5"
  }
 },
 "nbformat": 4,
 "nbformat_minor": 5
}
