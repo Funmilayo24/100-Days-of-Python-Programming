{
 "cells": [
  {
   "cell_type": "markdown",
   "id": "b4f58b9e",
   "metadata": {},
   "source": [
    "### Day 80 of Python Programming"
   ]
  },
  {
   "cell_type": "markdown",
   "id": "da4e6d6a",
   "metadata": {},
   "source": [
    "## Set and Dictionary Comprehension"
   ]
  },
  {
   "cell_type": "markdown",
   "id": "65b5ecbe",
   "metadata": {},
   "source": [
    "Comprehensions in Python provide a concise way to create sets and dictionaries using a single line of code. They’re particularly useful when you want to filter or transform data during creation.\n",
    "\n",
    "### Part 1: Set Comprehension\n",
    "Set comprehensions allow you to create sets dynamically. A set is an unordered collection of unique elements.\n",
    "\n",
    "Syntax"
   ]
  },
  {
   "cell_type": "code",
   "execution_count": null,
   "id": "2b33575e",
   "metadata": {},
   "outputs": [],
   "source": [
    "new_set = {expression for item in iterable if condition}\n"
   ]
  },
  {
   "cell_type": "markdown",
   "id": "46e318a2",
   "metadata": {},
   "source": [
    "expression: What each element in the set will look like.\n",
    "\n",
    "iterable: The collection you’re looping over.\n",
    "\n",
    "condition (optional): A filter to include elements.\n",
    "\n",
    "#### Example 1: Create a Set of Squares"
   ]
  },
  {
   "cell_type": "code",
   "execution_count": 1,
   "id": "f9f435dd",
   "metadata": {},
   "outputs": [
    {
     "name": "stdout",
     "output_type": "stream",
     "text": [
      "{1, 4, 9, 16, 25}\n"
     ]
    }
   ],
   "source": [
    "numbers = [1, 2, 3, 4, 5]\n",
    "squares = {num ** 2 for num in numbers}\n",
    "print(squares) \n"
   ]
  },
  {
   "cell_type": "markdown",
   "id": "62541c61",
   "metadata": {},
   "source": [
    "#### Example 2: Filter Even Numbers"
   ]
  },
  {
   "cell_type": "code",
   "execution_count": 2,
   "id": "de3faf7b",
   "metadata": {},
   "outputs": [
    {
     "name": "stdout",
     "output_type": "stream",
     "text": [
      "{8, 2, 4, 6}\n"
     ]
    }
   ],
   "source": [
    "numbers = [1, 2, 3, 4, 5, 6, 7, 8, 9]\n",
    "even_numbers = {num for num in numbers if num % 2 == 0}\n",
    "print(even_numbers) "
   ]
  },
  {
   "cell_type": "markdown",
   "id": "cad0b819",
   "metadata": {},
   "source": [
    "### Part 2: Dictionary Comprehension\n",
    "Dictionary comprehensions allow you to create dictionaries dynamically. A dictionary is a collection of key-value pairs.\n",
    "\n",
    "Syntax"
   ]
  },
  {
   "cell_type": "code",
   "execution_count": null,
   "id": "228de063",
   "metadata": {},
   "outputs": [],
   "source": [
    "new_dict = {key_expression: value_expression for item in iterable if condition}\n"
   ]
  },
  {
   "cell_type": "markdown",
   "id": "da1ea192",
   "metadata": {},
   "source": [
    "key_expression: What each key will look like.\n",
    "    \n",
    "value_expression: What each value will look like.\n",
    "#### Example 1: Create a Dictionary of Squares"
   ]
  },
  {
   "cell_type": "code",
   "execution_count": 4,
   "id": "4ec57bbb",
   "metadata": {},
   "outputs": [
    {
     "name": "stdout",
     "output_type": "stream",
     "text": [
      "{1: 1, 2: 4, 3: 9, 4: 16, 5: 25}\n"
     ]
    }
   ],
   "source": [
    "numbers = [1, 2, 3, 4, 5]\n",
    "squares_dict = {num: num ** 2 for num in numbers}\n",
    "print(squares_dict)  \n",
    "\n"
   ]
  },
  {
   "cell_type": "markdown",
   "id": "6d0ee9ca",
   "metadata": {},
   "source": [
    "#### Example 2: Reverse Key-Value Pairs"
   ]
  },
  {
   "cell_type": "code",
   "execution_count": 5,
   "id": "57d51296",
   "metadata": {},
   "outputs": [
    {
     "name": "stdout",
     "output_type": "stream",
     "text": [
      "{1: 'a', 2: 'b', 3: 'c'}\n"
     ]
    }
   ],
   "source": [
    "original_dict = {'a': 1, 'b': 2, 'c': 3}\n",
    "reversed_dict = {value: key for key, value in original_dict.items()}\n",
    "print(reversed_dict)  "
   ]
  },
  {
   "cell_type": "markdown",
   "id": "9540ff50",
   "metadata": {},
   "source": [
    "### Practice Questions\n",
    "#### Set Comprehension\n",
    "Create a set of all vowels from the string \"comprehension\".\n",
    "\n",
    "Generate a set of cubes for numbers from 1 to 10.\n",
    "\n",
    "From the list [10, 15, 20, 25, 30], create a set of numbers divisible by 5 but less than 25.\n",
    "\n",
    "### Dictionary Comprehension\n",
    "Create a dictionary mapping numbers from 1 to 5 to their factorials (e.g., {1: 1, 2: 2, 3: 6, ...}).\n",
    "\n",
    "Reverse the key-value pairs of the dictionary {'x': 10, 'y': 20, 'z': 30}.\n",
    "\n",
    "Filter a dictionary {'apple': 50, 'banana': 30, 'cherry': 20} to include only items where the value is greater than 25."
   ]
  }
 ],
 "metadata": {
  "kernelspec": {
   "display_name": "Python 3 (ipykernel)",
   "language": "python",
   "name": "python3"
  },
  "language_info": {
   "codemirror_mode": {
    "name": "ipython",
    "version": 3
   },
   "file_extension": ".py",
   "mimetype": "text/x-python",
   "name": "python",
   "nbconvert_exporter": "python",
   "pygments_lexer": "ipython3",
   "version": "3.11.5"
  }
 },
 "nbformat": 4,
 "nbformat_minor": 5
}
