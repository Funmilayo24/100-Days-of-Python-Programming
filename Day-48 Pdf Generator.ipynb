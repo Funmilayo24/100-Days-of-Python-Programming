{
 "cells": [
  {
   "cell_type": "markdown",
   "id": "a5928585-5897-49e1-a451-0895e7734891",
   "metadata": {},
   "source": [
    "### Day 48 of Python Programming"
   ]
  },
  {
   "cell_type": "markdown",
   "id": "7d7fddb7-d3b6-4117-a5f6-a8bb8f439247",
   "metadata": {},
   "source": [
    "## Python Pdf Generator\n",
    "\n",
    "This project will use the following:\n",
    "\n",
    "Input Handling: Take multiple inputs from the user.\n",
    "\n",
    "Data Confirmation: Show the entered data to the user for review.\n",
    "\n",
    "PDF Generation: Use the FPDF library to save the input data as a PDF file.\n",
    "\n",
    "### Steps to Implement:\n",
    "Install FPDF Library: The FPDF library helps to generate PDFs in Python. You can install it using:\n"
   ]
  },
  {
   "cell_type": "code",
   "execution_count": 2,
   "id": "59ec67f5-2935-41da-ae16-19c3811b8215",
   "metadata": {},
   "outputs": [
    {
     "name": "stdout",
     "output_type": "stream",
     "text": [
      "Collecting fpdf\n",
      "  Downloading fpdf-1.7.2.tar.gz (39 kB)\n",
      "  Preparing metadata (setup.py): started\n",
      "  Preparing metadata (setup.py): finished with status 'done'\n",
      "Building wheels for collected packages: fpdf\n",
      "  Building wheel for fpdf (setup.py): started\n",
      "  Building wheel for fpdf (setup.py): finished with status 'done'\n",
      "  Created wheel for fpdf: filename=fpdf-1.7.2-py2.py3-none-any.whl size=40713 sha256=5f77eccfd628d616dbdaae8ebd47034e18bdbd27b56345a10b3901de07b9bf50\n",
      "  Stored in directory: c:\\users\\tobun\\appdata\\local\\pip\\cache\\wheels\\65\\4f\\66\\bbda9866da446a72e206d6484cd97381cbc7859a7068541c36\n",
      "Successfully built fpdf\n",
      "Installing collected packages: fpdf\n",
      "Successfully installed fpdf-1.7.2\n",
      "Note: you may need to restart the kernel to use updated packages.\n"
     ]
    }
   ],
   "source": [
    "pip install fpdf\n"
   ]
  },
  {
   "cell_type": "code",
   "execution_count": 1,
   "id": "0f0f3152-6230-4e28-b608-5b9f39839ad3",
   "metadata": {},
   "outputs": [
    {
     "name": "stdout",
     "output_type": "stream",
     "text": [
      "Please enter the following information:\n",
      "Enter your name: Funmilayo\n",
      "Enter your email: info@bethmedia.com\n",
      "Enter your phone number: +01345676794\n",
      "Enter your address: Earth\n",
      "\n",
      "Here is the information you provided:\n",
      "Name: Funmilayo\n",
      "Email: info@bethmedia.com\n",
      "Phone: +01345676794\n",
      "Address: Earth\n",
      "\n",
      "Is the information correct? (yes/no): yes\n",
      "\n",
      "The information has been saved to Funmilayo_info.pdf.\n"
     ]
    }
   ],
   "source": [
    "from fpdf import FPDF\n",
    "\n",
    "def get_user_input():    \n",
    "    print(\"Please enter the following information:\")\n",
    "    \n",
    "    name = input(\"Enter your name: \")\n",
    "    email = input(\"Enter your email: \")\n",
    "    phone = input(\"Enter your phone number: \")\n",
    "    address = input(\"Enter your address: \")\n",
    "    \n",
    "    # Show data for confirmation\n",
    "    print(\"\\nHere is the information you provided:\")\n",
    "    print(f\"Name: {name}\")\n",
    "    print(f\"Email: {email}\")\n",
    "    print(f\"Phone: {phone}\")\n",
    "    print(f\"Address: {address}\")\n",
    "    \n",
    "    confirmation = input(\"\\nIs the information correct? (yes/no): \").strip().lower()\n",
    "    \n",
    "    if confirmation == \"yes\":\n",
    "        save_to_pdf(name, email, phone, address)\n",
    "    else:\n",
    "        print(\"Let's try again!\")\n",
    "        get_user_input()\n",
    "    \n",
    "    \n",
    "def save_to_pdf(name, email, phone, address):\n",
    "    pdf = FPDF()\n",
    "    pdf.add_page()\n",
    "    \n",
    "    pdf.set_font(\"Arial\", size=12)\n",
    "    \n",
    "    pdf.cell(200, 10, txt=\"User Information\", ln=True, align='C')\n",
    "    pdf.ln(10)\n",
    "    \n",
    "    pdf.cell(200, 10, txt=f\"Name: {name}\", ln=True)\n",
    "    pdf.cell(200, 10, txt=f\"Email: {email}\", ln=True)\n",
    "    pdf.cell(200, 10, txt=f\"Phone: {phone}\", ln=True)\n",
    "    pdf.cell(200, 10, txt=f\"Address: {address}\", ln=True)\n",
    "    \n",
    "    pdf_file_name = f\"{name}_info.pdf\"\n",
    "    pdf.output(pdf_file_name)\n",
    "    \n",
    "    print(f\"\\nThe information has been saved to {pdf_file_name}.\")\n",
    "    \n",
    "get_user_input()"
   ]
  },
  {
   "cell_type": "code",
   "execution_count": null,
   "id": "409060ef-8963-4530-bb72-f20697453483",
   "metadata": {},
   "outputs": [],
   "source": []
  }
 ],
 "metadata": {
  "kernelspec": {
   "display_name": "Python 3 (ipykernel)",
   "language": "python",
   "name": "python3"
  },
  "language_info": {
   "codemirror_mode": {
    "name": "ipython",
    "version": 3
   },
   "file_extension": ".py",
   "mimetype": "text/x-python",
   "name": "python",
   "nbconvert_exporter": "python",
   "pygments_lexer": "ipython3",
   "version": "3.11.5"
  }
 },
 "nbformat": 4,
 "nbformat_minor": 5
}
