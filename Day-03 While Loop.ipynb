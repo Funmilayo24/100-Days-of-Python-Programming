{
 "cells": [
  {
   "cell_type": "markdown",
   "id": "ea26e7fc-85c8-4bfb-a511-74b869fb8d2d",
   "metadata": {},
   "source": [
    "### Python Tutorial: While Loops\n",
    "\n",
    "#### Introduction to While Loops\n",
    "\n",
    "A while loop in Python allows a block of code to be executed repeatedly as long as a certain condition is true. It’s useful when you don't know in advance how many times the loop will run but have a condition to continue looping.\n",
    "\n",
    "#### Syntax of while loop"
   ]
  },
  {
   "cell_type": "code",
   "execution_count": null,
   "id": "dc598a6f-1683-45a9-8969-83b9bbc1b603",
   "metadata": {},
   "outputs": [],
   "source": [
    "while condition:\n",
    "    # code to be executed repeatedly\n"
   ]
  },
  {
   "cell_type": "markdown",
   "id": "c9e859df-8822-44aa-89ba-30227761b05a",
   "metadata": {},
   "source": [
    "'condition': A boolean expression that is checked before every iteration of the loop. If True, the loop continues; if False, the loop stops."
   ]
  },
  {
   "cell_type": "markdown",
   "id": "25d01b16-4712-435d-b927-0ddd7a9795e3",
   "metadata": {},
   "source": [
    "### 1: Simple While Loop"
   ]
  },
  {
   "cell_type": "code",
   "execution_count": 1,
   "id": "12c78f62-ffb5-459a-8f94-8ab50069ddeb",
   "metadata": {},
   "outputs": [
    {
     "name": "stdout",
     "output_type": "stream",
     "text": [
      "Counter is: 1\n",
      "Counter is: 2\n",
      "Counter is: 3\n",
      "Counter is: 4\n",
      "Counter is: 5\n"
     ]
    }
   ],
   "source": [
    "counter = 1\n",
    "while counter <= 5:\n",
    "    print(\"Counter is:\", counter)\n",
    "    counter += 1\n"
   ]
  },
  {
   "cell_type": "markdown",
   "id": "f28c3a3a-b374-41d6-b0bf-19ea8344283a",
   "metadata": {},
   "source": [
    "#### In this example, the loop prints the value of counter and increases it by 1 after each iteration. The loop stops when counter is greater than 5."
   ]
  },
  {
   "cell_type": "markdown",
   "id": "920a4103-34cf-40af-9e15-b012dde4181c",
   "metadata": {},
   "source": [
    "### 2: User Input with While Loop\n",
    "You can use a while loop to ask the user for input repeatedly until they give a specific response:"
   ]
  },
  {
   "cell_type": "code",
   "execution_count": 4,
   "id": "8666ec3c-cc6f-4dc4-9063-d40ae0d62992",
   "metadata": {},
   "outputs": [
    {
     "name": "stdin",
     "output_type": "stream",
     "text": [
      "Do you want to exit? Type 'yes' to exit:  no\n",
      "Do you want to exit? Type 'yes' to exit:  yes\n"
     ]
    },
    {
     "name": "stdout",
     "output_type": "stream",
     "text": [
      "Goodbye!\n"
     ]
    }
   ],
   "source": [
    "response = \"\"\n",
    "while response != \"yes\":\n",
    "    response = input(\"Do you want to exit? Type 'yes' to exit: \")\n",
    "print(\"Goodbye!\")\n"
   ]
  },
  {
   "cell_type": "markdown",
   "id": "ba2eaf55-af57-4a19-9999-94a8800f5cc8",
   "metadata": {},
   "source": [
    "#### The loop continues to ask the user to type \"yes\" until they do. When the user finally types \"yes\", the loop terminates."
   ]
  },
  {
   "cell_type": "markdown",
   "id": "7a6f2b77-5fa8-412a-87d7-121bbe89b531",
   "metadata": {},
   "source": [
    "### 3: Infinite Loop (with a break)\n",
    "Sometimes a loop can run indefinitely unless we use a break statement to stop it. Be careful with infinite loops—they can make your program unresponsive!"
   ]
  },
  {
   "cell_type": "code",
   "execution_count": 5,
   "id": "42a6a9b4-d63b-4d50-929b-70fb72844a2f",
   "metadata": {},
   "outputs": [
    {
     "name": "stdin",
     "output_type": "stream",
     "text": [
      "Enter a command (type 'exit' to quit):  exit\n"
     ]
    },
    {
     "name": "stdout",
     "output_type": "stream",
     "text": [
      "Exiting the program...\n"
     ]
    }
   ],
   "source": [
    "while True:\n",
    "    command = input(\"Enter a command (type 'exit' to quit): \")\n",
    "    if command == \"exit\":\n",
    "        print(\"Exiting the program...\")\n",
    "        break\n",
    "    print(\"You entered:\", command)\n"
   ]
  },
  {
   "cell_type": "markdown",
   "id": "815f5dbd-e538-4192-af68-8eb35436588a",
   "metadata": {},
   "source": [
    "##### Here, the while True creates an infinite loop, but the break statement ensures the loop stops when the user types \"exit\"."
   ]
  },
  {
   "cell_type": "markdown",
   "id": "568245bf-5be5-4e3f-b1f5-4c82aee03e50",
   "metadata": {},
   "source": [
    "### Avoiding Infinite Loops\n",
    "It's important to ensure that your while loop has a condition that can become False, or use a break statement. Otherwise, your loop will run forever. \n",
    "\n",
    "For example:"
   ]
  },
  {
   "cell_type": "code",
   "execution_count": 6,
   "id": "9abfba09-e72f-45d2-a158-e3291d3b1b4d",
   "metadata": {},
   "outputs": [
    {
     "name": "stdout",
     "output_type": "stream",
     "text": [
      "5\n",
      "4\n",
      "3\n",
      "2\n",
      "1\n"
     ]
    }
   ],
   "source": [
    "number = 5\n",
    "while number > 0:\n",
    "    print(number)\n",
    "    number -= 1  # Decreasing the value to eventually stop the loop\n"
   ]
  },
  {
   "cell_type": "markdown",
   "id": "319f3bc2-4115-44fa-8fba-afe8585d4ffe",
   "metadata": {},
   "source": [
    "### Using a continue statement\n",
    "The continue statement skips the current iteration and moves on to the next one:"
   ]
  },
  {
   "cell_type": "code",
   "execution_count": 7,
   "id": "aa86ba86-91c6-40a4-8dbe-b744baffa2ce",
   "metadata": {},
   "outputs": [
    {
     "name": "stdout",
     "output_type": "stream",
     "text": [
      "Counter: 1\n",
      "Counter: 2\n",
      "Counter: 4\n",
      "Counter: 5\n"
     ]
    }
   ],
   "source": [
    "counter = 0\n",
    "while counter < 5:\n",
    "    counter += 1\n",
    "    if counter == 3:\n",
    "        continue  # Skips when counter is 3\n",
    "    print(\"Counter:\", counter)\n"
   ]
  },
  {
   "cell_type": "markdown",
   "id": "e5f872cb-abca-4ed6-a166-d49ff996bebd",
   "metadata": {},
   "source": [
    "##### Here, when counter equals 3, the continue statement skips the rest of that loop iteration, so 3 will not be printed."
   ]
  },
  {
   "cell_type": "markdown",
   "id": "27fd7f01-f47f-47f4-8637-e941cdbcb937",
   "metadata": {},
   "source": [
    "## Practice Questions"
   ]
  },
  {
   "cell_type": "markdown",
   "id": "60403b87-1b44-4895-968b-67dd840cc517",
   "metadata": {},
   "source": [
    "Write a program that prints a countdown from 10 to 1, then prints \"Liftoff!\" after the countdown is complete.\n",
    "\n",
    "Write a program that generates a secret number between 1 and 10. The user has to guess the number, and the program should keep asking until they guess it correctly.\n",
    "\n",
    "Write a program that keeps asking the user to enter positive numbers. The program should stop when the user enters a negative number and then print the sum of all the positive numbers entered."
   ]
  },
  {
   "cell_type": "code",
   "execution_count": null,
   "id": "153ec847-a2c4-4cc6-90ee-b3779fe864ac",
   "metadata": {},
   "outputs": [],
   "source": []
  }
 ],
 "metadata": {
  "kernelspec": {
   "display_name": "Python 3 (ipykernel)",
   "language": "python",
   "name": "python3"
  },
  "language_info": {
   "codemirror_mode": {
    "name": "ipython",
    "version": 3
   },
   "file_extension": ".py",
   "mimetype": "text/x-python",
   "name": "python",
   "nbconvert_exporter": "python",
   "pygments_lexer": "ipython3",
   "version": "3.12.4"
  }
 },
 "nbformat": 4,
 "nbformat_minor": 5
}
