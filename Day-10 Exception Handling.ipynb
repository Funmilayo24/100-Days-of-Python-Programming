{
 "cells": [
  {
   "cell_type": "markdown",
   "id": "f4d6501c-2363-460a-b406-4ea13359153b",
   "metadata": {},
   "source": [
    "#### Day 10 of programming"
   ]
  },
  {
   "cell_type": "markdown",
   "id": "6bd49e8e-7135-4757-83ca-8dd8887ef937",
   "metadata": {},
   "source": [
    "### Python Tutorial: Exception Handling with try and except\n",
    "\n",
    "Introduction to Exception Handling\n",
    "When a Python program encounters an error, it raises an exception. If the exception is not handled, the program crashes. To make programs more robust and handle errors gracefully, Python provides exception handling through try, except, else, and finally blocks.\n",
    "\n",
    "Common Python exceptions include:\n",
    "\n",
    "ZeroDivisionError: Raised when trying to divide by zero.\n",
    "\n",
    "FileNotFoundError: Raised when a file is not found.\n",
    "\n",
    "TypeError: Raised when an operation or function is applied to an object of inappropriate type.\n",
    "\n",
    "### Step 1: Basic try and except Syntax\n",
    "The try block lets you test a block of code for errors, and the except block lets you handle the error if one occurs.\n",
    "\n",
    "#### Basic Syntax:"
   ]
  },
  {
   "cell_type": "code",
   "execution_count": null,
   "id": "bce165f0-b9c8-453f-95e8-22e5dd388f58",
   "metadata": {},
   "outputs": [],
   "source": [
    "try:\n",
    "    # Code that may raise an exception\n",
    "    risky_code()\n",
    "except ExceptionType:\n",
    "    # Code that runs if an exception occurs\n",
    "    handle_error()\n"
   ]
  },
  {
   "cell_type": "code",
   "execution_count": 1,
   "id": "ea417ac9-5aad-4bad-afa4-d606b73a0b8c",
   "metadata": {},
   "outputs": [
    {
     "name": "stdout",
     "output_type": "stream",
     "text": [
      "You can't divide by zero!\n"
     ]
    }
   ],
   "source": [
    "try:\n",
    "    result = 10 / 0\n",
    "except ZeroDivisionError:\n",
    "    print(\"You can't divide by zero!\")\n"
   ]
  },
  {
   "cell_type": "markdown",
   "id": "a155db58-7993-4917-8422-88987bb97a18",
   "metadata": {},
   "source": [
    "### Explanation:\n",
    "\n",
    "try block: Contains code that might cause an error.\n",
    "except block: Catches and handles the specific error (in this case, ZeroDivisionError).\n",
    "\n",
    "### Step 2: Handling Multiple Exceptions\n",
    "You can handle multiple types of exceptions by specifying different except blocks for each exception."
   ]
  },
  {
   "cell_type": "code",
   "execution_count": 5,
   "id": "68bd23b7-1afa-40c3-9fe0-867ffbac273f",
   "metadata": {},
   "outputs": [
    {
     "name": "stdin",
     "output_type": "stream",
     "text": [
      "Enter a number:  0\n"
     ]
    },
    {
     "name": "stdout",
     "output_type": "stream",
     "text": [
      "You can't divide by zero!\n"
     ]
    }
   ],
   "source": [
    "try:\n",
    "    num = int(input(\"Enter a number: \"))\n",
    "    result = 10 / num\n",
    "except ValueError:\n",
    "    print(\"That's not a valid number!\")\n",
    "except ZeroDivisionError:\n",
    "    print(\"You can't divide by zero!\")\n"
   ]
  },
  {
   "cell_type": "markdown",
   "id": "6a270a83-2d1f-4f51-b6f2-510db861e246",
   "metadata": {},
   "source": [
    "### Explanation:\n",
    "ValueError: Raised when the input cannot be converted to an integer.\n",
    "\n",
    "ZeroDivisionError: Raised when the user enters 0 and a division by zero occurs."
   ]
  },
  {
   "cell_type": "markdown",
   "id": "87f57b89-4ffa-4bdc-a506-631fd2df855a",
   "metadata": {},
   "source": [
    "### Step 3: Catching Any Exception\n",
    "You can catch all exceptions by using a generic except block without specifying an exception type."
   ]
  },
  {
   "cell_type": "code",
   "execution_count": 6,
   "id": "44a36556-66c2-4f0d-8abd-b454353fba06",
   "metadata": {},
   "outputs": [
    {
     "name": "stdout",
     "output_type": "stream",
     "text": [
      "An error occurred.\n"
     ]
    }
   ],
   "source": [
    "try:\n",
    "    result = 10 / 0\n",
    "except:\n",
    "    print(\"An error occurred.\")\n"
   ]
  },
  {
   "cell_type": "markdown",
   "id": "035d9232-e242-4bd3-a268-ac2194ba1919",
   "metadata": {},
   "source": [
    "#### Explanation:\n",
    "Generic except: Catches any type of exception, but this should be used carefully as it might hide errors.\n",
    "### Step 4: Using else with try and except\n",
    "The else block lets you execute code if the try block does not raise any exceptions."
   ]
  },
  {
   "cell_type": "code",
   "execution_count": 7,
   "id": "74812d74-7613-4b24-9aa1-9c1a592a5c3b",
   "metadata": {},
   "outputs": [
    {
     "name": "stdin",
     "output_type": "stream",
     "text": [
      "Enter a number:  4\n"
     ]
    },
    {
     "name": "stdout",
     "output_type": "stream",
     "text": [
      "The result is: 2.5\n"
     ]
    }
   ],
   "source": [
    "try:\n",
    "    num = int(input(\"Enter a number: \"))\n",
    "    result = 10 / num\n",
    "except ZeroDivisionError:\n",
    "    print(\"You can't divide by zero!\")\n",
    "except ValueError:\n",
    "    print(\"That's not a valid number!\")\n",
    "else:\n",
    "    print(\"The result is:\", result)\n"
   ]
  },
  {
   "cell_type": "markdown",
   "id": "c932ae97-b58f-481f-868c-8cea2382e567",
   "metadata": {},
   "source": [
    "#### Explanation:\n",
    "The code inside the else block runs only if no exceptions are raised in the try block.\n",
    "### Step 5: Using finally\n",
    "The finally block is always executed, whether an exception occurs or not. It is useful for cleaning up resources like closing files or database connections."
   ]
  },
  {
   "cell_type": "code",
   "execution_count": 1,
   "id": "331700c6-79c1-41a0-af5b-cedc0727124f",
   "metadata": {},
   "outputs": [
    {
     "name": "stdout",
     "output_type": "stream",
     "text": [
      "Hello, world!\n",
      "This is a new line.\n",
      "This line is appended.\n",
      "\n",
      "The file has been closed.\n"
     ]
    }
   ],
   "source": [
    "file = None  # Initialize the file variable to None\n",
    "\n",
    "try:\n",
    "    file = open(\"output.txt\", \"r\")\n",
    "    content = file.read()\n",
    "    print(content)\n",
    "except FileNotFoundError:\n",
    "    print(\"The file was not found.\")\n",
    "finally:\n",
    "    if file:  # Only close the file if it was successfully opened\n",
    "        file.close()\n",
    "        print(\"The file has been closed.\")\n"
   ]
  },
  {
   "cell_type": "code",
   "execution_count": 2,
   "id": "0181f877-45a3-4fc4-867d-2631c839a15d",
   "metadata": {},
   "outputs": [
    {
     "name": "stdout",
     "output_type": "stream",
     "text": [
      "The file was not found.\n"
     ]
    }
   ],
   "source": [
    "file = None  # Initialize the file variable to None\n",
    "\n",
    "try:\n",
    "    file = open(\"example.txt\", \"r\")\n",
    "    content = file.read()\n",
    "    print(content)\n",
    "except FileNotFoundError:\n",
    "    print(\"The file was not found.\")\n",
    "finally:\n",
    "    if file:  # Only close the file if it was successfully opened\n",
    "        file.close()\n",
    "        print(\"The file has been closed.\")\n"
   ]
  },
  {
   "cell_type": "markdown",
   "id": "9528e54a-39af-4d03-abe1-a30ccbb15ac4",
   "metadata": {},
   "source": [
    "#### Even if an exception is raised, the finally block ensures the file is properly closed.\n",
    "\n",
    "### Step 6: Raising Exceptions\n",
    "You can manually raise an exception using the raise keyword if a certain condition is not met."
   ]
  },
  {
   "cell_type": "code",
   "execution_count": 6,
   "id": "b86bc258-27b6-40dd-b541-b18b24d38c43",
   "metadata": {},
   "outputs": [
    {
     "ename": "ValueError",
     "evalue": "You must be at least 18 years old.",
     "output_type": "error",
     "traceback": [
      "\u001b[1;31m---------------------------------------------------------------------------\u001b[0m",
      "\u001b[1;31mValueError\u001b[0m                                Traceback (most recent call last)",
      "Cell \u001b[1;32mIn[6], line 7\u001b[0m\n\u001b[0;32m      3\u001b[0m         \u001b[38;5;28;01mraise\u001b[39;00m \u001b[38;5;167;01mValueError\u001b[39;00m(\u001b[38;5;124m\"\u001b[39m\u001b[38;5;124mYou must be at least 18 years old.\u001b[39m\u001b[38;5;124m\"\u001b[39m)\n\u001b[0;32m      4\u001b[0m     \u001b[38;5;28;01mreturn\u001b[39;00m \u001b[38;5;28;01mTrue\u001b[39;00m\n\u001b[1;32m----> 7\u001b[0m check_age(\u001b[38;5;241m5\u001b[39m)\n",
      "Cell \u001b[1;32mIn[6], line 3\u001b[0m, in \u001b[0;36mcheck_age\u001b[1;34m(age)\u001b[0m\n\u001b[0;32m      1\u001b[0m \u001b[38;5;28;01mdef\u001b[39;00m \u001b[38;5;21mcheck_age\u001b[39m(age):\n\u001b[0;32m      2\u001b[0m     \u001b[38;5;28;01mif\u001b[39;00m age \u001b[38;5;241m<\u001b[39m \u001b[38;5;241m18\u001b[39m:\n\u001b[1;32m----> 3\u001b[0m         \u001b[38;5;28;01mraise\u001b[39;00m \u001b[38;5;167;01mValueError\u001b[39;00m(\u001b[38;5;124m\"\u001b[39m\u001b[38;5;124mYou must be at least 18 years old.\u001b[39m\u001b[38;5;124m\"\u001b[39m)\n\u001b[0;32m      4\u001b[0m     \u001b[38;5;28;01mreturn\u001b[39;00m \u001b[38;5;28;01mTrue\u001b[39;00m\n",
      "\u001b[1;31mValueError\u001b[0m: You must be at least 18 years old."
     ]
    }
   ],
   "source": [
    "def check_age(age):\n",
    "    if age < 18:\n",
    "        raise ValueError(\"You must be at least 18 years old.\")\n",
    "    return True\n",
    "\n",
    "\n",
    "check_age(5)\n",
    "\n"
   ]
  },
  {
   "cell_type": "code",
   "execution_count": 7,
   "id": "dd7f1aad-be42-49dc-9da1-1331053a3244",
   "metadata": {},
   "outputs": [
    {
     "name": "stdout",
     "output_type": "stream",
     "text": [
      "You must be at least 18 years old.\n"
     ]
    }
   ],
   "source": [
    "def check_age(age):\n",
    "    if age < 18:\n",
    "        raise ValueError(\"You must be at least 18 years old.\")\n",
    "    return True\n",
    "\n",
    "try:\n",
    "    check_age(5)\n",
    "except ValueError as e:\n",
    "    print(e)\n"
   ]
  },
  {
   "cell_type": "markdown",
   "id": "94045d28-3a9a-4b5b-bc51-269e9371285f",
   "metadata": {},
   "source": [
    "### Step 7: Accessing Exception Information\n",
    "When an exception is raised, you can access details about it using the as keyword."
   ]
  },
  {
   "cell_type": "code",
   "execution_count": 9,
   "id": "8a85748a-a86e-47ca-8ac0-bacf35995a1a",
   "metadata": {},
   "outputs": [
    {
     "name": "stdin",
     "output_type": "stream",
     "text": [
      "Enter a number:  0\n"
     ]
    },
    {
     "name": "stdout",
     "output_type": "stream",
     "text": [
      "An error occurred: division by zero\n"
     ]
    }
   ],
   "source": [
    "try:\n",
    "    number = int(input(\"Enter a number: \"))\n",
    "    result = 10 / number\n",
    "except Exception as e:\n",
    "    print(f\"An error occurred: {e}\")\n"
   ]
  },
  {
   "cell_type": "markdown",
   "id": "87d755ea-4bfe-4494-b514-29ef9a71d4f5",
   "metadata": {},
   "source": [
    "### Practice Questions\n",
    "\n",
    "1. Write a Python program that asks the user to input two numbers and divides the first number by the second. Use try-except to handle a division by zero error and print a user-friendly message.\n",
    "2. Write a program that takes a number from the user and divides 100 by that number. Handle the following exceptions:\n",
    "\n",
    "ValueError (if the input is not a valid number).\n",
    "\n",
    "ZeroDivisionError (if the user enters 0).\n",
    "\n",
    "3. Create a Python function that raises an exception, and inside the except block, raise a new exception while maintaining the original exception context (using raise new_exception from original_exception)."
   ]
  }
 ],
 "metadata": {
  "kernelspec": {
   "display_name": "Python 3 (ipykernel)",
   "language": "python",
   "name": "python3"
  },
  "language_info": {
   "codemirror_mode": {
    "name": "ipython",
    "version": 3
   },
   "file_extension": ".py",
   "mimetype": "text/x-python",
   "name": "python",
   "nbconvert_exporter": "python",
   "pygments_lexer": "ipython3",
   "version": "3.12.4"
  }
 },
 "nbformat": 4,
 "nbformat_minor": 5
}
