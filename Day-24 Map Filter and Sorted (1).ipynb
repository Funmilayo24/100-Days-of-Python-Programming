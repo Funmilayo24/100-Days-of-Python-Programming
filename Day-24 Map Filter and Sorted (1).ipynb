{
 "cells": [
  {
   "cell_type": "markdown",
   "id": "c059f32b-674d-4254-b2c0-b6cf2b189a19",
   "metadata": {},
   "source": [
    "### Day 24 of programming"
   ]
  },
  {
   "cell_type": "markdown",
   "id": "6541d8bd-6d35-4854-952a-3c87fade3b9f",
   "metadata": {},
   "source": [
    "## Using Lambda Functions with map(), filter(), and sorted()\n",
    "Introduction\n",
    "Lambda functions are often used with higher-order functions like map(), filter(), and sorted() to perform operations in a concise manner.\n",
    "\n",
    "### 1. map() Function\n",
    "map() applies a function to all items in an iterable (e.g., list) and returns an iterator of the results.\n",
    "\n",
    "Example\n",
    "Use map() with a lambda function to square each element in a list:"
   ]
  },
  {
   "cell_type": "code",
   "execution_count": 1,
   "id": "0c24473e-c549-4614-b7f3-571fee042508",
   "metadata": {},
   "outputs": [
    {
     "name": "stdout",
     "output_type": "stream",
     "text": [
      "[1, 4, 9, 16, 25]\n"
     ]
    }
   ],
   "source": [
    "numbers = [1, 2, 3, 4, 5]\n",
    "squared_numbers = map(lambda x: x ** 2, numbers)\n",
    "print(list(squared_numbers))  # Output: [1, 4, 9, 16, 25]\n"
   ]
  },
  {
   "cell_type": "markdown",
   "id": "9709e68d-322a-43bf-b652-0e9793e172dd",
   "metadata": {},
   "source": [
    "## 2. filter() Function\n",
    "filter() filters elements from an iterable based on a function that returns True or False.\n",
    "\n",
    "### Example\n",
    "Use filter() with a lambda function to keep only even numbers from a list:"
   ]
  },
  {
   "cell_type": "code",
   "execution_count": 2,
   "id": "0acb0309-3712-46e2-9756-2e2788015bd5",
   "metadata": {},
   "outputs": [
    {
     "name": "stdout",
     "output_type": "stream",
     "text": [
      "[2, 4]\n"
     ]
    }
   ],
   "source": [
    "numbers = [1, 2, 3, 4, 5]\n",
    "even_numbers = filter(lambda x: x % 2 == 0, numbers)\n",
    "print(list(even_numbers))  # Output: [2, 4]\n"
   ]
  },
  {
   "cell_type": "markdown",
   "id": "0576ec4c-0814-421c-b530-28b8418bddc3",
   "metadata": {},
   "source": [
    "## 3. sorted() Function\n",
    "sorted() can use a lambda function as a key to sort elements based on custom criteria.\n",
    "\n",
    "### Example\n",
    "Sort a list of tuples by the second element using sorted() with a lambda function:"
   ]
  },
  {
   "cell_type": "code",
   "execution_count": 3,
   "id": "e602afca-1dbb-4d5c-9b0d-6e24645ad698",
   "metadata": {},
   "outputs": [
    {
     "name": "stdout",
     "output_type": "stream",
     "text": [
      "[(5, 0), (3, 1), (1, 2)]\n"
     ]
    }
   ],
   "source": [
    "pairs = [(1, 2), (3, 1), (5, 0)]\n",
    "sorted_pairs = sorted(pairs, key=lambda x: x[1])\n",
    "print(sorted_pairs)  # Output: [(5, 0), (3, 1), (1, 2)]\n"
   ]
  },
  {
   "cell_type": "markdown",
   "id": "9aa4daf7-fb43-4df9-ad34-8d55829c385d",
   "metadata": {},
   "source": [
    "### Sorting Process\n",
    "The sorted() function will sort the tuples in pairs based on the second element of each tuple, as determined by the lambda function.\n",
    "\n",
    "Here’s a step-by-step of what happens:\n",
    "\n",
    "Input List: [(1, 2), (3, 1), (5, 0)]\n",
    "\n",
    "Lambda Function Execution:\n",
    "\n",
    "For (1, 2), the lambda function returns 2.\n",
    "\n",
    "For (3, 1), the lambda function returns 1.\n",
    "\n",
    "For (5, 0), the lambda function returns 0.\n",
    "\n",
    "Sorting:\n",
    "\n",
    "The tuples are sorted based on these returned values (2, 1, 0), in ascending order.\n",
    "Result:\n",
    "\n",
    "The sorted list of tuples is [(5, 0), (3, 1), (1, 2)]."
   ]
  },
  {
   "cell_type": "markdown",
   "id": "576fc05d-fa43-4324-b6ab-623b694b0ff4",
   "metadata": {},
   "source": [
    "### Practice Questions\n",
    "Using map(): Given a list of integers, use map() with a lambda function to convert them to their absolute values.\n",
    "\n",
    "Using filter(): Given a list of words, use filter() with a lambda function to extract words that contain more than 4 letters.\n",
    "\n",
    "Using sorted(): Create a list of dictionaries representing students with name and score keys. Sort the list by score using a lambda function."
   ]
  },
  {
   "cell_type": "code",
   "execution_count": null,
   "id": "8722471c-774c-4ee3-8b12-7cf98c905732",
   "metadata": {},
   "outputs": [],
   "source": []
  }
 ],
 "metadata": {
  "kernelspec": {
   "display_name": "Python 3 (ipykernel)",
   "language": "python",
   "name": "python3"
  },
  "language_info": {
   "codemirror_mode": {
    "name": "ipython",
    "version": 3
   },
   "file_extension": ".py",
   "mimetype": "text/x-python",
   "name": "python",
   "nbconvert_exporter": "python",
   "pygments_lexer": "ipython3",
   "version": "3.12.4"
  }
 },
 "nbformat": 4,
 "nbformat_minor": 5
}
