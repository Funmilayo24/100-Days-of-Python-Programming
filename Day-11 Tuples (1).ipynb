{
 "cells": [
  {
   "cell_type": "markdown",
   "id": "433d5547-396c-4735-8922-4da51800a2a9",
   "metadata": {},
   "source": [
    "#### Day 11 of Programming"
   ]
  },
  {
   "cell_type": "markdown",
   "id": "a1a71849-82c1-428b-b4ff-f88020415941",
   "metadata": {},
   "source": [
    "### Python Tutorial: Working with Tuples\n",
    "\n",
    "Introduction to Tuples\n",
    "A tuple is a collection of items in Python that is ordered and immutable (unchangeable). Tuples are used to store multiple items in a single variable. They are similar to lists but with one key difference—once a tuple is created, it cannot be modified.\n",
    "\n",
    "Tuples are:\n",
    "\n",
    "Ordered: The items have a defined order and that order will not change.\n",
    "\n",
    "Immutable: Tuples cannot be changed (i.e., items cannot be added, removed, or modified).\n",
    "\n",
    "Allow Duplicates: Tuples can contain duplicate items.\n",
    "\n",
    "### Step 1: Creating a Tuple\n",
    "Tuples are defined by enclosing elements in parentheses ().\n",
    "\n",
    "Example:"
   ]
  },
  {
   "cell_type": "code",
   "execution_count": 1,
   "id": "cba4da69-fb3f-4182-825b-9c426b10d181",
   "metadata": {},
   "outputs": [
    {
     "name": "stdout",
     "output_type": "stream",
     "text": [
      "('apple', 'banana', 'cherry')\n"
     ]
    }
   ],
   "source": [
    "# Creating a tuple\n",
    "my_tuple = (\"apple\", \"banana\", \"cherry\")\n",
    "\n",
    "print(my_tuple)  # Output: ('apple', 'banana', 'cherry')\n"
   ]
  },
  {
   "cell_type": "markdown",
   "id": "8eaa1b1e-b5d3-43c5-8612-e062e34c9437",
   "metadata": {},
   "source": [
    "##### You can also create a tuple without parentheses, but it is more readable to use them."
   ]
  },
  {
   "cell_type": "code",
   "execution_count": 4,
   "id": "5ada025d-44fd-4195-b4fe-453f6b8aa132",
   "metadata": {},
   "outputs": [
    {
     "name": "stdout",
     "output_type": "stream",
     "text": [
      "('apple', 'banana', 'cherries')\n"
     ]
    }
   ],
   "source": [
    "my_tuple = \"apple\", \"banana\", \"cherries\"\n",
    "print(my_tuple)"
   ]
  },
  {
   "cell_type": "markdown",
   "id": "47d68fd2-7d80-41e1-a354-b747757d7b1a",
   "metadata": {},
   "source": [
    "#### Empty Tuple:"
   ]
  },
  {
   "cell_type": "code",
   "execution_count": 5,
   "id": "1f359e01-1083-4a5d-9527-9ef15b52ff05",
   "metadata": {},
   "outputs": [],
   "source": [
    "empty_tuple = ()\n"
   ]
  },
  {
   "cell_type": "markdown",
   "id": "8d68a5cb-b599-4d4d-8e86-7b88ca61c509",
   "metadata": {},
   "source": [
    "#### Single-Element Tuple:\n",
    "For a tuple with a single element, you must include a trailing comma to differentiate it from a regular value."
   ]
  },
  {
   "cell_type": "code",
   "execution_count": 6,
   "id": "36a05e84-2728-4407-a69a-366707ad4730",
   "metadata": {},
   "outputs": [],
   "source": [
    "single_tuple = (\"apple\",)  # The comma makes it a tuple\n",
    "not_a_tuple = (\"apple\")  # This is just a string\n"
   ]
  },
  {
   "cell_type": "markdown",
   "id": "dc4634bd-53cd-4bdf-89b3-e9beef68bccb",
   "metadata": {},
   "source": [
    "### Step 2: Accessing Tuple Elements\n",
    "You can access elements in a tuple by indexing and slicing, similar to lists. The first element has an index of 0."
   ]
  },
  {
   "cell_type": "code",
   "execution_count": 7,
   "id": "c6ee34e1-fcbd-4c8d-93da-1cafb2ee7f1a",
   "metadata": {},
   "outputs": [
    {
     "name": "stdout",
     "output_type": "stream",
     "text": [
      "apple\n",
      "cherry\n"
     ]
    }
   ],
   "source": [
    "my_tuple = (\"apple\", \"banana\", \"cherry\")\n",
    "\n",
    "# Accessing the first element\n",
    "print(my_tuple[0])  # Output: 'apple'\n",
    "\n",
    "# Accessing the last element\n",
    "print(my_tuple[-1])  # Output: 'cherry'\n"
   ]
  },
  {
   "cell_type": "markdown",
   "id": "30c4f32b-8312-4413-a454-d35fcf1e007c",
   "metadata": {},
   "source": [
    "### Slicing Tuples:\n",
    "You can also slice tuples to access a range of elements."
   ]
  },
  {
   "cell_type": "code",
   "execution_count": 8,
   "id": "bb2ba635-a227-46a9-a322-fbc5fec86490",
   "metadata": {},
   "outputs": [
    {
     "name": "stdout",
     "output_type": "stream",
     "text": [
      "('banana', 'cherry')\n"
     ]
    }
   ],
   "source": [
    "# Slicing a tuple\n",
    "print(my_tuple[1:3])  # Output: ('banana', 'cherry')\n"
   ]
  },
  {
   "cell_type": "markdown",
   "id": "47c9e8b0-3a37-4867-955b-352fcfb622d9",
   "metadata": {},
   "source": [
    "### Step 3: Tuple Immutability\n",
    "Tuples are immutable, meaning once they are created, their elements cannot be changed. This makes them different from lists, which are mutable."
   ]
  },
  {
   "cell_type": "code",
   "execution_count": 9,
   "id": "e42bb39e-c851-4c9b-bb21-370e27aa9cb9",
   "metadata": {},
   "outputs": [
    {
     "ename": "TypeError",
     "evalue": "'tuple' object does not support item assignment",
     "output_type": "error",
     "traceback": [
      "\u001b[1;31m---------------------------------------------------------------------------\u001b[0m",
      "\u001b[1;31mTypeError\u001b[0m                                 Traceback (most recent call last)",
      "Cell \u001b[1;32mIn[9], line 4\u001b[0m\n\u001b[0;32m      1\u001b[0m my_tuple \u001b[38;5;241m=\u001b[39m (\u001b[38;5;124m\"\u001b[39m\u001b[38;5;124mapple\u001b[39m\u001b[38;5;124m\"\u001b[39m, \u001b[38;5;124m\"\u001b[39m\u001b[38;5;124mbanana\u001b[39m\u001b[38;5;124m\"\u001b[39m, \u001b[38;5;124m\"\u001b[39m\u001b[38;5;124mcherry\u001b[39m\u001b[38;5;124m\"\u001b[39m)\n\u001b[0;32m      3\u001b[0m \u001b[38;5;66;03m# Trying to change an element (will raise an error)\u001b[39;00m\n\u001b[1;32m----> 4\u001b[0m my_tuple[\u001b[38;5;241m1\u001b[39m] \u001b[38;5;241m=\u001b[39m \u001b[38;5;124m\"\u001b[39m\u001b[38;5;124morange\u001b[39m\u001b[38;5;124m\"\u001b[39m\n",
      "\u001b[1;31mTypeError\u001b[0m: 'tuple' object does not support item assignment"
     ]
    }
   ],
   "source": [
    "my_tuple = (\"apple\", \"banana\", \"cherry\")\n",
    "\n",
    "# Trying to change an element (will raise an error)\n",
    "my_tuple[1] = \"orange\"  # TypeError: 'tuple' object does not support item assignment\n"
   ]
  },
  {
   "cell_type": "markdown",
   "id": "dc43f77a-1c11-4b6b-8648-5b1c0280eb69",
   "metadata": {},
   "source": [
    "### Step 4: Tuple Methods\n",
    "Although tuples are immutable, you can use some basic methods to work with them.\n",
    "\n",
    "count(): Returns the number of times a specified value occurs in a tuple."
   ]
  },
  {
   "cell_type": "code",
   "execution_count": 10,
   "id": "62a4ce57-92ae-407b-b150-b48f12b7019d",
   "metadata": {},
   "outputs": [
    {
     "name": "stdout",
     "output_type": "stream",
     "text": [
      "3\n"
     ]
    }
   ],
   "source": [
    "my_tuple = (1, 2, 3, 2, 2, 4)\n",
    "print(my_tuple.count(2))  # Output: 3\n"
   ]
  },
  {
   "cell_type": "markdown",
   "id": "a5166550-391e-40b5-a1da-d9c6481527f4",
   "metadata": {},
   "source": [
    "##### index(): Returns the index of the first occurrence of a specified value."
   ]
  },
  {
   "cell_type": "code",
   "execution_count": 11,
   "id": "57a24df4-f144-429e-b061-828688929d1f",
   "metadata": {},
   "outputs": [
    {
     "name": "stdout",
     "output_type": "stream",
     "text": [
      "2\n"
     ]
    }
   ],
   "source": [
    "my_tuple = (1, 2, 3, 2, 2, 4)\n",
    "print(my_tuple.index(3))  # Output: 2\n"
   ]
  },
  {
   "cell_type": "markdown",
   "id": "e834cc3a-3c20-42d1-b80b-8e4f316431f7",
   "metadata": {},
   "source": [
    "### Step 5: Working with Tuples\n",
    "#### 1. Tuple Concatenation\n",
    "You can concatenate two or more tuples using the + operator."
   ]
  },
  {
   "cell_type": "code",
   "execution_count": 12,
   "id": "5c8718cb-6b0b-4aea-9d4b-09e55b745d12",
   "metadata": {},
   "outputs": [
    {
     "name": "stdout",
     "output_type": "stream",
     "text": [
      "(1, 2, 3, 4, 5, 6)\n"
     ]
    }
   ],
   "source": [
    "tuple1 = (1, 2, 3)\n",
    "tuple2 = (4, 5, 6)\n",
    "\n",
    "combined_tuple = tuple1 + tuple2\n",
    "print(combined_tuple)  # Output: (1, 2, 3, 4, 5, 6)\n"
   ]
  },
  {
   "cell_type": "markdown",
   "id": "93d7ac89-a0f5-4f68-a938-d90298e50ae4",
   "metadata": {},
   "source": [
    "#### 2. Repeating Tuples\n",
    "You can repeat tuples using the * operator."
   ]
  },
  {
   "cell_type": "code",
   "execution_count": 13,
   "id": "418409cb-4843-4867-ac4d-b1e7f420151b",
   "metadata": {},
   "outputs": [
    {
     "name": "stdout",
     "output_type": "stream",
     "text": [
      "('apple', 'banana', 'apple', 'banana')\n"
     ]
    }
   ],
   "source": [
    "my_tuple = (\"apple\", \"banana\")\n",
    "repeated_tuple = my_tuple * 2\n",
    "print(repeated_tuple)  # Output: ('apple', 'banana', 'apple', 'banana')\n"
   ]
  },
  {
   "cell_type": "markdown",
   "id": "df650978-d7b3-42e4-88ef-d45f0eb17ebe",
   "metadata": {},
   "source": [
    "### Step 6: Converting Between Lists and Tuples\n",
    "While tuples are immutable, you can convert them to a list, modify the list, and convert it back to a tuple."
   ]
  },
  {
   "cell_type": "code",
   "execution_count": 14,
   "id": "fa40d8a9-4bfc-4692-90a1-e8131041cc7c",
   "metadata": {},
   "outputs": [
    {
     "name": "stdout",
     "output_type": "stream",
     "text": [
      "('apple', 'orange', 'cherry')\n"
     ]
    }
   ],
   "source": [
    "# Converting a tuple to a list\n",
    "my_tuple = (\"apple\", \"banana\", \"cherry\")\n",
    "my_list = list(my_tuple)\n",
    "\n",
    "# Modifying the list\n",
    "my_list[1] = \"orange\"\n",
    "\n",
    "# Converting the list back to a tuple\n",
    "my_tuple = tuple(my_list)\n",
    "print(my_tuple)  # Output: ('apple', 'orange', 'cherry')\n"
   ]
  },
  {
   "cell_type": "markdown",
   "id": "850ad071-1a24-48b9-9d19-1f3d4dc97079",
   "metadata": {},
   "source": [
    "### Step 7: Nesting Tuples\n",
    "Tuples can contain other tuples, which is called nesting."
   ]
  },
  {
   "cell_type": "code",
   "execution_count": 16,
   "id": "46ffa4cb-06a2-49b5-833e-ce2ec938ddb0",
   "metadata": {},
   "outputs": [
    {
     "name": "stdout",
     "output_type": "stream",
     "text": [
      "(1, 2)\n",
      "2\n"
     ]
    }
   ],
   "source": [
    "nested_tuple = ((1, 2), (3, 4), (5, 6))\n",
    "\n",
    "print(nested_tuple[0])  # Output: (1, 2)\n",
    "print(nested_tuple[0][1])  # Output: 2\n"
   ]
  },
  {
   "cell_type": "markdown",
   "id": "f188b2a7-c1e0-4121-a345-1acd77a1f83a",
   "metadata": {},
   "source": [
    "### Step 8: Checking for Membership\n",
    "You can use the in and not in operators to check if an item exists in a tuple."
   ]
  },
  {
   "cell_type": "code",
   "execution_count": 17,
   "id": "4f6166b6-7f7c-48a0-819b-d68773655bfb",
   "metadata": {},
   "outputs": [
    {
     "name": "stdout",
     "output_type": "stream",
     "text": [
      "True\n",
      "True\n"
     ]
    }
   ],
   "source": [
    "my_tuple = (\"apple\", \"banana\", \"cherry\")\n",
    "\n",
    "print(\"apple\" in my_tuple)  # Output: True\n",
    "print(\"orange\" not in my_tuple)  # Output: True\n"
   ]
  },
  {
   "cell_type": "markdown",
   "id": "5c3dacbd-0112-4c81-be87-52934b3731b2",
   "metadata": {},
   "source": [
    "### Step 9: Iterating Over a Tuple\n",
    "You can iterate over a tuple using a for loop."
   ]
  },
  {
   "cell_type": "code",
   "execution_count": 18,
   "id": "a41c6c41-8444-49dd-bdd4-20da8f2b9f4e",
   "metadata": {},
   "outputs": [
    {
     "name": "stdout",
     "output_type": "stream",
     "text": [
      "apple\n",
      "banana\n",
      "cherry\n"
     ]
    }
   ],
   "source": [
    "my_tuple = (\"apple\", \"banana\", \"cherry\")\n",
    "\n",
    "for fruit in my_tuple:\n",
    "    print(fruit)\n"
   ]
  },
  {
   "cell_type": "markdown",
   "id": "df606a8f-d095-483d-af17-ebc70c09035f",
   "metadata": {},
   "source": [
    "### Practice questions\n",
    "\n",
    "1. Write a Python program that attempts to change the second element of a tuple and handles the TypeError that arises when doing so.\n",
    "2. Write a Python program to concatenate two tuples, tuple1 = (1, 2, 3) and tuple2 = (4, 5, 6), then print the resulting tuple.\n",
    "3. Write a Python program that creates a nested tuple nested_tuple = ((1, 2), (3, 4), (5, 6)), then prints the second element of the first nested tuple."
   ]
  },
  {
   "cell_type": "code",
   "execution_count": null,
   "id": "b414d53b-027e-4fac-a0cf-fb5ef59350be",
   "metadata": {},
   "outputs": [],
   "source": []
  }
 ],
 "metadata": {
  "kernelspec": {
   "display_name": "Python 3 (ipykernel)",
   "language": "python",
   "name": "python3"
  },
  "language_info": {
   "codemirror_mode": {
    "name": "ipython",
    "version": 3
   },
   "file_extension": ".py",
   "mimetype": "text/x-python",
   "name": "python",
   "nbconvert_exporter": "python",
   "pygments_lexer": "ipython3",
   "version": "3.12.4"
  }
 },
 "nbformat": 4,
 "nbformat_minor": 5
}
