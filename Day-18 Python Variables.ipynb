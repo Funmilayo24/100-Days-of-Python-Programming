{
 "cells": [
  {
   "cell_type": "markdown",
   "id": "88cbdd3b-5b5d-4dec-a830-add9d72ff9e3",
   "metadata": {},
   "source": [
    "### Day 18 of programming"
   ]
  },
  {
   "cell_type": "markdown",
   "id": "eddaa9c8-41f4-4538-891c-b9261cc055c5",
   "metadata": {},
   "source": [
    "## Python Tutorial: Variables\n",
    "Introduction\n",
    "Variables in Python are used to store data that can be referenced and manipulated in a program. Unlike some other programming languages, Python does not require you to declare the type of a variable. The type is inferred automatically when you assign a value to a variable.\n",
    "\n",
    "### Step 1: What is a Variable?\n",
    "A variable is a name given to a memory location that stores data. The data in the variable can change throughout the program. Think of it like a box that holds a value, and you can update or change what's inside the box at any time.\n",
    "\n",
    "### Step 2: Creating Variables\n",
    "In Python, you create a variable by simply assigning a value to it using the = operator. Here’s an example:"
   ]
  },
  {
   "cell_type": "code",
   "execution_count": 1,
   "id": "f57387f0-fb47-4e9b-9af9-61e652135c60",
   "metadata": {},
   "outputs": [
    {
     "name": "stdout",
     "output_type": "stream",
     "text": [
      "Alice\n",
      "25\n",
      "5.5\n",
      "True\n"
     ]
    }
   ],
   "source": [
    "# Assigning values to variables\n",
    "name = \"Alice\"\n",
    "age = 25\n",
    "height = 5.5\n",
    "is_student = True\n",
    "\n",
    "print(name)\n",
    "print(age)\n",
    "print(height)\n",
    "print(is_student)\n"
   ]
  },
  {
   "cell_type": "markdown",
   "id": "33211d8d-a614-4da3-94ab-c1bf825d81e0",
   "metadata": {},
   "source": [
    "### Step 3: Variable Naming Rules\n",
    "Variable names can contain letters, numbers, and underscores (_), but they cannot start with a number.\n",
    "\n",
    "Variable names are case-sensitive (name and Name are different variables).\n",
    "\n",
    "Avoid using Python keywords (e.g., for, if, else, while, return) as variable names."
   ]
  },
  {
   "cell_type": "code",
   "execution_count": 2,
   "id": "006102e4-3935-4cfe-8870-e88b9d7d1194",
   "metadata": {},
   "outputs": [],
   "source": [
    "# Examples of valid variable name\n",
    "\n",
    "first_name = \"Alice\"\n",
    "age1 = 25\n",
    "_is_student = True\n",
    "height_in_cm = 165.5\n"
   ]
  },
  {
   "cell_type": "code",
   "execution_count": 4,
   "id": "23879382-e9af-4ab6-af63-911f2abc1850",
   "metadata": {},
   "outputs": [
    {
     "ename": "SyntaxError",
     "evalue": "cannot assign to expression here. Maybe you meant '==' instead of '='? (115810569.py, line 4)",
     "output_type": "error",
     "traceback": [
      "\u001b[1;36m  Cell \u001b[1;32mIn[4], line 4\u001b[1;36m\u001b[0m\n\u001b[1;33m    first-name = \"Alice\"  # Hyphens are not allowed\u001b[0m\n\u001b[1;37m    ^\u001b[0m\n\u001b[1;31mSyntaxError\u001b[0m\u001b[1;31m:\u001b[0m cannot assign to expression here. Maybe you meant '==' instead of '='?\n"
     ]
    }
   ],
   "source": [
    "# Examples of invalid variable name\n",
    "\n",
    "1st_name = \"Alice\"  # Cannot start with a number\n",
    "first-name = \"Alice\"  # Hyphens are not allowed\n",
    "for = 25  # 'for' is a keyword\n"
   ]
  },
  {
   "cell_type": "markdown",
   "id": "78e98c73-0c17-4804-a07a-3943921708c7",
   "metadata": {},
   "source": [
    "### Step 4: Changing the Value of a Variable\n",
    "Variables are dynamic in Python, which means you can change their value or even assign a new type to them."
   ]
  },
  {
   "cell_type": "code",
   "execution_count": 5,
   "id": "ae18fb01-bb2f-42f8-8dad-55c0e6a69cab",
   "metadata": {},
   "outputs": [
    {
     "name": "stdout",
     "output_type": "stream",
     "text": [
      "10\n",
      "Hello\n"
     ]
    }
   ],
   "source": [
    "x = 10\n",
    "print(x)  # Output: 10\n",
    "\n",
    "x = \"Hello\"\n",
    "print(x)  # Output: Hello\n"
   ]
  },
  {
   "cell_type": "markdown",
   "id": "2d09116c-c0be-4e9d-b103-b7446f19135f",
   "metadata": {},
   "source": [
    "### Step 5: Multiple Assignment\n",
    "You can assign values to multiple variables in one line:"
   ]
  },
  {
   "cell_type": "code",
   "execution_count": 6,
   "id": "84615299-394b-4e42-845e-78ecb4c2bc98",
   "metadata": {},
   "outputs": [
    {
     "name": "stdout",
     "output_type": "stream",
     "text": [
      "5 10 15\n"
     ]
    }
   ],
   "source": [
    "a, b, c = 5, 10, 15\n",
    "print(a, b, c)  # Output: 5 10 15\n"
   ]
  },
  {
   "cell_type": "markdown",
   "id": "456490a8-7a77-430c-90db-64002405414e",
   "metadata": {},
   "source": [
    "#### Or, assign the same value to multiple variables:"
   ]
  },
  {
   "cell_type": "code",
   "execution_count": 7,
   "id": "a63346d1-cbb0-4a47-beec-b44fec5681b9",
   "metadata": {},
   "outputs": [
    {
     "name": "stdout",
     "output_type": "stream",
     "text": [
      "100 100 100\n"
     ]
    }
   ],
   "source": [
    "x = y = z = 100\n",
    "print(x, y, z)  # Output: 100 100 100\n"
   ]
  },
  {
   "cell_type": "markdown",
   "id": "77e23677-3b36-4d28-8ff1-3f88a2698dc6",
   "metadata": {},
   "source": [
    "### Step 6 Global vs Local Variables\n",
    "Local Variable: Declared inside a function and only accessible within that function.\n",
    "\n",
    "Global Variable: Declared outside of all functions and accessible anywhere in the program."
   ]
  },
  {
   "cell_type": "code",
   "execution_count": 8,
   "id": "e66c9cd8-1e1e-4b00-bed2-e432debfc32e",
   "metadata": {},
   "outputs": [
    {
     "name": "stdout",
     "output_type": "stream",
     "text": [
      "5\n"
     ]
    }
   ],
   "source": [
    "x = 5  # Global variable\n",
    "\n",
    "def my_function():\n",
    "    print(x)  # Can access global variable\n",
    "\n",
    "my_function()  # Output: 5\n"
   ]
  },
  {
   "cell_type": "code",
   "execution_count": 9,
   "id": "1e8cdb17-2a72-475e-ab19-447ac52cd255",
   "metadata": {},
   "outputs": [
    {
     "name": "stdout",
     "output_type": "stream",
     "text": [
      "10\n"
     ]
    }
   ],
   "source": [
    "def my_function():\n",
    "    y = 10  # Local variable\n",
    "    print(y)\n",
    "\n",
    "my_function()  # Output: 10\n",
    "# print(y)  # This will throw an error as y is not accessible outside the function\n"
   ]
  },
  {
   "cell_type": "markdown",
   "id": "50c86000-2b05-4730-90ef-6968ab57e99a",
   "metadata": {},
   "source": [
    "### Summary\n",
    "Variables in Python are names that store data and can be used throughout a program. You can change the values of variables, check their data types, and assign multiple variables at once. Understanding how to use and manage variables is fundamental to writing effective Python programs.\n",
    "\n",
    "Key Takeaways:\n",
    "Creating Variables: Use the = operator to assign values to variables.\n",
    "\n",
    "Dynamic Typing: Python automatically infers the type of the variable.\n",
    "\n",
    "\n",
    "Global vs Local Variables: Global variables are accessible throughout the program, while local variables are limited to the scope of a function.\n",
    "Variable Naming Rules: Follow the naming conventions to avoid errors."
   ]
  },
  {
   "cell_type": "markdown",
   "id": "fd3de5fc-caa7-4488-9311-fa60a30e7e4f",
   "metadata": {},
   "source": [
    "### Pratice Questions\n",
    "\n",
    "1. Create a global variable x = 50. Inside a function, try to print the value of x. Then, inside the same function, assign a local variable x = 100 and print the value of x within the function. What will happen if you print x outside the function?\n",
    "2. Assign a string \"Python Programming\" to a variable course. Print the string in all uppercase letters.\n",
    "3. Create two variables x and y with values 5 and 10. Swap their values and print the result (i.e., x should now be 10 and y should be 5)."
   ]
  },
  {
   "cell_type": "code",
   "execution_count": null,
   "id": "01a3e795-a040-4783-a45f-d7b18a17ce7f",
   "metadata": {},
   "outputs": [],
   "source": []
  }
 ],
 "metadata": {
  "kernelspec": {
   "display_name": "Python 3 (ipykernel)",
   "language": "python",
   "name": "python3"
  },
  "language_info": {
   "codemirror_mode": {
    "name": "ipython",
    "version": 3
   },
   "file_extension": ".py",
   "mimetype": "text/x-python",
   "name": "python",
   "nbconvert_exporter": "python",
   "pygments_lexer": "ipython3",
   "version": "3.12.4"
  }
 },
 "nbformat": 4,
 "nbformat_minor": 5
}
