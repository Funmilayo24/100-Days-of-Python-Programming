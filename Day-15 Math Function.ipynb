{
 "cells": [
  {
   "cell_type": "markdown",
   "id": "bc563aa6-f4fe-460b-aabd-ddaff9451746",
   "metadata": {},
   "source": [
    "### Day 15 of programming"
   ]
  },
  {
   "cell_type": "markdown",
   "id": "036bc59b-0213-4beb-a620-0f386f8017e5",
   "metadata": {},
   "source": [
    "### Python Tutorial: Math Functions\n",
    "Introduction to Math in Python\n",
    "Python provides a rich set of mathematical functions, both built-in and in the math module, which allows you to perform various mathematical operations like trigonometry, logarithms, exponents, and more.\n",
    "\n",
    "You can also perform basic arithmetic operations (addition, subtraction, multiplication, division) without importing any module, as these operators are built into the Python language.\n",
    "\n",
    "#### Step 1: Basic Arithmetic Operations\n",
    "\n",
    "Python allows you to perform basic arithmetic operations using the following operators:\n",
    "\n",
    "+: Addition\n",
    "\n",
    "-: Subtraction\n",
    "\n",
    "*: Multiplication\n",
    "\n",
    "/: Division (floating-point result)\n",
    "\n",
    "//: Integer (floor) division\n",
    "\n",
    "%: Modulo (remainder)\n",
    "\n",
    "**: Exponentiation (raising to a power)\n",
    "\n",
    "#### Example: Basic Arithmetic Operations"
   ]
  },
  {
   "cell_type": "code",
   "execution_count": 1,
   "id": "0c19e5ee-2ff0-499f-9100-23d0f17c58fe",
   "metadata": {},
   "outputs": [
    {
     "name": "stdout",
     "output_type": "stream",
     "text": [
      "8\n",
      "6\n",
      "14\n",
      "3.75\n",
      "3\n",
      "3\n",
      "8\n"
     ]
    }
   ],
   "source": [
    "# Addition\n",
    "print(5 + 3)  # Output: 8\n",
    "\n",
    "# Subtraction\n",
    "print(10 - 4)  # Output: 6\n",
    "\n",
    "# Multiplication\n",
    "print(7 * 2)  # Output: 14\n",
    "\n",
    "# Division (floating-point result)\n",
    "print(15 / 4)  # Output: 3.75\n",
    "\n",
    "# Integer (floor) division\n",
    "print(15 // 4)  # Output: 3\n",
    "\n",
    "# Modulo (remainder)\n",
    "print(15 % 4)  # Output: 3\n",
    "\n",
    "# Exponentiation (power)\n",
    "print(2 ** 3)  # Output: 8\n"
   ]
  },
  {
   "cell_type": "markdown",
   "id": "b52a1924-b4b0-4782-a61f-6a2b9134e08e",
   "metadata": {},
   "source": [
    "### Step 2: Advanced Math Functions with math Module\n",
    "To use more advanced mathematical functions like square roots, trigonometric functions, logarithms, and constants, you need to import the math module.\n",
    "\n",
    "Example: Importing the math Module"
   ]
  },
  {
   "cell_type": "code",
   "execution_count": 2,
   "id": "86ccf4a8-cb97-453a-91f3-dcb40f2f51de",
   "metadata": {},
   "outputs": [
    {
     "name": "stdout",
     "output_type": "stream",
     "text": [
      "4.0\n",
      "1.0\n",
      "3.0\n",
      "3.141592653589793\n",
      "2.718281828459045\n"
     ]
    }
   ],
   "source": [
    "import math\n",
    "\n",
    "# Find the square root of a number\n",
    "print(math.sqrt(16))  # Output: 4.0\n",
    "\n",
    "# Find the sine of an angle (in radians)\n",
    "print(math.sin(math.pi / 2))  # Output: 1.0\n",
    "\n",
    "# Find the logarithm (base 10) of a number\n",
    "print(math.log10(1000))  # Output: 3.0\n",
    "\n",
    "# Find the value of π (Pi)\n",
    "print(math.pi)  # Output: 3.141592653589793\n",
    "\n",
    "# Find the value of e (Euler's number)\n",
    "print(math.e)  # Output: 2.718281828459045\n"
   ]
  },
  {
   "cell_type": "markdown",
   "id": "80dc6a66-bf82-474c-8d77-bdfa5708a6c2",
   "metadata": {},
   "source": [
    "### Step 3: Commonly Used math Functions\n",
    "Here are some of the most commonly used functions from the math module:\n",
    "\n",
    "#### 1. Square Root (sqrt())\n",
    "The sqrt(x) function returns the square root of x."
   ]
  },
  {
   "cell_type": "code",
   "execution_count": 3,
   "id": "1ffede2f-2cbd-4576-928f-a393a713b75d",
   "metadata": {},
   "outputs": [
    {
     "name": "stdout",
     "output_type": "stream",
     "text": [
      "5.0\n"
     ]
    }
   ],
   "source": [
    "import math\n",
    "print(math.sqrt(25))  # Output: 5.0\n"
   ]
  },
  {
   "cell_type": "markdown",
   "id": "aa13d492-9046-4f1c-b8cc-b39612f55238",
   "metadata": {},
   "source": [
    "#### 2. Power (pow())\n",
    "The pow(x, y) function returns x raised to the power of y."
   ]
  },
  {
   "cell_type": "code",
   "execution_count": 4,
   "id": "24197661-9587-4d72-b88f-327a929093ac",
   "metadata": {},
   "outputs": [
    {
     "name": "stdout",
     "output_type": "stream",
     "text": [
      "8.0\n"
     ]
    }
   ],
   "source": [
    "print(math.pow(2, 3))  # Output: 8.0\n"
   ]
  },
  {
   "cell_type": "markdown",
   "id": "3490cfba-eafd-42c6-8def-1a6b984bd456",
   "metadata": {},
   "source": [
    "#### 3. Factorial (factorial())\n",
    "The factorial(n) function returns the factorial of n, which is the product of all positive integers less than or equal to n."
   ]
  },
  {
   "cell_type": "code",
   "execution_count": 5,
   "id": "aa93eb43-8d93-4ade-9441-30f501277fce",
   "metadata": {},
   "outputs": [
    {
     "name": "stdout",
     "output_type": "stream",
     "text": [
      "120\n"
     ]
    }
   ],
   "source": [
    "print(math.factorial(5))  # Output: 120 (5 * 4 * 3 * 2 * 1)\n"
   ]
  },
  {
   "cell_type": "markdown",
   "id": "94109ac5-fd89-44b0-b88a-c079006c514b",
   "metadata": {},
   "source": [
    "#### 4.  Constants\n",
    "math.pi: The value of π (approximately 3.14159).\n",
    "\n",
    "math.e: The value of Euler’s number e (approximately 2.718)."
   ]
  },
  {
   "cell_type": "code",
   "execution_count": 6,
   "id": "9e41a621-6f0b-4436-97c6-15623e267343",
   "metadata": {},
   "outputs": [
    {
     "name": "stdout",
     "output_type": "stream",
     "text": [
      "3.141592653589793\n",
      "2.718281828459045\n"
     ]
    }
   ],
   "source": [
    "print(math.pi)  # Output: 3.141592653589793\n",
    "print(math.e)   # Output: 2.718281828459045\n"
   ]
  },
  {
   "cell_type": "markdown",
   "id": "0d9fa868-1060-4fac-a34c-24bdfeacdf4f",
   "metadata": {},
   "source": [
    "### Step 4: Rounding and Precision Functions\n",
    "Python provides several functions to control the precision of numerical calculations:\n",
    "\n",
    "round(x, n): Rounds x to n decimal places.\n",
    "\n",
    "math.floor(x): Returns the largest integer less than or equal to x.\n",
    "    \n",
    "math.ceil(x): Returns the smallest integer greater than or equal to x."
   ]
  },
  {
   "cell_type": "code",
   "execution_count": 7,
   "id": "fae65a70-2846-4aae-b86a-4aa24cbd10c1",
   "metadata": {},
   "outputs": [
    {
     "name": "stdout",
     "output_type": "stream",
     "text": [
      "5.68\n",
      "3\n",
      "4\n"
     ]
    }
   ],
   "source": [
    "import math\n",
    "\n",
    "# Round 5.6789 to 2 decimal places\n",
    "print(round(5.6789, 2))  # Output: 5.68\n",
    "\n",
    "# Floor (round down)\n",
    "print(math.floor(3.9))  # Output: 3\n",
    "\n",
    "# Ceil (round up)\n",
    "print(math.ceil(3.1))  # Output: 4\n"
   ]
  },
  {
   "cell_type": "markdown",
   "id": "f36eaa56-6ba2-4919-af0e-cad97295b4f4",
   "metadata": {},
   "source": [
    "### Practice Question\n",
    "\n",
    "1. Write a Python program that asks the user to input a number and prints the factorial of that number using math.factorial().\n",
    "2. Write a Python function that simulates rolling a pair of dice. Use math.floor() and random.random() to generate two random numbers between 1 and 6, and print their sum.\n",
    "3. Modify the trigonometric examples so that they work with degrees instead of radians. Write a program that takes an angle in degrees, converts it to radians, and then finds the sine, cosine, and tangent.\n",
    "\n"
   ]
  },
  {
   "cell_type": "markdown",
   "id": "b255a527-b372-4f49-9aca-cda9fb9aaba7",
   "metadata": {},
   "source": [
    "### Summary\n",
    "\n",
    "Basic Arithmetic: Python supports basic arithmetic operators like +, -, *, /, **, etc.\n",
    "\n",
    "math Module: The math module provides functions for more advanced mathematical operations like trigonometry, logarithms, factorials, and constants like pi and e.\n",
    "\n",
    "Rounding and Precision: Functions like round(), math.floor(), and math.ceil() allow for precise control over numerical rounding.\n",
    "\n",
    "By practicing these math operations, you'll be equipped to handle a variety of mathematical problems in Python."
   ]
  },
  {
   "cell_type": "code",
   "execution_count": null,
   "id": "deaeb919-6057-4413-8030-7fcb15006734",
   "metadata": {},
   "outputs": [],
   "source": []
  }
 ],
 "metadata": {
  "kernelspec": {
   "display_name": "Python 3 (ipykernel)",
   "language": "python",
   "name": "python3"
  },
  "language_info": {
   "codemirror_mode": {
    "name": "ipython",
    "version": 3
   },
   "file_extension": ".py",
   "mimetype": "text/x-python",
   "name": "python",
   "nbconvert_exporter": "python",
   "pygments_lexer": "ipython3",
   "version": "3.12.4"
  }
 },
 "nbformat": 4,
 "nbformat_minor": 5
}
