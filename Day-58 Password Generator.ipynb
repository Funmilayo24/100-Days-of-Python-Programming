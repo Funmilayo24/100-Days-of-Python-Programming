{
 "cells": [
  {
   "cell_type": "markdown",
   "id": "e7ce48ce-0b5e-472e-8e7a-2ba11381d346",
   "metadata": {},
   "source": [
    "### Day 58 of programming"
   ]
  },
  {
   "cell_type": "markdown",
   "id": "e20502f4-06cb-4cff-803c-709e006ed3e2",
   "metadata": {},
   "source": [
    "## Python Password Generator Tutorial\n",
    "In this tutorial, we will create a Random Password Generator using Python. A password generator can help users create strong, secure passwords that combine letters, numbers, and special characters.\n",
    "\n",
    "### Overview:\n",
    "Purpose: Generate a strong random password.\n",
    "\n",
    "Library: We'll use the random library, which comes pre-installed with Python, to generate random characters.\n",
    "\n",
    "\n",
    "### Step 1: Import Required Libraries\n",
    "To generate random passwords, we will use the random library to shuffle and select characters."
   ]
  },
  {
   "cell_type": "code",
   "execution_count": 3,
   "id": "b1c744d7-d9fc-4672-a65a-0a1fbcf6fdb3",
   "metadata": {},
   "outputs": [],
   "source": [
    "import random\n",
    "import string\n"
   ]
  },
  {
   "cell_type": "markdown",
   "id": "ee360092-bd39-432b-b7f4-2dddb7650581",
   "metadata": {},
   "source": [
    "### Step 2: Create a Basic Password Generator\n",
    "We'll now generate a random password using lowercase letters, uppercase letters, digits, and special characters."
   ]
  },
  {
   "cell_type": "code",
   "execution_count": 4,
   "id": "03c28855",
   "metadata": {},
   "outputs": [
    {
     "name": "stdout",
     "output_type": "stream",
     "text": [
      "Enter the desired password length: 10\n",
      "Generated Password: *4Le9]:7}?\n"
     ]
    }
   ],
   "source": [
    "def generate_password(length):\n",
    "    characters = string.ascii_letters + string.digits + string.punctuation    \n",
    "    password = ''.join(random.choice(characters) for i in range(length)) \n",
    "    \n",
    "    return password\n",
    "\n",
    "# User input for the password length\n",
    "password_length = int(input(\"Enter the desired password length: \"))\n",
    "generated_password = generate_password(password_length)\n",
    "\n",
    "print(f\"Generated Password: {generated_password}\")"
   ]
  },
  {
   "cell_type": "markdown",
   "id": "f6b173b5-bd1d-43a7-9fb3-d9841dea4786",
   "metadata": {},
   "source": [
    "### Explanation:\n",
    "string.ascii_letters: Includes both lowercase and uppercase letters (a-z, A-Z).\n",
    "\n",
    "string.digits: Includes numeric characters (0-9).\n",
    "\n",
    "string.punctuation: Includes special characters (e.g., @, #, $, etc.).\n",
    "\n",
    "random.choice(): Randomly selects a character from the list of available characters.\n",
    "\n",
    "We prompt the user to input the desired length of the password and generate a password accordingly.\n"
   ]
  },
  {
   "cell_type": "markdown",
   "id": "a5b19c4c-5981-4852-9281-580a0d5e0ba9",
   "metadata": {},
   "source": [
    "### Step 3: Add Complexity to the Password\n",
    "We can ensure that the password contains at least one character from each of the categories (letters, digits, special characters)."
   ]
  },
  {
   "cell_type": "code",
   "execution_count": 9,
   "id": "91f13c12-23c4-454e-b865-c216c55a59b6",
   "metadata": {},
   "outputs": [
    {
     "name": "stdout",
     "output_type": "stream",
     "text": [
      "Enter the desired password length (minimum 4): 9\n",
      "Generated Strong Password: /{3u[Zt6o\n"
     ]
    }
   ],
   "source": [
    "def generate_strong_password(length):\n",
    "    if length < 4:\n",
    "        return \"Password length must be at least 4\"\n",
    "    \n",
    "    \n",
    "    # Randomly choose one character from each category\n",
    "    lower = random.choice(string.ascii_lowercase)\n",
    "    upper = random.choice(string.ascii_uppercase)\n",
    "    digit = random.choice(string.digits)\n",
    "    special = random.choice(string.punctuation)\n",
    "    \n",
    "    remaining_length = length -4\n",
    "    remaining_characters = ''.join(random.choice(string.ascii_letters + string.digits + string.punctuation) for i in range(remaining_length))\n",
    "    \n",
    "    password = lower + upper + digit + special + remaining_characters\n",
    "    password = ''.join(random.sample(password, len(password)))  # Shuffle the characters\n",
    "    \n",
    "    return password\n",
    "password_length = int(input(\"Enter the desired password length (minimum 4): \"))\n",
    "\n",
    "strong_password = generate_strong_password(password_length)\n",
    "\n",
    "print(f\"Generated Strong Password: {strong_password}\")\n",
    "    "
   ]
  },
  {
   "cell_type": "markdown",
   "id": "96e78570-bfe9-42be-8f88-cf1e67199e54",
   "metadata": {},
   "source": [
    "### Practice Questions:\n",
    "Modify the password generator to reject weak passwords that do not meet a certain strength criteria (e.g., too many repeated characters).\n",
    "\n",
    "Add functionality to save the generated password to a text file for future reference.\n",
    "                                                               \n",
    "Research and integrate a library like secrets to generate cryptographically secure passwords.\n"
   ]
  },
  {
   "cell_type": "code",
   "execution_count": null,
   "id": "618f7fd7-fc76-4fd7-b645-90fecf989013",
   "metadata": {},
   "outputs": [],
   "source": []
  }
 ],
 "metadata": {
  "kernelspec": {
   "display_name": "Python 3 (ipykernel)",
   "language": "python",
   "name": "python3"
  },
  "language_info": {
   "codemirror_mode": {
    "name": "ipython",
    "version": 3
   },
   "file_extension": ".py",
   "mimetype": "text/x-python",
   "name": "python",
   "nbconvert_exporter": "python",
   "pygments_lexer": "ipython3",
   "version": "3.11.5"
  }
 },
 "nbformat": 4,
 "nbformat_minor": 5
}
