{
 "cells": [
  {
   "cell_type": "markdown",
   "id": "31e3e5b1-29d3-4430-b2b9-44013dafb81e",
   "metadata": {},
   "source": [
    "### Day 35 of programming"
   ]
  },
  {
   "cell_type": "markdown",
   "id": "0682d13d-3537-4f57-ada8-c6dc748ff98a",
   "metadata": {},
   "source": [
    "## Introduction to Python Functions\n",
    "### Overview\n",
    "In this tutorial, you'll learn the basics of Python functions, including what they are, why they are useful, and how to define and call a function. This will cover the essentials of parameters, arguments, and return statements.\n",
    "\n",
    "### Key Topics\n",
    "What is a Function?\n",
    "\n",
    "Why Use Functions?\n",
    "\n",
    "Defining a Function (def keyword)\n",
    "\n",
    "Calling a Function\n",
    "\n",
    "Parameters and Arguments\n",
    "\n",
    "Return Values\n",
    "\n",
    "### Tutorial\n",
    "What is a Function? A function is a block of reusable code that performs a specific task. Functions help in structuring your code, making it more readable and manageable.\n",
    "\n",
    "### Example:"
   ]
  },
  {
   "cell_type": "code",
   "execution_count": 1,
   "id": "b3898a54-6066-42fd-9944-371e616d31a0",
   "metadata": {},
   "outputs": [],
   "source": [
    "def greet():\n",
    "    print('Hello')\n"
   ]
  },
  {
   "cell_type": "markdown",
   "id": "9bd0041a-7723-48a2-ba18-d1a0ac347237",
   "metadata": {},
   "source": [
    "### Defining and Calling a Function\n",
    "You define a function using the def keyword followed by the function name and parentheses ()."
   ]
  },
  {
   "cell_type": "code",
   "execution_count": 3,
   "id": "41918210-ac92-4020-8f19-f3caa007105e",
   "metadata": {},
   "outputs": [
    {
     "name": "stdout",
     "output_type": "stream",
     "text": [
      "Hello\n"
     ]
    }
   ],
   "source": [
    "def greet():\n",
    "    print('Hello')\n",
    "greet()\n"
   ]
  },
  {
   "cell_type": "markdown",
   "id": "5671b7a0-7e4e-4858-b80c-95b147412c8a",
   "metadata": {},
   "source": [
    "### Parameters and Arguments\n",
    "Parameters are placeholders that you define in the function definition. When you call the function, you pass values called arguments.\n",
    "\n",
    "Example:"
   ]
  },
  {
   "cell_type": "code",
   "execution_count": 7,
   "id": "060924b1-1848-4509-8b59-3e24500c330d",
   "metadata": {},
   "outputs": [
    {
     "data": {
      "text/plain": [
       "8"
      ]
     },
     "execution_count": 7,
     "metadata": {},
     "output_type": "execute_result"
    }
   ],
   "source": [
    "def add_numbers(a, b):\n",
    "    return a+b\n",
    "\n",
    "add_numbers(5, 3)\n"
   ]
  },
  {
   "cell_type": "markdown",
   "id": "e9791454-5162-4450-9af7-aa18f76f64f0",
   "metadata": {},
   "source": [
    "### Return Statement\n",
    "The return statement is used to return a value from a function."
   ]
  },
  {
   "cell_type": "code",
   "execution_count": 5,
   "id": "43ef28a3-e0aa-48c9-a2c5-caec2d169b17",
   "metadata": {},
   "outputs": [
    {
     "data": {
      "text/plain": [
       "4"
      ]
     },
     "execution_count": 5,
     "metadata": {},
     "output_type": "execute_result"
    }
   ],
   "source": [
    "def square(number):\n",
    "    return number * number\n",
    "\n",
    "square(2)\n"
   ]
  },
  {
   "cell_type": "markdown",
   "id": "8ccc4c24-7320-4784-8848-efe738011dc2",
   "metadata": {},
   "source": [
    "### Practice Questions\n",
    "Write a function that takes a number and prints its square.\n",
    "\n",
    "Create a function that takes two strings and returns their concatenation.\n"
   ]
  },
  {
   "cell_type": "code",
   "execution_count": null,
   "id": "2dc341c8-abd1-4746-908e-fe58fab7fa61",
   "metadata": {},
   "outputs": [],
   "source": []
  }
 ],
 "metadata": {
  "kernelspec": {
   "display_name": "Python 3 (ipykernel)",
   "language": "python",
   "name": "python3"
  },
  "language_info": {
   "codemirror_mode": {
    "name": "ipython",
    "version": 3
   },
   "file_extension": ".py",
   "mimetype": "text/x-python",
   "name": "python",
   "nbconvert_exporter": "python",
   "pygments_lexer": "ipython3",
   "version": "3.11.5"
  }
 },
 "nbformat": 4,
 "nbformat_minor": 5
}
