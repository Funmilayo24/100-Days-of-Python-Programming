{
 "cells": [
  {
   "cell_type": "markdown",
   "id": "ae9e581b-64ec-495f-b6f1-36f4fd25d694",
   "metadata": {},
   "source": [
    "### Day 44 of programming"
   ]
  },
  {
   "cell_type": "markdown",
   "id": "c4032880-6135-4449-9413-fe34d3e763b4",
   "metadata": {},
   "source": [
    "## Python Program to Check Prime Number\n",
    "\n",
    "A prime number is a number that is only divisible by '1' and itself. In simpler terms, you cannot come up with a prime number by multiplying two smaller natural numbers."
   ]
  },
  {
   "cell_type": "code",
   "execution_count": 1,
   "id": "0e17d396-2e19-4391-b71e-d7fd3fb96e28",
   "metadata": {},
   "outputs": [
    {
     "name": "stdout",
     "output_type": "stream",
     "text": [
      "Enter your number: 9\n",
      "9 is not a prime number.\n"
     ]
    }
   ],
   "source": [
    "def is_prime(num):\n",
    "    if num <= 1:\n",
    "        return False\n",
    "    for i in range(2, int(num**0.5) + 1):\n",
    "        if num % i == 0:\n",
    "            return False\n",
    "    return True\n",
    "\n",
    "number = int(input(\"Enter your number: \"))\n",
    "\n",
    "if is_prime(number):\n",
    "    print(f\"{number} is a prime number.\")\n",
    "else:\n",
    "    print(f\"{number} is not a prime number.\") "
   ]
  },
  {
   "cell_type": "code",
   "execution_count": null,
   "id": "61a0debb",
   "metadata": {},
   "outputs": [],
   "source": []
  }
 ],
 "metadata": {
  "kernelspec": {
   "display_name": "Python 3 (ipykernel)",
   "language": "python",
   "name": "python3"
  },
  "language_info": {
   "codemirror_mode": {
    "name": "ipython",
    "version": 3
   },
   "file_extension": ".py",
   "mimetype": "text/x-python",
   "name": "python",
   "nbconvert_exporter": "python",
   "pygments_lexer": "ipython3",
   "version": "3.11.5"
  }
 },
 "nbformat": 4,
 "nbformat_minor": 5
}
