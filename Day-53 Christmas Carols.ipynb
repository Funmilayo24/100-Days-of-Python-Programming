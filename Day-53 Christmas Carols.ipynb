{
 "cells": [
  {
   "cell_type": "markdown",
   "id": "7699888d-c07f-41db-90f6-e52c5392daeb",
   "metadata": {},
   "source": [
    "### Day 53 of Python Programming"
   ]
  },
  {
   "cell_type": "markdown",
   "id": "46531047-34f4-47d7-8056-67bc5dab2d4d",
   "metadata": {},
   "source": [
    "## 🎅 Festive Python Project: A Singing Christmas Carol App with Animation 🎄\n",
    "This code will:\n",
    "\n",
    "Display a cheerful window with Christmas visuals.\n",
    "\n",
    "Show simple animations and decorations for a more festive experience!\n",
    "\n",
    "### Step 1: Install Required Libraries\n",
    "We'll still use pygame to handle the audio and add tkinter for visuals."
   ]
  },
  {
   "cell_type": "code",
   "execution_count": 3,
   "id": "c48525f8-205a-4c96-9e46-20923f2754b0",
   "metadata": {},
   "outputs": [
    {
     "name": "stdout",
     "output_type": "stream",
     "text": [
      "Requirement already satisfied: pygame in c:\\users\\tobun\\anaconda3\\lib\\site-packages (2.5.2)\n",
      "Note: you may need to restart the kernel to use updated packages.\n"
     ]
    }
   ],
   "source": [
    "pip install pygame\n"
   ]
  },
  {
   "cell_type": "code",
   "execution_count": 5,
   "id": "8160a3ec-92ee-41b5-945b-514b70dc95ad",
   "metadata": {},
   "outputs": [
    {
     "name": "stdout",
     "output_type": "stream",
     "text": [
      "🎄 Welcome to the Christmas Carol App 🎄\n"
     ]
    }
   ],
   "source": [
    "import threading\n",
    "import pygame\n",
    "import time\n",
    "from tkinter import *\n",
    "\n",
    "def play_christmas_carol():\n",
    "    pygame.mixer.init()\n",
    "    pygame.mixer.music.load(\"sound.mp3\")\n",
    "    pygame.mixer.music.play()\n",
    "    \n",
    "    while pygame.mixer.music.get_busy():\n",
    "        time.sleep(1)\n",
    "    \n",
    "def show_festive_message():\n",
    "    root = Tk()\n",
    "    root.title(\"🎄 Merry Christmas 🎄\")\n",
    "    root.geometry(\"800x800\")\n",
    "    root.configure(bg=\"green\") \n",
    "\n",
    "    label = Label(root, text=\"🎅 Merry Christmas! 🎶\\nPlaying 'Jingle Bells' 🎶\", \n",
    "                  font=(\"Comic Sans MS\", 16), bg=\"green\", fg=\"white\")\n",
    "    label.pack(pady=50)\n",
    "    \n",
    "    canvas = Canvas(root, width = 400, height = 300, bg=\"red\", highlightthickness=0)\n",
    "    canvas.pack()\n",
    "    \n",
    "    canvas.create_polygon(200, 50, 125, 180, 275, 180, fill=\"darkgreen\")     # Top layer\n",
    "    canvas.create_polygon(200, 100, 140, 220, 260, 220, fill=\"forestgreen\")  # Middle layer\n",
    "    canvas.create_polygon(200, 150, 160, 260, 240, 260, fill=\"green\")        # Bottom layer\n",
    "    canvas.create_rectangle(190, 260, 210, 300, fill=\"brown\")                # Trunk\n",
    "    \n",
    "    # Ornaments\n",
    "    ornaments = [(180, 120), (220, 150), (160, 200), (240, 210), (200, 250)]\n",
    "    for (x, y) in ornaments:\n",
    "        canvas.create_oval(x, y, x+10, y+10, fill=\"red\")\n",
    "        \n",
    "    # Star at the top\n",
    "    canvas.create_text(200, 40, text=\"⭐\", font=(\"Arial\", 24), fill=\"yellow\")\n",
    "\n",
    "    # Start playing carol in a separate thread\n",
    "    threading.Thread(target=play_christmas_carol, daemon=True).start()\n",
    "    \n",
    "    root.mainloop()\n",
    "    \n",
    "def main():\n",
    "    print(\"🎄 Welcome to the Christmas Carol App 🎄\")\n",
    "    show_festive_message() \n",
    "    \n",
    "main()"
   ]
  },
  {
   "cell_type": "markdown",
   "id": "91644c40-6033-4004-8eb7-eb2a5ae14fb6",
   "metadata": {},
   "source": [
    "### Explanation\n",
    "Threading: We use threading.Thread to run play_christmas_carol in the background. This allows the mainloop() of Tkinter to continue without being blocked by the audio playback.\n",
    "\n",
    "Daemon Thread: Setting daemon=True ensures that the program will exit when the main Tkinter window closes, even if the audio thread is still running."
   ]
  },
  {
   "cell_type": "code",
   "execution_count": null,
   "id": "d06aa410-7e5f-4896-8afd-fe04e70ae4cf",
   "metadata": {},
   "outputs": [],
   "source": []
  }
 ],
 "metadata": {
  "kernelspec": {
   "display_name": "Python 3 (ipykernel)",
   "language": "python",
   "name": "python3"
  },
  "language_info": {
   "codemirror_mode": {
    "name": "ipython",
    "version": 3
   },
   "file_extension": ".py",
   "mimetype": "text/x-python",
   "name": "python",
   "nbconvert_exporter": "python",
   "pygments_lexer": "ipython3",
   "version": "3.11.5"
  }
 },
 "nbformat": 4,
 "nbformat_minor": 5
}
