{
 "cells": [
  {
   "cell_type": "markdown",
   "id": "07a5d102-eba6-48e5-a07d-9a324ad0a070",
   "metadata": {},
   "source": [
    "## Python Tutorial: Input Statements\n",
    "\n",
    "### Introduction to Input in Python\n",
    "\n",
    "In Python, an input statement allows a program to take user input. This is especially useful when you want the user to interact with your program.\n",
    "\n",
    "In Python, you use the input() function to get input from the user. Whatever the user types is treated as a string, and you can assign this input to a variable"
   ]
  },
  {
   "cell_type": "code",
   "execution_count": null,
   "id": "069401eb-960c-499d-9e45-1dc9204c2908",
   "metadata": {},
   "outputs": [],
   "source": [
    "variable = input(\"Prompt for the user: \")\n"
   ]
  },
  {
   "cell_type": "markdown",
   "id": "f39d404d-8708-4890-80aa-f43f0d236ec2",
   "metadata": {},
   "source": [
    "variable: This is where you store the value entered by the user.\n",
    "    \n",
    "\"Prompt for the user: \": This is the message displayed to the user, telling them what to input."
   ]
  },
  {
   "cell_type": "markdown",
   "id": "26ecbe21-82f8-47af-acf5-b9d8c3c5014d",
   "metadata": {},
   "source": [
    "### Examples\n",
    "Simple Input Example"
   ]
  },
  {
   "cell_type": "code",
   "execution_count": 2,
   "id": "c59456f9-387c-482d-a733-76f7ed87013b",
   "metadata": {},
   "outputs": [
    {
     "name": "stdin",
     "output_type": "stream",
     "text": [
      "Enter your name:  Funmilayo\n"
     ]
    },
    {
     "name": "stdout",
     "output_type": "stream",
     "text": [
      "Hello, Funmilayo!\n"
     ]
    }
   ],
   "source": [
    "name = input(\"Enter your name: \")\n",
    "print(\"Hello, \" + name + \"!\")\n"
   ]
  },
  {
   "cell_type": "markdown",
   "id": "9922e597-843d-43b8-90b8-7350bbacb4e8",
   "metadata": {},
   "source": [
    "#### Here, the program prompts the user to enter their name, and then greets them using the provided name."
   ]
  },
  {
   "cell_type": "markdown",
   "id": "ce85b8ea-4ee5-42c7-aeeb-7f2d50985bcd",
   "metadata": {},
   "source": [
    "### 2. Converting Input to Other Types\n",
    "\n",
    "By default, the input() function treats all user input as a string. If you want to treat the input as a number (integer or float), you must convert it.\n",
    "\n",
    "#### Integer Input Example"
   ]
  },
  {
   "cell_type": "code",
   "execution_count": 3,
   "id": "e0ce7fb5-3b9b-4a12-a20d-f76623b9030e",
   "metadata": {},
   "outputs": [
    {
     "name": "stdin",
     "output_type": "stream",
     "text": [
      "Enter your age:  23\n"
     ]
    },
    {
     "name": "stdout",
     "output_type": "stream",
     "text": [
      "You will be 24 next year.\n"
     ]
    }
   ],
   "source": [
    "age = int(input(\"Enter your age: \"))\n",
    "print(\"You will be \" + str(age + 1) + \" next year.\")\n"
   ]
  },
  {
   "cell_type": "markdown",
   "id": "8cbcf042-69d3-4f77-9b67-aea4a17b6d6c",
   "metadata": {},
   "source": [
    "##### In this case, the int() function is used to convert the input into an integer. Always remember that if the user enters something that can't be converted to a number, Python will raise an error.\n",
    "\n",
    "#### Float Input Example"
   ]
  },
  {
   "cell_type": "code",
   "execution_count": 4,
   "id": "ef797a7e-50f6-478b-ab58-11e39ab5e11b",
   "metadata": {},
   "outputs": [
    {
     "name": "stdin",
     "output_type": "stream",
     "text": [
      "Enter your height in meters:  1.80\n"
     ]
    },
    {
     "name": "stdout",
     "output_type": "stream",
     "text": [
      "Your height is 1.8 meters.\n"
     ]
    }
   ],
   "source": [
    "height = float(input(\"Enter your height in meters: \"))\n",
    "print(\"Your height is \" + str(height) + \" meters.\")\n"
   ]
  },
  {
   "cell_type": "markdown",
   "id": "211ceb4e-c7be-4c34-ad64-0b80342ae21a",
   "metadata": {},
   "source": [
    "### 3. Using Multiple Input Statements\n",
    "You can take multiple inputs in a program to make it more interactive:"
   ]
  },
  {
   "cell_type": "code",
   "execution_count": 6,
   "id": "24b16a39-2201-471a-86e4-f7e3f1befeb8",
   "metadata": {},
   "outputs": [
    {
     "name": "stdin",
     "output_type": "stream",
     "text": [
      "What's your name?  Funmilayo\n",
      "How old are you?  23\n",
      "Which city do you live in?  Lagos\n"
     ]
    },
    {
     "name": "stdout",
     "output_type": "stream",
     "text": [
      "Funmilayo is 23 years old and lives in Lagos.\n"
     ]
    }
   ],
   "source": [
    "name = input(\"What's your name? \")\n",
    "age = int(input(\"How old are you? \"))\n",
    "city = input(\"Which city do you live in? \")\n",
    "\n",
    "print(f\"{name} is {age} years old and lives in {city}.\")\n"
   ]
  },
  {
   "cell_type": "markdown",
   "id": "5a15fc1b-4025-4719-b4b3-4b7e99f9b044",
   "metadata": {},
   "source": [
    "## Practice Questions"
   ]
  },
  {
   "cell_type": "markdown",
   "id": "146f08a9-fe56-47de-95c3-6b892cac9397",
   "metadata": {},
   "source": [
    "1. Basic Input: Write a program that asks the user for their favorite color and prints a message using the input.\n",
    "\n",
    "2. Sum of Two Numbers: Write a program that asks the user for two numbers, adds them together, and prints the result.\n",
    "\n",
    "3. Age in 10 Years Write a program that asks for the user's current age and prints how old they will be in 10 years."
   ]
  },
  {
   "cell_type": "code",
   "execution_count": null,
   "id": "96db0f14-2e28-4475-b600-d96cb0bcc78e",
   "metadata": {},
   "outputs": [],
   "source": []
  }
 ],
 "metadata": {
  "kernelspec": {
   "display_name": "Python 3 (ipykernel)",
   "language": "python",
   "name": "python3"
  },
  "language_info": {
   "codemirror_mode": {
    "name": "ipython",
    "version": 3
   },
   "file_extension": ".py",
   "mimetype": "text/x-python",
   "name": "python",
   "nbconvert_exporter": "python",
   "pygments_lexer": "ipython3",
   "version": "3.12.4"
  }
 },
 "nbformat": 4,
 "nbformat_minor": 5
}
