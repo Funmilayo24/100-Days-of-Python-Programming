{
 "cells": [
  {
   "cell_type": "markdown",
   "id": "4730110b-b727-47d5-a1b2-bed705a00370",
   "metadata": {},
   "source": [
    "### Day 39 of programming"
   ]
  },
  {
   "cell_type": "markdown",
   "id": "9f0958cd-3749-4269-b79c-030bd0c452fc",
   "metadata": {},
   "source": [
    "## Python enumerate() Function: A Comprehensive Tutorial\n",
    "The enumerate() function is one of Python's most helpful built-in functions when working with loops. It allows you to loop over an iterable (such as a list, tuple, or string) while keeping track of the index of each item.\n",
    "\n",
    "In this tutorial, we'll break down the enumerate() function, explain its usage, and provide practical examples along with practice questions."
   ]
  },
  {
   "cell_type": "markdown",
   "id": "030e917b-b83b-4a1e-9cb3-59935de55d1c",
   "metadata": {},
   "source": [
    "### 1. What is the enumerate() function?\n",
    "The enumerate() function adds a counter (index) to an iterable and returns it as an enumerate object. You can use this object to get both the index and the value of each item in the iterable, making it easier to work with index-value pairs in loops.\n",
    "\n",
    "Without enumerate(), you'd have to manually maintain a counter variable to track the index, which can make your code more complex."
   ]
  },
  {
   "cell_type": "markdown",
   "id": "99a16303-0187-4886-b707-50f9e9f99a5a",
   "metadata": {},
   "source": [
    "### 2. Syntax of enumerate()"
   ]
  },
  {
   "cell_type": "code",
   "execution_count": null,
   "id": "029fa56d-fd74-4453-80ea-30996fbbc810",
   "metadata": {},
   "outputs": [],
   "source": [
    "enumerate(iterable, start=0)"
   ]
  },
  {
   "cell_type": "markdown",
   "id": "c48b2e70-5b3d-4bff-b0d5-fb4c4c283904",
   "metadata": {},
   "source": [
    "### Parameters:\n",
    "iterable: The object that you want to enumerate (e.g., a list, tuple, or string).\n",
    "\n",
    "start: (Optional) The starting index for enumeration. The default value is 0.\n",
    "    \n",
    "Returns:\n",
    "\n",
    "An enumerate object, which yields pairs of index and value from the iterable."
   ]
  },
  {
   "cell_type": "markdown",
   "id": "1fedb994-4772-4213-a48d-8930f987fbe9",
   "metadata": {},
   "source": [
    "### 3. How enumerate() Works\n",
    "Let's start by seeing how enumerate() helps simplify our loops. Consider a basic loop that prints the index and the value of a list:\n",
    "\n",
    "Without enumerate():"
   ]
  },
  {
   "cell_type": "code",
   "execution_count": 3,
   "id": "4d62e77d-6e5c-4487-9181-e3bd844171e7",
   "metadata": {},
   "outputs": [
    {
     "name": "stdout",
     "output_type": "stream",
     "text": [
      "Index: 0, Fruit: apple\n",
      "Index: 1, Fruit: banana\n",
      "Index: 2, Fruit: cherry\n"
     ]
    }
   ],
   "source": [
    "fruits = ['apple', 'banana', 'cherry']\n",
    "index = 0\n",
    "\n",
    "for fruit in fruits:\n",
    "    print(f\"Index: {index}, Fruit: {fruit}\")\n",
    "    index += 1\n"
   ]
  },
  {
   "cell_type": "markdown",
   "id": "27334395-f212-42d4-a8ae-0be2b64a88b9",
   "metadata": {},
   "source": [
    "#### with enumerate()"
   ]
  },
  {
   "cell_type": "code",
   "execution_count": 4,
   "id": "b91cda6e-2dfd-46ce-92bd-e56999793b8c",
   "metadata": {},
   "outputs": [
    {
     "name": "stdout",
     "output_type": "stream",
     "text": [
      "Index: 0, Fruit: apple\n",
      "Index: 1, Fruit: banana\n",
      "Index: 2, Fruit: cherry\n"
     ]
    }
   ],
   "source": [
    "fruits = ['apple', 'banana', 'cherry']\n",
    "\n",
    "for index, fruit in enumerate(fruits):\n",
    "    print(f\"Index: {index}, Fruit: {fruit}\")\n"
   ]
  },
  {
   "cell_type": "markdown",
   "id": "47e3206f-4358-4afe-91a0-e4ad351e391d",
   "metadata": {},
   "source": [
    "Here, enumerate() handles the index tracking automatically, making your code cleaner and more readable.\n",
    "\n",
    "#### 4. Examples of enumerate()\n",
    "Example 1: Enumerating through a list"
   ]
  },
  {
   "cell_type": "code",
   "execution_count": 5,
   "id": "ab50b6b4-f204-4c04-9c25-5b7cfd0f38d1",
   "metadata": {},
   "outputs": [
    {
     "name": "stdout",
     "output_type": "stream",
     "text": [
      "Index 0: apple\n",
      "Index 1: banana\n",
      "Index 2: cherry\n"
     ]
    }
   ],
   "source": [
    "fruits = ['apple', 'banana', 'cherry']\n",
    "\n",
    "for index, fruit in enumerate(fruits):\n",
    "    print(f\"Index {index}: {fruit}\")\n"
   ]
  },
  {
   "cell_type": "markdown",
   "id": "d2d30c55-3c9b-4b64-9192-c8bebfd405a4",
   "metadata": {},
   "source": [
    "Example 2: Enumerating through a string"
   ]
  },
  {
   "cell_type": "code",
   "execution_count": 6,
   "id": "e5214358-4c4c-4082-b658-6167d77d3f33",
   "metadata": {},
   "outputs": [
    {
     "name": "stdout",
     "output_type": "stream",
     "text": [
      "Letter P is at index 0\n",
      "Letter y is at index 1\n",
      "Letter t is at index 2\n",
      "Letter h is at index 3\n",
      "Letter o is at index 4\n",
      "Letter n is at index 5\n"
     ]
    }
   ],
   "source": [
    "word = \"Python\"\n",
    "\n",
    "for index, letter in enumerate(word):\n",
    "    print(f\"Letter {letter} is at index {index}\")\n"
   ]
  },
  {
   "cell_type": "markdown",
   "id": "340f409b-dd71-447e-83b9-e3d24d22ca49",
   "metadata": {},
   "source": [
    "Example 3: Using custom start index with enumerate()\n",
    "\n",
    "By default, enumerate() starts counting at 0. You can change the starting index using the start parameter:"
   ]
  },
  {
   "cell_type": "code",
   "execution_count": 7,
   "id": "393936cb-d0c6-4e87-97cc-c3b8559bb1cc",
   "metadata": {},
   "outputs": [
    {
     "name": "stdout",
     "output_type": "stream",
     "text": [
      "Index 1: apple\n",
      "Index 2: banana\n",
      "Index 3: cherry\n"
     ]
    }
   ],
   "source": [
    "fruits = ['apple', 'banana', 'cherry']\n",
    "\n",
    "for index, fruit in enumerate(fruits, start=1):\n",
    "    print(f\"Index {index}: {fruit}\")\n"
   ]
  },
  {
   "cell_type": "markdown",
   "id": "839288fc-84ea-4a54-9a82-7843a3ce890b",
   "metadata": {},
   "source": [
    "### 5. Advantages of Using enumerate()\n",
    "Cleaner code: enumerate() eliminates the need for manual index tracking.\n",
    "                                             \n",
    "More readable loops: Your loops are easier to understand when you don’t need to handle a separate index variable.\n",
    "                                             \n",
    "Versatility: You can use it with any iterable (lists, strings, tuples, etc.) and customize the starting index."
   ]
  },
  {
   "cell_type": "code",
   "execution_count": null,
   "id": "ef937dab-7ef6-4016-b6a5-71b590d0cd0a",
   "metadata": {},
   "outputs": [],
   "source": []
  }
 ],
 "metadata": {
  "kernelspec": {
   "display_name": "Python 3 (ipykernel)",
   "language": "python",
   "name": "python3"
  },
  "language_info": {
   "codemirror_mode": {
    "name": "ipython",
    "version": 3
   },
   "file_extension": ".py",
   "mimetype": "text/x-python",
   "name": "python",
   "nbconvert_exporter": "python",
   "pygments_lexer": "ipython3",
   "version": "3.12.4"
  }
 },
 "nbformat": 4,
 "nbformat_minor": 5
}
